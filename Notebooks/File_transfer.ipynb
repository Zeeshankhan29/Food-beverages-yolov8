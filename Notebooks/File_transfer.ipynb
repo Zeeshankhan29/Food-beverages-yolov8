{
 "cells": [
  {
   "cell_type": "code",
   "execution_count": 2,
   "id": "bca238ea",
   "metadata": {},
   "outputs": [
    {
     "data": {
      "text/plain": [
       "'/Users/zeeshan/Documents/projects/training'"
      ]
     },
     "execution_count": 2,
     "metadata": {},
     "output_type": "execute_result"
    }
   ],
   "source": [
    "import os\n",
    "os.getcwd()"
   ]
  },
  {
   "cell_type": "code",
   "execution_count": 3,
   "id": "339adf57",
   "metadata": {
    "scrolled": true
   },
   "outputs": [
    {
     "name": "stdout",
     "output_type": "stream",
     "text": [
      "Total time taken for Execution -->6.591675043106079\n"
     ]
    }
   ],
   "source": [
    "import os\n",
    "import time\n",
    "\n",
    "start = time.time()\n",
    "include_files = [file for file in os.listdir(os.getcwd()) if not file.startswith('.') and not file.endswith('.ipynb')]\n",
    "\n",
    "\n",
    "# Name the exclude files \n",
    "exclude_files =['Apple Fuji','Potato','Chow Chow']\n",
    "\n",
    "valid_objects = sorted([file for file in include_files if file not in exclude_files])\n",
    "valid_objects\n",
    "\n",
    "\n",
    "\n",
    "meta_data ={}\n",
    "img=[]\n",
    "label=[]\n",
    "class_name = []\n",
    "org_path = []\n",
    "mask_path = []\n",
    "for file in valid_objects:\n",
    "    for file1 in os.listdir(os.path.join(os.getcwd(),file)):\n",
    "        if file1.endswith('Images'):\n",
    "            image_path = os.listdir(os.path.join(os.getcwd(),file,file1))\n",
    "            image_path = sorted(image_path)\n",
    "            for index , file_name in enumerate(image_path):\n",
    "                img.append(os.path.join(os.getcwd(),file,file1,image_path[index]))\n",
    "                \n",
    "        elif file1.endswith(('Segment','Class')):\n",
    "            label_path = os.listdir(os.path.join(os.getcwd(),file,file1))\n",
    "            label_path = sorted(label_path)\n",
    "            for index1 , file_name1 in enumerate(label_path):\n",
    "                label.append(os.path.join(os.getcwd(),file,file1,label_path[index1]))\n",
    "        if not file in class_name:\n",
    "            class_name.append(file)\n",
    "        else:\n",
    "            pass\n",
    "                    \n",
    "\n",
    "img = sorted(img)\n",
    "label = sorted(label)\n",
    "class_name = sorted(class_name)\n",
    "org_path = sorted(org_path)\n",
    "mask_path = sorted(mask_path)\n",
    "meta_data['img_dir']=img\n",
    "meta_data['label_dir']=label\n",
    "meta_data['class_name']=class_name\n",
    "end = time.time() - start\n",
    "print(f'Total time taken for Execution -->{end}')\n",
    "\n"
   ]
  },
  {
   "cell_type": "code",
   "execution_count": 4,
   "id": "2525b64b",
   "metadata": {},
   "outputs": [],
   "source": [
    "from box import ConfigBox"
   ]
  },
  {
   "cell_type": "code",
   "execution_count": 5,
   "id": "8a91ae6e",
   "metadata": {},
   "outputs": [],
   "source": [
    "meta_data_c = ConfigBox(meta_data)\n",
    "img_dir = sorted(meta_data_c.img_dir)\n",
    "label_dir = sorted(meta_data_c.label_dir)\n",
    "# org_path = sorted(meta_data_c.org_path)\n",
    "# mask_path = sorted(meta_data_c.mask_path)"
   ]
  },
  {
   "cell_type": "code",
   "execution_count": 6,
   "id": "28af3945",
   "metadata": {},
   "outputs": [],
   "source": [
    "import os\n",
    "    "
   ]
  },
  {
   "cell_type": "code",
   "execution_count": 7,
   "id": "ee3e84de",
   "metadata": {},
   "outputs": [
    {
     "name": "stdout",
     "output_type": "stream",
     "text": [
      "271.24915289878845\n",
      "Complete data copied\n"
     ]
    }
   ],
   "source": [
    "import shutil\n",
    "import os\n",
    "import time\n",
    "\n",
    "# Assuming img_dir and label_dir are lists of file paths\n",
    "\n",
    "start = time.time()\n",
    "\n",
    "for (index, img_data), (index1, label_data) in zip(enumerate(img_dir), enumerate(label_dir)):\n",
    "    folder_name = img_data.split('training')[1].split('/')[1]\n",
    "    original_data = os.path.join('/Users/zeeshan/Documents/projects/self-checkout/artifacts/temp/original', folder_name)\n",
    "    label_data_dest = os.path.join('/Users/zeeshan/Documents/projects/self-checkout/artifacts/temp/mask', folder_name)\n",
    "    \n",
    "    os.makedirs(original_data, exist_ok=True)\n",
    "    os.makedirs(label_data_dest, exist_ok=True)\n",
    "    \n",
    "    shutil.copy(img_data, original_data)\n",
    "    shutil.copy(label_data, label_data_dest)\n",
    "\n",
    "end = time.time() - start\n",
    "print(end)\n",
    "print('Complete data copied')\n"
   ]
  },
  {
   "cell_type": "code",
   "execution_count": null,
   "id": "37a5797d",
   "metadata": {},
   "outputs": [],
   "source": []
  },
  {
   "cell_type": "code",
   "execution_count": null,
   "id": "b6095a5d",
   "metadata": {},
   "outputs": [],
   "source": []
  },
  {
   "cell_type": "code",
   "execution_count": null,
   "id": "f7f0d097",
   "metadata": {},
   "outputs": [],
   "source": []
  }
 ],
 "metadata": {
  "kernelspec": {
   "display_name": "Python 3 (ipykernel)",
   "language": "python",
   "name": "python3"
  },
  "language_info": {
   "codemirror_mode": {
    "name": "ipython",
    "version": 3
   },
   "file_extension": ".py",
   "mimetype": "text/x-python",
   "name": "python",
   "nbconvert_exporter": "python",
   "pygments_lexer": "ipython3",
   "version": "3.11.5"
  }
 },
 "nbformat": 4,
 "nbformat_minor": 5
}
