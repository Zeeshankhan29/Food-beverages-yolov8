{
 "cells": [
  {
   "cell_type": "code",
   "execution_count": 416,
   "id": "6ec1c949",
   "metadata": {},
   "outputs": [
    {
     "name": "stdout",
     "output_type": "stream",
     "text": [
      "['.git', 'Apple Fuji', 'Apple Granny Smith', 'Apple Royal Gala', 'Apple Shimla', 'Ash Gourd Cut', 'Avocado', 'Banana Nendran', 'Banana Poovan', 'Banana Red', 'Brinjal Black Big', 'Brinjal Purple Striped', 'Broccoli', 'Cabbage', 'Cabbage Red', 'Capsicum', 'Capsicum Red', 'Capsicum Yellow', 'Cauliflower', 'Chow Chow', 'Cucumber', 'Dragon Fruits Red', 'Golden Kiwi', 'Guava White', 'Jackfruit raw', 'Kiwi Green', 'Lemon', 'Mango Neelam', 'Mango Totapuri', 'Mangusteens Indian', 'Mosambi', 'Musk Melon Yellow', 'Muskmelon Rock', 'Orange Valencia', 'Papaya', 'Pineapple', 'Pomegranate Kabul', 'Potato', 'Pumpkin cut Wrapped', 'Radish Red', 'Sapota Round', 'Snake Gourd', 'Tomato Apple', 'Tomato Nadu', 'Turnip', 'Watermelon Kiran']\n"
     ]
    }
   ],
   "source": [
    "folder_list=[]\n",
    "training_path = r\"C:\\Users\\Zeeshan.khan\\vscode_projects\\training\"\n",
    "for folders in os.listdir(training_path):\n",
    "    folder_list.append(folders)\n",
    "print(folder_list )\n"
   ]
  },
  {
   "cell_type": "code",
   "execution_count": 419,
   "id": "2c17ff77",
   "metadata": {},
   "outputs": [
    {
     "name": "stdout",
     "output_type": "stream",
     "text": [
      "Rotated image saved at JPEGImages1\\795Cauliflower_07-14-2023-15-48-5279538_Focus_15.png\n",
      "Rename completed\n",
      "Rotated image saved at SegmentationClass1\\795Cauliflower_07-14-2023-15-48-5279538_Focus_15.png\n",
      "Rename completed\n",
      "Rotated image saved at JPEGImages1\\758Mango Neelam_07-06-2023-17-12-2118835_Focus_0.png\n",
      "Rename completed\n",
      "Rotated image saved at SegmentationClass1\\758Mango Neelam_07-06-2023-17-12-2118835_Focus_0.png\n",
      "Rename completed\n",
      "Rotated image saved at JPEGImages1\\99Muskmelon Rock_06-30-2023-12-33-2968606_Focus_38.png\n",
      "Rename completed\n",
      "Rotated image saved at SegmentationClass1\\99Muskmelon Rock_06-30-2023-12-33-2968606_Focus_38.png\n",
      "Rename completed\n",
      "Rotated image saved at JPEGImages1\\9Radish Red_06-27-2023-16-30-1751769_Focus_38.png\n",
      "Rename completed\n",
      "Rotated image saved at SegmentationClass1\\9Radish Red_06-27-2023-16-30-1751769_Focus_38.png\n",
      "Rename completed\n"
     ]
    }
   ],
   "source": [
    "list_values = [\n",
    " 'Cauliflower',\n",
    "'Mango Neelam',\n",
    "    'Muskmelon Rock',\n",
    "    'Radish Red'\n",
    "    \n",
    "]\n",
    "\n",
    "for folder in list_values:\n",
    "    each_folder_path = os.path.join(training_path,folder)\n",
    "    os.chdir(each_folder_path)\n",
    "    ch_path = os.getcwd()\n",
    "    ch_path\n",
    "\n",
    "\n",
    "    from pathlib import Path\n",
    "    from PIL import Image\n",
    "\n",
    "\n",
    "    for file in os.listdir(os.getcwd()):\n",
    "        if file.startswith('J'):\n",
    "            jpeg = os.path.join(os.getcwd(),file)\n",
    "        if file.endswith('Class'):\n",
    "            seg = os.path.join(os.getcwd(),file)\n",
    "\n",
    "\n",
    "\n",
    "            for fruit_names in os.listdir(jpeg):\n",
    "                file_path = os.path.join(jpeg,fruit_names)\n",
    "                file = Image.open(file_path)\n",
    "                rotated_file = file.rotate(90)\n",
    "\n",
    "                os.makedirs('JPEGImages1',exist_ok= True)\n",
    "                file_name  = os.path.basename(file_path)\n",
    "                output_file_path = os.path.join('JPEGImages1',file_name)\n",
    "\n",
    "                rotated_file.save(output_file_path,format='JPEG')\n",
    "\n",
    "            print(f'Rotated image saved at {output_file_path}')\n",
    "\n",
    "            new_path = Path(os.path.join(ch_path,'JPEGImages1'))\n",
    "\n",
    "            for count,files in enumerate(os.listdir(new_path)):\n",
    "#                 count = count + 1\n",
    "                old_path  = os.path.join(new_path,files)\n",
    "                new_file = files.split('.')[0] + str(count) \n",
    "                new_path1 = os.path.join(new_path,new_file + '.png')\n",
    "                os.rename(old_path,new_path1)\n",
    "\n",
    "            print(f'Rename completed')\n",
    "\n",
    "\n",
    "\n",
    "\n",
    "            for fruit_names in os.listdir(seg):\n",
    "                file_path = os.path.join(seg,fruit_names)\n",
    "                file = Image.open(file_path)\n",
    "                rotated_file = file.rotate(90)\n",
    "\n",
    "                os.makedirs('SegmentationClass1',exist_ok= True)\n",
    "                file_name  = os.path.basename(file_path)\n",
    "                output_file_path = os.path.join('SegmentationClass1',file_name)\n",
    "\n",
    "                rotated_file.save(output_file_path,format='JPEG')\n",
    "\n",
    "            print(f'Rotated image saved at {output_file_path}')\n",
    "\n",
    "\n",
    "            new_path1 = os.path.join(ch_path,'SegmentationClass1')\n",
    "\n",
    "            for count,files in enumerate(os.listdir(new_path1)):\n",
    "#                 count = count +1 \n",
    "                old_path  = os.path.join(new_path1,files)\n",
    "                new_file = files.split('.')[0] + str(count)\n",
    "                new_path2 = os.path.join(new_path1,new_file + '.png')\n",
    "                os.rename(old_path,new_path2)\n",
    "\n",
    "            print(f'Rename completed')\n",
    "\n"
   ]
  },
  {
   "cell_type": "code",
   "execution_count": 420,
   "id": "12fb998c",
   "metadata": {},
   "outputs": [],
   "source": [
    "issue_fruit_names = ['Capsicum',\n",
    " 'Cauliflower',\n",
    "'Mango Neelam',\n",
    "    'Muskmelon Rock',\n",
    "    'Radish Red'\n",
    "    \n",
    "]\n"
   ]
  },
  {
   "cell_type": "code",
   "execution_count": null,
   "id": "c56d433d",
   "metadata": {},
   "outputs": [],
   "source": []
  },
  {
   "cell_type": "code",
   "execution_count": null,
   "id": "01f349e0",
   "metadata": {},
   "outputs": [],
   "source": []
  },
  {
   "cell_type": "code",
   "execution_count": null,
   "id": "ae4096d5",
   "metadata": {},
   "outputs": [],
   "source": []
  },
  {
   "cell_type": "code",
   "execution_count": null,
   "id": "866452a2",
   "metadata": {},
   "outputs": [],
   "source": []
  },
  {
   "cell_type": "code",
   "execution_count": null,
   "id": "ee5a8f3f",
   "metadata": {},
   "outputs": [],
   "source": []
  },
  {
   "cell_type": "code",
   "execution_count": null,
   "id": "e955e945",
   "metadata": {},
   "outputs": [],
   "source": []
  },
  {
   "cell_type": "code",
   "execution_count": null,
   "id": "fef261b7",
   "metadata": {},
   "outputs": [],
   "source": []
  },
  {
   "cell_type": "code",
   "execution_count": null,
   "id": "c020f143",
   "metadata": {},
   "outputs": [],
   "source": []
  },
  {
   "cell_type": "code",
   "execution_count": null,
   "id": "d1312852",
   "metadata": {},
   "outputs": [],
   "source": []
  },
  {
   "cell_type": "code",
   "execution_count": null,
   "id": "ac61f8c7",
   "metadata": {},
   "outputs": [],
   "source": []
  },
  {
   "cell_type": "code",
   "execution_count": null,
   "id": "04923b79",
   "metadata": {},
   "outputs": [],
   "source": []
  },
  {
   "cell_type": "code",
   "execution_count": null,
   "id": "4c7a8e47",
   "metadata": {},
   "outputs": [],
   "source": []
  },
  {
   "cell_type": "code",
   "execution_count": null,
   "id": "2213dfa3",
   "metadata": {},
   "outputs": [],
   "source": []
  },
  {
   "cell_type": "code",
   "execution_count": null,
   "id": "b9daf678",
   "metadata": {},
   "outputs": [],
   "source": []
  },
  {
   "cell_type": "code",
   "execution_count": null,
   "id": "2ac12237",
   "metadata": {},
   "outputs": [],
   "source": []
  },
  {
   "cell_type": "code",
   "execution_count": null,
   "id": "f40c6115",
   "metadata": {},
   "outputs": [],
   "source": []
  },
  {
   "cell_type": "code",
   "execution_count": null,
   "id": "43a836f1",
   "metadata": {},
   "outputs": [],
   "source": []
  },
  {
   "cell_type": "code",
   "execution_count": null,
   "id": "ce1fb7df",
   "metadata": {},
   "outputs": [],
   "source": []
  },
  {
   "cell_type": "code",
   "execution_count": null,
   "id": "33e8f962",
   "metadata": {},
   "outputs": [],
   "source": []
  },
  {
   "cell_type": "code",
   "execution_count": null,
   "id": "bdd718a3",
   "metadata": {},
   "outputs": [],
   "source": []
  },
  {
   "cell_type": "code",
   "execution_count": null,
   "id": "62f1b54a",
   "metadata": {},
   "outputs": [],
   "source": []
  },
  {
   "cell_type": "code",
   "execution_count": null,
   "id": "3296011d",
   "metadata": {},
   "outputs": [],
   "source": []
  },
  {
   "cell_type": "code",
   "execution_count": null,
   "id": "fd20f2bc",
   "metadata": {},
   "outputs": [],
   "source": []
  },
  {
   "cell_type": "code",
   "execution_count": null,
   "id": "c429d921",
   "metadata": {},
   "outputs": [],
   "source": []
  },
  {
   "cell_type": "code",
   "execution_count": 397,
   "id": "e6f8f180",
   "metadata": {},
   "outputs": [
    {
     "data": {
      "text/plain": [
       "'C:\\\\Users\\\\Zeeshan.khan\\\\vscode_projects\\\\training\\\\Pineapple'"
      ]
     },
     "execution_count": 397,
     "metadata": {},
     "output_type": "execute_result"
    }
   ],
   "source": [
    "os.chdir(r'C:\\Users\\Zeeshan.khan\\vscode_projects\\training\\Pineapple')\n",
    "ch_path = os.getcwd()\n",
    "ch_path"
   ]
  },
  {
   "cell_type": "code",
   "execution_count": 388,
   "id": "0baa5fea",
   "metadata": {},
   "outputs": [
    {
     "name": "stdout",
     "output_type": "stream",
     "text": [
      "['C:\\\\Users\\\\Zeeshan.khan\\\\vscode_projects\\\\training\\\\Pineapple\\\\JPEGImages']\n",
      "\n",
      "\n",
      "['C:\\\\Users\\\\Zeeshan.khan\\\\vscode_projects\\\\training\\\\Pineapple\\\\SegmentationClass']\n"
     ]
    }
   ],
   "source": [
    "jpeg=[]\n",
    "seg=[]\n",
    "for file in os.listdir(os.getcwd()):\n",
    "    if file.startswith('J'):\n",
    "        jpeg.append(os.path.join(os.getcwd(),file))\n",
    "    if file.endswith('Class'):\n",
    "        seg.append(os.path.join(os.getcwd(),file))\n",
    "        \n",
    "print(jpeg)\n",
    "print('\\n')\n",
    "print(seg)"
   ]
  },
  {
   "cell_type": "markdown",
   "id": "0e9e9ff6",
   "metadata": {},
   "source": [
    "#Images"
   ]
  },
  {
   "cell_type": "code",
   "execution_count": 398,
   "id": "dc898a1f",
   "metadata": {},
   "outputs": [
    {
     "name": "stdout",
     "output_type": "stream",
     "text": [
      "Rename completed\n"
     ]
    }
   ],
   "source": [
    "from pathlib import Path\n",
    "from PIL import Image\n",
    "for fruit_names in os.listdir(jpeg[0]):\n",
    "    file_path = os.path.join(jpeg[0],fruit_names)\n",
    "    file = Image.open(file_path)\n",
    "    rotated_file = file.rotate(90)\n",
    "    \n",
    "    os.makedirs('JPEGImages1',exist_ok= True)\n",
    "    file_name  = os.path.basename(file_path)\n",
    "    output_file_path = os.path.join('JPEGImages1',file_name)\n",
    "    \n",
    "    rotated_file.save(output_file_path,format='JPEG')\n",
    "    \n",
    "print(f'Rotated image saved at {output_file_path}')\n",
    "\n",
    "new_path = Path(os.path.join(ch_path,'JPEGImages1'))\n",
    "\n",
    "for count,files in enumerate(os.listdir(new_path)):\n",
    "    old_path  = os.path.join(new_path,files)\n",
    "    new_file = files.split('.')[0] + str(count)\n",
    "    new_path1 = os.path.join(new_path,new_file + '.png')\n",
    "    os.rename(old_path,new_path1)\n",
    "    \n",
    "print(f'Rename completed')\n",
    "\n"
   ]
  },
  {
   "cell_type": "markdown",
   "id": "c4937806",
   "metadata": {},
   "source": [
    "#Segmentation "
   ]
  },
  {
   "cell_type": "code",
   "execution_count": 399,
   "id": "3daec752",
   "metadata": {},
   "outputs": [
    {
     "name": "stdout",
     "output_type": "stream",
     "text": [
      "Rotated image saved at SegmentationClass1\\9Pineapple_08-07-2023-11-17-2523006_Focus_-1.png\n",
      "Rename completed\n"
     ]
    }
   ],
   "source": [
    "\n",
    "from PIL import Image\n",
    "for fruit_names in os.listdir(seg[0]):\n",
    "    file_path = os.path.join(seg[0],fruit_names)\n",
    "    file = Image.open(file_path)\n",
    "    rotated_file = file.rotate(90)\n",
    "    \n",
    "    os.makedirs('SegmentationClass1',exist_ok= True)\n",
    "    file_name  = os.path.basename(file_path)\n",
    "    output_file_path = os.path.join('SegmentationClass1',file_name)\n",
    "    \n",
    "    rotated_file.save(output_file_path,format='JPEG')\n",
    "    \n",
    "print(f'Rotated image saved at {output_file_path}')\n",
    "\n",
    "\n",
    "new_path1 = os.path.join(ch_path,'SegmentationClass1')\n",
    "\n",
    "for count,files in enumerate(os.listdir(new_path1)):\n",
    "    old_path  = os.path.join(new_path1,files)\n",
    "    new_file = files.split('.')[0] + str(count)\n",
    "    new_path2 = os.path.join(new_path1,new_file + '.png')\n",
    "    os.rename(old_path,new_path2)\n",
    "    \n",
    "print(f'Rename completed')"
   ]
  },
  {
   "cell_type": "markdown",
   "id": "1edb9ec8",
   "metadata": {},
   "source": [
    "#Complete script"
   ]
  },
  {
   "cell_type": "code",
   "execution_count": null,
   "id": "f7f1a683",
   "metadata": {},
   "outputs": [],
   "source": []
  }
 ],
 "metadata": {
  "kernelspec": {
   "display_name": "Python 3 (ipykernel)",
   "language": "python",
   "name": "python3"
  },
  "language_info": {
   "codemirror_mode": {
    "name": "ipython",
    "version": 3
   },
   "file_extension": ".py",
   "mimetype": "text/x-python",
   "name": "python",
   "nbconvert_exporter": "python",
   "pygments_lexer": "ipython3",
   "version": "3.10.9"
  }
 },
 "nbformat": 4,
 "nbformat_minor": 5
}
