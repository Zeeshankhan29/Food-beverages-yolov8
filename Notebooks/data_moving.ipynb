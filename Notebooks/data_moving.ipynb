{
 "cells": [
  {
   "cell_type": "code",
   "execution_count": 6,
   "id": "90f15a59",
   "metadata": {},
   "outputs": [],
   "source": [
    "import os\n",
    "import shutil\n",
    "all_files=[]\n",
    "for file in os.listdir(os.getcwd()):\n",
    "    file_path = os.path.join(os.getcwd(),file)\n",
    "    all_files.append(file_path)\n",
    "    \n",
    "remove_files = ['.ipynb_checkpoints','data_moving.ipynb']\n",
    "\n",
    "\n",
    "valid_files=[]\n",
    "for file in all_files:\n",
    "    file_name = os.path.basename(file)\n",
    "    if file_name not in remove_files:\n",
    "        valid_files.append(os.path.join(os.getcwd(),file_name))\n",
    "        \n",
    "\n",
    "\n"
   ]
  },
  {
   "cell_type": "code",
   "execution_count": 7,
   "id": "d95cef27",
   "metadata": {},
   "outputs": [
    {
     "data": {
      "text/plain": [
       "['c:\\\\Users\\\\Zeeshan.khan\\\\vscode_projects\\\\self-checkout\\\\Notebooks\\\\augmentation.ipynb',\n",
       " 'c:\\\\Users\\\\Zeeshan.khan\\\\vscode_projects\\\\self-checkout\\\\Notebooks\\\\data_cleaning.ipynb',\n",
       " 'c:\\\\Users\\\\Zeeshan.khan\\\\vscode_projects\\\\self-checkout\\\\Notebooks\\\\rename.ipynb',\n",
       " 'c:\\\\Users\\\\Zeeshan.khan\\\\vscode_projects\\\\self-checkout\\\\Notebooks\\\\Rotation_code.ipynb']"
      ]
     },
     "execution_count": 7,
     "metadata": {},
     "output_type": "execute_result"
    }
   ],
   "source": [
    "valid_files"
   ]
  },
  {
   "cell_type": "code",
   "execution_count": null,
   "id": "9ff1e829",
   "metadata": {},
   "outputs": [],
   "source": [
    "import os\n",
    "import shutil\n",
    "\n",
    "\n",
    "\n",
    "for file in valid_files:\n",
    "    for folder in os.listdir(file):\n",
    "        if folder.endswith('BlurImages'):\n",
    "            jpg_path = os.path.join(file, folder)\n",
    "            jpg_path_old = os.path.join(file, 'JPEGImages')\n",
    "\n",
    "            for item in os.listdir(jpg_path):\n",
    "                item_path = os.path.join(jpg_path, item)\n",
    "                new_item_path = os.path.join(jpg_path_old, item)\n",
    "                shutil.move(item_path, new_item_path)\n",
    "            \n",
    "            # After moving the contents, you can remove the empty folder\n",
    "            os.rmdir(jpg_path)\n",
    "\n",
    "        elif folder.endswith('BlurSegment'):\n",
    "            seg_path = os.path.join(file, folder)\n",
    "            seg_path_old = os.path.join(file, 'SegmentationClass')\n",
    "\n",
    "            for item in os.listdir(seg_path):\n",
    "                item_path = os.path.join(seg_path, item)\n",
    "                new_item_path = os.path.join(seg_path_old, item)\n",
    "                shutil.move(item_path, new_item_path)\n",
    "            \n",
    "            # After moving the contents, you can remove the empty folder\n",
    "            os.rmdir(seg_path)\n",
    "            \n",
    "            \n",
    "for file in valid_files:\n",
    "    for folder in os.listdir(file):\n",
    "        if folder.endswith('BrightImages'):\n",
    "            jpg_path = os.path.join(file, folder)\n",
    "            jpg_path_old = os.path.join(file, 'JPEGImages')\n",
    "\n",
    "            for item in os.listdir(jpg_path):\n",
    "                item_path = os.path.join(jpg_path, item)\n",
    "                new_item_path = os.path.join(jpg_path_old, item)\n",
    "                shutil.move(item_path, new_item_path)\n",
    "            \n",
    "            # After moving the contents, you can remove the empty folder\n",
    "            os.rmdir(jpg_path)\n",
    "\n",
    "        elif folder.endswith('BrightSegment'):\n",
    "            seg_path = os.path.join(file, folder)\n",
    "            seg_path_old = os.path.join(file, 'SegmentationClass')\n",
    "\n",
    "            for item in os.listdir(seg_path):\n",
    "                item_path = os.path.join(seg_path, item)\n",
    "                new_item_path = os.path.join(seg_path_old, item)\n",
    "                shutil.move(item_path, new_item_path)\n",
    "            \n",
    "            # After moving the contents, you can remove the empty folder\n",
    "            os.rmdir(seg_path)\n",
    "            \n",
    "            \n",
    "for file in valid_files:\n",
    "    for folder in os.listdir(file):\n",
    "        if folder.endswith('HorizontalImages'):\n",
    "            jpg_path = os.path.join(file, folder)\n",
    "            jpg_path_old = os.path.join(file, 'JPEGImages')\n",
    "\n",
    "            for item in os.listdir(jpg_path):\n",
    "                item_path = os.path.join(jpg_path, item)\n",
    "                new_item_path = os.path.join(jpg_path_old, item)\n",
    "                shutil.move(item_path, new_item_path)\n",
    "            \n",
    "            # After moving the contents, you can remove the empty folder\n",
    "            os.rmdir(jpg_path)\n",
    "\n",
    "        elif folder.endswith('HorizontalSegment'):\n",
    "            seg_path = os.path.join(file, folder)\n",
    "            seg_path_old = os.path.join(file, 'SegmentationClass')\n",
    "\n",
    "            for item in os.listdir(seg_path):\n",
    "                item_path = os.path.join(seg_path, item)\n",
    "                new_item_path = os.path.join(seg_path_old, item)\n",
    "                shutil.move(item_path, new_item_path)\n",
    "            \n",
    "            # After moving the contents, you can remove the empty folder\n",
    "            os.rmdir(seg_path)\n",
    "            \n",
    "            \n",
    "for file in valid_files:\n",
    "    for folder in os.listdir(file):\n",
    "        if folder.endswith('SharpImages'):\n",
    "            jpg_path = os.path.join(file, folder)\n",
    "            jpg_path_old = os.path.join(file, 'JPEGImages')\n",
    "\n",
    "            for item in os.listdir(jpg_path):\n",
    "                item_path = os.path.join(jpg_path, item)\n",
    "                new_item_path = os.path.join(jpg_path_old, item)\n",
    "                shutil.move(item_path, new_item_path)\n",
    "            \n",
    "            # After moving the contents, you can remove the empty folder\n",
    "            os.rmdir(jpg_path)\n",
    "\n",
    "        elif folder.endswith('SharpSegment'):\n",
    "            seg_path = os.path.join(file, folder)\n",
    "            seg_path_old = os.path.join(file, 'SegmentationClass')\n",
    "\n",
    "            for item in os.listdir(seg_path):\n",
    "                item_path = os.path.join(seg_path, item)\n",
    "                new_item_path = os.path.join(seg_path_old, item)\n",
    "                shutil.move(item_path, new_item_path)\n",
    "            \n",
    "            # After moving the contents, you can remove the empty folder\n",
    "            os.rmdir(seg_path)\n",
    "            \n",
    "            \n",
    "for file in valid_files:\n",
    "    for folder in os.listdir(file):\n",
    "        if folder.endswith('TransposeImages'):\n",
    "            jpg_path = os.path.join(file, folder)\n",
    "            jpg_path_old = os.path.join(file, 'JPEGImages')\n",
    "\n",
    "            for item in os.listdir(jpg_path):\n",
    "                item_path = os.path.join(jpg_path, item)\n",
    "                new_item_path = os.path.join(jpg_path_old, item)\n",
    "                shutil.move(item_path, new_item_path)\n",
    "            \n",
    "            # After moving the contents, you can remove the empty folder\n",
    "            os.rmdir(jpg_path)\n",
    "\n",
    "        elif folder.endswith('TransponseSegment'):\n",
    "            seg_path = os.path.join(file, folder)\n",
    "            seg_path_old = os.path.join(file, 'SegmentationClass')\n",
    "\n",
    "            for item in os.listdir(seg_path):\n",
    "                item_path = os.path.join(seg_path, item)\n",
    "                new_item_path = os.path.join(seg_path_old, item)\n",
    "                shutil.move(item_path, new_item_path)\n",
    "            \n",
    "            # After moving the contents, you can remove the empty folder\n",
    "            os.rmdir(seg_path)\n",
    "            \n",
    "            \n",
    "for file in valid_files:\n",
    "    for folder in os.listdir(file):\n",
    "        if folder.endswith('VerticalImages'):\n",
    "            jpg_path = os.path.join(file, folder)\n",
    "            jpg_path_old = os.path.join(file, 'JPEGImages')\n",
    "\n",
    "            for item in os.listdir(jpg_path):\n",
    "                item_path = os.path.join(jpg_path, item)\n",
    "                new_item_path = os.path.join(jpg_path_old, item)\n",
    "                shutil.move(item_path, new_item_path)\n",
    "            \n",
    "            # After moving the contents, you can remove the empty folder\n",
    "            os.rmdir(jpg_path)\n",
    "\n",
    "        elif folder.endswith('VerticalSegment'):\n",
    "            seg_path = os.path.join(file, folder)\n",
    "            seg_path_old = os.path.join(file, 'SegmentationClass')\n",
    "\n",
    "            for item in os.listdir(seg_path):\n",
    "                item_path = os.path.join(seg_path, item)\n",
    "                new_item_path = os.path.join(seg_path_old, item)\n",
    "                shutil.move(item_path, new_item_path)\n",
    "            \n",
    "            # After moving the contents, you can remove the empty folder\n",
    "            os.rmdir(seg_path)\n",
    "\n",
    "        "
   ]
  },
  {
   "cell_type": "code",
   "execution_count": null,
   "id": "ba618f18",
   "metadata": {},
   "outputs": [
    {
     "name": "stdout",
     "output_type": "stream",
     "text": [
      "1\n",
      "2\n",
      "3\n"
     ]
    },
    {
     "data": {
      "text/plain": [
       "3"
      ]
     },
     "execution_count": 1,
     "metadata": {},
     "output_type": "execute_result"
    }
   ],
   "source": [
    "l =[1,2,3]\n",
    "\n",
    "for i in l:\n",
    "    print(i)\n",
    "l.pop()"
   ]
  },
  {
   "cell_type": "code",
   "execution_count": null,
   "id": "5f4e7c5e",
   "metadata": {},
   "outputs": [
    {
     "data": {
      "text/plain": [
       "[1, 2]"
      ]
     },
     "execution_count": 2,
     "metadata": {},
     "output_type": "execute_result"
    }
   ],
   "source": [
    "l"
   ]
  },
  {
   "cell_type": "code",
   "execution_count": null,
   "id": "467dd2e2",
   "metadata": {},
   "outputs": [],
   "source": []
  }
 ],
 "metadata": {
  "kernelspec": {
   "display_name": "Python 3 (ipykernel)",
   "language": "python",
   "name": "python3"
  },
  "language_info": {
   "codemirror_mode": {
    "name": "ipython",
    "version": 3
   },
   "file_extension": ".py",
   "mimetype": "text/x-python",
   "name": "python",
   "nbconvert_exporter": "python",
   "pygments_lexer": "ipython3",
   "version": "3.10.11"
  }
 },
 "nbformat": 4,
 "nbformat_minor": 5
}
