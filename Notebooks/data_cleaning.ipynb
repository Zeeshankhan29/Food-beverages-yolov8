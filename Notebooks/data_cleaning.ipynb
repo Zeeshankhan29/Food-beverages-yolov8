{
 "cells": [
  {
   "cell_type": "code",
   "execution_count": 1,
   "id": "489f96d7",
   "metadata": {},
   "outputs": [],
   "source": [
    "import os\n",
    "os.chdir(r\"C:\\Users\\Zeeshan.khan\\vscode_projects\\self-checkout\\artifacts\\temp\\original\")"
   ]
  },
  {
   "cell_type": "code",
   "execution_count": 2,
   "id": "004c471e",
   "metadata": {},
   "outputs": [],
   "source": [
    "l=[]\n",
    "for file in os.listdir(os.getcwd()):\n",
    "    l.append(file)"
   ]
  },
  {
   "cell_type": "code",
   "execution_count": 3,
   "id": "7afbce46",
   "metadata": {},
   "outputs": [
    {
     "data": {
      "text/plain": [
       "['Apple Granny smith',\n",
       " 'Apple Royal Gala',\n",
       " 'Apple Shimla',\n",
       " 'Ash Gourd Cut',\n",
       " 'Avocado Indian',\n",
       " 'Banana Flower',\n",
       " 'Banana Hills',\n",
       " 'Banana Nendran',\n",
       " 'Banana Poovan',\n",
       " 'Banana Rasthali',\n",
       " 'Banana Red',\n",
       " 'Bottle Gourd',\n",
       " 'Brinjal Black Big',\n",
       " 'Brinjal Purple Striped',\n",
       " 'Broccoli',\n",
       " 'Cabbage',\n",
       " 'Cabbage Red',\n",
       " 'Capsicum',\n",
       " 'Capsicum Red',\n",
       " 'Capsicum Yellow',\n",
       " 'Cauliflower',\n",
       " 'Cucumber',\n",
       " 'Dragon Fruit Red',\n",
       " 'Golden Kiwi',\n",
       " 'Gooseberry Amla',\n",
       " 'Guava White',\n",
       " 'Jackfruit Raw',\n",
       " 'Kiwi Green',\n",
       " 'Lemon',\n",
       " 'Mango Neelam',\n",
       " 'Mango Totapuri',\n",
       " 'Mangusteens Indian',\n",
       " 'Mosambi',\n",
       " 'Muskmelon Rock',\n",
       " 'Muskmelon Yellow',\n",
       " 'Nectarines',\n",
       " 'Onion Big Bellary',\n",
       " 'Orange Valencia',\n",
       " 'Papaya',\n",
       " 'Pineapple',\n",
       " 'Pomegranate Kabul',\n",
       " 'Pumpkin Cut Wrapped',\n",
       " 'Radish Red',\n",
       " 'Radish White',\n",
       " 'Sapota Round',\n",
       " 'Tomato Apple',\n",
       " 'Tomato Nadu',\n",
       " 'Turnip',\n",
       " 'Watermelon Kiran',\n",
       " 'Zucchini Green',\n",
       " 'Zucchini Yellow']"
      ]
     },
     "execution_count": 3,
     "metadata": {},
     "output_type": "execute_result"
    }
   ],
   "source": [
    "valid_files = l\n",
    "valid_files"
   ]
  },
  {
   "cell_type": "code",
   "execution_count": 4,
   "id": "31e1f87d",
   "metadata": {},
   "outputs": [
    {
     "data": {
      "text/plain": [
       "51"
      ]
     },
     "execution_count": 4,
     "metadata": {},
     "output_type": "execute_result"
    }
   ],
   "source": [
    "len(l)"
   ]
  },
  {
   "cell_type": "markdown",
   "id": "70b68da8",
   "metadata": {},
   "source": [
    "# Move file for original dataset and delete unnecessary file for training"
   ]
  },
  {
   "cell_type": "code",
   "execution_count": 5,
   "id": "68531f9e",
   "metadata": {},
   "outputs": [],
   "source": [
    "import os\n",
    "import shutil\n",
    "\n",
    "os.chdir(r\"C:\\Users\\Zeeshan.khan\\vscode_projects\\self-checkout\\artifacts\\temp\\original\")\n",
    "file_path=[]\n",
    "for file in os.listdir(os.getcwd()):\n",
    "    if file in valid_files:\n",
    "        file_path.append(os.path.join(os.getcwd(),file))\n",
    "        \n",
    "jpeg_path=[]\n",
    "segment_path=[]\n",
    "for file in file_path:\n",
    "    for files in os.listdir(file):\n",
    "        if files.startswith('JPEGImages'):\n",
    "            jpeg_path.append(os.path.join(file,files))\n",
    "            \n",
    "for filename,new in zip(jpeg_path,file_path):\n",
    "    for files in os.listdir(filename):\n",
    "        old_path = os.path.join(filename,files)\n",
    "        shutil.move(old_path,new)\n",
    "        \n",
    "        \n",
    "for file in file_path:\n",
    "    for files in os.listdir(file):\n",
    "        if files.startswith(('ImageSets','JPEGImages','labelmap.txt','SegmentationObject','SegmentationClass')):\n",
    "            try:\n",
    "                shutil.rmtree(os.path.join(file,files))\n",
    "            except:\n",
    "                os.remove(os.path.join(file,files))"
   ]
  },
  {
   "cell_type": "markdown",
   "id": "325403c5",
   "metadata": {},
   "source": [
    "# Move files for Mask dataset and delete the unused files for training"
   ]
  },
  {
   "cell_type": "code",
   "execution_count": 1,
   "id": "4a2d7e54",
   "metadata": {},
   "outputs": [],
   "source": [
    "import os\n",
    "os.chdir(r\"C:\\Users\\Zeeshan.khan\\vscode_projects\\self-checkout\\artifacts\\temp\\mask\")"
   ]
  },
  {
   "cell_type": "code",
   "execution_count": 2,
   "id": "9bdbc7be",
   "metadata": {},
   "outputs": [],
   "source": [
    "l=[]\n",
    "for file in os.listdir(os.getcwd()):\n",
    "    l.append(file)"
   ]
  },
  {
   "cell_type": "code",
   "execution_count": 3,
   "id": "13e42bc1",
   "metadata": {},
   "outputs": [
    {
     "data": {
      "text/plain": [
       "['Apple Granny smith',\n",
       " 'Apple Royal Gala',\n",
       " 'Apple Shimla',\n",
       " 'Ash Gourd Cut',\n",
       " 'Avocado Indian',\n",
       " 'Banana Flower',\n",
       " 'Banana Hills',\n",
       " 'Banana Nendran',\n",
       " 'Banana Poovan',\n",
       " 'Banana Rasthali',\n",
       " 'Banana Red',\n",
       " 'Bottle Gourd',\n",
       " 'Brinjal Black Big',\n",
       " 'Brinjal Purple Striped',\n",
       " 'Broccoli',\n",
       " 'Cabbage',\n",
       " 'Cabbage Red',\n",
       " 'Capsicum',\n",
       " 'Capsicum Red',\n",
       " 'Capsicum Yellow',\n",
       " 'Cauliflower',\n",
       " 'Cucumber',\n",
       " 'Dragon Fruit Red',\n",
       " 'Golden Kiwi',\n",
       " 'Gooseberry Amla',\n",
       " 'Guava White',\n",
       " 'Jackfruit Raw',\n",
       " 'Kiwi Green',\n",
       " 'Lemon',\n",
       " 'Mango Neelam',\n",
       " 'Mango Totapuri',\n",
       " 'Mangusteens Indian',\n",
       " 'Mosambi',\n",
       " 'Muskmelon Rock',\n",
       " 'Muskmelon Yellow',\n",
       " 'Nectarines',\n",
       " 'Onion Big Bellary',\n",
       " 'Orange Valencia',\n",
       " 'Papaya',\n",
       " 'Pineapple',\n",
       " 'Pomegranate Kabul',\n",
       " 'Pumpkin Cut Wrapped',\n",
       " 'Radish Red',\n",
       " 'Radish White',\n",
       " 'Sapota Round',\n",
       " 'Tomato Apple',\n",
       " 'Tomato Nadu',\n",
       " 'Turnip',\n",
       " 'Watermelon Kiran',\n",
       " 'Zucchini Green',\n",
       " 'Zucchini Yellow']"
      ]
     },
     "execution_count": 3,
     "metadata": {},
     "output_type": "execute_result"
    }
   ],
   "source": [
    "valid_files = l\n",
    "valid_files"
   ]
  },
  {
   "cell_type": "code",
   "execution_count": 9,
   "id": "db7fb24a",
   "metadata": {},
   "outputs": [
    {
     "data": {
      "text/plain": [
       "50"
      ]
     },
     "execution_count": 9,
     "metadata": {},
     "output_type": "execute_result"
    }
   ],
   "source": [
    "len(l)"
   ]
  },
  {
   "cell_type": "code",
   "execution_count": 10,
   "id": "e043c252",
   "metadata": {},
   "outputs": [],
   "source": [
    "import os\n",
    "import shutil\n",
    "\n",
    "os.chdir(r\"C:\\Users\\Zeeshan.khan\\vscode_projects\\self-checkout\\artifacts\\temp\\mask\")\n",
    "file_path=[]\n",
    "for file in os.listdir(os.getcwd()):\n",
    "    if file in valid_files:\n",
    "        file_path.append(os.path.join(os.getcwd(),file))\n",
    "        \n",
    "jpeg_path=[]\n",
    "segment_path=[]\n",
    "for file in file_path:\n",
    "    for files in os.listdir(file):\n",
    "        if files.startswith('SegmentationClass'):\n",
    "            jpeg_path.append(os.path.join(file,files))\n",
    "            \n",
    "for filename,new in zip(jpeg_path,file_path):\n",
    "    for files in os.listdir(filename):\n",
    "        old_path = os.path.join(filename,files)\n",
    "        shutil.move(old_path,new)\n",
    "        \n",
    "        \n",
    "for file in file_path:\n",
    "    for files in os.listdir(file):\n",
    "        if files.startswith(('ImageSets','JPEGImages','labelmap.txt','SegmentationObject','SegmentationClass')):\n",
    "            try:\n",
    "                shutil.rmtree(os.path.join(file,files))\n",
    "            except:\n",
    "                os.remove(os.path.join(file,files))"
   ]
  },
  {
   "cell_type": "code",
   "execution_count": null,
   "id": "3228c61c",
   "metadata": {},
   "outputs": [],
   "source": []
  }
 ],
 "metadata": {
  "kernelspec": {
   "display_name": "Python 3 (ipykernel)",
   "language": "python",
   "name": "python3"
  },
  "language_info": {
   "codemirror_mode": {
    "name": "ipython",
    "version": 3
   },
   "file_extension": ".py",
   "mimetype": "text/x-python",
   "name": "python",
   "nbconvert_exporter": "python",
   "pygments_lexer": "ipython3",
   "version": "3.10.11"
  }
 },
 "nbformat": 4,
 "nbformat_minor": 5
}
