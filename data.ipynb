{
 "cells": [
  {
   "cell_type": "code",
   "execution_count": null,
   "metadata": {},
   "outputs": [],
   "source": [
    "from dataclasses import dataclass\n",
    "from pathlib import Path\n",
    "\n",
    "@dataclass(frozen=True)\n",
    "class DataIngestionConfig:\n",
    "    temp_dir : Path\n",
    "    temp_labels_dir : Path\n",
    "    temp_mask_dir : Path\n",
    "    original_image_dir : Path\n",
    "    yolo_seg_config_file: Path"
   ]
  },
  {
   "cell_type": "code",
   "execution_count": null,
   "metadata": {},
   "outputs": [],
   "source": [
    "DataIngestionConfig()"
   ]
  },
  {
   "cell_type": "code",
   "execution_count": null,
   "metadata": {},
   "outputs": [],
   "source": [
    "CONFIG_FILE_PATH = Path('configs/config.yaml')"
   ]
  },
  {
   "cell_type": "code",
   "execution_count": null,
   "metadata": {},
   "outputs": [],
   "source": [
    "from pathlib import Path\n",
    "config = read_yaml(CONFIG_FILE_PATH)\n",
    "ob = read_yaml(Path(config.data_ingestion.yolo_seg_config_file))"
   ]
  },
  {
   "cell_type": "code",
   "execution_count": null,
   "metadata": {},
   "outputs": [],
   "source": [
    "ob.val"
   ]
  },
  {
   "cell_type": "code",
   "execution_count": 7,
   "metadata": {},
   "outputs": [
    {
     "name": "stdout",
     "output_type": "stream",
     "text": [
      "0 1\n",
      "1 23\n",
      "2 3\n",
      "3 34\n"
     ]
    }
   ],
   "source": [
    "l =[1,23,3,34,4,5]\n",
    "j=[4,5,5,4]\n",
    "\n",
    "for (index,value), (index1,value1) in zip(enumerate(l),enumerate(j)):\n",
    "    print(index,value)\n",
    "    # print(index1,value1)"
   ]
  },
  {
   "cell_type": "code",
   "execution_count": 8,
   "metadata": {},
   "outputs": [],
   "source": [
    "import time"
   ]
  },
  {
   "cell_type": "code",
   "execution_count": 46,
   "metadata": {},
   "outputs": [
    {
     "name": "stdout",
     "output_type": "stream",
     "text": [
      "7\n",
      "8\n",
      "9\n",
      "totaly time taken for execution -->4.1961669921875e-05\n"
     ]
    }
   ],
   "source": [
    "l=[1,2,3,3,7,8,9]\n",
    "j =[1,2,3,4]\n",
    "start = time.time()\n",
    "for i in l:\n",
    "    if i not in j:\n",
    "        print(i)\n",
    "end = time.time()\n",
    "print(f'totaly time taken for execution -->{end-start}')\n"
   ]
  },
  {
   "cell_type": "code",
   "execution_count": 40,
   "metadata": {},
   "outputs": [
    {
     "name": "stdout",
     "output_type": "stream",
     "text": [
      "[8, 9, 7]\n",
      "totaly time taken for execution -->3.7670135498046875e-05\n"
     ]
    }
   ],
   "source": [
    "l=[1,2,3,3,7,8,9]\n",
    "j =[1,2,3,4]\n",
    "start = time.time()\n",
    "print(list(set(l)-set(j)))\n",
    "end = time.time()\n",
    "print(f'totaly time taken for execution -->{end-start}')\n"
   ]
  },
  {
   "cell_type": "code",
   "execution_count": 31,
   "metadata": {},
   "outputs": [],
   "source": [
    "s={1,3,3}"
   ]
  },
  {
   "cell_type": "code",
   "execution_count": 28,
   "metadata": {},
   "outputs": [
    {
     "data": {
      "text/plain": [
       "[1, 3]"
      ]
     },
     "execution_count": 28,
     "metadata": {},
     "output_type": "execute_result"
    }
   ],
   "source": [
    "list(s)"
   ]
  },
  {
   "cell_type": "code",
   "execution_count": 14,
   "metadata": {},
   "outputs": [
    {
     "data": {
      "text/plain": [
       "True"
      ]
     },
     "execution_count": 14,
     "metadata": {},
     "output_type": "execute_result"
    }
   ],
   "source": [
    "['main2'] not in ['--main1' ,'--main2','--main3','--main4','--main5','main1','main2','main3','main4','main5']"
   ]
  },
  {
   "cell_type": "code",
   "execution_count": 21,
   "metadata": {},
   "outputs": [
    {
     "name": "stdout",
     "output_type": "stream",
     "text": [
      "Function defined not valid\n"
     ]
    }
   ],
   "source": [
    "if not any(arg in ['main9'] for arg in ['--main1', '--main2', '--main3', '--main4', '--main5', 'main1', 'main2', 'main3', 'main4', 'main5']):\n",
    "    print('Function defined not valid')"
   ]
  },
  {
   "cell_type": "code",
   "execution_count": 25,
   "metadata": {},
   "outputs": [],
   "source": [
    "if not any(func in ['main3','main8']for func in ['--main1', '--main2', '--main3', '--main4', '--main5', 'main1', 'main2', 'main3', 'main4', 'main5']):\n",
    "    print('valid not')"
   ]
  },
  {
   "cell_type": "code",
   "execution_count": 34,
   "metadata": {},
   "outputs": [
    {
     "data": {
      "text/plain": [
       "False"
      ]
     },
     "execution_count": 34,
     "metadata": {},
     "output_type": "execute_result"
    }
   ],
   "source": [
    "'main2' not  in ['main.py','main2','main3']"
   ]
  },
  {
   "cell_type": "code",
   "execution_count": 4,
   "metadata": {},
   "outputs": [
    {
     "data": {
      "text/plain": [
       "190.0"
      ]
     },
     "execution_count": 4,
     "metadata": {},
     "output_type": "execute_result"
    }
   ],
   "source": [
    "200*0.95"
   ]
  },
  {
   "cell_type": "code",
   "execution_count": 44,
   "metadata": {},
   "outputs": [
    {
     "name": "stdout",
     "output_type": "stream",
     "text": [
      "[1, 2, 3, 4, 5, 5, 6, 6, 7, 70, 70, 6, 6, 6, 'r', 97, 0] [0, 0]\n"
     ]
    }
   ],
   "source": [
    "data = [1,2,3,4,5,5,6,6,7,70,70,6,6,6,'r',97,0,0,0,]\n",
    "length = len(data)\n",
    "\n",
    "upper_value = []\n",
    "lower_value = []\n",
    "\n",
    "split_point = 0.8\n",
    "for index , value in enumerate(data):\n",
    "    divider = math.ceil(length*split_point)\n",
    "    if index <= divider:\n",
    "        upper_value.append(data[index])\n",
    "    if index > divider:\n",
    "        lower_value.append(data[index])\n",
    "print(upper_value, lower_value)"
   ]
  },
  {
   "cell_type": "code",
   "execution_count": 41,
   "metadata": {},
   "outputs": [
    {
     "data": {
      "text/plain": [
       "97"
      ]
     },
     "execution_count": 41,
     "metadata": {},
     "output_type": "execute_result"
    }
   ],
   "source": [
    "data[15]"
   ]
  },
  {
   "cell_type": "code",
   "execution_count": 60,
   "metadata": {},
   "outputs": [
    {
     "name": "stdout",
     "output_type": "stream",
     "text": [
      "[1, 23, 4, 5]\n",
      "[90, 480]\n"
     ]
    }
   ],
   "source": [
    "from box import ConfigBox\n",
    "value = [{'data':[1,23,4,5,]},{'data':[90,480]}]\n",
    "\n",
    "for data in value:\n",
    "    obj = ConfigBox(data)\n",
    "    print(obj.data)"
   ]
  },
  {
   "cell_type": "code",
   "execution_count": 58,
   "metadata": {},
   "outputs": [
    {
     "data": {
      "text/plain": [
       "BoxList([1, 23, 4, 5])"
      ]
     },
     "execution_count": 58,
     "metadata": {},
     "output_type": "execute_result"
    }
   ],
   "source": [
    "value = ConfigBox({'data': [1, 23, 4, 5]})\n",
    "value.data"
   ]
  },
  {
   "cell_type": "code",
   "execution_count": 63,
   "metadata": {},
   "outputs": [
    {
     "data": {
      "text/plain": [
       "'********************'"
      ]
     },
     "execution_count": 63,
     "metadata": {},
     "output_type": "execute_result"
    }
   ],
   "source": [
    "20* \"*\""
   ]
  },
  {
   "cell_type": "code",
   "execution_count": 69,
   "metadata": {},
   "outputs": [
    {
     "name": "stdout",
     "output_type": "stream",
     "text": [
      "{'zeeshan': 2, 'khan': 2, 'faizan': 2, 'meher': 1}\n"
     ]
    }
   ],
   "source": [
    "l=['zeeshan','khan','zeeshan','faizan','khan','faizan','meher']\n",
    "\n",
    "meta = {}\n",
    "for index, value in enumerate(l):\n",
    "    if value not in meta:\n",
    "        meta[value] = 1\n",
    "\n",
    "    else:\n",
    "        meta[value] = meta[value]+1\n",
    "\n",
    "print(meta)"
   ]
  },
  {
   "cell_type": "code",
   "execution_count": 70,
   "metadata": {},
   "outputs": [
    {
     "data": {
      "text/plain": [
       "7"
      ]
     },
     "execution_count": 70,
     "metadata": {},
     "output_type": "execute_result"
    }
   ],
   "source": [
    "len('zeeshan')"
   ]
  },
  {
   "cell_type": "code",
   "execution_count": 38,
   "metadata": {},
   "outputs": [],
   "source": [
    "import pandas as pd\n",
    "import json\n",
    "df = pd.read_csv('datameta.csv')\n"
   ]
  },
  {
   "cell_type": "code",
   "execution_count": 48,
   "metadata": {},
   "outputs": [
    {
     "name": "stdout",
     "output_type": "stream",
     "text": [
      "{'classname': 'Anjeer', 'org_file_dir': \"['C:\\\\\\\\Users\\\\\\\\Zeeshan.khan\\\\\\\\vscode_projects\\\\\\\\self-checkout\\\\\\\\artifacts\\\\\\\\temp\\\\\\\\original\\\\\\\\Anjeer\\\\\\\\10Anjeer_07-20-2023-13-05-264600_Focus_0.png', 'C:\\\\\\\\Users\\\\\\\\Zeeshan.khan\\\\\\\\vscode_projects\\\\\\\\self-checkout\\\\\\\\artifacts\\\\\\\\temp\\\\\\\\original\\\\\\\\Anjeer\\\\\\\\117Anjeer_07-20-2023-13-22-5596219_Focus_0.png', 'C:\\\\\\\\Users\\\\\\\\Zeeshan.khan\\\\\\\\vscode_projects\\\\\\\\self-checkout\\\\\\\\artifacts\\\\\\\\temp\\\\\\\\original\\\\\\\\Anjeer\\\\\\\\118Anjeer_07-20-2023-13-24-4393015_Focus_0.png', 'C:\\\\\\\\Users\\\\\\\\Zeeshan.khan\\\\\\\\vscode_projects\\\\\\\\self-checkout\\\\\\\\artifacts\\\\\\\\temp\\\\\\\\original\\\\\\\\Anjeer\\\\\\\\11Anjeer_07-20-2023-13-05-3688678_Focus_0.png', 'C:\\\\\\\\Users\\\\\\\\Zeeshan.khan\\\\\\\\vscode_projects\\\\\\\\self-checkout\\\\\\\\artifacts\\\\\\\\temp\\\\\\\\original\\\\\\\\Anjeer\\\\\\\\120Anjeer_07-20-2023-13-26-3978266_Focus_15.png', 'C:\\\\\\\\Users\\\\\\\\Zeeshan.khan\\\\\\\\vscode_projects\\\\\\\\self-checkout\\\\\\\\artifacts\\\\\\\\temp\\\\\\\\original\\\\\\\\Anjeer\\\\\\\\121Anjeer_07-20-2023-13-26-5034114_Focus_0.png', 'C:\\\\\\\\Users\\\\\\\\Zeeshan.khan\\\\\\\\vscode_projects\\\\\\\\self-checkout\\\\\\\\artifacts\\\\\\\\temp\\\\\\\\original\\\\\\\\Anjeer\\\\\\\\122Anjeer_07-20-2023-13-26-5730553_Focus_15.png', 'C:\\\\\\\\Users\\\\\\\\Zeeshan.khan\\\\\\\\vscode_projects\\\\\\\\self-checkout\\\\\\\\artifacts\\\\\\\\temp\\\\\\\\original\\\\\\\\Anjeer\\\\\\\\123Anjeer_07-20-2023-13-27-1591878_Focus_0.png', 'C:\\\\\\\\Users\\\\\\\\Zeeshan.khan\\\\\\\\vscode_projects\\\\\\\\self-checkout\\\\\\\\artifacts\\\\\\\\temp\\\\\\\\original\\\\\\\\Anjeer\\\\\\\\124Anjeer_07-20-2023-13-27-2783165_Focus_33.png', 'C:\\\\\\\\Users\\\\\\\\Zeeshan.khan\\\\\\\\vscode_projects\\\\\\\\self-checkout\\\\\\\\artifacts\\\\\\\\temp\\\\\\\\original\\\\\\\\Anjeer\\\\\\\\126Anjeer_07-20-2023-13-27-4586957_Focus_0.png', 'C:\\\\\\\\Users\\\\\\\\Zeeshan.khan\\\\\\\\vscode_projects\\\\\\\\self-checkout\\\\\\\\artifacts\\\\\\\\temp\\\\\\\\original\\\\\\\\Anjeer\\\\\\\\128Anjeer_07-20-2023-13-27-5623184_Focus_33.png', 'C:\\\\\\\\Users\\\\\\\\Zeeshan.khan\\\\\\\\vscode_projects\\\\\\\\self-checkout\\\\\\\\artifacts\\\\\\\\temp\\\\\\\\original\\\\\\\\Anjeer\\\\\\\\129Anjeer_07-20-2023-13-28-018807_Focus_33.png', 'C:\\\\\\\\Users\\\\\\\\Zeeshan.khan\\\\\\\\vscode_projects\\\\\\\\self-checkout\\\\\\\\artifacts\\\\\\\\temp\\\\\\\\original\\\\\\\\Anjeer\\\\\\\\130Anjeer_07-20-2023-13-28-0893165_Focus_0.png', 'C:\\\\\\\\Users\\\\\\\\Zeeshan.khan\\\\\\\\vscode_projects\\\\\\\\self-checkout\\\\\\\\artifacts\\\\\\\\temp\\\\\\\\original\\\\\\\\Anjeer\\\\\\\\131Anjeer_07-20-2023-13-28-1869754_Focus_15.png', 'C:\\\\\\\\Users\\\\\\\\Zeeshan.khan\\\\\\\\vscode_projects\\\\\\\\self-checkout\\\\\\\\artifacts\\\\\\\\temp\\\\\\\\original\\\\\\\\Anjeer\\\\\\\\132Anjeer_07-20-2023-13-28-2535613_Focus_15.png', 'C:\\\\\\\\Users\\\\\\\\Zeeshan.khan\\\\\\\\vscode_projects\\\\\\\\self-checkout\\\\\\\\artifacts\\\\\\\\temp\\\\\\\\original\\\\\\\\Anjeer\\\\\\\\133Anjeer_07-20-2023-13-28-3177513_Focus_0.png', 'C:\\\\\\\\Users\\\\\\\\Zeeshan.khan\\\\\\\\vscode_projects\\\\\\\\self-checkout\\\\\\\\artifacts\\\\\\\\temp\\\\\\\\original\\\\\\\\Anjeer\\\\\\\\134Anjeer_07-20-2023-13-28-3629530_Focus_33.png', 'C:\\\\\\\\Users\\\\\\\\Zeeshan.khan\\\\\\\\vscode_projects\\\\\\\\self-checkout\\\\\\\\artifacts\\\\\\\\temp\\\\\\\\original\\\\\\\\Anjeer\\\\\\\\135Anjeer_07-20-2023-13-28-4549155_Focus_15.png', 'C:\\\\\\\\Users\\\\\\\\Zeeshan.khan\\\\\\\\vscode_projects\\\\\\\\self-checkout\\\\\\\\artifacts\\\\\\\\temp\\\\\\\\original\\\\\\\\Anjeer\\\\\\\\138Anjeer_07-20-2023-13-30-5770836_Focus_0.png', 'C:\\\\\\\\Users\\\\\\\\Zeeshan.khan\\\\\\\\vscode_projects\\\\\\\\self-checkout\\\\\\\\artifacts\\\\\\\\temp\\\\\\\\original\\\\\\\\Anjeer\\\\\\\\139Anjeer_07-20-2023-13-31-0772732_Focus_0.png', 'C:\\\\\\\\Users\\\\\\\\Zeeshan.khan\\\\\\\\vscode_projects\\\\\\\\self-checkout\\\\\\\\artifacts\\\\\\\\temp\\\\\\\\original\\\\\\\\Anjeer\\\\\\\\13Anjeer_07-20-2023-13-05-5397057_Focus_0.png', 'C:\\\\\\\\Users\\\\\\\\Zeeshan.khan\\\\\\\\vscode_projects\\\\\\\\self-checkout\\\\\\\\artifacts\\\\\\\\temp\\\\\\\\original\\\\\\\\Anjeer\\\\\\\\140Anjeer_07-20-2023-13-31-2581813_Focus_15.png', 'C:\\\\\\\\Users\\\\\\\\Zeeshan.khan\\\\\\\\vscode_projects\\\\\\\\self-checkout\\\\\\\\artifacts\\\\\\\\temp\\\\\\\\original\\\\\\\\Anjeer\\\\\\\\141Anjeer_07-20-2023-13-31-3174924_Focus_0.png', 'C:\\\\\\\\Users\\\\\\\\Zeeshan.khan\\\\\\\\vscode_projects\\\\\\\\self-checkout\\\\\\\\artifacts\\\\\\\\temp\\\\\\\\original\\\\\\\\Anjeer\\\\\\\\142Anjeer_07-20-2023-13-31-4144828_Focus_33.png', 'C:\\\\\\\\Users\\\\\\\\Zeeshan.khan\\\\\\\\vscode_projects\\\\\\\\self-checkout\\\\\\\\artifacts\\\\\\\\temp\\\\\\\\original\\\\\\\\Anjeer\\\\\\\\143Anjeer_07-20-2023-13-31-458863_Focus_15.png', 'C:\\\\\\\\Users\\\\\\\\Zeeshan.khan\\\\\\\\vscode_projects\\\\\\\\self-checkout\\\\\\\\artifacts\\\\\\\\temp\\\\\\\\original\\\\\\\\Anjeer\\\\\\\\144Anjeer_07-20-2023-13-31-5667794_Focus_15.png', 'C:\\\\\\\\Users\\\\\\\\Zeeshan.khan\\\\\\\\vscode_projects\\\\\\\\self-checkout\\\\\\\\artifacts\\\\\\\\temp\\\\\\\\original\\\\\\\\Anjeer\\\\\\\\145Anjeer_07-20-2023-13-32-0325368_Focus_33.png', 'C:\\\\\\\\Users\\\\\\\\Zeeshan.khan\\\\\\\\vscode_projects\\\\\\\\self-checkout\\\\\\\\artifacts\\\\\\\\temp\\\\\\\\original\\\\\\\\Anjeer\\\\\\\\14Anjeer_07-20-2023-13-06-0074600_Focus_0.png', 'C:\\\\\\\\Users\\\\\\\\Zeeshan.khan\\\\\\\\vscode_projects\\\\\\\\self-checkout\\\\\\\\artifacts\\\\\\\\temp\\\\\\\\original\\\\\\\\Anjeer\\\\\\\\155Anjeer_07-20-2023-14-19-0711352_Focus_15.png', 'C:\\\\\\\\Users\\\\\\\\Zeeshan.khan\\\\\\\\vscode_projects\\\\\\\\self-checkout\\\\\\\\artifacts\\\\\\\\temp\\\\\\\\original\\\\\\\\Anjeer\\\\\\\\156Anjeer_07-20-2023-14-19-1813821_Focus_0.png', 'C:\\\\\\\\Users\\\\\\\\Zeeshan.khan\\\\\\\\vscode_projects\\\\\\\\self-checkout\\\\\\\\artifacts\\\\\\\\temp\\\\\\\\original\\\\\\\\Anjeer\\\\\\\\158Anjeer_07-20-2023-14-19-514963_Focus_33.png', 'C:\\\\\\\\Users\\\\\\\\Zeeshan.khan\\\\\\\\vscode_projects\\\\\\\\self-checkout\\\\\\\\artifacts\\\\\\\\temp\\\\\\\\original\\\\\\\\Anjeer\\\\\\\\159Anjeer_07-20-2023-14-20-058634_Focus_33.png', 'C:\\\\\\\\Users\\\\\\\\Zeeshan.khan\\\\\\\\vscode_projects\\\\\\\\self-checkout\\\\\\\\artifacts\\\\\\\\temp\\\\\\\\original\\\\\\\\Anjeer\\\\\\\\15Anjeer_07-20-2023-13-06-1154753_Focus_15.png', 'C:\\\\\\\\Users\\\\\\\\Zeeshan.khan\\\\\\\\vscode_projects\\\\\\\\self-checkout\\\\\\\\artifacts\\\\\\\\temp\\\\\\\\original\\\\\\\\Anjeer\\\\\\\\160Anjeer_07-20-2023-14-20-2659533_Focus_33.png', 'C:\\\\\\\\Users\\\\\\\\Zeeshan.khan\\\\\\\\vscode_projects\\\\\\\\self-checkout\\\\\\\\artifacts\\\\\\\\temp\\\\\\\\original\\\\\\\\Anjeer\\\\\\\\161Anjeer_07-20-2023-14-20-4162655_Focus_33.png', 'C:\\\\\\\\Users\\\\\\\\Zeeshan.khan\\\\\\\\vscode_projects\\\\\\\\self-checkout\\\\\\\\artifacts\\\\\\\\temp\\\\\\\\original\\\\\\\\Anjeer\\\\\\\\162Anjeer_07-20-2023-14-21-1040789_Focus_33.png', 'C:\\\\\\\\Users\\\\\\\\Zeeshan.khan\\\\\\\\vscode_projects\\\\\\\\self-checkout\\\\\\\\artifacts\\\\\\\\temp\\\\\\\\original\\\\\\\\Anjeer\\\\\\\\164Anjeer_07-20-2023-14-21-4981120_Focus_15.png', 'C:\\\\\\\\Users\\\\\\\\Zeeshan.khan\\\\\\\\vscode_projects\\\\\\\\self-checkout\\\\\\\\artifacts\\\\\\\\temp\\\\\\\\original\\\\\\\\Anjeer\\\\\\\\166Anjeer_07-20-2023-14-22-1448876_Focus_0.png', 'C:\\\\\\\\Users\\\\\\\\Zeeshan.khan\\\\\\\\vscode_projects\\\\\\\\self-checkout\\\\\\\\artifacts\\\\\\\\temp\\\\\\\\original\\\\\\\\Anjeer\\\\\\\\167Anjeer_07-20-2023-14-22-2589602_Focus_0.png', 'C:\\\\\\\\Users\\\\\\\\Zeeshan.khan\\\\\\\\vscode_projects\\\\\\\\self-checkout\\\\\\\\artifacts\\\\\\\\temp\\\\\\\\original\\\\\\\\Anjeer\\\\\\\\168Anjeer_07-20-2023-14-22-3775770_Focus_33.png', 'C:\\\\\\\\Users\\\\\\\\Zeeshan.khan\\\\\\\\vscode_projects\\\\\\\\self-checkout\\\\\\\\artifacts\\\\\\\\temp\\\\\\\\original\\\\\\\\Anjeer\\\\\\\\169Anjeer_07-20-2023-14-23-0587816_Focus_33.png', 'C:\\\\\\\\Users\\\\\\\\Zeeshan.khan\\\\\\\\vscode_projects\\\\\\\\self-checkout\\\\\\\\artifacts\\\\\\\\temp\\\\\\\\original\\\\\\\\Anjeer\\\\\\\\16Anjeer_07-20-2023-13-06-2966726_Focus_0.png', 'C:\\\\\\\\Users\\\\\\\\Zeeshan.khan\\\\\\\\vscode_projects\\\\\\\\self-checkout\\\\\\\\artifacts\\\\\\\\temp\\\\\\\\original\\\\\\\\Anjeer\\\\\\\\17Anjeer_07-20-2023-13-06-3693852_Focus_0.png', 'C:\\\\\\\\Users\\\\\\\\Zeeshan.khan\\\\\\\\vscode_projects\\\\\\\\self-checkout\\\\\\\\artifacts\\\\\\\\temp\\\\\\\\original\\\\\\\\Anjeer\\\\\\\\18Anjeer_07-20-2023-13-06-4185551_Focus_0.png', 'C:\\\\\\\\Users\\\\\\\\Zeeshan.khan\\\\\\\\vscode_projects\\\\\\\\self-checkout\\\\\\\\artifacts\\\\\\\\temp\\\\\\\\original\\\\\\\\Anjeer\\\\\\\\22Anjeer_07-20-2023-13-07-3993366_Focus_33.png', 'C:\\\\\\\\Users\\\\\\\\Zeeshan.khan\\\\\\\\vscode_projects\\\\\\\\self-checkout\\\\\\\\artifacts\\\\\\\\temp\\\\\\\\original\\\\\\\\Anjeer\\\\\\\\24Anjeer_07-20-2023-13-08-0351335_Focus_15.png', 'C:\\\\\\\\Users\\\\\\\\Zeeshan.khan\\\\\\\\vscode_projects\\\\\\\\self-checkout\\\\\\\\artifacts\\\\\\\\temp\\\\\\\\original\\\\\\\\Anjeer\\\\\\\\26Anjeer_07-20-2023-13-08-2063699_Focus_33.png', 'C:\\\\\\\\Users\\\\\\\\Zeeshan.khan\\\\\\\\vscode_projects\\\\\\\\self-checkout\\\\\\\\artifacts\\\\\\\\temp\\\\\\\\original\\\\\\\\Anjeer\\\\\\\\27Anjeer_07-20-2023-13-08-313119_Focus_15.png', 'C:\\\\\\\\Users\\\\\\\\Zeeshan.khan\\\\\\\\vscode_projects\\\\\\\\self-checkout\\\\\\\\artifacts\\\\\\\\temp\\\\\\\\original\\\\\\\\Anjeer\\\\\\\\28Anjeer_07-20-2023-13-08-4315578_Focus_0.png', 'C:\\\\\\\\Users\\\\\\\\Zeeshan.khan\\\\\\\\vscode_projects\\\\\\\\self-checkout\\\\\\\\artifacts\\\\\\\\temp\\\\\\\\original\\\\\\\\Anjeer\\\\\\\\29Anjeer_07-20-2023-13-08-5194582_Focus_0.png', 'C:\\\\\\\\Users\\\\\\\\Zeeshan.khan\\\\\\\\vscode_projects\\\\\\\\self-checkout\\\\\\\\artifacts\\\\\\\\temp\\\\\\\\original\\\\\\\\Anjeer\\\\\\\\2Anjeer_07-20-2023-12-57-3537066_Focus_0.png', 'C:\\\\\\\\Users\\\\\\\\Zeeshan.khan\\\\\\\\vscode_projects\\\\\\\\self-checkout\\\\\\\\artifacts\\\\\\\\temp\\\\\\\\original\\\\\\\\Anjeer\\\\\\\\30Anjeer_07-20-2023-13-09-0028223_Focus_0.png', 'C:\\\\\\\\Users\\\\\\\\Zeeshan.khan\\\\\\\\vscode_projects\\\\\\\\self-checkout\\\\\\\\artifacts\\\\\\\\temp\\\\\\\\original\\\\\\\\Anjeer\\\\\\\\31Anjeer_07-20-2023-13-09-0530553_Focus_0.png', 'C:\\\\\\\\Users\\\\\\\\Zeeshan.khan\\\\\\\\vscode_projects\\\\\\\\self-checkout\\\\\\\\artifacts\\\\\\\\temp\\\\\\\\original\\\\\\\\Anjeer\\\\\\\\32Anjeer_07-20-2023-13-09-1715889_Focus_0.png', 'C:\\\\\\\\Users\\\\\\\\Zeeshan.khan\\\\\\\\vscode_projects\\\\\\\\self-checkout\\\\\\\\artifacts\\\\\\\\temp\\\\\\\\original\\\\\\\\Anjeer\\\\\\\\33Anjeer_07-20-2023-13-09-2318726_Focus_33.png', 'C:\\\\\\\\Users\\\\\\\\Zeeshan.khan\\\\\\\\vscode_projects\\\\\\\\self-checkout\\\\\\\\artifacts\\\\\\\\temp\\\\\\\\original\\\\\\\\Anjeer\\\\\\\\34Anjeer_07-20-2023-13-09-3520583_Focus_33.png', 'C:\\\\\\\\Users\\\\\\\\Zeeshan.khan\\\\\\\\vscode_projects\\\\\\\\self-checkout\\\\\\\\artifacts\\\\\\\\temp\\\\\\\\original\\\\\\\\Anjeer\\\\\\\\36Anjeer_07-20-2023-13-12-1890903_Focus_0.png', 'C:\\\\\\\\Users\\\\\\\\Zeeshan.khan\\\\\\\\vscode_projects\\\\\\\\self-checkout\\\\\\\\artifacts\\\\\\\\temp\\\\\\\\original\\\\\\\\Anjeer\\\\\\\\37Anjeer_07-20-2023-13-12-3619288_Focus_15.png', 'C:\\\\\\\\Users\\\\\\\\Zeeshan.khan\\\\\\\\vscode_projects\\\\\\\\self-checkout\\\\\\\\artifacts\\\\\\\\temp\\\\\\\\original\\\\\\\\Anjeer\\\\\\\\38Anjeer_07-20-2023-13-12-5084358_Focus_33.png', 'C:\\\\\\\\Users\\\\\\\\Zeeshan.khan\\\\\\\\vscode_projects\\\\\\\\self-checkout\\\\\\\\artifacts\\\\\\\\temp\\\\\\\\original\\\\\\\\Anjeer\\\\\\\\3Anjeer_07-20-2023-12-58-0277874_Focus_0.png', 'C:\\\\\\\\Users\\\\\\\\Zeeshan.khan\\\\\\\\vscode_projects\\\\\\\\self-checkout\\\\\\\\artifacts\\\\\\\\temp\\\\\\\\original\\\\\\\\Anjeer\\\\\\\\40Anjeer_07-20-2023-13-13-4410370_Focus_0.png', 'C:\\\\\\\\Users\\\\\\\\Zeeshan.khan\\\\\\\\vscode_projects\\\\\\\\self-checkout\\\\\\\\artifacts\\\\\\\\temp\\\\\\\\original\\\\\\\\Anjeer\\\\\\\\4Anjeer_07-20-2023-13-03-048836_Focus_0.png', 'C:\\\\\\\\Users\\\\\\\\Zeeshan.khan\\\\\\\\vscode_projects\\\\\\\\self-checkout\\\\\\\\artifacts\\\\\\\\temp\\\\\\\\original\\\\\\\\Anjeer\\\\\\\\5Anjeer_07-20-2023-13-03-2793445_Focus_15.png', 'C:\\\\\\\\Users\\\\\\\\Zeeshan.khan\\\\\\\\vscode_projects\\\\\\\\self-checkout\\\\\\\\artifacts\\\\\\\\temp\\\\\\\\original\\\\\\\\Anjeer\\\\\\\\605Anjeer_08-16-2023-13-26-155925_Focus_33.png', 'C:\\\\\\\\Users\\\\\\\\Zeeshan.khan\\\\\\\\vscode_projects\\\\\\\\self-checkout\\\\\\\\artifacts\\\\\\\\temp\\\\\\\\original\\\\\\\\Anjeer\\\\\\\\606Anjeer_08-16-2023-13-26-2168917_Focus_33.png', 'C:\\\\\\\\Users\\\\\\\\Zeeshan.khan\\\\\\\\vscode_projects\\\\\\\\self-checkout\\\\\\\\artifacts\\\\\\\\temp\\\\\\\\original\\\\\\\\Anjeer\\\\\\\\607Anjeer_08-16-2023-13-26-2888984_Focus_15.png', 'C:\\\\\\\\Users\\\\\\\\Zeeshan.khan\\\\\\\\vscode_projects\\\\\\\\self-checkout\\\\\\\\artifacts\\\\\\\\temp\\\\\\\\original\\\\\\\\Anjeer\\\\\\\\607Anjeer_08-16-2023-13-26-2888984_Focus_33.png', 'C:\\\\\\\\Users\\\\\\\\Zeeshan.khan\\\\\\\\vscode_projects\\\\\\\\self-checkout\\\\\\\\artifacts\\\\\\\\temp\\\\\\\\original\\\\\\\\Anjeer\\\\\\\\608Anjeer_08-16-2023-13-26-3357830_Focus_0.png', 'C:\\\\\\\\Users\\\\\\\\Zeeshan.khan\\\\\\\\vscode_projects\\\\\\\\self-checkout\\\\\\\\artifacts\\\\\\\\temp\\\\\\\\original\\\\\\\\Anjeer\\\\\\\\609Anjeer_08-16-2023-13-26-4638163_Focus_0.png', 'C:\\\\\\\\Users\\\\\\\\Zeeshan.khan\\\\\\\\vscode_projects\\\\\\\\self-checkout\\\\\\\\artifacts\\\\\\\\temp\\\\\\\\original\\\\\\\\Anjeer\\\\\\\\610Anjeer_08-16-2023-13-26-5349775_Focus_0.png', 'C:\\\\\\\\Users\\\\\\\\Zeeshan.khan\\\\\\\\vscode_projects\\\\\\\\self-checkout\\\\\\\\artifacts\\\\\\\\temp\\\\\\\\original\\\\\\\\Anjeer\\\\\\\\611Anjeer_08-16-2023-13-27-0025951_Focus_33.png', 'C:\\\\\\\\Users\\\\\\\\Zeeshan.khan\\\\\\\\vscode_projects\\\\\\\\self-checkout\\\\\\\\artifacts\\\\\\\\temp\\\\\\\\original\\\\\\\\Anjeer\\\\\\\\612Anjeer_08-16-2023-13-27-0666549_Focus_0.png', 'C:\\\\\\\\Users\\\\\\\\Zeeshan.khan\\\\\\\\vscode_projects\\\\\\\\self-checkout\\\\\\\\artifacts\\\\\\\\temp\\\\\\\\original\\\\\\\\Anjeer\\\\\\\\614Anjeer_08-16-2023-14-23-1997285_Focus_0.png', 'C:\\\\\\\\Users\\\\\\\\Zeeshan.khan\\\\\\\\vscode_projects\\\\\\\\self-checkout\\\\\\\\artifacts\\\\\\\\temp\\\\\\\\original\\\\\\\\Anjeer\\\\\\\\615Anjeer_08-16-2023-14-23-2457008_Focus_0.png', 'C:\\\\\\\\Users\\\\\\\\Zeeshan.khan\\\\\\\\vscode_projects\\\\\\\\self-checkout\\\\\\\\artifacts\\\\\\\\temp\\\\\\\\original\\\\\\\\Anjeer\\\\\\\\616Anjeer_08-16-2023-14-23-2886086_Focus_0.png', 'C:\\\\\\\\Users\\\\\\\\Zeeshan.khan\\\\\\\\vscode_projects\\\\\\\\self-checkout\\\\\\\\artifacts\\\\\\\\temp\\\\\\\\original\\\\\\\\Anjeer\\\\\\\\617Anjeer_08-16-2023-14-23-3384853_Focus_15.png', 'C:\\\\\\\\Users\\\\\\\\Zeeshan.khan\\\\\\\\vscode_projects\\\\\\\\self-checkout\\\\\\\\artifacts\\\\\\\\temp\\\\\\\\original\\\\\\\\Anjeer\\\\\\\\618Anjeer_08-16-2023-14-23-3984983_Focus_15.png', 'C:\\\\\\\\Users\\\\\\\\Zeeshan.khan\\\\\\\\vscode_projects\\\\\\\\self-checkout\\\\\\\\artifacts\\\\\\\\temp\\\\\\\\original\\\\\\\\Anjeer\\\\\\\\619Anjeer_08-16-2023-14-23-4320427_Focus_15.png', 'C:\\\\\\\\Users\\\\\\\\Zeeshan.khan\\\\\\\\vscode_projects\\\\\\\\self-checkout\\\\\\\\artifacts\\\\\\\\temp\\\\\\\\original\\\\\\\\Anjeer\\\\\\\\620Anjeer_08-16-2023-14-23-4767434_Focus_15.png', 'C:\\\\\\\\Users\\\\\\\\Zeeshan.khan\\\\\\\\vscode_projects\\\\\\\\self-checkout\\\\\\\\artifacts\\\\\\\\temp\\\\\\\\original\\\\\\\\Anjeer\\\\\\\\621Anjeer_08-16-2023-14-23-5282042_Focus_0.png', 'C:\\\\\\\\Users\\\\\\\\Zeeshan.khan\\\\\\\\vscode_projects\\\\\\\\self-checkout\\\\\\\\artifacts\\\\\\\\temp\\\\\\\\original\\\\\\\\Anjeer\\\\\\\\622Anjeer_08-16-2023-14-23-5883976_Focus_0.png', 'C:\\\\\\\\Users\\\\\\\\Zeeshan.khan\\\\\\\\vscode_projects\\\\\\\\self-checkout\\\\\\\\artifacts\\\\\\\\temp\\\\\\\\original\\\\\\\\Anjeer\\\\\\\\623Anjeer_08-16-2023-14-24-0449806_Focus_0.png', 'C:\\\\\\\\Users\\\\\\\\Zeeshan.khan\\\\\\\\vscode_projects\\\\\\\\self-checkout\\\\\\\\artifacts\\\\\\\\temp\\\\\\\\original\\\\\\\\Anjeer\\\\\\\\624Anjeer_08-16-2023-14-24-1185911_Focus_0.png', 'C:\\\\\\\\Users\\\\\\\\Zeeshan.khan\\\\\\\\vscode_projects\\\\\\\\self-checkout\\\\\\\\artifacts\\\\\\\\temp\\\\\\\\original\\\\\\\\Anjeer\\\\\\\\625Anjeer_08-16-2023-14-24-1757357_Focus_0.png', 'C:\\\\\\\\Users\\\\\\\\Zeeshan.khan\\\\\\\\vscode_projects\\\\\\\\self-checkout\\\\\\\\artifacts\\\\\\\\temp\\\\\\\\original\\\\\\\\Anjeer\\\\\\\\626Anjeer_08-16-2023-14-24-254466_Focus_0.png', 'C:\\\\\\\\Users\\\\\\\\Zeeshan.khan\\\\\\\\vscode_projects\\\\\\\\self-checkout\\\\\\\\artifacts\\\\\\\\temp\\\\\\\\original\\\\\\\\Anjeer\\\\\\\\627Anjeer_08-16-2023-14-24-3144865_Focus_0.png', 'C:\\\\\\\\Users\\\\\\\\Zeeshan.khan\\\\\\\\vscode_projects\\\\\\\\self-checkout\\\\\\\\artifacts\\\\\\\\temp\\\\\\\\original\\\\\\\\Anjeer\\\\\\\\628Anjeer_08-16-2023-14-24-4547910_Focus_0.png', 'C:\\\\\\\\Users\\\\\\\\Zeeshan.khan\\\\\\\\vscode_projects\\\\\\\\self-checkout\\\\\\\\artifacts\\\\\\\\temp\\\\\\\\original\\\\\\\\Anjeer\\\\\\\\629Anjeer_08-16-2023-14-24-5052876_Focus_33.png', 'C:\\\\\\\\Users\\\\\\\\Zeeshan.khan\\\\\\\\vscode_projects\\\\\\\\self-checkout\\\\\\\\artifacts\\\\\\\\temp\\\\\\\\original\\\\\\\\Anjeer\\\\\\\\630Anjeer_08-16-2023-14-24-5793135_Focus_33.png', 'C:\\\\\\\\Users\\\\\\\\Zeeshan.khan\\\\\\\\vscode_projects\\\\\\\\self-checkout\\\\\\\\artifacts\\\\\\\\temp\\\\\\\\original\\\\\\\\Anjeer\\\\\\\\631Anjeer_08-16-2023-14-25-031293_Focus_33.png', 'C:\\\\\\\\Users\\\\\\\\Zeeshan.khan\\\\\\\\vscode_projects\\\\\\\\self-checkout\\\\\\\\artifacts\\\\\\\\temp\\\\\\\\original\\\\\\\\Anjeer\\\\\\\\632Anjeer_08-16-2023-14-25-0942203_Focus_33.png', 'C:\\\\\\\\Users\\\\\\\\Zeeshan.khan\\\\\\\\vscode_projects\\\\\\\\self-checkout\\\\\\\\artifacts\\\\\\\\temp\\\\\\\\original\\\\\\\\Anjeer\\\\\\\\633Anjeer_08-16-2023-14-25-1529512_Focus_0.png', 'C:\\\\\\\\Users\\\\\\\\Zeeshan.khan\\\\\\\\vscode_projects\\\\\\\\self-checkout\\\\\\\\artifacts\\\\\\\\temp\\\\\\\\original\\\\\\\\Anjeer\\\\\\\\635Anjeer_08-16-2023-14-25-2676055_Focus_15.png', 'C:\\\\\\\\Users\\\\\\\\Zeeshan.khan\\\\\\\\vscode_projects\\\\\\\\self-checkout\\\\\\\\artifacts\\\\\\\\temp\\\\\\\\original\\\\\\\\Anjeer\\\\\\\\636Anjeer_08-16-2023-14-25-3225297_Focus_0.png', 'C:\\\\\\\\Users\\\\\\\\Zeeshan.khan\\\\\\\\vscode_projects\\\\\\\\self-checkout\\\\\\\\artifacts\\\\\\\\temp\\\\\\\\original\\\\\\\\Anjeer\\\\\\\\637Anjeer_08-16-2023-14-25-3867079_Focus_0.png', 'C:\\\\\\\\Users\\\\\\\\Zeeshan.khan\\\\\\\\vscode_projects\\\\\\\\self-checkout\\\\\\\\artifacts\\\\\\\\temp\\\\\\\\original\\\\\\\\Anjeer\\\\\\\\638Anjeer_08-16-2023-14-25-4430021_Focus_33.png', 'C:\\\\\\\\Users\\\\\\\\Zeeshan.khan\\\\\\\\vscode_projects\\\\\\\\self-checkout\\\\\\\\artifacts\\\\\\\\temp\\\\\\\\original\\\\\\\\Anjeer\\\\\\\\639Anjeer_08-16-2023-14-25-4951393_Focus_33.png', 'C:\\\\\\\\Users\\\\\\\\Zeeshan.khan\\\\\\\\vscode_projects\\\\\\\\self-checkout\\\\\\\\artifacts\\\\\\\\temp\\\\\\\\original\\\\\\\\Anjeer\\\\\\\\640Anjeer_08-16-2023-14-25-5478927_Focus_33.png', 'C:\\\\\\\\Users\\\\\\\\Zeeshan.khan\\\\\\\\vscode_projects\\\\\\\\self-checkout\\\\\\\\artifacts\\\\\\\\temp\\\\\\\\original\\\\\\\\Anjeer\\\\\\\\641Anjeer_08-16-2023-14-25-5971391_Focus_33.png', 'C:\\\\\\\\Users\\\\\\\\Zeeshan.khan\\\\\\\\vscode_projects\\\\\\\\self-checkout\\\\\\\\artifacts\\\\\\\\temp\\\\\\\\original\\\\\\\\Anjeer\\\\\\\\642Anjeer_08-16-2023-14-26-0427763_Focus_33.png', 'C:\\\\\\\\Users\\\\\\\\Zeeshan.khan\\\\\\\\vscode_projects\\\\\\\\self-checkout\\\\\\\\artifacts\\\\\\\\temp\\\\\\\\original\\\\\\\\Anjeer\\\\\\\\643Anjeer_08-16-2023-14-26-103245_Focus_33.png', 'C:\\\\\\\\Users\\\\\\\\Zeeshan.khan\\\\\\\\vscode_projects\\\\\\\\self-checkout\\\\\\\\artifacts\\\\\\\\temp\\\\\\\\original\\\\\\\\Anjeer\\\\\\\\644Anjeer_08-16-2023-14-26-1872785_Focus_33.png', 'C:\\\\\\\\Users\\\\\\\\Zeeshan.khan\\\\\\\\vscode_projects\\\\\\\\self-checkout\\\\\\\\artifacts\\\\\\\\temp\\\\\\\\original\\\\\\\\Anjeer\\\\\\\\645Anjeer_08-16-2023-14-26-3748505_Focus_33.png', 'C:\\\\\\\\Users\\\\\\\\Zeeshan.khan\\\\\\\\vscode_projects\\\\\\\\self-checkout\\\\\\\\artifacts\\\\\\\\temp\\\\\\\\original\\\\\\\\Anjeer\\\\\\\\646Anjeer_08-16-2023-14-26-4633555_Focus_33.png', 'C:\\\\\\\\Users\\\\\\\\Zeeshan.khan\\\\\\\\vscode_projects\\\\\\\\self-checkout\\\\\\\\artifacts\\\\\\\\temp\\\\\\\\original\\\\\\\\Anjeer\\\\\\\\647Anjeer_08-16-2023-14-26-5424140_Focus_15.png', 'C:\\\\\\\\Users\\\\\\\\Zeeshan.khan\\\\\\\\vscode_projects\\\\\\\\self-checkout\\\\\\\\artifacts\\\\\\\\temp\\\\\\\\original\\\\\\\\Anjeer\\\\\\\\648Anjeer_08-16-2023-14-27-0151200_Focus_0.png', 'C:\\\\\\\\Users\\\\\\\\Zeeshan.khan\\\\\\\\vscode_projects\\\\\\\\self-checkout\\\\\\\\artifacts\\\\\\\\temp\\\\\\\\original\\\\\\\\Anjeer\\\\\\\\649Anjeer_08-16-2023-14-27-0874356_Focus_0.png', 'C:\\\\\\\\Users\\\\\\\\Zeeshan.khan\\\\\\\\vscode_projects\\\\\\\\self-checkout\\\\\\\\artifacts\\\\\\\\temp\\\\\\\\original\\\\\\\\Anjeer\\\\\\\\650Anjeer_08-16-2023-14-27-1479931_Focus_0.png', 'C:\\\\\\\\Users\\\\\\\\Zeeshan.khan\\\\\\\\vscode_projects\\\\\\\\self-checkout\\\\\\\\artifacts\\\\\\\\temp\\\\\\\\original\\\\\\\\Anjeer\\\\\\\\651Anjeer_08-16-2023-14-27-2231086_Focus_33.png', 'C:\\\\\\\\Users\\\\\\\\Zeeshan.khan\\\\\\\\vscode_projects\\\\\\\\self-checkout\\\\\\\\artifacts\\\\\\\\temp\\\\\\\\original\\\\\\\\Anjeer\\\\\\\\652Anjeer_08-16-2023-14-27-2967538_Focus_33.png', 'C:\\\\\\\\Users\\\\\\\\Zeeshan.khan\\\\\\\\vscode_projects\\\\\\\\self-checkout\\\\\\\\artifacts\\\\\\\\temp\\\\\\\\original\\\\\\\\Anjeer\\\\\\\\653Anjeer_08-16-2023-14-27-5780125_Focus_33.png', 'C:\\\\\\\\Users\\\\\\\\Zeeshan.khan\\\\\\\\vscode_projects\\\\\\\\self-checkout\\\\\\\\artifacts\\\\\\\\temp\\\\\\\\original\\\\\\\\Anjeer\\\\\\\\654Anjeer_08-16-2023-14-28-052950_Focus_33.png', 'C:\\\\\\\\Users\\\\\\\\Zeeshan.khan\\\\\\\\vscode_projects\\\\\\\\self-checkout\\\\\\\\artifacts\\\\\\\\temp\\\\\\\\original\\\\\\\\Anjeer\\\\\\\\655Anjeer_08-16-2023-14-28-1448699_Focus_33.png', 'C:\\\\\\\\Users\\\\\\\\Zeeshan.khan\\\\\\\\vscode_projects\\\\\\\\self-checkout\\\\\\\\artifacts\\\\\\\\temp\\\\\\\\original\\\\\\\\Anjeer\\\\\\\\656Anjeer_08-16-2023-14-28-2092899_Focus_33.png', 'C:\\\\\\\\Users\\\\\\\\Zeeshan.khan\\\\\\\\vscode_projects\\\\\\\\self-checkout\\\\\\\\artifacts\\\\\\\\temp\\\\\\\\original\\\\\\\\Anjeer\\\\\\\\657Anjeer_08-16-2023-14-28-2836035_Focus_33.png', 'C:\\\\\\\\Users\\\\\\\\Zeeshan.khan\\\\\\\\vscode_projects\\\\\\\\self-checkout\\\\\\\\artifacts\\\\\\\\temp\\\\\\\\original\\\\\\\\Anjeer\\\\\\\\658Anjeer_08-16-2023-14-28-3461305_Focus_33.png', 'C:\\\\\\\\Users\\\\\\\\Zeeshan.khan\\\\\\\\vscode_projects\\\\\\\\self-checkout\\\\\\\\artifacts\\\\\\\\temp\\\\\\\\original\\\\\\\\Anjeer\\\\\\\\659Anjeer_08-16-2023-14-28-4468585_Focus_33.png', 'C:\\\\\\\\Users\\\\\\\\Zeeshan.khan\\\\\\\\vscode_projects\\\\\\\\self-checkout\\\\\\\\artifacts\\\\\\\\temp\\\\\\\\original\\\\\\\\Anjeer\\\\\\\\660Anjeer_08-16-2023-14-28-5449511_Focus_33.png', 'C:\\\\\\\\Users\\\\\\\\Zeeshan.khan\\\\\\\\vscode_projects\\\\\\\\self-checkout\\\\\\\\artifacts\\\\\\\\temp\\\\\\\\original\\\\\\\\Anjeer\\\\\\\\661Anjeer_08-16-2023-14-29-0241306_Focus_33.png', 'C:\\\\\\\\Users\\\\\\\\Zeeshan.khan\\\\\\\\vscode_projects\\\\\\\\self-checkout\\\\\\\\artifacts\\\\\\\\temp\\\\\\\\original\\\\\\\\Anjeer\\\\\\\\662Anjeer_08-16-2023-14-29-0921054_Focus_33.png', 'C:\\\\\\\\Users\\\\\\\\Zeeshan.khan\\\\\\\\vscode_projects\\\\\\\\self-checkout\\\\\\\\artifacts\\\\\\\\temp\\\\\\\\original\\\\\\\\Anjeer\\\\\\\\663Anjeer_08-16-2023-14-29-1890985_Focus_33.png', 'C:\\\\\\\\Users\\\\\\\\Zeeshan.khan\\\\\\\\vscode_projects\\\\\\\\self-checkout\\\\\\\\artifacts\\\\\\\\temp\\\\\\\\original\\\\\\\\Anjeer\\\\\\\\664Anjeer_08-16-2023-14-29-2663850_Focus_33.png', 'C:\\\\\\\\Users\\\\\\\\Zeeshan.khan\\\\\\\\vscode_projects\\\\\\\\self-checkout\\\\\\\\artifacts\\\\\\\\temp\\\\\\\\original\\\\\\\\Anjeer\\\\\\\\665Anjeer_08-16-2023-14-29-3366059_Focus_15.png', 'C:\\\\\\\\Users\\\\\\\\Zeeshan.khan\\\\\\\\vscode_projects\\\\\\\\self-checkout\\\\\\\\artifacts\\\\\\\\temp\\\\\\\\original\\\\\\\\Anjeer\\\\\\\\666Anjeer_08-16-2023-14-29-3890297_Focus_15.png', 'C:\\\\\\\\Users\\\\\\\\Zeeshan.khan\\\\\\\\vscode_projects\\\\\\\\self-checkout\\\\\\\\artifacts\\\\\\\\temp\\\\\\\\original\\\\\\\\Anjeer\\\\\\\\667Anjeer_08-16-2023-14-29-4387502_Focus_0.png', 'C:\\\\\\\\Users\\\\\\\\Zeeshan.khan\\\\\\\\vscode_projects\\\\\\\\self-checkout\\\\\\\\artifacts\\\\\\\\temp\\\\\\\\original\\\\\\\\Anjeer\\\\\\\\668Anjeer_08-16-2023-14-29-5188252_Focus_33.png', 'C:\\\\\\\\Users\\\\\\\\Zeeshan.khan\\\\\\\\vscode_projects\\\\\\\\self-checkout\\\\\\\\artifacts\\\\\\\\temp\\\\\\\\original\\\\\\\\Anjeer\\\\\\\\669Anjeer_08-16-2023-14-29-5651204_Focus_15.png', 'C:\\\\\\\\Users\\\\\\\\Zeeshan.khan\\\\\\\\vscode_projects\\\\\\\\self-checkout\\\\\\\\artifacts\\\\\\\\temp\\\\\\\\original\\\\\\\\Anjeer\\\\\\\\670Anjeer_08-16-2023-14-30-0390944_Focus_15.png', 'C:\\\\\\\\Users\\\\\\\\Zeeshan.khan\\\\\\\\vscode_projects\\\\\\\\self-checkout\\\\\\\\artifacts\\\\\\\\temp\\\\\\\\original\\\\\\\\Anjeer\\\\\\\\671Anjeer_08-16-2023-14-30-0951704_Focus_15.png', 'C:\\\\\\\\Users\\\\\\\\Zeeshan.khan\\\\\\\\vscode_projects\\\\\\\\self-checkout\\\\\\\\artifacts\\\\\\\\temp\\\\\\\\original\\\\\\\\Anjeer\\\\\\\\672Anjeer_08-16-2023-14-30-2658498_Focus_0.png', 'C:\\\\\\\\Users\\\\\\\\Zeeshan.khan\\\\\\\\vscode_projects\\\\\\\\self-checkout\\\\\\\\artifacts\\\\\\\\temp\\\\\\\\original\\\\\\\\Anjeer\\\\\\\\673Anjeer_08-16-2023-14-30-3780485_Focus_33.png', 'C:\\\\\\\\Users\\\\\\\\Zeeshan.khan\\\\\\\\vscode_projects\\\\\\\\self-checkout\\\\\\\\artifacts\\\\\\\\temp\\\\\\\\original\\\\\\\\Anjeer\\\\\\\\674Anjeer_08-16-2023-14-30-4238882_Focus_33.png', 'C:\\\\\\\\Users\\\\\\\\Zeeshan.khan\\\\\\\\vscode_projects\\\\\\\\self-checkout\\\\\\\\artifacts\\\\\\\\temp\\\\\\\\original\\\\\\\\Anjeer\\\\\\\\675Anjeer_08-16-2023-14-30-5156576_Focus_15.png', 'C:\\\\\\\\Users\\\\\\\\Zeeshan.khan\\\\\\\\vscode_projects\\\\\\\\self-checkout\\\\\\\\artifacts\\\\\\\\temp\\\\\\\\original\\\\\\\\Anjeer\\\\\\\\676Anjeer_08-16-2023-14-30-5730959_Focus_0.png', 'C:\\\\\\\\Users\\\\\\\\Zeeshan.khan\\\\\\\\vscode_projects\\\\\\\\self-checkout\\\\\\\\artifacts\\\\\\\\temp\\\\\\\\original\\\\\\\\Anjeer\\\\\\\\677Anjeer_08-16-2023-14-31-1414595_Focus_0.png', 'C:\\\\\\\\Users\\\\\\\\Zeeshan.khan\\\\\\\\vscode_projects\\\\\\\\self-checkout\\\\\\\\artifacts\\\\\\\\temp\\\\\\\\original\\\\\\\\Anjeer\\\\\\\\678Anjeer_08-16-2023-14-31-2470333_Focus_0.png', 'C:\\\\\\\\Users\\\\\\\\Zeeshan.khan\\\\\\\\vscode_projects\\\\\\\\self-checkout\\\\\\\\artifacts\\\\\\\\temp\\\\\\\\original\\\\\\\\Anjeer\\\\\\\\679Anjeer_08-16-2023-14-31-3352168_Focus_0.png', 'C:\\\\\\\\Users\\\\\\\\Zeeshan.khan\\\\\\\\vscode_projects\\\\\\\\self-checkout\\\\\\\\artifacts\\\\\\\\temp\\\\\\\\original\\\\\\\\Anjeer\\\\\\\\679Anjeer_08-16-2023-14-31-3352168_Focus_33.png', 'C:\\\\\\\\Users\\\\\\\\Zeeshan.khan\\\\\\\\vscode_projects\\\\\\\\self-checkout\\\\\\\\artifacts\\\\\\\\temp\\\\\\\\original\\\\\\\\Anjeer\\\\\\\\680Anjeer_08-16-2023-14-31-4537327_Focus_33.png', 'C:\\\\\\\\Users\\\\\\\\Zeeshan.khan\\\\\\\\vscode_projects\\\\\\\\self-checkout\\\\\\\\artifacts\\\\\\\\temp\\\\\\\\original\\\\\\\\Anjeer\\\\\\\\681Anjeer_08-16-2023-14-31-5320104_Focus_33.png', 'C:\\\\\\\\Users\\\\\\\\Zeeshan.khan\\\\\\\\vscode_projects\\\\\\\\self-checkout\\\\\\\\artifacts\\\\\\\\temp\\\\\\\\original\\\\\\\\Anjeer\\\\\\\\682Anjeer_08-16-2023-14-32-0429317_Focus_33.png', 'C:\\\\\\\\Users\\\\\\\\Zeeshan.khan\\\\\\\\vscode_projects\\\\\\\\self-checkout\\\\\\\\artifacts\\\\\\\\temp\\\\\\\\original\\\\\\\\Anjeer\\\\\\\\683Anjeer_08-16-2023-14-32-1319345_Focus_33.png', 'C:\\\\\\\\Users\\\\\\\\Zeeshan.khan\\\\\\\\vscode_projects\\\\\\\\self-checkout\\\\\\\\artifacts\\\\\\\\temp\\\\\\\\original\\\\\\\\Anjeer\\\\\\\\684Anjeer_08-16-2023-14-32-2311587_Focus_33.png', 'C:\\\\\\\\Users\\\\\\\\Zeeshan.khan\\\\\\\\vscode_projects\\\\\\\\self-checkout\\\\\\\\artifacts\\\\\\\\temp\\\\\\\\original\\\\\\\\Anjeer\\\\\\\\685Anjeer_08-16-2023-14-32-3262434_Focus_33.png', 'C:\\\\\\\\Users\\\\\\\\Zeeshan.khan\\\\\\\\vscode_projects\\\\\\\\self-checkout\\\\\\\\artifacts\\\\\\\\temp\\\\\\\\original\\\\\\\\Anjeer\\\\\\\\686Anjeer_08-16-2023-14-32-446029_Focus_15.png', 'C:\\\\\\\\Users\\\\\\\\Zeeshan.khan\\\\\\\\vscode_projects\\\\\\\\self-checkout\\\\\\\\artifacts\\\\\\\\temp\\\\\\\\original\\\\\\\\Anjeer\\\\\\\\687Anjeer_08-16-2023-14-32-5364908_Focus_15.png', 'C:\\\\\\\\Users\\\\\\\\Zeeshan.khan\\\\\\\\vscode_projects\\\\\\\\self-checkout\\\\\\\\artifacts\\\\\\\\temp\\\\\\\\original\\\\\\\\Anjeer\\\\\\\\688Anjeer_08-16-2023-14-33-0629993_Focus_0.png', 'C:\\\\\\\\Users\\\\\\\\Zeeshan.khan\\\\\\\\vscode_projects\\\\\\\\self-checkout\\\\\\\\artifacts\\\\\\\\temp\\\\\\\\original\\\\\\\\Anjeer\\\\\\\\689Anjeer_08-16-2023-14-33-1890620_Focus_0.png', 'C:\\\\\\\\Users\\\\\\\\Zeeshan.khan\\\\\\\\vscode_projects\\\\\\\\self-checkout\\\\\\\\artifacts\\\\\\\\temp\\\\\\\\original\\\\\\\\Anjeer\\\\\\\\690Anjeer_08-16-2023-14-33-3082992_Focus_0.png', 'C:\\\\\\\\Users\\\\\\\\Zeeshan.khan\\\\\\\\vscode_projects\\\\\\\\self-checkout\\\\\\\\artifacts\\\\\\\\temp\\\\\\\\original\\\\\\\\Anjeer\\\\\\\\691Anjeer_08-16-2023-14-33-3918516_Focus_0.png', 'C:\\\\\\\\Users\\\\\\\\Zeeshan.khan\\\\\\\\vscode_projects\\\\\\\\self-checkout\\\\\\\\artifacts\\\\\\\\temp\\\\\\\\original\\\\\\\\Anjeer\\\\\\\\692Anjeer_08-16-2023-14-34-0677234_Focus_0.png', 'C:\\\\\\\\Users\\\\\\\\Zeeshan.khan\\\\\\\\vscode_projects\\\\\\\\self-checkout\\\\\\\\artifacts\\\\\\\\temp\\\\\\\\original\\\\\\\\Anjeer\\\\\\\\693Anjeer_08-16-2023-14-34-1255849_Focus_0.png', 'C:\\\\\\\\Users\\\\\\\\Zeeshan.khan\\\\\\\\vscode_projects\\\\\\\\self-checkout\\\\\\\\artifacts\\\\\\\\temp\\\\\\\\original\\\\\\\\Anjeer\\\\\\\\694Anjeer_08-16-2023-14-34-1726505_Focus_0.png', 'C:\\\\\\\\Users\\\\\\\\Zeeshan.khan\\\\\\\\vscode_projects\\\\\\\\self-checkout\\\\\\\\artifacts\\\\\\\\temp\\\\\\\\original\\\\\\\\Anjeer\\\\\\\\695Anjeer_08-16-2023-14-34-3039285_Focus_0.png', 'C:\\\\\\\\Users\\\\\\\\Zeeshan.khan\\\\\\\\vscode_projects\\\\\\\\self-checkout\\\\\\\\artifacts\\\\\\\\temp\\\\\\\\original\\\\\\\\Anjeer\\\\\\\\696Anjeer_08-16-2023-14-34-4457411_Focus_33.png', 'C:\\\\\\\\Users\\\\\\\\Zeeshan.khan\\\\\\\\vscode_projects\\\\\\\\self-checkout\\\\\\\\artifacts\\\\\\\\temp\\\\\\\\original\\\\\\\\Anjeer\\\\\\\\697Anjeer_08-16-2023-14-35-0077572_Focus_33.png', 'C:\\\\\\\\Users\\\\\\\\Zeeshan.khan\\\\\\\\vscode_projects\\\\\\\\self-checkout\\\\\\\\artifacts\\\\\\\\temp\\\\\\\\original\\\\\\\\Anjeer\\\\\\\\698Anjeer_08-16-2023-14-35-0621674_Focus_33.png', 'C:\\\\\\\\Users\\\\\\\\Zeeshan.khan\\\\\\\\vscode_projects\\\\\\\\self-checkout\\\\\\\\artifacts\\\\\\\\temp\\\\\\\\original\\\\\\\\Anjeer\\\\\\\\699Anjeer_08-16-2023-14-35-302545_Focus_33.png', 'C:\\\\\\\\Users\\\\\\\\Zeeshan.khan\\\\\\\\vscode_projects\\\\\\\\self-checkout\\\\\\\\artifacts\\\\\\\\temp\\\\\\\\original\\\\\\\\Anjeer\\\\\\\\6Anjeer_07-20-2023-13-03-3660780_Focus_33.png', 'C:\\\\\\\\Users\\\\\\\\Zeeshan.khan\\\\\\\\vscode_projects\\\\\\\\self-checkout\\\\\\\\artifacts\\\\\\\\temp\\\\\\\\original\\\\\\\\Anjeer\\\\\\\\700Anjeer_08-16-2023-14-35-3984138_Focus_33.png', 'C:\\\\\\\\Users\\\\\\\\Zeeshan.khan\\\\\\\\vscode_projects\\\\\\\\self-checkout\\\\\\\\artifacts\\\\\\\\temp\\\\\\\\original\\\\\\\\Anjeer\\\\\\\\701Anjeer_08-16-2023-14-35-4619407_Focus_15.png', 'C:\\\\\\\\Users\\\\\\\\Zeeshan.khan\\\\\\\\vscode_projects\\\\\\\\self-checkout\\\\\\\\artifacts\\\\\\\\temp\\\\\\\\original\\\\\\\\Anjeer\\\\\\\\702Anjeer_08-16-2023-14-35-5228772_Focus_15.png', 'C:\\\\\\\\Users\\\\\\\\Zeeshan.khan\\\\\\\\vscode_projects\\\\\\\\self-checkout\\\\\\\\artifacts\\\\\\\\temp\\\\\\\\original\\\\\\\\Anjeer\\\\\\\\702Anjeer_08-16-2023-14-35-5228772_Focus_33.png', 'C:\\\\\\\\Users\\\\\\\\Zeeshan.khan\\\\\\\\vscode_projects\\\\\\\\self-checkout\\\\\\\\artifacts\\\\\\\\temp\\\\\\\\original\\\\\\\\Anjeer\\\\\\\\703Anjeer_08-16-2023-14-35-5880335_Focus_33.png', 'C:\\\\\\\\Users\\\\\\\\Zeeshan.khan\\\\\\\\vscode_projects\\\\\\\\self-checkout\\\\\\\\artifacts\\\\\\\\temp\\\\\\\\original\\\\\\\\Anjeer\\\\\\\\704Anjeer_08-16-2023-14-36-0480586_Focus_33.png', 'C:\\\\\\\\Users\\\\\\\\Zeeshan.khan\\\\\\\\vscode_projects\\\\\\\\self-checkout\\\\\\\\artifacts\\\\\\\\temp\\\\\\\\original\\\\\\\\Anjeer\\\\\\\\705Anjeer_08-16-2023-14-36-1594992_Focus_33.png', 'C:\\\\\\\\Users\\\\\\\\Zeeshan.khan\\\\\\\\vscode_projects\\\\\\\\self-checkout\\\\\\\\artifacts\\\\\\\\temp\\\\\\\\original\\\\\\\\Anjeer\\\\\\\\706Anjeer_08-16-2023-14-36-2322372_Focus_0.png', 'C:\\\\\\\\Users\\\\\\\\Zeeshan.khan\\\\\\\\vscode_projects\\\\\\\\self-checkout\\\\\\\\artifacts\\\\\\\\temp\\\\\\\\original\\\\\\\\Anjeer\\\\\\\\707Anjeer_08-16-2023-14-36-2961465_Focus_0.png', 'C:\\\\\\\\Users\\\\\\\\Zeeshan.khan\\\\\\\\vscode_projects\\\\\\\\self-checkout\\\\\\\\artifacts\\\\\\\\temp\\\\\\\\original\\\\\\\\Anjeer\\\\\\\\708Anjeer_08-16-2023-14-36-4692871_Focus_0.png', 'C:\\\\\\\\Users\\\\\\\\Zeeshan.khan\\\\\\\\vscode_projects\\\\\\\\self-checkout\\\\\\\\artifacts\\\\\\\\temp\\\\\\\\original\\\\\\\\Anjeer\\\\\\\\709Anjeer_08-16-2023-14-36-5152913_Focus_0.png', 'C:\\\\\\\\Users\\\\\\\\Zeeshan.khan\\\\\\\\vscode_projects\\\\\\\\self-checkout\\\\\\\\artifacts\\\\\\\\temp\\\\\\\\original\\\\\\\\Anjeer\\\\\\\\710Anjeer_08-16-2023-14-36-5830179_Focus_0.png', 'C:\\\\\\\\Users\\\\\\\\Zeeshan.khan\\\\\\\\vscode_projects\\\\\\\\self-checkout\\\\\\\\artifacts\\\\\\\\temp\\\\\\\\original\\\\\\\\Anjeer\\\\\\\\711Anjeer_08-16-2023-14-37-0676192_Focus_0.png', 'C:\\\\\\\\Users\\\\\\\\Zeeshan.khan\\\\\\\\vscode_projects\\\\\\\\self-checkout\\\\\\\\artifacts\\\\\\\\temp\\\\\\\\original\\\\\\\\Anjeer\\\\\\\\712Anjeer_08-16-2023-14-37-1389777_Focus_0.png', 'C:\\\\\\\\Users\\\\\\\\Zeeshan.khan\\\\\\\\vscode_projects\\\\\\\\self-checkout\\\\\\\\artifacts\\\\\\\\temp\\\\\\\\original\\\\\\\\Anjeer\\\\\\\\713Anjeer_08-16-2023-14-37-1989892_Focus_0.png', 'C:\\\\\\\\Users\\\\\\\\Zeeshan.khan\\\\\\\\vscode_projects\\\\\\\\self-checkout\\\\\\\\artifacts\\\\\\\\temp\\\\\\\\original\\\\\\\\Anjeer\\\\\\\\714Anjeer_08-16-2023-14-39-3979438_Focus_0.png', 'C:\\\\\\\\Users\\\\\\\\Zeeshan.khan\\\\\\\\vscode_projects\\\\\\\\self-checkout\\\\\\\\artifacts\\\\\\\\temp\\\\\\\\original\\\\\\\\Anjeer\\\\\\\\715Anjeer_08-16-2023-14-39-5416933_Focus_0.png', 'C:\\\\\\\\Users\\\\\\\\Zeeshan.khan\\\\\\\\vscode_projects\\\\\\\\self-checkout\\\\\\\\artifacts\\\\\\\\temp\\\\\\\\original\\\\\\\\Anjeer\\\\\\\\716Anjeer_08-16-2023-14-40-0158669_Focus_0.png', 'C:\\\\\\\\Users\\\\\\\\Zeeshan.khan\\\\\\\\vscode_projects\\\\\\\\self-checkout\\\\\\\\artifacts\\\\\\\\temp\\\\\\\\original\\\\\\\\Anjeer\\\\\\\\717Anjeer_08-16-2023-14-40-1033137_Focus_33.png', 'C:\\\\\\\\Users\\\\\\\\Zeeshan.khan\\\\\\\\vscode_projects\\\\\\\\self-checkout\\\\\\\\artifacts\\\\\\\\temp\\\\\\\\original\\\\\\\\Anjeer\\\\\\\\718Anjeer_08-16-2023-14-40-1826635_Focus_33.png', 'C:\\\\\\\\Users\\\\\\\\Zeeshan.khan\\\\\\\\vscode_projects\\\\\\\\self-checkout\\\\\\\\artifacts\\\\\\\\temp\\\\\\\\original\\\\\\\\Anjeer\\\\\\\\719Anjeer_08-16-2023-14-40-2424982_Focus_33.png', 'C:\\\\\\\\Users\\\\\\\\Zeeshan.khan\\\\\\\\vscode_projects\\\\\\\\self-checkout\\\\\\\\artifacts\\\\\\\\temp\\\\\\\\original\\\\\\\\Anjeer\\\\\\\\720Anjeer_08-16-2023-14-40-3095707_Focus_33.png', 'C:\\\\\\\\Users\\\\\\\\Zeeshan.khan\\\\\\\\vscode_projects\\\\\\\\self-checkout\\\\\\\\artifacts\\\\\\\\temp\\\\\\\\original\\\\\\\\Anjeer\\\\\\\\721Anjeer_08-16-2023-14-40-3820266_Focus_33.png', 'C:\\\\\\\\Users\\\\\\\\Zeeshan.khan\\\\\\\\vscode_projects\\\\\\\\self-checkout\\\\\\\\artifacts\\\\\\\\temp\\\\\\\\original\\\\\\\\Anjeer\\\\\\\\722Anjeer_08-16-2023-14-40-4412551_Focus_33.png', 'C:\\\\\\\\Users\\\\\\\\Zeeshan.khan\\\\\\\\vscode_projects\\\\\\\\self-checkout\\\\\\\\artifacts\\\\\\\\temp\\\\\\\\original\\\\\\\\Anjeer\\\\\\\\723Anjeer_08-16-2023-14-40-491924_Focus_33.png', 'C:\\\\\\\\Users\\\\\\\\Zeeshan.khan\\\\\\\\vscode_projects\\\\\\\\self-checkout\\\\\\\\artifacts\\\\\\\\temp\\\\\\\\original\\\\\\\\Anjeer\\\\\\\\724Anjeer_08-16-2023-14-40-5466215_Focus_33.png', 'C:\\\\\\\\Users\\\\\\\\Zeeshan.khan\\\\\\\\vscode_projects\\\\\\\\self-checkout\\\\\\\\artifacts\\\\\\\\temp\\\\\\\\original\\\\\\\\Anjeer\\\\\\\\725Anjeer_08-16-2023-14-41-0020922_Focus_33.png', 'C:\\\\\\\\Users\\\\\\\\Zeeshan.khan\\\\\\\\vscode_projects\\\\\\\\self-checkout\\\\\\\\artifacts\\\\\\\\temp\\\\\\\\original\\\\\\\\Anjeer\\\\\\\\726Anjeer_08-16-2023-14-41-1331764_Focus_33.png', 'C:\\\\\\\\Users\\\\\\\\Zeeshan.khan\\\\\\\\vscode_projects\\\\\\\\self-checkout\\\\\\\\artifacts\\\\\\\\temp\\\\\\\\original\\\\\\\\Anjeer\\\\\\\\727Anjeer_08-16-2023-14-41-259195_Focus_33.png', 'C:\\\\\\\\Users\\\\\\\\Zeeshan.khan\\\\\\\\vscode_projects\\\\\\\\self-checkout\\\\\\\\artifacts\\\\\\\\temp\\\\\\\\original\\\\\\\\Anjeer\\\\\\\\728Anjeer_08-16-2023-14-41-3422897_Focus_33.png', 'C:\\\\\\\\Users\\\\\\\\Zeeshan.khan\\\\\\\\vscode_projects\\\\\\\\self-checkout\\\\\\\\artifacts\\\\\\\\temp\\\\\\\\original\\\\\\\\Anjeer\\\\\\\\729Anjeer_08-16-2023-14-41-4579509_Focus_33.png', 'C:\\\\\\\\Users\\\\\\\\Zeeshan.khan\\\\\\\\vscode_projects\\\\\\\\self-checkout\\\\\\\\artifacts\\\\\\\\temp\\\\\\\\original\\\\\\\\Anjeer\\\\\\\\730Anjeer_08-16-2023-14-41-5253519_Focus_33.png', 'C:\\\\\\\\Users\\\\\\\\Zeeshan.khan\\\\\\\\vscode_projects\\\\\\\\self-checkout\\\\\\\\artifacts\\\\\\\\temp\\\\\\\\original\\\\\\\\Anjeer\\\\\\\\731Anjeer_08-16-2023-14-41-5872216_Focus_33.png', 'C:\\\\\\\\Users\\\\\\\\Zeeshan.khan\\\\\\\\vscode_projects\\\\\\\\self-checkout\\\\\\\\artifacts\\\\\\\\temp\\\\\\\\original\\\\\\\\Anjeer\\\\\\\\732Anjeer_08-16-2023-14-42-0428498_Focus_33.png', 'C:\\\\\\\\Users\\\\\\\\Zeeshan.khan\\\\\\\\vscode_projects\\\\\\\\self-checkout\\\\\\\\artifacts\\\\\\\\temp\\\\\\\\original\\\\\\\\Anjeer\\\\\\\\733Anjeer_08-16-2023-14-42-09304_Focus_33.png', 'C:\\\\\\\\Users\\\\\\\\Zeeshan.khan\\\\\\\\vscode_projects\\\\\\\\self-checkout\\\\\\\\artifacts\\\\\\\\temp\\\\\\\\original\\\\\\\\Anjeer\\\\\\\\734Anjeer_08-16-2023-14-42-1482328_Focus_33.png', 'C:\\\\\\\\Users\\\\\\\\Zeeshan.khan\\\\\\\\vscode_projects\\\\\\\\self-checkout\\\\\\\\artifacts\\\\\\\\temp\\\\\\\\original\\\\\\\\Anjeer\\\\\\\\735Anjeer_08-16-2023-14-42-1974888_Focus_33.png', 'C:\\\\\\\\Users\\\\\\\\Zeeshan.khan\\\\\\\\vscode_projects\\\\\\\\self-checkout\\\\\\\\artifacts\\\\\\\\temp\\\\\\\\original\\\\\\\\Anjeer\\\\\\\\736Anjeer_08-16-2023-14-42-2775764_Focus_33.png', 'C:\\\\\\\\Users\\\\\\\\Zeeshan.khan\\\\\\\\vscode_projects\\\\\\\\self-checkout\\\\\\\\artifacts\\\\\\\\temp\\\\\\\\original\\\\\\\\Anjeer\\\\\\\\737Anjeer_08-16-2023-14-42-3438123_Focus_33.png', 'C:\\\\\\\\Users\\\\\\\\Zeeshan.khan\\\\\\\\vscode_projects\\\\\\\\self-checkout\\\\\\\\artifacts\\\\\\\\temp\\\\\\\\original\\\\\\\\Anjeer\\\\\\\\737Anjeer_08-16-2023-14-42-3438123_Focus_33_1.png', 'C:\\\\\\\\Users\\\\\\\\Zeeshan.khan\\\\\\\\vscode_projects\\\\\\\\self-checkout\\\\\\\\artifacts\\\\\\\\temp\\\\\\\\original\\\\\\\\Anjeer\\\\\\\\738Anjeer_08-16-2023-14-42-4116518_Focus_33.png', 'C:\\\\\\\\Users\\\\\\\\Zeeshan.khan\\\\\\\\vscode_projects\\\\\\\\self-checkout\\\\\\\\artifacts\\\\\\\\temp\\\\\\\\original\\\\\\\\Anjeer\\\\\\\\739Anjeer_08-16-2023-14-42-4748768_Focus_33.png', 'C:\\\\\\\\Users\\\\\\\\Zeeshan.khan\\\\\\\\vscode_projects\\\\\\\\self-checkout\\\\\\\\artifacts\\\\\\\\temp\\\\\\\\original\\\\\\\\Anjeer\\\\\\\\740Anjeer_08-16-2023-14-42-5477954_Focus_33.png', 'C:\\\\\\\\Users\\\\\\\\Zeeshan.khan\\\\\\\\vscode_projects\\\\\\\\self-checkout\\\\\\\\artifacts\\\\\\\\temp\\\\\\\\original\\\\\\\\Anjeer\\\\\\\\741Anjeer_08-16-2023-14-43-0236944_Focus_33.png', 'C:\\\\\\\\Users\\\\\\\\Zeeshan.khan\\\\\\\\vscode_projects\\\\\\\\self-checkout\\\\\\\\artifacts\\\\\\\\temp\\\\\\\\original\\\\\\\\Anjeer\\\\\\\\742Anjeer_08-16-2023-14-43-0882919_Focus_15.png', 'C:\\\\\\\\Users\\\\\\\\Zeeshan.khan\\\\\\\\vscode_projects\\\\\\\\self-checkout\\\\\\\\artifacts\\\\\\\\temp\\\\\\\\original\\\\\\\\Anjeer\\\\\\\\743Anjeer_08-16-2023-14-43-1462175_Focus_15.png', 'C:\\\\\\\\Users\\\\\\\\Zeeshan.khan\\\\\\\\vscode_projects\\\\\\\\self-checkout\\\\\\\\artifacts\\\\\\\\temp\\\\\\\\original\\\\\\\\Anjeer\\\\\\\\744Anjeer_08-16-2023-14-43-2037746_Focus_15.png', 'C:\\\\\\\\Users\\\\\\\\Zeeshan.khan\\\\\\\\vscode_projects\\\\\\\\self-checkout\\\\\\\\artifacts\\\\\\\\temp\\\\\\\\original\\\\\\\\Anjeer\\\\\\\\744Anjeer_08-16-2023-14-43-2037746_Focus_33.png', 'C:\\\\\\\\Users\\\\\\\\Zeeshan.khan\\\\\\\\vscode_projects\\\\\\\\self-checkout\\\\\\\\artifacts\\\\\\\\temp\\\\\\\\original\\\\\\\\Anjeer\\\\\\\\745Anjeer_08-16-2023-14-43-2985352_Focus_33.png', 'C:\\\\\\\\Users\\\\\\\\Zeeshan.khan\\\\\\\\vscode_projects\\\\\\\\self-checkout\\\\\\\\artifacts\\\\\\\\temp\\\\\\\\original\\\\\\\\Anjeer\\\\\\\\746Anjeer_08-16-2023-14-43-3926914_Focus_0.png', 'C:\\\\\\\\Users\\\\\\\\Zeeshan.khan\\\\\\\\vscode_projects\\\\\\\\self-checkout\\\\\\\\artifacts\\\\\\\\temp\\\\\\\\original\\\\\\\\Anjeer\\\\\\\\747Anjeer_08-16-2023-14-43-4686503_Focus_0.png', 'C:\\\\\\\\Users\\\\\\\\Zeeshan.khan\\\\\\\\vscode_projects\\\\\\\\self-checkout\\\\\\\\artifacts\\\\\\\\temp\\\\\\\\original\\\\\\\\Anjeer\\\\\\\\748Anjeer_08-16-2023-14-43-546327_Focus_0.png', 'C:\\\\\\\\Users\\\\\\\\Zeeshan.khan\\\\\\\\vscode_projects\\\\\\\\self-checkout\\\\\\\\artifacts\\\\\\\\temp\\\\\\\\original\\\\\\\\Anjeer\\\\\\\\749Anjeer_08-16-2023-14-44-0249777_Focus_0.png', 'C:\\\\\\\\Users\\\\\\\\Zeeshan.khan\\\\\\\\vscode_projects\\\\\\\\self-checkout\\\\\\\\artifacts\\\\\\\\temp\\\\\\\\original\\\\\\\\Anjeer\\\\\\\\750Anjeer_08-16-2023-14-44-0827234_Focus_0.png', 'C:\\\\\\\\Users\\\\\\\\Zeeshan.khan\\\\\\\\vscode_projects\\\\\\\\self-checkout\\\\\\\\artifacts\\\\\\\\temp\\\\\\\\original\\\\\\\\Anjeer\\\\\\\\751Anjeer_08-16-2023-14-44-1536460_Focus_0.png', 'C:\\\\\\\\Users\\\\\\\\Zeeshan.khan\\\\\\\\vscode_projects\\\\\\\\self-checkout\\\\\\\\artifacts\\\\\\\\temp\\\\\\\\original\\\\\\\\Anjeer\\\\\\\\752Anjeer_08-16-2023-14-44-2148669_Focus_0.png', 'C:\\\\\\\\Users\\\\\\\\Zeeshan.khan\\\\\\\\vscode_projects\\\\\\\\self-checkout\\\\\\\\artifacts\\\\\\\\temp\\\\\\\\original\\\\\\\\Anjeer\\\\\\\\753Anjeer_08-16-2023-14-44-2778499_Focus_0.png', 'C:\\\\\\\\Users\\\\\\\\Zeeshan.khan\\\\\\\\vscode_projects\\\\\\\\self-checkout\\\\\\\\artifacts\\\\\\\\temp\\\\\\\\original\\\\\\\\Anjeer\\\\\\\\754Anjeer_08-16-2023-14-44-3313175_Focus_0.png', 'C:\\\\\\\\Users\\\\\\\\Zeeshan.khan\\\\\\\\vscode_projects\\\\\\\\self-checkout\\\\\\\\artifacts\\\\\\\\temp\\\\\\\\original\\\\\\\\Anjeer\\\\\\\\755Anjeer_08-16-2023-14-44-3959696_Focus_0.png', 'C:\\\\\\\\Users\\\\\\\\Zeeshan.khan\\\\\\\\vscode_projects\\\\\\\\self-checkout\\\\\\\\artifacts\\\\\\\\temp\\\\\\\\original\\\\\\\\Anjeer\\\\\\\\756Anjeer_08-16-2023-14-44-4538948_Focus_0.png', 'C:\\\\\\\\Users\\\\\\\\Zeeshan.khan\\\\\\\\vscode_projects\\\\\\\\self-checkout\\\\\\\\artifacts\\\\\\\\temp\\\\\\\\original\\\\\\\\Anjeer\\\\\\\\757Anjeer_08-16-2023-14-44-5276742_Focus_0.png', 'C:\\\\\\\\Users\\\\\\\\Zeeshan.khan\\\\\\\\vscode_projects\\\\\\\\self-checkout\\\\\\\\artifacts\\\\\\\\temp\\\\\\\\original\\\\\\\\Anjeer\\\\\\\\758Anjeer_08-16-2023-14-44-5847088_Focus_0.png', 'C:\\\\\\\\Users\\\\\\\\Zeeshan.khan\\\\\\\\vscode_projects\\\\\\\\self-checkout\\\\\\\\artifacts\\\\\\\\temp\\\\\\\\original\\\\\\\\Anjeer\\\\\\\\759Anjeer_08-16-2023-14-45-0988871_Focus_33.png', 'C:\\\\\\\\Users\\\\\\\\Zeeshan.khan\\\\\\\\vscode_projects\\\\\\\\self-checkout\\\\\\\\artifacts\\\\\\\\temp\\\\\\\\original\\\\\\\\Anjeer\\\\\\\\760Anjeer_08-16-2023-14-45-1451932_Focus_33.png', 'C:\\\\\\\\Users\\\\\\\\Zeeshan.khan\\\\\\\\vscode_projects\\\\\\\\self-checkout\\\\\\\\artifacts\\\\\\\\temp\\\\\\\\original\\\\\\\\Anjeer\\\\\\\\761Anjeer_08-16-2023-14-45-2047699_Focus_15.png', 'C:\\\\\\\\Users\\\\\\\\Zeeshan.khan\\\\\\\\vscode_projects\\\\\\\\self-checkout\\\\\\\\artifacts\\\\\\\\temp\\\\\\\\original\\\\\\\\Anjeer\\\\\\\\761Anjeer_08-16-2023-14-45-2047699_Focus_33.png', 'C:\\\\\\\\Users\\\\\\\\Zeeshan.khan\\\\\\\\vscode_projects\\\\\\\\self-checkout\\\\\\\\artifacts\\\\\\\\temp\\\\\\\\original\\\\\\\\Anjeer\\\\\\\\762Anjeer_08-16-2023-14-45-274822_Focus_33.png', 'C:\\\\\\\\Users\\\\\\\\Zeeshan.khan\\\\\\\\vscode_projects\\\\\\\\self-checkout\\\\\\\\artifacts\\\\\\\\temp\\\\\\\\original\\\\\\\\Anjeer\\\\\\\\763Anjeer_08-16-2023-14-45-3448130_Focus_33.png', 'C:\\\\\\\\Users\\\\\\\\Zeeshan.khan\\\\\\\\vscode_projects\\\\\\\\self-checkout\\\\\\\\artifacts\\\\\\\\temp\\\\\\\\original\\\\\\\\Anjeer\\\\\\\\764Anjeer_08-16-2023-14-45-3991550_Focus_33.png', 'C:\\\\\\\\Users\\\\\\\\Zeeshan.khan\\\\\\\\vscode_projects\\\\\\\\self-checkout\\\\\\\\artifacts\\\\\\\\temp\\\\\\\\original\\\\\\\\Anjeer\\\\\\\\765Anjeer_08-16-2023-14-45-4672335_Focus_33.png', 'C:\\\\\\\\Users\\\\\\\\Zeeshan.khan\\\\\\\\vscode_projects\\\\\\\\self-checkout\\\\\\\\artifacts\\\\\\\\temp\\\\\\\\original\\\\\\\\Anjeer\\\\\\\\766Anjeer_08-16-2023-14-45-5698314_Focus_33.png', 'C:\\\\\\\\Users\\\\\\\\Zeeshan.khan\\\\\\\\vscode_projects\\\\\\\\self-checkout\\\\\\\\artifacts\\\\\\\\temp\\\\\\\\original\\\\\\\\Anjeer\\\\\\\\768Anjeer_08-16-2023-14-46-0768157_Focus_33.png', 'C:\\\\\\\\Users\\\\\\\\Zeeshan.khan\\\\\\\\vscode_projects\\\\\\\\self-checkout\\\\\\\\artifacts\\\\\\\\temp\\\\\\\\original\\\\\\\\Anjeer\\\\\\\\769Anjeer_08-16-2023-14-46-3095076_Focus_33.png', 'C:\\\\\\\\Users\\\\\\\\Zeeshan.khan\\\\\\\\vscode_projects\\\\\\\\self-checkout\\\\\\\\artifacts\\\\\\\\temp\\\\\\\\original\\\\\\\\Anjeer\\\\\\\\770Anjeer_08-16-2023-14-46-3526049_Focus_33.png', 'C:\\\\\\\\Users\\\\\\\\Zeeshan.khan\\\\\\\\vscode_projects\\\\\\\\self-checkout\\\\\\\\artifacts\\\\\\\\temp\\\\\\\\original\\\\\\\\Anjeer\\\\\\\\771Anjeer_08-16-2023-14-46-5220324_Focus_33.png', 'C:\\\\\\\\Users\\\\\\\\Zeeshan.khan\\\\\\\\vscode_projects\\\\\\\\self-checkout\\\\\\\\artifacts\\\\\\\\temp\\\\\\\\original\\\\\\\\Anjeer\\\\\\\\772Anjeer_08-16-2023-14-46-5988286_Focus_33.png', 'C:\\\\\\\\Users\\\\\\\\Zeeshan.khan\\\\\\\\vscode_projects\\\\\\\\self-checkout\\\\\\\\artifacts\\\\\\\\temp\\\\\\\\original\\\\\\\\Anjeer\\\\\\\\773Anjeer_08-16-2023-14-47-0553054_Focus_33.png', 'C:\\\\\\\\Users\\\\\\\\Zeeshan.khan\\\\\\\\vscode_projects\\\\\\\\self-checkout\\\\\\\\artifacts\\\\\\\\temp\\\\\\\\original\\\\\\\\Anjeer\\\\\\\\774Anjeer_08-16-2023-14-47-1283152_Focus_33.png', 'C:\\\\\\\\Users\\\\\\\\Zeeshan.khan\\\\\\\\vscode_projects\\\\\\\\self-checkout\\\\\\\\artifacts\\\\\\\\temp\\\\\\\\original\\\\\\\\Anjeer\\\\\\\\775Anjeer_08-16-2023-14-47-2189408_Focus_33.png', 'C:\\\\\\\\Users\\\\\\\\Zeeshan.khan\\\\\\\\vscode_projects\\\\\\\\self-checkout\\\\\\\\artifacts\\\\\\\\temp\\\\\\\\original\\\\\\\\Anjeer\\\\\\\\776Anjeer_08-16-2023-14-47-2737629_Focus_33.png', 'C:\\\\\\\\Users\\\\\\\\Zeeshan.khan\\\\\\\\vscode_projects\\\\\\\\self-checkout\\\\\\\\artifacts\\\\\\\\temp\\\\\\\\original\\\\\\\\Anjeer\\\\\\\\777Anjeer_08-16-2023-14-47-3458234_Focus_33.png', 'C:\\\\\\\\Users\\\\\\\\Zeeshan.khan\\\\\\\\vscode_projects\\\\\\\\self-checkout\\\\\\\\artifacts\\\\\\\\temp\\\\\\\\original\\\\\\\\Anjeer\\\\\\\\777Anjeer_08-16-2023-14-47-3458234_Focus_33_1.png', 'C:\\\\\\\\Users\\\\\\\\Zeeshan.khan\\\\\\\\vscode_projects\\\\\\\\self-checkout\\\\\\\\artifacts\\\\\\\\temp\\\\\\\\original\\\\\\\\Anjeer\\\\\\\\778Anjeer_08-16-2023-14-47-4081580_Focus_33.png', 'C:\\\\\\\\Users\\\\\\\\Zeeshan.khan\\\\\\\\vscode_projects\\\\\\\\self-checkout\\\\\\\\artifacts\\\\\\\\temp\\\\\\\\original\\\\\\\\Anjeer\\\\\\\\779Anjeer_08-16-2023-14-47-4683143_Focus_33.png', 'C:\\\\\\\\Users\\\\\\\\Zeeshan.khan\\\\\\\\vscode_projects\\\\\\\\self-checkout\\\\\\\\artifacts\\\\\\\\temp\\\\\\\\original\\\\\\\\Anjeer\\\\\\\\779Anjeer_08-16-2023-14-47-4683143_Focus_33_1.png', 'C:\\\\\\\\Users\\\\\\\\Zeeshan.khan\\\\\\\\vscode_projects\\\\\\\\self-checkout\\\\\\\\artifacts\\\\\\\\temp\\\\\\\\original\\\\\\\\Anjeer\\\\\\\\780Anjeer_08-16-2023-14-47-5458558_Focus_33.png', 'C:\\\\\\\\Users\\\\\\\\Zeeshan.khan\\\\\\\\vscode_projects\\\\\\\\self-checkout\\\\\\\\artifacts\\\\\\\\temp\\\\\\\\original\\\\\\\\Anjeer\\\\\\\\780Anjeer_08-16-2023-14-47-5458558_Focus_33_1.png', 'C:\\\\\\\\Users\\\\\\\\Zeeshan.khan\\\\\\\\vscode_projects\\\\\\\\self-checkout\\\\\\\\artifacts\\\\\\\\temp\\\\\\\\original\\\\\\\\Anjeer\\\\\\\\781Anjeer_08-16-2023-14-48-018283_Focus_15.png', 'C:\\\\\\\\Users\\\\\\\\Zeeshan.khan\\\\\\\\vscode_projects\\\\\\\\self-checkout\\\\\\\\artifacts\\\\\\\\temp\\\\\\\\original\\\\\\\\Anjeer\\\\\\\\781Anjeer_08-16-2023-14-48-018283_Focus_33.png', 'C:\\\\\\\\Users\\\\\\\\Zeeshan.khan\\\\\\\\vscode_projects\\\\\\\\self-checkout\\\\\\\\artifacts\\\\\\\\temp\\\\\\\\original\\\\\\\\Anjeer\\\\\\\\7Anjeer_07-20-2023-13-05-0797237_Focus_33.png', 'C:\\\\\\\\Users\\\\\\\\Zeeshan.khan\\\\\\\\vscode_projects\\\\\\\\self-checkout\\\\\\\\artifacts\\\\\\\\temp\\\\\\\\original\\\\\\\\Anjeer\\\\\\\\9Anjeer_07-20-2023-13-05-2080331_Focus_0.png']\", 'mask_file_dir': \"['C:\\\\\\\\Users\\\\\\\\Zeeshan.khan\\\\\\\\vscode_projects\\\\\\\\self-checkout\\\\\\\\artifacts\\\\\\\\temp\\\\\\\\mask\\\\\\\\Anjeer\\\\\\\\10Anjeer_07-20-2023-13-05-264600_Focus_0.png', 'C:\\\\\\\\Users\\\\\\\\Zeeshan.khan\\\\\\\\vscode_projects\\\\\\\\self-checkout\\\\\\\\artifacts\\\\\\\\temp\\\\\\\\mask\\\\\\\\Anjeer\\\\\\\\117Anjeer_07-20-2023-13-22-5596219_Focus_0.png', 'C:\\\\\\\\Users\\\\\\\\Zeeshan.khan\\\\\\\\vscode_projects\\\\\\\\self-checkout\\\\\\\\artifacts\\\\\\\\temp\\\\\\\\mask\\\\\\\\Anjeer\\\\\\\\118Anjeer_07-20-2023-13-24-4393015_Focus_0.png', 'C:\\\\\\\\Users\\\\\\\\Zeeshan.khan\\\\\\\\vscode_projects\\\\\\\\self-checkout\\\\\\\\artifacts\\\\\\\\temp\\\\\\\\mask\\\\\\\\Anjeer\\\\\\\\11Anjeer_07-20-2023-13-05-3688678_Focus_0.png', 'C:\\\\\\\\Users\\\\\\\\Zeeshan.khan\\\\\\\\vscode_projects\\\\\\\\self-checkout\\\\\\\\artifacts\\\\\\\\temp\\\\\\\\mask\\\\\\\\Anjeer\\\\\\\\120Anjeer_07-20-2023-13-26-3978266_Focus_15.png', 'C:\\\\\\\\Users\\\\\\\\Zeeshan.khan\\\\\\\\vscode_projects\\\\\\\\self-checkout\\\\\\\\artifacts\\\\\\\\temp\\\\\\\\mask\\\\\\\\Anjeer\\\\\\\\121Anjeer_07-20-2023-13-26-5034114_Focus_0.png', 'C:\\\\\\\\Users\\\\\\\\Zeeshan.khan\\\\\\\\vscode_projects\\\\\\\\self-checkout\\\\\\\\artifacts\\\\\\\\temp\\\\\\\\mask\\\\\\\\Anjeer\\\\\\\\122Anjeer_07-20-2023-13-26-5730553_Focus_15.png', 'C:\\\\\\\\Users\\\\\\\\Zeeshan.khan\\\\\\\\vscode_projects\\\\\\\\self-checkout\\\\\\\\artifacts\\\\\\\\temp\\\\\\\\mask\\\\\\\\Anjeer\\\\\\\\123Anjeer_07-20-2023-13-27-1591878_Focus_0.png', 'C:\\\\\\\\Users\\\\\\\\Zeeshan.khan\\\\\\\\vscode_projects\\\\\\\\self-checkout\\\\\\\\artifacts\\\\\\\\temp\\\\\\\\mask\\\\\\\\Anjeer\\\\\\\\124Anjeer_07-20-2023-13-27-2783165_Focus_33.png', 'C:\\\\\\\\Users\\\\\\\\Zeeshan.khan\\\\\\\\vscode_projects\\\\\\\\self-checkout\\\\\\\\artifacts\\\\\\\\temp\\\\\\\\mask\\\\\\\\Anjeer\\\\\\\\126Anjeer_07-20-2023-13-27-4586957_Focus_0.png', 'C:\\\\\\\\Users\\\\\\\\Zeeshan.khan\\\\\\\\vscode_projects\\\\\\\\self-checkout\\\\\\\\artifacts\\\\\\\\temp\\\\\\\\mask\\\\\\\\Anjeer\\\\\\\\128Anjeer_07-20-2023-13-27-5623184_Focus_33.png', 'C:\\\\\\\\Users\\\\\\\\Zeeshan.khan\\\\\\\\vscode_projects\\\\\\\\self-checkout\\\\\\\\artifacts\\\\\\\\temp\\\\\\\\mask\\\\\\\\Anjeer\\\\\\\\129Anjeer_07-20-2023-13-28-018807_Focus_33.png', 'C:\\\\\\\\Users\\\\\\\\Zeeshan.khan\\\\\\\\vscode_projects\\\\\\\\self-checkout\\\\\\\\artifacts\\\\\\\\temp\\\\\\\\mask\\\\\\\\Anjeer\\\\\\\\130Anjeer_07-20-2023-13-28-0893165_Focus_0.png', 'C:\\\\\\\\Users\\\\\\\\Zeeshan.khan\\\\\\\\vscode_projects\\\\\\\\self-checkout\\\\\\\\artifacts\\\\\\\\temp\\\\\\\\mask\\\\\\\\Anjeer\\\\\\\\131Anjeer_07-20-2023-13-28-1869754_Focus_15.png', 'C:\\\\\\\\Users\\\\\\\\Zeeshan.khan\\\\\\\\vscode_projects\\\\\\\\self-checkout\\\\\\\\artifacts\\\\\\\\temp\\\\\\\\mask\\\\\\\\Anjeer\\\\\\\\132Anjeer_07-20-2023-13-28-2535613_Focus_15.png', 'C:\\\\\\\\Users\\\\\\\\Zeeshan.khan\\\\\\\\vscode_projects\\\\\\\\self-checkout\\\\\\\\artifacts\\\\\\\\temp\\\\\\\\mask\\\\\\\\Anjeer\\\\\\\\133Anjeer_07-20-2023-13-28-3177513_Focus_0.png', 'C:\\\\\\\\Users\\\\\\\\Zeeshan.khan\\\\\\\\vscode_projects\\\\\\\\self-checkout\\\\\\\\artifacts\\\\\\\\temp\\\\\\\\mask\\\\\\\\Anjeer\\\\\\\\134Anjeer_07-20-2023-13-28-3629530_Focus_33.png', 'C:\\\\\\\\Users\\\\\\\\Zeeshan.khan\\\\\\\\vscode_projects\\\\\\\\self-checkout\\\\\\\\artifacts\\\\\\\\temp\\\\\\\\mask\\\\\\\\Anjeer\\\\\\\\135Anjeer_07-20-2023-13-28-4549155_Focus_15.png', 'C:\\\\\\\\Users\\\\\\\\Zeeshan.khan\\\\\\\\vscode_projects\\\\\\\\self-checkout\\\\\\\\artifacts\\\\\\\\temp\\\\\\\\mask\\\\\\\\Anjeer\\\\\\\\138Anjeer_07-20-2023-13-30-5770836_Focus_0.png', 'C:\\\\\\\\Users\\\\\\\\Zeeshan.khan\\\\\\\\vscode_projects\\\\\\\\self-checkout\\\\\\\\artifacts\\\\\\\\temp\\\\\\\\mask\\\\\\\\Anjeer\\\\\\\\139Anjeer_07-20-2023-13-31-0772732_Focus_0.png', 'C:\\\\\\\\Users\\\\\\\\Zeeshan.khan\\\\\\\\vscode_projects\\\\\\\\self-checkout\\\\\\\\artifacts\\\\\\\\temp\\\\\\\\mask\\\\\\\\Anjeer\\\\\\\\13Anjeer_07-20-2023-13-05-5397057_Focus_0.png', 'C:\\\\\\\\Users\\\\\\\\Zeeshan.khan\\\\\\\\vscode_projects\\\\\\\\self-checkout\\\\\\\\artifacts\\\\\\\\temp\\\\\\\\mask\\\\\\\\Anjeer\\\\\\\\140Anjeer_07-20-2023-13-31-2581813_Focus_15.png', 'C:\\\\\\\\Users\\\\\\\\Zeeshan.khan\\\\\\\\vscode_projects\\\\\\\\self-checkout\\\\\\\\artifacts\\\\\\\\temp\\\\\\\\mask\\\\\\\\Anjeer\\\\\\\\141Anjeer_07-20-2023-13-31-3174924_Focus_0.png', 'C:\\\\\\\\Users\\\\\\\\Zeeshan.khan\\\\\\\\vscode_projects\\\\\\\\self-checkout\\\\\\\\artifacts\\\\\\\\temp\\\\\\\\mask\\\\\\\\Anjeer\\\\\\\\142Anjeer_07-20-2023-13-31-4144828_Focus_33.png', 'C:\\\\\\\\Users\\\\\\\\Zeeshan.khan\\\\\\\\vscode_projects\\\\\\\\self-checkout\\\\\\\\artifacts\\\\\\\\temp\\\\\\\\mask\\\\\\\\Anjeer\\\\\\\\143Anjeer_07-20-2023-13-31-458863_Focus_15.png', 'C:\\\\\\\\Users\\\\\\\\Zeeshan.khan\\\\\\\\vscode_projects\\\\\\\\self-checkout\\\\\\\\artifacts\\\\\\\\temp\\\\\\\\mask\\\\\\\\Anjeer\\\\\\\\144Anjeer_07-20-2023-13-31-5667794_Focus_15.png', 'C:\\\\\\\\Users\\\\\\\\Zeeshan.khan\\\\\\\\vscode_projects\\\\\\\\self-checkout\\\\\\\\artifacts\\\\\\\\temp\\\\\\\\mask\\\\\\\\Anjeer\\\\\\\\145Anjeer_07-20-2023-13-32-0325368_Focus_33.png', 'C:\\\\\\\\Users\\\\\\\\Zeeshan.khan\\\\\\\\vscode_projects\\\\\\\\self-checkout\\\\\\\\artifacts\\\\\\\\temp\\\\\\\\mask\\\\\\\\Anjeer\\\\\\\\14Anjeer_07-20-2023-13-06-0074600_Focus_0.png', 'C:\\\\\\\\Users\\\\\\\\Zeeshan.khan\\\\\\\\vscode_projects\\\\\\\\self-checkout\\\\\\\\artifacts\\\\\\\\temp\\\\\\\\mask\\\\\\\\Anjeer\\\\\\\\155Anjeer_07-20-2023-14-19-0711352_Focus_15.png', 'C:\\\\\\\\Users\\\\\\\\Zeeshan.khan\\\\\\\\vscode_projects\\\\\\\\self-checkout\\\\\\\\artifacts\\\\\\\\temp\\\\\\\\mask\\\\\\\\Anjeer\\\\\\\\156Anjeer_07-20-2023-14-19-1813821_Focus_0.png', 'C:\\\\\\\\Users\\\\\\\\Zeeshan.khan\\\\\\\\vscode_projects\\\\\\\\self-checkout\\\\\\\\artifacts\\\\\\\\temp\\\\\\\\mask\\\\\\\\Anjeer\\\\\\\\158Anjeer_07-20-2023-14-19-514963_Focus_33.png', 'C:\\\\\\\\Users\\\\\\\\Zeeshan.khan\\\\\\\\vscode_projects\\\\\\\\self-checkout\\\\\\\\artifacts\\\\\\\\temp\\\\\\\\mask\\\\\\\\Anjeer\\\\\\\\159Anjeer_07-20-2023-14-20-058634_Focus_33.png', 'C:\\\\\\\\Users\\\\\\\\Zeeshan.khan\\\\\\\\vscode_projects\\\\\\\\self-checkout\\\\\\\\artifacts\\\\\\\\temp\\\\\\\\mask\\\\\\\\Anjeer\\\\\\\\15Anjeer_07-20-2023-13-06-1154753_Focus_15.png', 'C:\\\\\\\\Users\\\\\\\\Zeeshan.khan\\\\\\\\vscode_projects\\\\\\\\self-checkout\\\\\\\\artifacts\\\\\\\\temp\\\\\\\\mask\\\\\\\\Anjeer\\\\\\\\160Anjeer_07-20-2023-14-20-2659533_Focus_33.png', 'C:\\\\\\\\Users\\\\\\\\Zeeshan.khan\\\\\\\\vscode_projects\\\\\\\\self-checkout\\\\\\\\artifacts\\\\\\\\temp\\\\\\\\mask\\\\\\\\Anjeer\\\\\\\\161Anjeer_07-20-2023-14-20-4162655_Focus_33.png', 'C:\\\\\\\\Users\\\\\\\\Zeeshan.khan\\\\\\\\vscode_projects\\\\\\\\self-checkout\\\\\\\\artifacts\\\\\\\\temp\\\\\\\\mask\\\\\\\\Anjeer\\\\\\\\162Anjeer_07-20-2023-14-21-1040789_Focus_33.png', 'C:\\\\\\\\Users\\\\\\\\Zeeshan.khan\\\\\\\\vscode_projects\\\\\\\\self-checkout\\\\\\\\artifacts\\\\\\\\temp\\\\\\\\mask\\\\\\\\Anjeer\\\\\\\\164Anjeer_07-20-2023-14-21-4981120_Focus_15.png', 'C:\\\\\\\\Users\\\\\\\\Zeeshan.khan\\\\\\\\vscode_projects\\\\\\\\self-checkout\\\\\\\\artifacts\\\\\\\\temp\\\\\\\\mask\\\\\\\\Anjeer\\\\\\\\166Anjeer_07-20-2023-14-22-1448876_Focus_0.png', 'C:\\\\\\\\Users\\\\\\\\Zeeshan.khan\\\\\\\\vscode_projects\\\\\\\\self-checkout\\\\\\\\artifacts\\\\\\\\temp\\\\\\\\mask\\\\\\\\Anjeer\\\\\\\\167Anjeer_07-20-2023-14-22-2589602_Focus_0.png', 'C:\\\\\\\\Users\\\\\\\\Zeeshan.khan\\\\\\\\vscode_projects\\\\\\\\self-checkout\\\\\\\\artifacts\\\\\\\\temp\\\\\\\\mask\\\\\\\\Anjeer\\\\\\\\168Anjeer_07-20-2023-14-22-3775770_Focus_33.png', 'C:\\\\\\\\Users\\\\\\\\Zeeshan.khan\\\\\\\\vscode_projects\\\\\\\\self-checkout\\\\\\\\artifacts\\\\\\\\temp\\\\\\\\mask\\\\\\\\Anjeer\\\\\\\\169Anjeer_07-20-2023-14-23-0587816_Focus_33.png', 'C:\\\\\\\\Users\\\\\\\\Zeeshan.khan\\\\\\\\vscode_projects\\\\\\\\self-checkout\\\\\\\\artifacts\\\\\\\\temp\\\\\\\\mask\\\\\\\\Anjeer\\\\\\\\16Anjeer_07-20-2023-13-06-2966726_Focus_0.png', 'C:\\\\\\\\Users\\\\\\\\Zeeshan.khan\\\\\\\\vscode_projects\\\\\\\\self-checkout\\\\\\\\artifacts\\\\\\\\temp\\\\\\\\mask\\\\\\\\Anjeer\\\\\\\\17Anjeer_07-20-2023-13-06-3693852_Focus_0.png', 'C:\\\\\\\\Users\\\\\\\\Zeeshan.khan\\\\\\\\vscode_projects\\\\\\\\self-checkout\\\\\\\\artifacts\\\\\\\\temp\\\\\\\\mask\\\\\\\\Anjeer\\\\\\\\18Anjeer_07-20-2023-13-06-4185551_Focus_0.png', 'C:\\\\\\\\Users\\\\\\\\Zeeshan.khan\\\\\\\\vscode_projects\\\\\\\\self-checkout\\\\\\\\artifacts\\\\\\\\temp\\\\\\\\mask\\\\\\\\Anjeer\\\\\\\\22Anjeer_07-20-2023-13-07-3993366_Focus_33.png', 'C:\\\\\\\\Users\\\\\\\\Zeeshan.khan\\\\\\\\vscode_projects\\\\\\\\self-checkout\\\\\\\\artifacts\\\\\\\\temp\\\\\\\\mask\\\\\\\\Anjeer\\\\\\\\24Anjeer_07-20-2023-13-08-0351335_Focus_15.png', 'C:\\\\\\\\Users\\\\\\\\Zeeshan.khan\\\\\\\\vscode_projects\\\\\\\\self-checkout\\\\\\\\artifacts\\\\\\\\temp\\\\\\\\mask\\\\\\\\Anjeer\\\\\\\\26Anjeer_07-20-2023-13-08-2063699_Focus_33.png', 'C:\\\\\\\\Users\\\\\\\\Zeeshan.khan\\\\\\\\vscode_projects\\\\\\\\self-checkout\\\\\\\\artifacts\\\\\\\\temp\\\\\\\\mask\\\\\\\\Anjeer\\\\\\\\27Anjeer_07-20-2023-13-08-313119_Focus_15.png', 'C:\\\\\\\\Users\\\\\\\\Zeeshan.khan\\\\\\\\vscode_projects\\\\\\\\self-checkout\\\\\\\\artifacts\\\\\\\\temp\\\\\\\\mask\\\\\\\\Anjeer\\\\\\\\28Anjeer_07-20-2023-13-08-4315578_Focus_0.png', 'C:\\\\\\\\Users\\\\\\\\Zeeshan.khan\\\\\\\\vscode_projects\\\\\\\\self-checkout\\\\\\\\artifacts\\\\\\\\temp\\\\\\\\mask\\\\\\\\Anjeer\\\\\\\\29Anjeer_07-20-2023-13-08-5194582_Focus_0.png', 'C:\\\\\\\\Users\\\\\\\\Zeeshan.khan\\\\\\\\vscode_projects\\\\\\\\self-checkout\\\\\\\\artifacts\\\\\\\\temp\\\\\\\\mask\\\\\\\\Anjeer\\\\\\\\2Anjeer_07-20-2023-12-57-3537066_Focus_0.png', 'C:\\\\\\\\Users\\\\\\\\Zeeshan.khan\\\\\\\\vscode_projects\\\\\\\\self-checkout\\\\\\\\artifacts\\\\\\\\temp\\\\\\\\mask\\\\\\\\Anjeer\\\\\\\\30Anjeer_07-20-2023-13-09-0028223_Focus_0.png', 'C:\\\\\\\\Users\\\\\\\\Zeeshan.khan\\\\\\\\vscode_projects\\\\\\\\self-checkout\\\\\\\\artifacts\\\\\\\\temp\\\\\\\\mask\\\\\\\\Anjeer\\\\\\\\31Anjeer_07-20-2023-13-09-0530553_Focus_0.png', 'C:\\\\\\\\Users\\\\\\\\Zeeshan.khan\\\\\\\\vscode_projects\\\\\\\\self-checkout\\\\\\\\artifacts\\\\\\\\temp\\\\\\\\mask\\\\\\\\Anjeer\\\\\\\\32Anjeer_07-20-2023-13-09-1715889_Focus_0.png', 'C:\\\\\\\\Users\\\\\\\\Zeeshan.khan\\\\\\\\vscode_projects\\\\\\\\self-checkout\\\\\\\\artifacts\\\\\\\\temp\\\\\\\\mask\\\\\\\\Anjeer\\\\\\\\33Anjeer_07-20-2023-13-09-2318726_Focus_33.png', 'C:\\\\\\\\Users\\\\\\\\Zeeshan.khan\\\\\\\\vscode_projects\\\\\\\\self-checkout\\\\\\\\artifacts\\\\\\\\temp\\\\\\\\mask\\\\\\\\Anjeer\\\\\\\\34Anjeer_07-20-2023-13-09-3520583_Focus_33.png', 'C:\\\\\\\\Users\\\\\\\\Zeeshan.khan\\\\\\\\vscode_projects\\\\\\\\self-checkout\\\\\\\\artifacts\\\\\\\\temp\\\\\\\\mask\\\\\\\\Anjeer\\\\\\\\36Anjeer_07-20-2023-13-12-1890903_Focus_0.png', 'C:\\\\\\\\Users\\\\\\\\Zeeshan.khan\\\\\\\\vscode_projects\\\\\\\\self-checkout\\\\\\\\artifacts\\\\\\\\temp\\\\\\\\mask\\\\\\\\Anjeer\\\\\\\\37Anjeer_07-20-2023-13-12-3619288_Focus_15.png', 'C:\\\\\\\\Users\\\\\\\\Zeeshan.khan\\\\\\\\vscode_projects\\\\\\\\self-checkout\\\\\\\\artifacts\\\\\\\\temp\\\\\\\\mask\\\\\\\\Anjeer\\\\\\\\38Anjeer_07-20-2023-13-12-5084358_Focus_33.png', 'C:\\\\\\\\Users\\\\\\\\Zeeshan.khan\\\\\\\\vscode_projects\\\\\\\\self-checkout\\\\\\\\artifacts\\\\\\\\temp\\\\\\\\mask\\\\\\\\Anjeer\\\\\\\\3Anjeer_07-20-2023-12-58-0277874_Focus_0.png', 'C:\\\\\\\\Users\\\\\\\\Zeeshan.khan\\\\\\\\vscode_projects\\\\\\\\self-checkout\\\\\\\\artifacts\\\\\\\\temp\\\\\\\\mask\\\\\\\\Anjeer\\\\\\\\40Anjeer_07-20-2023-13-13-4410370_Focus_0.png', 'C:\\\\\\\\Users\\\\\\\\Zeeshan.khan\\\\\\\\vscode_projects\\\\\\\\self-checkout\\\\\\\\artifacts\\\\\\\\temp\\\\\\\\mask\\\\\\\\Anjeer\\\\\\\\4Anjeer_07-20-2023-13-03-048836_Focus_0.png', 'C:\\\\\\\\Users\\\\\\\\Zeeshan.khan\\\\\\\\vscode_projects\\\\\\\\self-checkout\\\\\\\\artifacts\\\\\\\\temp\\\\\\\\mask\\\\\\\\Anjeer\\\\\\\\5Anjeer_07-20-2023-13-03-2793445_Focus_15.png', 'C:\\\\\\\\Users\\\\\\\\Zeeshan.khan\\\\\\\\vscode_projects\\\\\\\\self-checkout\\\\\\\\artifacts\\\\\\\\temp\\\\\\\\mask\\\\\\\\Anjeer\\\\\\\\605Anjeer_08-16-2023-13-26-155925_Focus_33.png', 'C:\\\\\\\\Users\\\\\\\\Zeeshan.khan\\\\\\\\vscode_projects\\\\\\\\self-checkout\\\\\\\\artifacts\\\\\\\\temp\\\\\\\\mask\\\\\\\\Anjeer\\\\\\\\606Anjeer_08-16-2023-13-26-2168917_Focus_33.png', 'C:\\\\\\\\Users\\\\\\\\Zeeshan.khan\\\\\\\\vscode_projects\\\\\\\\self-checkout\\\\\\\\artifacts\\\\\\\\temp\\\\\\\\mask\\\\\\\\Anjeer\\\\\\\\607Anjeer_08-16-2023-13-26-2888984_Focus_15.png', 'C:\\\\\\\\Users\\\\\\\\Zeeshan.khan\\\\\\\\vscode_projects\\\\\\\\self-checkout\\\\\\\\artifacts\\\\\\\\temp\\\\\\\\mask\\\\\\\\Anjeer\\\\\\\\607Anjeer_08-16-2023-13-26-2888984_Focus_33.png', 'C:\\\\\\\\Users\\\\\\\\Zeeshan.khan\\\\\\\\vscode_projects\\\\\\\\self-checkout\\\\\\\\artifacts\\\\\\\\temp\\\\\\\\mask\\\\\\\\Anjeer\\\\\\\\608Anjeer_08-16-2023-13-26-3357830_Focus_0.png', 'C:\\\\\\\\Users\\\\\\\\Zeeshan.khan\\\\\\\\vscode_projects\\\\\\\\self-checkout\\\\\\\\artifacts\\\\\\\\temp\\\\\\\\mask\\\\\\\\Anjeer\\\\\\\\609Anjeer_08-16-2023-13-26-4638163_Focus_0.png', 'C:\\\\\\\\Users\\\\\\\\Zeeshan.khan\\\\\\\\vscode_projects\\\\\\\\self-checkout\\\\\\\\artifacts\\\\\\\\temp\\\\\\\\mask\\\\\\\\Anjeer\\\\\\\\610Anjeer_08-16-2023-13-26-5349775_Focus_0.png', 'C:\\\\\\\\Users\\\\\\\\Zeeshan.khan\\\\\\\\vscode_projects\\\\\\\\self-checkout\\\\\\\\artifacts\\\\\\\\temp\\\\\\\\mask\\\\\\\\Anjeer\\\\\\\\611Anjeer_08-16-2023-13-27-0025951_Focus_33.png', 'C:\\\\\\\\Users\\\\\\\\Zeeshan.khan\\\\\\\\vscode_projects\\\\\\\\self-checkout\\\\\\\\artifacts\\\\\\\\temp\\\\\\\\mask\\\\\\\\Anjeer\\\\\\\\612Anjeer_08-16-2023-13-27-0666549_Focus_0.png', 'C:\\\\\\\\Users\\\\\\\\Zeeshan.khan\\\\\\\\vscode_projects\\\\\\\\self-checkout\\\\\\\\artifacts\\\\\\\\temp\\\\\\\\mask\\\\\\\\Anjeer\\\\\\\\614Anjeer_08-16-2023-14-23-1997285_Focus_0.png', 'C:\\\\\\\\Users\\\\\\\\Zeeshan.khan\\\\\\\\vscode_projects\\\\\\\\self-checkout\\\\\\\\artifacts\\\\\\\\temp\\\\\\\\mask\\\\\\\\Anjeer\\\\\\\\615Anjeer_08-16-2023-14-23-2457008_Focus_0.png', 'C:\\\\\\\\Users\\\\\\\\Zeeshan.khan\\\\\\\\vscode_projects\\\\\\\\self-checkout\\\\\\\\artifacts\\\\\\\\temp\\\\\\\\mask\\\\\\\\Anjeer\\\\\\\\616Anjeer_08-16-2023-14-23-2886086_Focus_0.png', 'C:\\\\\\\\Users\\\\\\\\Zeeshan.khan\\\\\\\\vscode_projects\\\\\\\\self-checkout\\\\\\\\artifacts\\\\\\\\temp\\\\\\\\mask\\\\\\\\Anjeer\\\\\\\\617Anjeer_08-16-2023-14-23-3384853_Focus_15.png', 'C:\\\\\\\\Users\\\\\\\\Zeeshan.khan\\\\\\\\vscode_projects\\\\\\\\self-checkout\\\\\\\\artifacts\\\\\\\\temp\\\\\\\\mask\\\\\\\\Anjeer\\\\\\\\618Anjeer_08-16-2023-14-23-3984983_Focus_15.png', 'C:\\\\\\\\Users\\\\\\\\Zeeshan.khan\\\\\\\\vscode_projects\\\\\\\\self-checkout\\\\\\\\artifacts\\\\\\\\temp\\\\\\\\mask\\\\\\\\Anjeer\\\\\\\\619Anjeer_08-16-2023-14-23-4320427_Focus_15.png', 'C:\\\\\\\\Users\\\\\\\\Zeeshan.khan\\\\\\\\vscode_projects\\\\\\\\self-checkout\\\\\\\\artifacts\\\\\\\\temp\\\\\\\\mask\\\\\\\\Anjeer\\\\\\\\620Anjeer_08-16-2023-14-23-4767434_Focus_15.png', 'C:\\\\\\\\Users\\\\\\\\Zeeshan.khan\\\\\\\\vscode_projects\\\\\\\\self-checkout\\\\\\\\artifacts\\\\\\\\temp\\\\\\\\mask\\\\\\\\Anjeer\\\\\\\\621Anjeer_08-16-2023-14-23-5282042_Focus_0.png', 'C:\\\\\\\\Users\\\\\\\\Zeeshan.khan\\\\\\\\vscode_projects\\\\\\\\self-checkout\\\\\\\\artifacts\\\\\\\\temp\\\\\\\\mask\\\\\\\\Anjeer\\\\\\\\622Anjeer_08-16-2023-14-23-5883976_Focus_0.png', 'C:\\\\\\\\Users\\\\\\\\Zeeshan.khan\\\\\\\\vscode_projects\\\\\\\\self-checkout\\\\\\\\artifacts\\\\\\\\temp\\\\\\\\mask\\\\\\\\Anjeer\\\\\\\\623Anjeer_08-16-2023-14-24-0449806_Focus_0.png', 'C:\\\\\\\\Users\\\\\\\\Zeeshan.khan\\\\\\\\vscode_projects\\\\\\\\self-checkout\\\\\\\\artifacts\\\\\\\\temp\\\\\\\\mask\\\\\\\\Anjeer\\\\\\\\624Anjeer_08-16-2023-14-24-1185911_Focus_0.png', 'C:\\\\\\\\Users\\\\\\\\Zeeshan.khan\\\\\\\\vscode_projects\\\\\\\\self-checkout\\\\\\\\artifacts\\\\\\\\temp\\\\\\\\mask\\\\\\\\Anjeer\\\\\\\\625Anjeer_08-16-2023-14-24-1757357_Focus_0.png', 'C:\\\\\\\\Users\\\\\\\\Zeeshan.khan\\\\\\\\vscode_projects\\\\\\\\self-checkout\\\\\\\\artifacts\\\\\\\\temp\\\\\\\\mask\\\\\\\\Anjeer\\\\\\\\626Anjeer_08-16-2023-14-24-254466_Focus_0.png', 'C:\\\\\\\\Users\\\\\\\\Zeeshan.khan\\\\\\\\vscode_projects\\\\\\\\self-checkout\\\\\\\\artifacts\\\\\\\\temp\\\\\\\\mask\\\\\\\\Anjeer\\\\\\\\627Anjeer_08-16-2023-14-24-3144865_Focus_0.png', 'C:\\\\\\\\Users\\\\\\\\Zeeshan.khan\\\\\\\\vscode_projects\\\\\\\\self-checkout\\\\\\\\artifacts\\\\\\\\temp\\\\\\\\mask\\\\\\\\Anjeer\\\\\\\\628Anjeer_08-16-2023-14-24-4547910_Focus_0.png', 'C:\\\\\\\\Users\\\\\\\\Zeeshan.khan\\\\\\\\vscode_projects\\\\\\\\self-checkout\\\\\\\\artifacts\\\\\\\\temp\\\\\\\\mask\\\\\\\\Anjeer\\\\\\\\629Anjeer_08-16-2023-14-24-5052876_Focus_33.png', 'C:\\\\\\\\Users\\\\\\\\Zeeshan.khan\\\\\\\\vscode_projects\\\\\\\\self-checkout\\\\\\\\artifacts\\\\\\\\temp\\\\\\\\mask\\\\\\\\Anjeer\\\\\\\\630Anjeer_08-16-2023-14-24-5793135_Focus_33.png', 'C:\\\\\\\\Users\\\\\\\\Zeeshan.khan\\\\\\\\vscode_projects\\\\\\\\self-checkout\\\\\\\\artifacts\\\\\\\\temp\\\\\\\\mask\\\\\\\\Anjeer\\\\\\\\631Anjeer_08-16-2023-14-25-031293_Focus_33.png', 'C:\\\\\\\\Users\\\\\\\\Zeeshan.khan\\\\\\\\vscode_projects\\\\\\\\self-checkout\\\\\\\\artifacts\\\\\\\\temp\\\\\\\\mask\\\\\\\\Anjeer\\\\\\\\632Anjeer_08-16-2023-14-25-0942203_Focus_33.png', 'C:\\\\\\\\Users\\\\\\\\Zeeshan.khan\\\\\\\\vscode_projects\\\\\\\\self-checkout\\\\\\\\artifacts\\\\\\\\temp\\\\\\\\mask\\\\\\\\Anjeer\\\\\\\\633Anjeer_08-16-2023-14-25-1529512_Focus_0.png', 'C:\\\\\\\\Users\\\\\\\\Zeeshan.khan\\\\\\\\vscode_projects\\\\\\\\self-checkout\\\\\\\\artifacts\\\\\\\\temp\\\\\\\\mask\\\\\\\\Anjeer\\\\\\\\635Anjeer_08-16-2023-14-25-2676055_Focus_15.png', 'C:\\\\\\\\Users\\\\\\\\Zeeshan.khan\\\\\\\\vscode_projects\\\\\\\\self-checkout\\\\\\\\artifacts\\\\\\\\temp\\\\\\\\mask\\\\\\\\Anjeer\\\\\\\\636Anjeer_08-16-2023-14-25-3225297_Focus_0.png', 'C:\\\\\\\\Users\\\\\\\\Zeeshan.khan\\\\\\\\vscode_projects\\\\\\\\self-checkout\\\\\\\\artifacts\\\\\\\\temp\\\\\\\\mask\\\\\\\\Anjeer\\\\\\\\637Anjeer_08-16-2023-14-25-3867079_Focus_0.png', 'C:\\\\\\\\Users\\\\\\\\Zeeshan.khan\\\\\\\\vscode_projects\\\\\\\\self-checkout\\\\\\\\artifacts\\\\\\\\temp\\\\\\\\mask\\\\\\\\Anjeer\\\\\\\\638Anjeer_08-16-2023-14-25-4430021_Focus_33.png', 'C:\\\\\\\\Users\\\\\\\\Zeeshan.khan\\\\\\\\vscode_projects\\\\\\\\self-checkout\\\\\\\\artifacts\\\\\\\\temp\\\\\\\\mask\\\\\\\\Anjeer\\\\\\\\639Anjeer_08-16-2023-14-25-4951393_Focus_33.png', 'C:\\\\\\\\Users\\\\\\\\Zeeshan.khan\\\\\\\\vscode_projects\\\\\\\\self-checkout\\\\\\\\artifacts\\\\\\\\temp\\\\\\\\mask\\\\\\\\Anjeer\\\\\\\\640Anjeer_08-16-2023-14-25-5478927_Focus_33.png', 'C:\\\\\\\\Users\\\\\\\\Zeeshan.khan\\\\\\\\vscode_projects\\\\\\\\self-checkout\\\\\\\\artifacts\\\\\\\\temp\\\\\\\\mask\\\\\\\\Anjeer\\\\\\\\641Anjeer_08-16-2023-14-25-5971391_Focus_33.png', 'C:\\\\\\\\Users\\\\\\\\Zeeshan.khan\\\\\\\\vscode_projects\\\\\\\\self-checkout\\\\\\\\artifacts\\\\\\\\temp\\\\\\\\mask\\\\\\\\Anjeer\\\\\\\\642Anjeer_08-16-2023-14-26-0427763_Focus_33.png', 'C:\\\\\\\\Users\\\\\\\\Zeeshan.khan\\\\\\\\vscode_projects\\\\\\\\self-checkout\\\\\\\\artifacts\\\\\\\\temp\\\\\\\\mask\\\\\\\\Anjeer\\\\\\\\643Anjeer_08-16-2023-14-26-103245_Focus_33.png', 'C:\\\\\\\\Users\\\\\\\\Zeeshan.khan\\\\\\\\vscode_projects\\\\\\\\self-checkout\\\\\\\\artifacts\\\\\\\\temp\\\\\\\\mask\\\\\\\\Anjeer\\\\\\\\644Anjeer_08-16-2023-14-26-1872785_Focus_33.png', 'C:\\\\\\\\Users\\\\\\\\Zeeshan.khan\\\\\\\\vscode_projects\\\\\\\\self-checkout\\\\\\\\artifacts\\\\\\\\temp\\\\\\\\mask\\\\\\\\Anjeer\\\\\\\\645Anjeer_08-16-2023-14-26-3748505_Focus_33.png', 'C:\\\\\\\\Users\\\\\\\\Zeeshan.khan\\\\\\\\vscode_projects\\\\\\\\self-checkout\\\\\\\\artifacts\\\\\\\\temp\\\\\\\\mask\\\\\\\\Anjeer\\\\\\\\646Anjeer_08-16-2023-14-26-4633555_Focus_33.png', 'C:\\\\\\\\Users\\\\\\\\Zeeshan.khan\\\\\\\\vscode_projects\\\\\\\\self-checkout\\\\\\\\artifacts\\\\\\\\temp\\\\\\\\mask\\\\\\\\Anjeer\\\\\\\\647Anjeer_08-16-2023-14-26-5424140_Focus_15.png', 'C:\\\\\\\\Users\\\\\\\\Zeeshan.khan\\\\\\\\vscode_projects\\\\\\\\self-checkout\\\\\\\\artifacts\\\\\\\\temp\\\\\\\\mask\\\\\\\\Anjeer\\\\\\\\648Anjeer_08-16-2023-14-27-0151200_Focus_0.png', 'C:\\\\\\\\Users\\\\\\\\Zeeshan.khan\\\\\\\\vscode_projects\\\\\\\\self-checkout\\\\\\\\artifacts\\\\\\\\temp\\\\\\\\mask\\\\\\\\Anjeer\\\\\\\\649Anjeer_08-16-2023-14-27-0874356_Focus_0.png', 'C:\\\\\\\\Users\\\\\\\\Zeeshan.khan\\\\\\\\vscode_projects\\\\\\\\self-checkout\\\\\\\\artifacts\\\\\\\\temp\\\\\\\\mask\\\\\\\\Anjeer\\\\\\\\650Anjeer_08-16-2023-14-27-1479931_Focus_0.png', 'C:\\\\\\\\Users\\\\\\\\Zeeshan.khan\\\\\\\\vscode_projects\\\\\\\\self-checkout\\\\\\\\artifacts\\\\\\\\temp\\\\\\\\mask\\\\\\\\Anjeer\\\\\\\\651Anjeer_08-16-2023-14-27-2231086_Focus_33.png', 'C:\\\\\\\\Users\\\\\\\\Zeeshan.khan\\\\\\\\vscode_projects\\\\\\\\self-checkout\\\\\\\\artifacts\\\\\\\\temp\\\\\\\\mask\\\\\\\\Anjeer\\\\\\\\652Anjeer_08-16-2023-14-27-2967538_Focus_33.png', 'C:\\\\\\\\Users\\\\\\\\Zeeshan.khan\\\\\\\\vscode_projects\\\\\\\\self-checkout\\\\\\\\artifacts\\\\\\\\temp\\\\\\\\mask\\\\\\\\Anjeer\\\\\\\\653Anjeer_08-16-2023-14-27-5780125_Focus_33.png', 'C:\\\\\\\\Users\\\\\\\\Zeeshan.khan\\\\\\\\vscode_projects\\\\\\\\self-checkout\\\\\\\\artifacts\\\\\\\\temp\\\\\\\\mask\\\\\\\\Anjeer\\\\\\\\654Anjeer_08-16-2023-14-28-052950_Focus_33.png', 'C:\\\\\\\\Users\\\\\\\\Zeeshan.khan\\\\\\\\vscode_projects\\\\\\\\self-checkout\\\\\\\\artifacts\\\\\\\\temp\\\\\\\\mask\\\\\\\\Anjeer\\\\\\\\655Anjeer_08-16-2023-14-28-1448699_Focus_33.png', 'C:\\\\\\\\Users\\\\\\\\Zeeshan.khan\\\\\\\\vscode_projects\\\\\\\\self-checkout\\\\\\\\artifacts\\\\\\\\temp\\\\\\\\mask\\\\\\\\Anjeer\\\\\\\\656Anjeer_08-16-2023-14-28-2092899_Focus_33.png', 'C:\\\\\\\\Users\\\\\\\\Zeeshan.khan\\\\\\\\vscode_projects\\\\\\\\self-checkout\\\\\\\\artifacts\\\\\\\\temp\\\\\\\\mask\\\\\\\\Anjeer\\\\\\\\657Anjeer_08-16-2023-14-28-2836035_Focus_33.png', 'C:\\\\\\\\Users\\\\\\\\Zeeshan.khan\\\\\\\\vscode_projects\\\\\\\\self-checkout\\\\\\\\artifacts\\\\\\\\temp\\\\\\\\mask\\\\\\\\Anjeer\\\\\\\\658Anjeer_08-16-2023-14-28-3461305_Focus_33.png', 'C:\\\\\\\\Users\\\\\\\\Zeeshan.khan\\\\\\\\vscode_projects\\\\\\\\self-checkout\\\\\\\\artifacts\\\\\\\\temp\\\\\\\\mask\\\\\\\\Anjeer\\\\\\\\659Anjeer_08-16-2023-14-28-4468585_Focus_33.png', 'C:\\\\\\\\Users\\\\\\\\Zeeshan.khan\\\\\\\\vscode_projects\\\\\\\\self-checkout\\\\\\\\artifacts\\\\\\\\temp\\\\\\\\mask\\\\\\\\Anjeer\\\\\\\\660Anjeer_08-16-2023-14-28-5449511_Focus_33.png', 'C:\\\\\\\\Users\\\\\\\\Zeeshan.khan\\\\\\\\vscode_projects\\\\\\\\self-checkout\\\\\\\\artifacts\\\\\\\\temp\\\\\\\\mask\\\\\\\\Anjeer\\\\\\\\661Anjeer_08-16-2023-14-29-0241306_Focus_33.png', 'C:\\\\\\\\Users\\\\\\\\Zeeshan.khan\\\\\\\\vscode_projects\\\\\\\\self-checkout\\\\\\\\artifacts\\\\\\\\temp\\\\\\\\mask\\\\\\\\Anjeer\\\\\\\\662Anjeer_08-16-2023-14-29-0921054_Focus_33.png', 'C:\\\\\\\\Users\\\\\\\\Zeeshan.khan\\\\\\\\vscode_projects\\\\\\\\self-checkout\\\\\\\\artifacts\\\\\\\\temp\\\\\\\\mask\\\\\\\\Anjeer\\\\\\\\663Anjeer_08-16-2023-14-29-1890985_Focus_33.png', 'C:\\\\\\\\Users\\\\\\\\Zeeshan.khan\\\\\\\\vscode_projects\\\\\\\\self-checkout\\\\\\\\artifacts\\\\\\\\temp\\\\\\\\mask\\\\\\\\Anjeer\\\\\\\\664Anjeer_08-16-2023-14-29-2663850_Focus_33.png', 'C:\\\\\\\\Users\\\\\\\\Zeeshan.khan\\\\\\\\vscode_projects\\\\\\\\self-checkout\\\\\\\\artifacts\\\\\\\\temp\\\\\\\\mask\\\\\\\\Anjeer\\\\\\\\665Anjeer_08-16-2023-14-29-3366059_Focus_15.png', 'C:\\\\\\\\Users\\\\\\\\Zeeshan.khan\\\\\\\\vscode_projects\\\\\\\\self-checkout\\\\\\\\artifacts\\\\\\\\temp\\\\\\\\mask\\\\\\\\Anjeer\\\\\\\\666Anjeer_08-16-2023-14-29-3890297_Focus_15.png', 'C:\\\\\\\\Users\\\\\\\\Zeeshan.khan\\\\\\\\vscode_projects\\\\\\\\self-checkout\\\\\\\\artifacts\\\\\\\\temp\\\\\\\\mask\\\\\\\\Anjeer\\\\\\\\667Anjeer_08-16-2023-14-29-4387502_Focus_0.png', 'C:\\\\\\\\Users\\\\\\\\Zeeshan.khan\\\\\\\\vscode_projects\\\\\\\\self-checkout\\\\\\\\artifacts\\\\\\\\temp\\\\\\\\mask\\\\\\\\Anjeer\\\\\\\\668Anjeer_08-16-2023-14-29-5188252_Focus_33.png', 'C:\\\\\\\\Users\\\\\\\\Zeeshan.khan\\\\\\\\vscode_projects\\\\\\\\self-checkout\\\\\\\\artifacts\\\\\\\\temp\\\\\\\\mask\\\\\\\\Anjeer\\\\\\\\669Anjeer_08-16-2023-14-29-5651204_Focus_15.png', 'C:\\\\\\\\Users\\\\\\\\Zeeshan.khan\\\\\\\\vscode_projects\\\\\\\\self-checkout\\\\\\\\artifacts\\\\\\\\temp\\\\\\\\mask\\\\\\\\Anjeer\\\\\\\\670Anjeer_08-16-2023-14-30-0390944_Focus_15.png', 'C:\\\\\\\\Users\\\\\\\\Zeeshan.khan\\\\\\\\vscode_projects\\\\\\\\self-checkout\\\\\\\\artifacts\\\\\\\\temp\\\\\\\\mask\\\\\\\\Anjeer\\\\\\\\671Anjeer_08-16-2023-14-30-0951704_Focus_15.png', 'C:\\\\\\\\Users\\\\\\\\Zeeshan.khan\\\\\\\\vscode_projects\\\\\\\\self-checkout\\\\\\\\artifacts\\\\\\\\temp\\\\\\\\mask\\\\\\\\Anjeer\\\\\\\\672Anjeer_08-16-2023-14-30-2658498_Focus_0.png', 'C:\\\\\\\\Users\\\\\\\\Zeeshan.khan\\\\\\\\vscode_projects\\\\\\\\self-checkout\\\\\\\\artifacts\\\\\\\\temp\\\\\\\\mask\\\\\\\\Anjeer\\\\\\\\673Anjeer_08-16-2023-14-30-3780485_Focus_33.png', 'C:\\\\\\\\Users\\\\\\\\Zeeshan.khan\\\\\\\\vscode_projects\\\\\\\\self-checkout\\\\\\\\artifacts\\\\\\\\temp\\\\\\\\mask\\\\\\\\Anjeer\\\\\\\\674Anjeer_08-16-2023-14-30-4238882_Focus_33.png', 'C:\\\\\\\\Users\\\\\\\\Zeeshan.khan\\\\\\\\vscode_projects\\\\\\\\self-checkout\\\\\\\\artifacts\\\\\\\\temp\\\\\\\\mask\\\\\\\\Anjeer\\\\\\\\675Anjeer_08-16-2023-14-30-5156576_Focus_15.png', 'C:\\\\\\\\Users\\\\\\\\Zeeshan.khan\\\\\\\\vscode_projects\\\\\\\\self-checkout\\\\\\\\artifacts\\\\\\\\temp\\\\\\\\mask\\\\\\\\Anjeer\\\\\\\\676Anjeer_08-16-2023-14-30-5730959_Focus_0.png', 'C:\\\\\\\\Users\\\\\\\\Zeeshan.khan\\\\\\\\vscode_projects\\\\\\\\self-checkout\\\\\\\\artifacts\\\\\\\\temp\\\\\\\\mask\\\\\\\\Anjeer\\\\\\\\677Anjeer_08-16-2023-14-31-1414595_Focus_0.png', 'C:\\\\\\\\Users\\\\\\\\Zeeshan.khan\\\\\\\\vscode_projects\\\\\\\\self-checkout\\\\\\\\artifacts\\\\\\\\temp\\\\\\\\mask\\\\\\\\Anjeer\\\\\\\\678Anjeer_08-16-2023-14-31-2470333_Focus_0.png', 'C:\\\\\\\\Users\\\\\\\\Zeeshan.khan\\\\\\\\vscode_projects\\\\\\\\self-checkout\\\\\\\\artifacts\\\\\\\\temp\\\\\\\\mask\\\\\\\\Anjeer\\\\\\\\679Anjeer_08-16-2023-14-31-3352168_Focus_0.png', 'C:\\\\\\\\Users\\\\\\\\Zeeshan.khan\\\\\\\\vscode_projects\\\\\\\\self-checkout\\\\\\\\artifacts\\\\\\\\temp\\\\\\\\mask\\\\\\\\Anjeer\\\\\\\\679Anjeer_08-16-2023-14-31-3352168_Focus_33.png', 'C:\\\\\\\\Users\\\\\\\\Zeeshan.khan\\\\\\\\vscode_projects\\\\\\\\self-checkout\\\\\\\\artifacts\\\\\\\\temp\\\\\\\\mask\\\\\\\\Anjeer\\\\\\\\680Anjeer_08-16-2023-14-31-4537327_Focus_33.png', 'C:\\\\\\\\Users\\\\\\\\Zeeshan.khan\\\\\\\\vscode_projects\\\\\\\\self-checkout\\\\\\\\artifacts\\\\\\\\temp\\\\\\\\mask\\\\\\\\Anjeer\\\\\\\\681Anjeer_08-16-2023-14-31-5320104_Focus_33.png', 'C:\\\\\\\\Users\\\\\\\\Zeeshan.khan\\\\\\\\vscode_projects\\\\\\\\self-checkout\\\\\\\\artifacts\\\\\\\\temp\\\\\\\\mask\\\\\\\\Anjeer\\\\\\\\682Anjeer_08-16-2023-14-32-0429317_Focus_33.png', 'C:\\\\\\\\Users\\\\\\\\Zeeshan.khan\\\\\\\\vscode_projects\\\\\\\\self-checkout\\\\\\\\artifacts\\\\\\\\temp\\\\\\\\mask\\\\\\\\Anjeer\\\\\\\\683Anjeer_08-16-2023-14-32-1319345_Focus_33.png', 'C:\\\\\\\\Users\\\\\\\\Zeeshan.khan\\\\\\\\vscode_projects\\\\\\\\self-checkout\\\\\\\\artifacts\\\\\\\\temp\\\\\\\\mask\\\\\\\\Anjeer\\\\\\\\684Anjeer_08-16-2023-14-32-2311587_Focus_33.png', 'C:\\\\\\\\Users\\\\\\\\Zeeshan.khan\\\\\\\\vscode_projects\\\\\\\\self-checkout\\\\\\\\artifacts\\\\\\\\temp\\\\\\\\mask\\\\\\\\Anjeer\\\\\\\\685Anjeer_08-16-2023-14-32-3262434_Focus_33.png', 'C:\\\\\\\\Users\\\\\\\\Zeeshan.khan\\\\\\\\vscode_projects\\\\\\\\self-checkout\\\\\\\\artifacts\\\\\\\\temp\\\\\\\\mask\\\\\\\\Anjeer\\\\\\\\686Anjeer_08-16-2023-14-32-446029_Focus_15.png', 'C:\\\\\\\\Users\\\\\\\\Zeeshan.khan\\\\\\\\vscode_projects\\\\\\\\self-checkout\\\\\\\\artifacts\\\\\\\\temp\\\\\\\\mask\\\\\\\\Anjeer\\\\\\\\687Anjeer_08-16-2023-14-32-5364908_Focus_15.png', 'C:\\\\\\\\Users\\\\\\\\Zeeshan.khan\\\\\\\\vscode_projects\\\\\\\\self-checkout\\\\\\\\artifacts\\\\\\\\temp\\\\\\\\mask\\\\\\\\Anjeer\\\\\\\\688Anjeer_08-16-2023-14-33-0629993_Focus_0.png', 'C:\\\\\\\\Users\\\\\\\\Zeeshan.khan\\\\\\\\vscode_projects\\\\\\\\self-checkout\\\\\\\\artifacts\\\\\\\\temp\\\\\\\\mask\\\\\\\\Anjeer\\\\\\\\689Anjeer_08-16-2023-14-33-1890620_Focus_0.png', 'C:\\\\\\\\Users\\\\\\\\Zeeshan.khan\\\\\\\\vscode_projects\\\\\\\\self-checkout\\\\\\\\artifacts\\\\\\\\temp\\\\\\\\mask\\\\\\\\Anjeer\\\\\\\\690Anjeer_08-16-2023-14-33-3082992_Focus_0.png', 'C:\\\\\\\\Users\\\\\\\\Zeeshan.khan\\\\\\\\vscode_projects\\\\\\\\self-checkout\\\\\\\\artifacts\\\\\\\\temp\\\\\\\\mask\\\\\\\\Anjeer\\\\\\\\691Anjeer_08-16-2023-14-33-3918516_Focus_0.png', 'C:\\\\\\\\Users\\\\\\\\Zeeshan.khan\\\\\\\\vscode_projects\\\\\\\\self-checkout\\\\\\\\artifacts\\\\\\\\temp\\\\\\\\mask\\\\\\\\Anjeer\\\\\\\\692Anjeer_08-16-2023-14-34-0677234_Focus_0.png', 'C:\\\\\\\\Users\\\\\\\\Zeeshan.khan\\\\\\\\vscode_projects\\\\\\\\self-checkout\\\\\\\\artifacts\\\\\\\\temp\\\\\\\\mask\\\\\\\\Anjeer\\\\\\\\693Anjeer_08-16-2023-14-34-1255849_Focus_0.png', 'C:\\\\\\\\Users\\\\\\\\Zeeshan.khan\\\\\\\\vscode_projects\\\\\\\\self-checkout\\\\\\\\artifacts\\\\\\\\temp\\\\\\\\mask\\\\\\\\Anjeer\\\\\\\\694Anjeer_08-16-2023-14-34-1726505_Focus_0.png', 'C:\\\\\\\\Users\\\\\\\\Zeeshan.khan\\\\\\\\vscode_projects\\\\\\\\self-checkout\\\\\\\\artifacts\\\\\\\\temp\\\\\\\\mask\\\\\\\\Anjeer\\\\\\\\695Anjeer_08-16-2023-14-34-3039285_Focus_0.png', 'C:\\\\\\\\Users\\\\\\\\Zeeshan.khan\\\\\\\\vscode_projects\\\\\\\\self-checkout\\\\\\\\artifacts\\\\\\\\temp\\\\\\\\mask\\\\\\\\Anjeer\\\\\\\\696Anjeer_08-16-2023-14-34-4457411_Focus_33.png', 'C:\\\\\\\\Users\\\\\\\\Zeeshan.khan\\\\\\\\vscode_projects\\\\\\\\self-checkout\\\\\\\\artifacts\\\\\\\\temp\\\\\\\\mask\\\\\\\\Anjeer\\\\\\\\697Anjeer_08-16-2023-14-35-0077572_Focus_33.png', 'C:\\\\\\\\Users\\\\\\\\Zeeshan.khan\\\\\\\\vscode_projects\\\\\\\\self-checkout\\\\\\\\artifacts\\\\\\\\temp\\\\\\\\mask\\\\\\\\Anjeer\\\\\\\\698Anjeer_08-16-2023-14-35-0621674_Focus_33.png', 'C:\\\\\\\\Users\\\\\\\\Zeeshan.khan\\\\\\\\vscode_projects\\\\\\\\self-checkout\\\\\\\\artifacts\\\\\\\\temp\\\\\\\\mask\\\\\\\\Anjeer\\\\\\\\699Anjeer_08-16-2023-14-35-302545_Focus_33.png', 'C:\\\\\\\\Users\\\\\\\\Zeeshan.khan\\\\\\\\vscode_projects\\\\\\\\self-checkout\\\\\\\\artifacts\\\\\\\\temp\\\\\\\\mask\\\\\\\\Anjeer\\\\\\\\6Anjeer_07-20-2023-13-03-3660780_Focus_33.png', 'C:\\\\\\\\Users\\\\\\\\Zeeshan.khan\\\\\\\\vscode_projects\\\\\\\\self-checkout\\\\\\\\artifacts\\\\\\\\temp\\\\\\\\mask\\\\\\\\Anjeer\\\\\\\\700Anjeer_08-16-2023-14-35-3984138_Focus_33.png', 'C:\\\\\\\\Users\\\\\\\\Zeeshan.khan\\\\\\\\vscode_projects\\\\\\\\self-checkout\\\\\\\\artifacts\\\\\\\\temp\\\\\\\\mask\\\\\\\\Anjeer\\\\\\\\701Anjeer_08-16-2023-14-35-4619407_Focus_15.png', 'C:\\\\\\\\Users\\\\\\\\Zeeshan.khan\\\\\\\\vscode_projects\\\\\\\\self-checkout\\\\\\\\artifacts\\\\\\\\temp\\\\\\\\mask\\\\\\\\Anjeer\\\\\\\\702Anjeer_08-16-2023-14-35-5228772_Focus_15.png', 'C:\\\\\\\\Users\\\\\\\\Zeeshan.khan\\\\\\\\vscode_projects\\\\\\\\self-checkout\\\\\\\\artifacts\\\\\\\\temp\\\\\\\\mask\\\\\\\\Anjeer\\\\\\\\702Anjeer_08-16-2023-14-35-5228772_Focus_33.png', 'C:\\\\\\\\Users\\\\\\\\Zeeshan.khan\\\\\\\\vscode_projects\\\\\\\\self-checkout\\\\\\\\artifacts\\\\\\\\temp\\\\\\\\mask\\\\\\\\Anjeer\\\\\\\\703Anjeer_08-16-2023-14-35-5880335_Focus_33.png', 'C:\\\\\\\\Users\\\\\\\\Zeeshan.khan\\\\\\\\vscode_projects\\\\\\\\self-checkout\\\\\\\\artifacts\\\\\\\\temp\\\\\\\\mask\\\\\\\\Anjeer\\\\\\\\704Anjeer_08-16-2023-14-36-0480586_Focus_33.png', 'C:\\\\\\\\Users\\\\\\\\Zeeshan.khan\\\\\\\\vscode_projects\\\\\\\\self-checkout\\\\\\\\artifacts\\\\\\\\temp\\\\\\\\mask\\\\\\\\Anjeer\\\\\\\\705Anjeer_08-16-2023-14-36-1594992_Focus_33.png', 'C:\\\\\\\\Users\\\\\\\\Zeeshan.khan\\\\\\\\vscode_projects\\\\\\\\self-checkout\\\\\\\\artifacts\\\\\\\\temp\\\\\\\\mask\\\\\\\\Anjeer\\\\\\\\706Anjeer_08-16-2023-14-36-2322372_Focus_0.png', 'C:\\\\\\\\Users\\\\\\\\Zeeshan.khan\\\\\\\\vscode_projects\\\\\\\\self-checkout\\\\\\\\artifacts\\\\\\\\temp\\\\\\\\mask\\\\\\\\Anjeer\\\\\\\\707Anjeer_08-16-2023-14-36-2961465_Focus_0.png', 'C:\\\\\\\\Users\\\\\\\\Zeeshan.khan\\\\\\\\vscode_projects\\\\\\\\self-checkout\\\\\\\\artifacts\\\\\\\\temp\\\\\\\\mask\\\\\\\\Anjeer\\\\\\\\708Anjeer_08-16-2023-14-36-4692871_Focus_0.png', 'C:\\\\\\\\Users\\\\\\\\Zeeshan.khan\\\\\\\\vscode_projects\\\\\\\\self-checkout\\\\\\\\artifacts\\\\\\\\temp\\\\\\\\mask\\\\\\\\Anjeer\\\\\\\\709Anjeer_08-16-2023-14-36-5152913_Focus_0.png', 'C:\\\\\\\\Users\\\\\\\\Zeeshan.khan\\\\\\\\vscode_projects\\\\\\\\self-checkout\\\\\\\\artifacts\\\\\\\\temp\\\\\\\\mask\\\\\\\\Anjeer\\\\\\\\710Anjeer_08-16-2023-14-36-5830179_Focus_0.png', 'C:\\\\\\\\Users\\\\\\\\Zeeshan.khan\\\\\\\\vscode_projects\\\\\\\\self-checkout\\\\\\\\artifacts\\\\\\\\temp\\\\\\\\mask\\\\\\\\Anjeer\\\\\\\\711Anjeer_08-16-2023-14-37-0676192_Focus_0.png', 'C:\\\\\\\\Users\\\\\\\\Zeeshan.khan\\\\\\\\vscode_projects\\\\\\\\self-checkout\\\\\\\\artifacts\\\\\\\\temp\\\\\\\\mask\\\\\\\\Anjeer\\\\\\\\712Anjeer_08-16-2023-14-37-1389777_Focus_0.png', 'C:\\\\\\\\Users\\\\\\\\Zeeshan.khan\\\\\\\\vscode_projects\\\\\\\\self-checkout\\\\\\\\artifacts\\\\\\\\temp\\\\\\\\mask\\\\\\\\Anjeer\\\\\\\\713Anjeer_08-16-2023-14-37-1989892_Focus_0.png', 'C:\\\\\\\\Users\\\\\\\\Zeeshan.khan\\\\\\\\vscode_projects\\\\\\\\self-checkout\\\\\\\\artifacts\\\\\\\\temp\\\\\\\\mask\\\\\\\\Anjeer\\\\\\\\714Anjeer_08-16-2023-14-39-3979438_Focus_0.png', 'C:\\\\\\\\Users\\\\\\\\Zeeshan.khan\\\\\\\\vscode_projects\\\\\\\\self-checkout\\\\\\\\artifacts\\\\\\\\temp\\\\\\\\mask\\\\\\\\Anjeer\\\\\\\\715Anjeer_08-16-2023-14-39-5416933_Focus_0.png', 'C:\\\\\\\\Users\\\\\\\\Zeeshan.khan\\\\\\\\vscode_projects\\\\\\\\self-checkout\\\\\\\\artifacts\\\\\\\\temp\\\\\\\\mask\\\\\\\\Anjeer\\\\\\\\716Anjeer_08-16-2023-14-40-0158669_Focus_0.png', 'C:\\\\\\\\Users\\\\\\\\Zeeshan.khan\\\\\\\\vscode_projects\\\\\\\\self-checkout\\\\\\\\artifacts\\\\\\\\temp\\\\\\\\mask\\\\\\\\Anjeer\\\\\\\\717Anjeer_08-16-2023-14-40-1033137_Focus_33.png', 'C:\\\\\\\\Users\\\\\\\\Zeeshan.khan\\\\\\\\vscode_projects\\\\\\\\self-checkout\\\\\\\\artifacts\\\\\\\\temp\\\\\\\\mask\\\\\\\\Anjeer\\\\\\\\718Anjeer_08-16-2023-14-40-1826635_Focus_33.png', 'C:\\\\\\\\Users\\\\\\\\Zeeshan.khan\\\\\\\\vscode_projects\\\\\\\\self-checkout\\\\\\\\artifacts\\\\\\\\temp\\\\\\\\mask\\\\\\\\Anjeer\\\\\\\\719Anjeer_08-16-2023-14-40-2424982_Focus_33.png', 'C:\\\\\\\\Users\\\\\\\\Zeeshan.khan\\\\\\\\vscode_projects\\\\\\\\self-checkout\\\\\\\\artifacts\\\\\\\\temp\\\\\\\\mask\\\\\\\\Anjeer\\\\\\\\720Anjeer_08-16-2023-14-40-3095707_Focus_33.png', 'C:\\\\\\\\Users\\\\\\\\Zeeshan.khan\\\\\\\\vscode_projects\\\\\\\\self-checkout\\\\\\\\artifacts\\\\\\\\temp\\\\\\\\mask\\\\\\\\Anjeer\\\\\\\\721Anjeer_08-16-2023-14-40-3820266_Focus_33.png', 'C:\\\\\\\\Users\\\\\\\\Zeeshan.khan\\\\\\\\vscode_projects\\\\\\\\self-checkout\\\\\\\\artifacts\\\\\\\\temp\\\\\\\\mask\\\\\\\\Anjeer\\\\\\\\722Anjeer_08-16-2023-14-40-4412551_Focus_33.png', 'C:\\\\\\\\Users\\\\\\\\Zeeshan.khan\\\\\\\\vscode_projects\\\\\\\\self-checkout\\\\\\\\artifacts\\\\\\\\temp\\\\\\\\mask\\\\\\\\Anjeer\\\\\\\\723Anjeer_08-16-2023-14-40-491924_Focus_33.png', 'C:\\\\\\\\Users\\\\\\\\Zeeshan.khan\\\\\\\\vscode_projects\\\\\\\\self-checkout\\\\\\\\artifacts\\\\\\\\temp\\\\\\\\mask\\\\\\\\Anjeer\\\\\\\\724Anjeer_08-16-2023-14-40-5466215_Focus_33.png', 'C:\\\\\\\\Users\\\\\\\\Zeeshan.khan\\\\\\\\vscode_projects\\\\\\\\self-checkout\\\\\\\\artifacts\\\\\\\\temp\\\\\\\\mask\\\\\\\\Anjeer\\\\\\\\725Anjeer_08-16-2023-14-41-0020922_Focus_33.png', 'C:\\\\\\\\Users\\\\\\\\Zeeshan.khan\\\\\\\\vscode_projects\\\\\\\\self-checkout\\\\\\\\artifacts\\\\\\\\temp\\\\\\\\mask\\\\\\\\Anjeer\\\\\\\\726Anjeer_08-16-2023-14-41-1331764_Focus_33.png', 'C:\\\\\\\\Users\\\\\\\\Zeeshan.khan\\\\\\\\vscode_projects\\\\\\\\self-checkout\\\\\\\\artifacts\\\\\\\\temp\\\\\\\\mask\\\\\\\\Anjeer\\\\\\\\727Anjeer_08-16-2023-14-41-259195_Focus_33.png', 'C:\\\\\\\\Users\\\\\\\\Zeeshan.khan\\\\\\\\vscode_projects\\\\\\\\self-checkout\\\\\\\\artifacts\\\\\\\\temp\\\\\\\\mask\\\\\\\\Anjeer\\\\\\\\728Anjeer_08-16-2023-14-41-3422897_Focus_33.png', 'C:\\\\\\\\Users\\\\\\\\Zeeshan.khan\\\\\\\\vscode_projects\\\\\\\\self-checkout\\\\\\\\artifacts\\\\\\\\temp\\\\\\\\mask\\\\\\\\Anjeer\\\\\\\\729Anjeer_08-16-2023-14-41-4579509_Focus_33.png', 'C:\\\\\\\\Users\\\\\\\\Zeeshan.khan\\\\\\\\vscode_projects\\\\\\\\self-checkout\\\\\\\\artifacts\\\\\\\\temp\\\\\\\\mask\\\\\\\\Anjeer\\\\\\\\730Anjeer_08-16-2023-14-41-5253519_Focus_33.png', 'C:\\\\\\\\Users\\\\\\\\Zeeshan.khan\\\\\\\\vscode_projects\\\\\\\\self-checkout\\\\\\\\artifacts\\\\\\\\temp\\\\\\\\mask\\\\\\\\Anjeer\\\\\\\\731Anjeer_08-16-2023-14-41-5872216_Focus_33.png', 'C:\\\\\\\\Users\\\\\\\\Zeeshan.khan\\\\\\\\vscode_projects\\\\\\\\self-checkout\\\\\\\\artifacts\\\\\\\\temp\\\\\\\\mask\\\\\\\\Anjeer\\\\\\\\732Anjeer_08-16-2023-14-42-0428498_Focus_33.png', 'C:\\\\\\\\Users\\\\\\\\Zeeshan.khan\\\\\\\\vscode_projects\\\\\\\\self-checkout\\\\\\\\artifacts\\\\\\\\temp\\\\\\\\mask\\\\\\\\Anjeer\\\\\\\\733Anjeer_08-16-2023-14-42-09304_Focus_33.png', 'C:\\\\\\\\Users\\\\\\\\Zeeshan.khan\\\\\\\\vscode_projects\\\\\\\\self-checkout\\\\\\\\artifacts\\\\\\\\temp\\\\\\\\mask\\\\\\\\Anjeer\\\\\\\\734Anjeer_08-16-2023-14-42-1482328_Focus_33.png', 'C:\\\\\\\\Users\\\\\\\\Zeeshan.khan\\\\\\\\vscode_projects\\\\\\\\self-checkout\\\\\\\\artifacts\\\\\\\\temp\\\\\\\\mask\\\\\\\\Anjeer\\\\\\\\735Anjeer_08-16-2023-14-42-1974888_Focus_33.png', 'C:\\\\\\\\Users\\\\\\\\Zeeshan.khan\\\\\\\\vscode_projects\\\\\\\\self-checkout\\\\\\\\artifacts\\\\\\\\temp\\\\\\\\mask\\\\\\\\Anjeer\\\\\\\\736Anjeer_08-16-2023-14-42-2775764_Focus_33.png', 'C:\\\\\\\\Users\\\\\\\\Zeeshan.khan\\\\\\\\vscode_projects\\\\\\\\self-checkout\\\\\\\\artifacts\\\\\\\\temp\\\\\\\\mask\\\\\\\\Anjeer\\\\\\\\737Anjeer_08-16-2023-14-42-3438123_Focus_33.png', 'C:\\\\\\\\Users\\\\\\\\Zeeshan.khan\\\\\\\\vscode_projects\\\\\\\\self-checkout\\\\\\\\artifacts\\\\\\\\temp\\\\\\\\mask\\\\\\\\Anjeer\\\\\\\\737Anjeer_08-16-2023-14-42-3438123_Focus_33_1.png', 'C:\\\\\\\\Users\\\\\\\\Zeeshan.khan\\\\\\\\vscode_projects\\\\\\\\self-checkout\\\\\\\\artifacts\\\\\\\\temp\\\\\\\\mask\\\\\\\\Anjeer\\\\\\\\738Anjeer_08-16-2023-14-42-4116518_Focus_33.png', 'C:\\\\\\\\Users\\\\\\\\Zeeshan.khan\\\\\\\\vscode_projects\\\\\\\\self-checkout\\\\\\\\artifacts\\\\\\\\temp\\\\\\\\mask\\\\\\\\Anjeer\\\\\\\\739Anjeer_08-16-2023-14-42-4748768_Focus_33.png', 'C:\\\\\\\\Users\\\\\\\\Zeeshan.khan\\\\\\\\vscode_projects\\\\\\\\self-checkout\\\\\\\\artifacts\\\\\\\\temp\\\\\\\\mask\\\\\\\\Anjeer\\\\\\\\740Anjeer_08-16-2023-14-42-5477954_Focus_33.png', 'C:\\\\\\\\Users\\\\\\\\Zeeshan.khan\\\\\\\\vscode_projects\\\\\\\\self-checkout\\\\\\\\artifacts\\\\\\\\temp\\\\\\\\mask\\\\\\\\Anjeer\\\\\\\\741Anjeer_08-16-2023-14-43-0236944_Focus_33.png', 'C:\\\\\\\\Users\\\\\\\\Zeeshan.khan\\\\\\\\vscode_projects\\\\\\\\self-checkout\\\\\\\\artifacts\\\\\\\\temp\\\\\\\\mask\\\\\\\\Anjeer\\\\\\\\742Anjeer_08-16-2023-14-43-0882919_Focus_15.png', 'C:\\\\\\\\Users\\\\\\\\Zeeshan.khan\\\\\\\\vscode_projects\\\\\\\\self-checkout\\\\\\\\artifacts\\\\\\\\temp\\\\\\\\mask\\\\\\\\Anjeer\\\\\\\\743Anjeer_08-16-2023-14-43-1462175_Focus_15.png', 'C:\\\\\\\\Users\\\\\\\\Zeeshan.khan\\\\\\\\vscode_projects\\\\\\\\self-checkout\\\\\\\\artifacts\\\\\\\\temp\\\\\\\\mask\\\\\\\\Anjeer\\\\\\\\744Anjeer_08-16-2023-14-43-2037746_Focus_15.png', 'C:\\\\\\\\Users\\\\\\\\Zeeshan.khan\\\\\\\\vscode_projects\\\\\\\\self-checkout\\\\\\\\artifacts\\\\\\\\temp\\\\\\\\mask\\\\\\\\Anjeer\\\\\\\\744Anjeer_08-16-2023-14-43-2037746_Focus_33.png', 'C:\\\\\\\\Users\\\\\\\\Zeeshan.khan\\\\\\\\vscode_projects\\\\\\\\self-checkout\\\\\\\\artifacts\\\\\\\\temp\\\\\\\\mask\\\\\\\\Anjeer\\\\\\\\745Anjeer_08-16-2023-14-43-2985352_Focus_33.png', 'C:\\\\\\\\Users\\\\\\\\Zeeshan.khan\\\\\\\\vscode_projects\\\\\\\\self-checkout\\\\\\\\artifacts\\\\\\\\temp\\\\\\\\mask\\\\\\\\Anjeer\\\\\\\\746Anjeer_08-16-2023-14-43-3926914_Focus_0.png', 'C:\\\\\\\\Users\\\\\\\\Zeeshan.khan\\\\\\\\vscode_projects\\\\\\\\self-checkout\\\\\\\\artifacts\\\\\\\\temp\\\\\\\\mask\\\\\\\\Anjeer\\\\\\\\747Anjeer_08-16-2023-14-43-4686503_Focus_0.png', 'C:\\\\\\\\Users\\\\\\\\Zeeshan.khan\\\\\\\\vscode_projects\\\\\\\\self-checkout\\\\\\\\artifacts\\\\\\\\temp\\\\\\\\mask\\\\\\\\Anjeer\\\\\\\\748Anjeer_08-16-2023-14-43-546327_Focus_0.png', 'C:\\\\\\\\Users\\\\\\\\Zeeshan.khan\\\\\\\\vscode_projects\\\\\\\\self-checkout\\\\\\\\artifacts\\\\\\\\temp\\\\\\\\mask\\\\\\\\Anjeer\\\\\\\\749Anjeer_08-16-2023-14-44-0249777_Focus_0.png', 'C:\\\\\\\\Users\\\\\\\\Zeeshan.khan\\\\\\\\vscode_projects\\\\\\\\self-checkout\\\\\\\\artifacts\\\\\\\\temp\\\\\\\\mask\\\\\\\\Anjeer\\\\\\\\750Anjeer_08-16-2023-14-44-0827234_Focus_0.png', 'C:\\\\\\\\Users\\\\\\\\Zeeshan.khan\\\\\\\\vscode_projects\\\\\\\\self-checkout\\\\\\\\artifacts\\\\\\\\temp\\\\\\\\mask\\\\\\\\Anjeer\\\\\\\\751Anjeer_08-16-2023-14-44-1536460_Focus_0.png', 'C:\\\\\\\\Users\\\\\\\\Zeeshan.khan\\\\\\\\vscode_projects\\\\\\\\self-checkout\\\\\\\\artifacts\\\\\\\\temp\\\\\\\\mask\\\\\\\\Anjeer\\\\\\\\752Anjeer_08-16-2023-14-44-2148669_Focus_0.png', 'C:\\\\\\\\Users\\\\\\\\Zeeshan.khan\\\\\\\\vscode_projects\\\\\\\\self-checkout\\\\\\\\artifacts\\\\\\\\temp\\\\\\\\mask\\\\\\\\Anjeer\\\\\\\\753Anjeer_08-16-2023-14-44-2778499_Focus_0.png', 'C:\\\\\\\\Users\\\\\\\\Zeeshan.khan\\\\\\\\vscode_projects\\\\\\\\self-checkout\\\\\\\\artifacts\\\\\\\\temp\\\\\\\\mask\\\\\\\\Anjeer\\\\\\\\754Anjeer_08-16-2023-14-44-3313175_Focus_0.png', 'C:\\\\\\\\Users\\\\\\\\Zeeshan.khan\\\\\\\\vscode_projects\\\\\\\\self-checkout\\\\\\\\artifacts\\\\\\\\temp\\\\\\\\mask\\\\\\\\Anjeer\\\\\\\\755Anjeer_08-16-2023-14-44-3959696_Focus_0.png', 'C:\\\\\\\\Users\\\\\\\\Zeeshan.khan\\\\\\\\vscode_projects\\\\\\\\self-checkout\\\\\\\\artifacts\\\\\\\\temp\\\\\\\\mask\\\\\\\\Anjeer\\\\\\\\756Anjeer_08-16-2023-14-44-4538948_Focus_0.png', 'C:\\\\\\\\Users\\\\\\\\Zeeshan.khan\\\\\\\\vscode_projects\\\\\\\\self-checkout\\\\\\\\artifacts\\\\\\\\temp\\\\\\\\mask\\\\\\\\Anjeer\\\\\\\\757Anjeer_08-16-2023-14-44-5276742_Focus_0.png', 'C:\\\\\\\\Users\\\\\\\\Zeeshan.khan\\\\\\\\vscode_projects\\\\\\\\self-checkout\\\\\\\\artifacts\\\\\\\\temp\\\\\\\\mask\\\\\\\\Anjeer\\\\\\\\758Anjeer_08-16-2023-14-44-5847088_Focus_0.png', 'C:\\\\\\\\Users\\\\\\\\Zeeshan.khan\\\\\\\\vscode_projects\\\\\\\\self-checkout\\\\\\\\artifacts\\\\\\\\temp\\\\\\\\mask\\\\\\\\Anjeer\\\\\\\\759Anjeer_08-16-2023-14-45-0988871_Focus_33.png', 'C:\\\\\\\\Users\\\\\\\\Zeeshan.khan\\\\\\\\vscode_projects\\\\\\\\self-checkout\\\\\\\\artifacts\\\\\\\\temp\\\\\\\\mask\\\\\\\\Anjeer\\\\\\\\760Anjeer_08-16-2023-14-45-1451932_Focus_33.png', 'C:\\\\\\\\Users\\\\\\\\Zeeshan.khan\\\\\\\\vscode_projects\\\\\\\\self-checkout\\\\\\\\artifacts\\\\\\\\temp\\\\\\\\mask\\\\\\\\Anjeer\\\\\\\\761Anjeer_08-16-2023-14-45-2047699_Focus_15.png', 'C:\\\\\\\\Users\\\\\\\\Zeeshan.khan\\\\\\\\vscode_projects\\\\\\\\self-checkout\\\\\\\\artifacts\\\\\\\\temp\\\\\\\\mask\\\\\\\\Anjeer\\\\\\\\761Anjeer_08-16-2023-14-45-2047699_Focus_33.png', 'C:\\\\\\\\Users\\\\\\\\Zeeshan.khan\\\\\\\\vscode_projects\\\\\\\\self-checkout\\\\\\\\artifacts\\\\\\\\temp\\\\\\\\mask\\\\\\\\Anjeer\\\\\\\\762Anjeer_08-16-2023-14-45-274822_Focus_33.png', 'C:\\\\\\\\Users\\\\\\\\Zeeshan.khan\\\\\\\\vscode_projects\\\\\\\\self-checkout\\\\\\\\artifacts\\\\\\\\temp\\\\\\\\mask\\\\\\\\Anjeer\\\\\\\\763Anjeer_08-16-2023-14-45-3448130_Focus_33.png', 'C:\\\\\\\\Users\\\\\\\\Zeeshan.khan\\\\\\\\vscode_projects\\\\\\\\self-checkout\\\\\\\\artifacts\\\\\\\\temp\\\\\\\\mask\\\\\\\\Anjeer\\\\\\\\764Anjeer_08-16-2023-14-45-3991550_Focus_33.png', 'C:\\\\\\\\Users\\\\\\\\Zeeshan.khan\\\\\\\\vscode_projects\\\\\\\\self-checkout\\\\\\\\artifacts\\\\\\\\temp\\\\\\\\mask\\\\\\\\Anjeer\\\\\\\\765Anjeer_08-16-2023-14-45-4672335_Focus_33.png', 'C:\\\\\\\\Users\\\\\\\\Zeeshan.khan\\\\\\\\vscode_projects\\\\\\\\self-checkout\\\\\\\\artifacts\\\\\\\\temp\\\\\\\\mask\\\\\\\\Anjeer\\\\\\\\766Anjeer_08-16-2023-14-45-5698314_Focus_33.png', 'C:\\\\\\\\Users\\\\\\\\Zeeshan.khan\\\\\\\\vscode_projects\\\\\\\\self-checkout\\\\\\\\artifacts\\\\\\\\temp\\\\\\\\mask\\\\\\\\Anjeer\\\\\\\\768Anjeer_08-16-2023-14-46-0768157_Focus_33.png', 'C:\\\\\\\\Users\\\\\\\\Zeeshan.khan\\\\\\\\vscode_projects\\\\\\\\self-checkout\\\\\\\\artifacts\\\\\\\\temp\\\\\\\\mask\\\\\\\\Anjeer\\\\\\\\769Anjeer_08-16-2023-14-46-3095076_Focus_33.png', 'C:\\\\\\\\Users\\\\\\\\Zeeshan.khan\\\\\\\\vscode_projects\\\\\\\\self-checkout\\\\\\\\artifacts\\\\\\\\temp\\\\\\\\mask\\\\\\\\Anjeer\\\\\\\\770Anjeer_08-16-2023-14-46-3526049_Focus_33.png', 'C:\\\\\\\\Users\\\\\\\\Zeeshan.khan\\\\\\\\vscode_projects\\\\\\\\self-checkout\\\\\\\\artifacts\\\\\\\\temp\\\\\\\\mask\\\\\\\\Anjeer\\\\\\\\771Anjeer_08-16-2023-14-46-5220324_Focus_33.png', 'C:\\\\\\\\Users\\\\\\\\Zeeshan.khan\\\\\\\\vscode_projects\\\\\\\\self-checkout\\\\\\\\artifacts\\\\\\\\temp\\\\\\\\mask\\\\\\\\Anjeer\\\\\\\\772Anjeer_08-16-2023-14-46-5988286_Focus_33.png', 'C:\\\\\\\\Users\\\\\\\\Zeeshan.khan\\\\\\\\vscode_projects\\\\\\\\self-checkout\\\\\\\\artifacts\\\\\\\\temp\\\\\\\\mask\\\\\\\\Anjeer\\\\\\\\773Anjeer_08-16-2023-14-47-0553054_Focus_33.png', 'C:\\\\\\\\Users\\\\\\\\Zeeshan.khan\\\\\\\\vscode_projects\\\\\\\\self-checkout\\\\\\\\artifacts\\\\\\\\temp\\\\\\\\mask\\\\\\\\Anjeer\\\\\\\\774Anjeer_08-16-2023-14-47-1283152_Focus_33.png', 'C:\\\\\\\\Users\\\\\\\\Zeeshan.khan\\\\\\\\vscode_projects\\\\\\\\self-checkout\\\\\\\\artifacts\\\\\\\\temp\\\\\\\\mask\\\\\\\\Anjeer\\\\\\\\775Anjeer_08-16-2023-14-47-2189408_Focus_33.png', 'C:\\\\\\\\Users\\\\\\\\Zeeshan.khan\\\\\\\\vscode_projects\\\\\\\\self-checkout\\\\\\\\artifacts\\\\\\\\temp\\\\\\\\mask\\\\\\\\Anjeer\\\\\\\\776Anjeer_08-16-2023-14-47-2737629_Focus_33.png', 'C:\\\\\\\\Users\\\\\\\\Zeeshan.khan\\\\\\\\vscode_projects\\\\\\\\self-checkout\\\\\\\\artifacts\\\\\\\\temp\\\\\\\\mask\\\\\\\\Anjeer\\\\\\\\777Anjeer_08-16-2023-14-47-3458234_Focus_33.png', 'C:\\\\\\\\Users\\\\\\\\Zeeshan.khan\\\\\\\\vscode_projects\\\\\\\\self-checkout\\\\\\\\artifacts\\\\\\\\temp\\\\\\\\mask\\\\\\\\Anjeer\\\\\\\\777Anjeer_08-16-2023-14-47-3458234_Focus_33_1.png', 'C:\\\\\\\\Users\\\\\\\\Zeeshan.khan\\\\\\\\vscode_projects\\\\\\\\self-checkout\\\\\\\\artifacts\\\\\\\\temp\\\\\\\\mask\\\\\\\\Anjeer\\\\\\\\778Anjeer_08-16-2023-14-47-4081580_Focus_33.png', 'C:\\\\\\\\Users\\\\\\\\Zeeshan.khan\\\\\\\\vscode_projects\\\\\\\\self-checkout\\\\\\\\artifacts\\\\\\\\temp\\\\\\\\mask\\\\\\\\Anjeer\\\\\\\\779Anjeer_08-16-2023-14-47-4683143_Focus_33.png', 'C:\\\\\\\\Users\\\\\\\\Zeeshan.khan\\\\\\\\vscode_projects\\\\\\\\self-checkout\\\\\\\\artifacts\\\\\\\\temp\\\\\\\\mask\\\\\\\\Anjeer\\\\\\\\779Anjeer_08-16-2023-14-47-4683143_Focus_33_1.png', 'C:\\\\\\\\Users\\\\\\\\Zeeshan.khan\\\\\\\\vscode_projects\\\\\\\\self-checkout\\\\\\\\artifacts\\\\\\\\temp\\\\\\\\mask\\\\\\\\Anjeer\\\\\\\\780Anjeer_08-16-2023-14-47-5458558_Focus_33.png', 'C:\\\\\\\\Users\\\\\\\\Zeeshan.khan\\\\\\\\vscode_projects\\\\\\\\self-checkout\\\\\\\\artifacts\\\\\\\\temp\\\\\\\\mask\\\\\\\\Anjeer\\\\\\\\780Anjeer_08-16-2023-14-47-5458558_Focus_33_1.png', 'C:\\\\\\\\Users\\\\\\\\Zeeshan.khan\\\\\\\\vscode_projects\\\\\\\\self-checkout\\\\\\\\artifacts\\\\\\\\temp\\\\\\\\mask\\\\\\\\Anjeer\\\\\\\\781Anjeer_08-16-2023-14-48-018283_Focus_15.png', 'C:\\\\\\\\Users\\\\\\\\Zeeshan.khan\\\\\\\\vscode_projects\\\\\\\\self-checkout\\\\\\\\artifacts\\\\\\\\temp\\\\\\\\mask\\\\\\\\Anjeer\\\\\\\\781Anjeer_08-16-2023-14-48-018283_Focus_33.png', 'C:\\\\\\\\Users\\\\\\\\Zeeshan.khan\\\\\\\\vscode_projects\\\\\\\\self-checkout\\\\\\\\artifacts\\\\\\\\temp\\\\\\\\mask\\\\\\\\Anjeer\\\\\\\\7Anjeer_07-20-2023-13-05-0797237_Focus_33.png', 'C:\\\\\\\\Users\\\\\\\\Zeeshan.khan\\\\\\\\vscode_projects\\\\\\\\self-checkout\\\\\\\\artifacts\\\\\\\\temp\\\\\\\\mask\\\\\\\\Anjeer\\\\\\\\9Anjeer_07-20-2023-13-05-2080331_Focus_0.png']\", 'label_file_dir': \"['C:\\\\\\\\Users\\\\\\\\Zeeshan.khan\\\\\\\\vscode_projects\\\\\\\\self-checkout\\\\\\\\artifacts\\\\\\\\temp\\\\\\\\labels\\\\\\\\Anjeer\\\\\\\\10Anjeer_07-20-2023-13-05-264600_Focus_0.txt', 'C:\\\\\\\\Users\\\\\\\\Zeeshan.khan\\\\\\\\vscode_projects\\\\\\\\self-checkout\\\\\\\\artifacts\\\\\\\\temp\\\\\\\\labels\\\\\\\\Anjeer\\\\\\\\117Anjeer_07-20-2023-13-22-5596219_Focus_0.txt', 'C:\\\\\\\\Users\\\\\\\\Zeeshan.khan\\\\\\\\vscode_projects\\\\\\\\self-checkout\\\\\\\\artifacts\\\\\\\\temp\\\\\\\\labels\\\\\\\\Anjeer\\\\\\\\118Anjeer_07-20-2023-13-24-4393015_Focus_0.txt', 'C:\\\\\\\\Users\\\\\\\\Zeeshan.khan\\\\\\\\vscode_projects\\\\\\\\self-checkout\\\\\\\\artifacts\\\\\\\\temp\\\\\\\\labels\\\\\\\\Anjeer\\\\\\\\11Anjeer_07-20-2023-13-05-3688678_Focus_0.txt', 'C:\\\\\\\\Users\\\\\\\\Zeeshan.khan\\\\\\\\vscode_projects\\\\\\\\self-checkout\\\\\\\\artifacts\\\\\\\\temp\\\\\\\\labels\\\\\\\\Anjeer\\\\\\\\120Anjeer_07-20-2023-13-26-3978266_Focus_15.txt', 'C:\\\\\\\\Users\\\\\\\\Zeeshan.khan\\\\\\\\vscode_projects\\\\\\\\self-checkout\\\\\\\\artifacts\\\\\\\\temp\\\\\\\\labels\\\\\\\\Anjeer\\\\\\\\121Anjeer_07-20-2023-13-26-5034114_Focus_0.txt', 'C:\\\\\\\\Users\\\\\\\\Zeeshan.khan\\\\\\\\vscode_projects\\\\\\\\self-checkout\\\\\\\\artifacts\\\\\\\\temp\\\\\\\\labels\\\\\\\\Anjeer\\\\\\\\122Anjeer_07-20-2023-13-26-5730553_Focus_15.txt', 'C:\\\\\\\\Users\\\\\\\\Zeeshan.khan\\\\\\\\vscode_projects\\\\\\\\self-checkout\\\\\\\\artifacts\\\\\\\\temp\\\\\\\\labels\\\\\\\\Anjeer\\\\\\\\123Anjeer_07-20-2023-13-27-1591878_Focus_0.txt', 'C:\\\\\\\\Users\\\\\\\\Zeeshan.khan\\\\\\\\vscode_projects\\\\\\\\self-checkout\\\\\\\\artifacts\\\\\\\\temp\\\\\\\\labels\\\\\\\\Anjeer\\\\\\\\124Anjeer_07-20-2023-13-27-2783165_Focus_33.txt', 'C:\\\\\\\\Users\\\\\\\\Zeeshan.khan\\\\\\\\vscode_projects\\\\\\\\self-checkout\\\\\\\\artifacts\\\\\\\\temp\\\\\\\\labels\\\\\\\\Anjeer\\\\\\\\126Anjeer_07-20-2023-13-27-4586957_Focus_0.txt', 'C:\\\\\\\\Users\\\\\\\\Zeeshan.khan\\\\\\\\vscode_projects\\\\\\\\self-checkout\\\\\\\\artifacts\\\\\\\\temp\\\\\\\\labels\\\\\\\\Anjeer\\\\\\\\128Anjeer_07-20-2023-13-27-5623184_Focus_33.txt', 'C:\\\\\\\\Users\\\\\\\\Zeeshan.khan\\\\\\\\vscode_projects\\\\\\\\self-checkout\\\\\\\\artifacts\\\\\\\\temp\\\\\\\\labels\\\\\\\\Anjeer\\\\\\\\129Anjeer_07-20-2023-13-28-018807_Focus_33.txt', 'C:\\\\\\\\Users\\\\\\\\Zeeshan.khan\\\\\\\\vscode_projects\\\\\\\\self-checkout\\\\\\\\artifacts\\\\\\\\temp\\\\\\\\labels\\\\\\\\Anjeer\\\\\\\\130Anjeer_07-20-2023-13-28-0893165_Focus_0.txt', 'C:\\\\\\\\Users\\\\\\\\Zeeshan.khan\\\\\\\\vscode_projects\\\\\\\\self-checkout\\\\\\\\artifacts\\\\\\\\temp\\\\\\\\labels\\\\\\\\Anjeer\\\\\\\\131Anjeer_07-20-2023-13-28-1869754_Focus_15.txt', 'C:\\\\\\\\Users\\\\\\\\Zeeshan.khan\\\\\\\\vscode_projects\\\\\\\\self-checkout\\\\\\\\artifacts\\\\\\\\temp\\\\\\\\labels\\\\\\\\Anjeer\\\\\\\\132Anjeer_07-20-2023-13-28-2535613_Focus_15.txt', 'C:\\\\\\\\Users\\\\\\\\Zeeshan.khan\\\\\\\\vscode_projects\\\\\\\\self-checkout\\\\\\\\artifacts\\\\\\\\temp\\\\\\\\labels\\\\\\\\Anjeer\\\\\\\\133Anjeer_07-20-2023-13-28-3177513_Focus_0.txt', 'C:\\\\\\\\Users\\\\\\\\Zeeshan.khan\\\\\\\\vscode_projects\\\\\\\\self-checkout\\\\\\\\artifacts\\\\\\\\temp\\\\\\\\labels\\\\\\\\Anjeer\\\\\\\\134Anjeer_07-20-2023-13-28-3629530_Focus_33.txt', 'C:\\\\\\\\Users\\\\\\\\Zeeshan.khan\\\\\\\\vscode_projects\\\\\\\\self-checkout\\\\\\\\artifacts\\\\\\\\temp\\\\\\\\labels\\\\\\\\Anjeer\\\\\\\\135Anjeer_07-20-2023-13-28-4549155_Focus_15.txt', 'C:\\\\\\\\Users\\\\\\\\Zeeshan.khan\\\\\\\\vscode_projects\\\\\\\\self-checkout\\\\\\\\artifacts\\\\\\\\temp\\\\\\\\labels\\\\\\\\Anjeer\\\\\\\\138Anjeer_07-20-2023-13-30-5770836_Focus_0.txt', 'C:\\\\\\\\Users\\\\\\\\Zeeshan.khan\\\\\\\\vscode_projects\\\\\\\\self-checkout\\\\\\\\artifacts\\\\\\\\temp\\\\\\\\labels\\\\\\\\Anjeer\\\\\\\\139Anjeer_07-20-2023-13-31-0772732_Focus_0.txt', 'C:\\\\\\\\Users\\\\\\\\Zeeshan.khan\\\\\\\\vscode_projects\\\\\\\\self-checkout\\\\\\\\artifacts\\\\\\\\temp\\\\\\\\labels\\\\\\\\Anjeer\\\\\\\\13Anjeer_07-20-2023-13-05-5397057_Focus_0.txt', 'C:\\\\\\\\Users\\\\\\\\Zeeshan.khan\\\\\\\\vscode_projects\\\\\\\\self-checkout\\\\\\\\artifacts\\\\\\\\temp\\\\\\\\labels\\\\\\\\Anjeer\\\\\\\\140Anjeer_07-20-2023-13-31-2581813_Focus_15.txt', 'C:\\\\\\\\Users\\\\\\\\Zeeshan.khan\\\\\\\\vscode_projects\\\\\\\\self-checkout\\\\\\\\artifacts\\\\\\\\temp\\\\\\\\labels\\\\\\\\Anjeer\\\\\\\\141Anjeer_07-20-2023-13-31-3174924_Focus_0.txt', 'C:\\\\\\\\Users\\\\\\\\Zeeshan.khan\\\\\\\\vscode_projects\\\\\\\\self-checkout\\\\\\\\artifacts\\\\\\\\temp\\\\\\\\labels\\\\\\\\Anjeer\\\\\\\\142Anjeer_07-20-2023-13-31-4144828_Focus_33.txt', 'C:\\\\\\\\Users\\\\\\\\Zeeshan.khan\\\\\\\\vscode_projects\\\\\\\\self-checkout\\\\\\\\artifacts\\\\\\\\temp\\\\\\\\labels\\\\\\\\Anjeer\\\\\\\\143Anjeer_07-20-2023-13-31-458863_Focus_15.txt', 'C:\\\\\\\\Users\\\\\\\\Zeeshan.khan\\\\\\\\vscode_projects\\\\\\\\self-checkout\\\\\\\\artifacts\\\\\\\\temp\\\\\\\\labels\\\\\\\\Anjeer\\\\\\\\144Anjeer_07-20-2023-13-31-5667794_Focus_15.txt', 'C:\\\\\\\\Users\\\\\\\\Zeeshan.khan\\\\\\\\vscode_projects\\\\\\\\self-checkout\\\\\\\\artifacts\\\\\\\\temp\\\\\\\\labels\\\\\\\\Anjeer\\\\\\\\145Anjeer_07-20-2023-13-32-0325368_Focus_33.txt', 'C:\\\\\\\\Users\\\\\\\\Zeeshan.khan\\\\\\\\vscode_projects\\\\\\\\self-checkout\\\\\\\\artifacts\\\\\\\\temp\\\\\\\\labels\\\\\\\\Anjeer\\\\\\\\14Anjeer_07-20-2023-13-06-0074600_Focus_0.txt', 'C:\\\\\\\\Users\\\\\\\\Zeeshan.khan\\\\\\\\vscode_projects\\\\\\\\self-checkout\\\\\\\\artifacts\\\\\\\\temp\\\\\\\\labels\\\\\\\\Anjeer\\\\\\\\155Anjeer_07-20-2023-14-19-0711352_Focus_15.txt', 'C:\\\\\\\\Users\\\\\\\\Zeeshan.khan\\\\\\\\vscode_projects\\\\\\\\self-checkout\\\\\\\\artifacts\\\\\\\\temp\\\\\\\\labels\\\\\\\\Anjeer\\\\\\\\156Anjeer_07-20-2023-14-19-1813821_Focus_0.txt', 'C:\\\\\\\\Users\\\\\\\\Zeeshan.khan\\\\\\\\vscode_projects\\\\\\\\self-checkout\\\\\\\\artifacts\\\\\\\\temp\\\\\\\\labels\\\\\\\\Anjeer\\\\\\\\158Anjeer_07-20-2023-14-19-514963_Focus_33.txt', 'C:\\\\\\\\Users\\\\\\\\Zeeshan.khan\\\\\\\\vscode_projects\\\\\\\\self-checkout\\\\\\\\artifacts\\\\\\\\temp\\\\\\\\labels\\\\\\\\Anjeer\\\\\\\\159Anjeer_07-20-2023-14-20-058634_Focus_33.txt', 'C:\\\\\\\\Users\\\\\\\\Zeeshan.khan\\\\\\\\vscode_projects\\\\\\\\self-checkout\\\\\\\\artifacts\\\\\\\\temp\\\\\\\\labels\\\\\\\\Anjeer\\\\\\\\15Anjeer_07-20-2023-13-06-1154753_Focus_15.txt', 'C:\\\\\\\\Users\\\\\\\\Zeeshan.khan\\\\\\\\vscode_projects\\\\\\\\self-checkout\\\\\\\\artifacts\\\\\\\\temp\\\\\\\\labels\\\\\\\\Anjeer\\\\\\\\160Anjeer_07-20-2023-14-20-2659533_Focus_33.txt', 'C:\\\\\\\\Users\\\\\\\\Zeeshan.khan\\\\\\\\vscode_projects\\\\\\\\self-checkout\\\\\\\\artifacts\\\\\\\\temp\\\\\\\\labels\\\\\\\\Anjeer\\\\\\\\161Anjeer_07-20-2023-14-20-4162655_Focus_33.txt', 'C:\\\\\\\\Users\\\\\\\\Zeeshan.khan\\\\\\\\vscode_projects\\\\\\\\self-checkout\\\\\\\\artifacts\\\\\\\\temp\\\\\\\\labels\\\\\\\\Anjeer\\\\\\\\162Anjeer_07-20-2023-14-21-1040789_Focus_33.txt', 'C:\\\\\\\\Users\\\\\\\\Zeeshan.khan\\\\\\\\vscode_projects\\\\\\\\self-checkout\\\\\\\\artifacts\\\\\\\\temp\\\\\\\\labels\\\\\\\\Anjeer\\\\\\\\164Anjeer_07-20-2023-14-21-4981120_Focus_15.txt', 'C:\\\\\\\\Users\\\\\\\\Zeeshan.khan\\\\\\\\vscode_projects\\\\\\\\self-checkout\\\\\\\\artifacts\\\\\\\\temp\\\\\\\\labels\\\\\\\\Anjeer\\\\\\\\166Anjeer_07-20-2023-14-22-1448876_Focus_0.txt', 'C:\\\\\\\\Users\\\\\\\\Zeeshan.khan\\\\\\\\vscode_projects\\\\\\\\self-checkout\\\\\\\\artifacts\\\\\\\\temp\\\\\\\\labels\\\\\\\\Anjeer\\\\\\\\167Anjeer_07-20-2023-14-22-2589602_Focus_0.txt', 'C:\\\\\\\\Users\\\\\\\\Zeeshan.khan\\\\\\\\vscode_projects\\\\\\\\self-checkout\\\\\\\\artifacts\\\\\\\\temp\\\\\\\\labels\\\\\\\\Anjeer\\\\\\\\168Anjeer_07-20-2023-14-22-3775770_Focus_33.txt', 'C:\\\\\\\\Users\\\\\\\\Zeeshan.khan\\\\\\\\vscode_projects\\\\\\\\self-checkout\\\\\\\\artifacts\\\\\\\\temp\\\\\\\\labels\\\\\\\\Anjeer\\\\\\\\169Anjeer_07-20-2023-14-23-0587816_Focus_33.txt', 'C:\\\\\\\\Users\\\\\\\\Zeeshan.khan\\\\\\\\vscode_projects\\\\\\\\self-checkout\\\\\\\\artifacts\\\\\\\\temp\\\\\\\\labels\\\\\\\\Anjeer\\\\\\\\16Anjeer_07-20-2023-13-06-2966726_Focus_0.txt', 'C:\\\\\\\\Users\\\\\\\\Zeeshan.khan\\\\\\\\vscode_projects\\\\\\\\self-checkout\\\\\\\\artifacts\\\\\\\\temp\\\\\\\\labels\\\\\\\\Anjeer\\\\\\\\17Anjeer_07-20-2023-13-06-3693852_Focus_0.txt', 'C:\\\\\\\\Users\\\\\\\\Zeeshan.khan\\\\\\\\vscode_projects\\\\\\\\self-checkout\\\\\\\\artifacts\\\\\\\\temp\\\\\\\\labels\\\\\\\\Anjeer\\\\\\\\18Anjeer_07-20-2023-13-06-4185551_Focus_0.txt', 'C:\\\\\\\\Users\\\\\\\\Zeeshan.khan\\\\\\\\vscode_projects\\\\\\\\self-checkout\\\\\\\\artifacts\\\\\\\\temp\\\\\\\\labels\\\\\\\\Anjeer\\\\\\\\22Anjeer_07-20-2023-13-07-3993366_Focus_33.txt', 'C:\\\\\\\\Users\\\\\\\\Zeeshan.khan\\\\\\\\vscode_projects\\\\\\\\self-checkout\\\\\\\\artifacts\\\\\\\\temp\\\\\\\\labels\\\\\\\\Anjeer\\\\\\\\24Anjeer_07-20-2023-13-08-0351335_Focus_15.txt', 'C:\\\\\\\\Users\\\\\\\\Zeeshan.khan\\\\\\\\vscode_projects\\\\\\\\self-checkout\\\\\\\\artifacts\\\\\\\\temp\\\\\\\\labels\\\\\\\\Anjeer\\\\\\\\26Anjeer_07-20-2023-13-08-2063699_Focus_33.txt', 'C:\\\\\\\\Users\\\\\\\\Zeeshan.khan\\\\\\\\vscode_projects\\\\\\\\self-checkout\\\\\\\\artifacts\\\\\\\\temp\\\\\\\\labels\\\\\\\\Anjeer\\\\\\\\27Anjeer_07-20-2023-13-08-313119_Focus_15.txt', 'C:\\\\\\\\Users\\\\\\\\Zeeshan.khan\\\\\\\\vscode_projects\\\\\\\\self-checkout\\\\\\\\artifacts\\\\\\\\temp\\\\\\\\labels\\\\\\\\Anjeer\\\\\\\\28Anjeer_07-20-2023-13-08-4315578_Focus_0.txt', 'C:\\\\\\\\Users\\\\\\\\Zeeshan.khan\\\\\\\\vscode_projects\\\\\\\\self-checkout\\\\\\\\artifacts\\\\\\\\temp\\\\\\\\labels\\\\\\\\Anjeer\\\\\\\\29Anjeer_07-20-2023-13-08-5194582_Focus_0.txt', 'C:\\\\\\\\Users\\\\\\\\Zeeshan.khan\\\\\\\\vscode_projects\\\\\\\\self-checkout\\\\\\\\artifacts\\\\\\\\temp\\\\\\\\labels\\\\\\\\Anjeer\\\\\\\\2Anjeer_07-20-2023-12-57-3537066_Focus_0.txt', 'C:\\\\\\\\Users\\\\\\\\Zeeshan.khan\\\\\\\\vscode_projects\\\\\\\\self-checkout\\\\\\\\artifacts\\\\\\\\temp\\\\\\\\labels\\\\\\\\Anjeer\\\\\\\\30Anjeer_07-20-2023-13-09-0028223_Focus_0.txt', 'C:\\\\\\\\Users\\\\\\\\Zeeshan.khan\\\\\\\\vscode_projects\\\\\\\\self-checkout\\\\\\\\artifacts\\\\\\\\temp\\\\\\\\labels\\\\\\\\Anjeer\\\\\\\\31Anjeer_07-20-2023-13-09-0530553_Focus_0.txt', 'C:\\\\\\\\Users\\\\\\\\Zeeshan.khan\\\\\\\\vscode_projects\\\\\\\\self-checkout\\\\\\\\artifacts\\\\\\\\temp\\\\\\\\labels\\\\\\\\Anjeer\\\\\\\\32Anjeer_07-20-2023-13-09-1715889_Focus_0.txt', 'C:\\\\\\\\Users\\\\\\\\Zeeshan.khan\\\\\\\\vscode_projects\\\\\\\\self-checkout\\\\\\\\artifacts\\\\\\\\temp\\\\\\\\labels\\\\\\\\Anjeer\\\\\\\\33Anjeer_07-20-2023-13-09-2318726_Focus_33.txt', 'C:\\\\\\\\Users\\\\\\\\Zeeshan.khan\\\\\\\\vscode_projects\\\\\\\\self-checkout\\\\\\\\artifacts\\\\\\\\temp\\\\\\\\labels\\\\\\\\Anjeer\\\\\\\\34Anjeer_07-20-2023-13-09-3520583_Focus_33.txt', 'C:\\\\\\\\Users\\\\\\\\Zeeshan.khan\\\\\\\\vscode_projects\\\\\\\\self-checkout\\\\\\\\artifacts\\\\\\\\temp\\\\\\\\labels\\\\\\\\Anjeer\\\\\\\\36Anjeer_07-20-2023-13-12-1890903_Focus_0.txt', 'C:\\\\\\\\Users\\\\\\\\Zeeshan.khan\\\\\\\\vscode_projects\\\\\\\\self-checkout\\\\\\\\artifacts\\\\\\\\temp\\\\\\\\labels\\\\\\\\Anjeer\\\\\\\\37Anjeer_07-20-2023-13-12-3619288_Focus_15.txt', 'C:\\\\\\\\Users\\\\\\\\Zeeshan.khan\\\\\\\\vscode_projects\\\\\\\\self-checkout\\\\\\\\artifacts\\\\\\\\temp\\\\\\\\labels\\\\\\\\Anjeer\\\\\\\\38Anjeer_07-20-2023-13-12-5084358_Focus_33.txt', 'C:\\\\\\\\Users\\\\\\\\Zeeshan.khan\\\\\\\\vscode_projects\\\\\\\\self-checkout\\\\\\\\artifacts\\\\\\\\temp\\\\\\\\labels\\\\\\\\Anjeer\\\\\\\\3Anjeer_07-20-2023-12-58-0277874_Focus_0.txt', 'C:\\\\\\\\Users\\\\\\\\Zeeshan.khan\\\\\\\\vscode_projects\\\\\\\\self-checkout\\\\\\\\artifacts\\\\\\\\temp\\\\\\\\labels\\\\\\\\Anjeer\\\\\\\\40Anjeer_07-20-2023-13-13-4410370_Focus_0.txt', 'C:\\\\\\\\Users\\\\\\\\Zeeshan.khan\\\\\\\\vscode_projects\\\\\\\\self-checkout\\\\\\\\artifacts\\\\\\\\temp\\\\\\\\labels\\\\\\\\Anjeer\\\\\\\\4Anjeer_07-20-2023-13-03-048836_Focus_0.txt', 'C:\\\\\\\\Users\\\\\\\\Zeeshan.khan\\\\\\\\vscode_projects\\\\\\\\self-checkout\\\\\\\\artifacts\\\\\\\\temp\\\\\\\\labels\\\\\\\\Anjeer\\\\\\\\5Anjeer_07-20-2023-13-03-2793445_Focus_15.txt', 'C:\\\\\\\\Users\\\\\\\\Zeeshan.khan\\\\\\\\vscode_projects\\\\\\\\self-checkout\\\\\\\\artifacts\\\\\\\\temp\\\\\\\\labels\\\\\\\\Anjeer\\\\\\\\605Anjeer_08-16-2023-13-26-155925_Focus_33.txt', 'C:\\\\\\\\Users\\\\\\\\Zeeshan.khan\\\\\\\\vscode_projects\\\\\\\\self-checkout\\\\\\\\artifacts\\\\\\\\temp\\\\\\\\labels\\\\\\\\Anjeer\\\\\\\\606Anjeer_08-16-2023-13-26-2168917_Focus_33.txt', 'C:\\\\\\\\Users\\\\\\\\Zeeshan.khan\\\\\\\\vscode_projects\\\\\\\\self-checkout\\\\\\\\artifacts\\\\\\\\temp\\\\\\\\labels\\\\\\\\Anjeer\\\\\\\\607Anjeer_08-16-2023-13-26-2888984_Focus_15.txt', 'C:\\\\\\\\Users\\\\\\\\Zeeshan.khan\\\\\\\\vscode_projects\\\\\\\\self-checkout\\\\\\\\artifacts\\\\\\\\temp\\\\\\\\labels\\\\\\\\Anjeer\\\\\\\\607Anjeer_08-16-2023-13-26-2888984_Focus_33.txt', 'C:\\\\\\\\Users\\\\\\\\Zeeshan.khan\\\\\\\\vscode_projects\\\\\\\\self-checkout\\\\\\\\artifacts\\\\\\\\temp\\\\\\\\labels\\\\\\\\Anjeer\\\\\\\\608Anjeer_08-16-2023-13-26-3357830_Focus_0.txt', 'C:\\\\\\\\Users\\\\\\\\Zeeshan.khan\\\\\\\\vscode_projects\\\\\\\\self-checkout\\\\\\\\artifacts\\\\\\\\temp\\\\\\\\labels\\\\\\\\Anjeer\\\\\\\\609Anjeer_08-16-2023-13-26-4638163_Focus_0.txt', 'C:\\\\\\\\Users\\\\\\\\Zeeshan.khan\\\\\\\\vscode_projects\\\\\\\\self-checkout\\\\\\\\artifacts\\\\\\\\temp\\\\\\\\labels\\\\\\\\Anjeer\\\\\\\\610Anjeer_08-16-2023-13-26-5349775_Focus_0.txt', 'C:\\\\\\\\Users\\\\\\\\Zeeshan.khan\\\\\\\\vscode_projects\\\\\\\\self-checkout\\\\\\\\artifacts\\\\\\\\temp\\\\\\\\labels\\\\\\\\Anjeer\\\\\\\\611Anjeer_08-16-2023-13-27-0025951_Focus_33.txt', 'C:\\\\\\\\Users\\\\\\\\Zeeshan.khan\\\\\\\\vscode_projects\\\\\\\\self-checkout\\\\\\\\artifacts\\\\\\\\temp\\\\\\\\labels\\\\\\\\Anjeer\\\\\\\\612Anjeer_08-16-2023-13-27-0666549_Focus_0.txt', 'C:\\\\\\\\Users\\\\\\\\Zeeshan.khan\\\\\\\\vscode_projects\\\\\\\\self-checkout\\\\\\\\artifacts\\\\\\\\temp\\\\\\\\labels\\\\\\\\Anjeer\\\\\\\\614Anjeer_08-16-2023-14-23-1997285_Focus_0.txt', 'C:\\\\\\\\Users\\\\\\\\Zeeshan.khan\\\\\\\\vscode_projects\\\\\\\\self-checkout\\\\\\\\artifacts\\\\\\\\temp\\\\\\\\labels\\\\\\\\Anjeer\\\\\\\\615Anjeer_08-16-2023-14-23-2457008_Focus_0.txt', 'C:\\\\\\\\Users\\\\\\\\Zeeshan.khan\\\\\\\\vscode_projects\\\\\\\\self-checkout\\\\\\\\artifacts\\\\\\\\temp\\\\\\\\labels\\\\\\\\Anjeer\\\\\\\\616Anjeer_08-16-2023-14-23-2886086_Focus_0.txt', 'C:\\\\\\\\Users\\\\\\\\Zeeshan.khan\\\\\\\\vscode_projects\\\\\\\\self-checkout\\\\\\\\artifacts\\\\\\\\temp\\\\\\\\labels\\\\\\\\Anjeer\\\\\\\\617Anjeer_08-16-2023-14-23-3384853_Focus_15.txt', 'C:\\\\\\\\Users\\\\\\\\Zeeshan.khan\\\\\\\\vscode_projects\\\\\\\\self-checkout\\\\\\\\artifacts\\\\\\\\temp\\\\\\\\labels\\\\\\\\Anjeer\\\\\\\\618Anjeer_08-16-2023-14-23-3984983_Focus_15.txt', 'C:\\\\\\\\Users\\\\\\\\Zeeshan.khan\\\\\\\\vscode_projects\\\\\\\\self-checkout\\\\\\\\artifacts\\\\\\\\temp\\\\\\\\labels\\\\\\\\Anjeer\\\\\\\\619Anjeer_08-16-2023-14-23-4320427_Focus_15.txt', 'C:\\\\\\\\Users\\\\\\\\Zeeshan.khan\\\\\\\\vscode_projects\\\\\\\\self-checkout\\\\\\\\artifacts\\\\\\\\temp\\\\\\\\labels\\\\\\\\Anjeer\\\\\\\\620Anjeer_08-16-2023-14-23-4767434_Focus_15.txt', 'C:\\\\\\\\Users\\\\\\\\Zeeshan.khan\\\\\\\\vscode_projects\\\\\\\\self-checkout\\\\\\\\artifacts\\\\\\\\temp\\\\\\\\labels\\\\\\\\Anjeer\\\\\\\\621Anjeer_08-16-2023-14-23-5282042_Focus_0.txt', 'C:\\\\\\\\Users\\\\\\\\Zeeshan.khan\\\\\\\\vscode_projects\\\\\\\\self-checkout\\\\\\\\artifacts\\\\\\\\temp\\\\\\\\labels\\\\\\\\Anjeer\\\\\\\\622Anjeer_08-16-2023-14-23-5883976_Focus_0.txt', 'C:\\\\\\\\Users\\\\\\\\Zeeshan.khan\\\\\\\\vscode_projects\\\\\\\\self-checkout\\\\\\\\artifacts\\\\\\\\temp\\\\\\\\labels\\\\\\\\Anjeer\\\\\\\\623Anjeer_08-16-2023-14-24-0449806_Focus_0.txt', 'C:\\\\\\\\Users\\\\\\\\Zeeshan.khan\\\\\\\\vscode_projects\\\\\\\\self-checkout\\\\\\\\artifacts\\\\\\\\temp\\\\\\\\labels\\\\\\\\Anjeer\\\\\\\\624Anjeer_08-16-2023-14-24-1185911_Focus_0.txt', 'C:\\\\\\\\Users\\\\\\\\Zeeshan.khan\\\\\\\\vscode_projects\\\\\\\\self-checkout\\\\\\\\artifacts\\\\\\\\temp\\\\\\\\labels\\\\\\\\Anjeer\\\\\\\\625Anjeer_08-16-2023-14-24-1757357_Focus_0.txt', 'C:\\\\\\\\Users\\\\\\\\Zeeshan.khan\\\\\\\\vscode_projects\\\\\\\\self-checkout\\\\\\\\artifacts\\\\\\\\temp\\\\\\\\labels\\\\\\\\Anjeer\\\\\\\\626Anjeer_08-16-2023-14-24-254466_Focus_0.txt', 'C:\\\\\\\\Users\\\\\\\\Zeeshan.khan\\\\\\\\vscode_projects\\\\\\\\self-checkout\\\\\\\\artifacts\\\\\\\\temp\\\\\\\\labels\\\\\\\\Anjeer\\\\\\\\627Anjeer_08-16-2023-14-24-3144865_Focus_0.txt', 'C:\\\\\\\\Users\\\\\\\\Zeeshan.khan\\\\\\\\vscode_projects\\\\\\\\self-checkout\\\\\\\\artifacts\\\\\\\\temp\\\\\\\\labels\\\\\\\\Anjeer\\\\\\\\628Anjeer_08-16-2023-14-24-4547910_Focus_0.txt', 'C:\\\\\\\\Users\\\\\\\\Zeeshan.khan\\\\\\\\vscode_projects\\\\\\\\self-checkout\\\\\\\\artifacts\\\\\\\\temp\\\\\\\\labels\\\\\\\\Anjeer\\\\\\\\629Anjeer_08-16-2023-14-24-5052876_Focus_33.txt', 'C:\\\\\\\\Users\\\\\\\\Zeeshan.khan\\\\\\\\vscode_projects\\\\\\\\self-checkout\\\\\\\\artifacts\\\\\\\\temp\\\\\\\\labels\\\\\\\\Anjeer\\\\\\\\630Anjeer_08-16-2023-14-24-5793135_Focus_33.txt', 'C:\\\\\\\\Users\\\\\\\\Zeeshan.khan\\\\\\\\vscode_projects\\\\\\\\self-checkout\\\\\\\\artifacts\\\\\\\\temp\\\\\\\\labels\\\\\\\\Anjeer\\\\\\\\631Anjeer_08-16-2023-14-25-031293_Focus_33.txt', 'C:\\\\\\\\Users\\\\\\\\Zeeshan.khan\\\\\\\\vscode_projects\\\\\\\\self-checkout\\\\\\\\artifacts\\\\\\\\temp\\\\\\\\labels\\\\\\\\Anjeer\\\\\\\\632Anjeer_08-16-2023-14-25-0942203_Focus_33.txt', 'C:\\\\\\\\Users\\\\\\\\Zeeshan.khan\\\\\\\\vscode_projects\\\\\\\\self-checkout\\\\\\\\artifacts\\\\\\\\temp\\\\\\\\labels\\\\\\\\Anjeer\\\\\\\\633Anjeer_08-16-2023-14-25-1529512_Focus_0.txt', 'C:\\\\\\\\Users\\\\\\\\Zeeshan.khan\\\\\\\\vscode_projects\\\\\\\\self-checkout\\\\\\\\artifacts\\\\\\\\temp\\\\\\\\labels\\\\\\\\Anjeer\\\\\\\\635Anjeer_08-16-2023-14-25-2676055_Focus_15.txt', 'C:\\\\\\\\Users\\\\\\\\Zeeshan.khan\\\\\\\\vscode_projects\\\\\\\\self-checkout\\\\\\\\artifacts\\\\\\\\temp\\\\\\\\labels\\\\\\\\Anjeer\\\\\\\\636Anjeer_08-16-2023-14-25-3225297_Focus_0.txt', 'C:\\\\\\\\Users\\\\\\\\Zeeshan.khan\\\\\\\\vscode_projects\\\\\\\\self-checkout\\\\\\\\artifacts\\\\\\\\temp\\\\\\\\labels\\\\\\\\Anjeer\\\\\\\\637Anjeer_08-16-2023-14-25-3867079_Focus_0.txt', 'C:\\\\\\\\Users\\\\\\\\Zeeshan.khan\\\\\\\\vscode_projects\\\\\\\\self-checkout\\\\\\\\artifacts\\\\\\\\temp\\\\\\\\labels\\\\\\\\Anjeer\\\\\\\\638Anjeer_08-16-2023-14-25-4430021_Focus_33.txt', 'C:\\\\\\\\Users\\\\\\\\Zeeshan.khan\\\\\\\\vscode_projects\\\\\\\\self-checkout\\\\\\\\artifacts\\\\\\\\temp\\\\\\\\labels\\\\\\\\Anjeer\\\\\\\\639Anjeer_08-16-2023-14-25-4951393_Focus_33.txt', 'C:\\\\\\\\Users\\\\\\\\Zeeshan.khan\\\\\\\\vscode_projects\\\\\\\\self-checkout\\\\\\\\artifacts\\\\\\\\temp\\\\\\\\labels\\\\\\\\Anjeer\\\\\\\\640Anjeer_08-16-2023-14-25-5478927_Focus_33.txt', 'C:\\\\\\\\Users\\\\\\\\Zeeshan.khan\\\\\\\\vscode_projects\\\\\\\\self-checkout\\\\\\\\artifacts\\\\\\\\temp\\\\\\\\labels\\\\\\\\Anjeer\\\\\\\\641Anjeer_08-16-2023-14-25-5971391_Focus_33.txt', 'C:\\\\\\\\Users\\\\\\\\Zeeshan.khan\\\\\\\\vscode_projects\\\\\\\\self-checkout\\\\\\\\artifacts\\\\\\\\temp\\\\\\\\labels\\\\\\\\Anjeer\\\\\\\\642Anjeer_08-16-2023-14-26-0427763_Focus_33.txt', 'C:\\\\\\\\Users\\\\\\\\Zeeshan.khan\\\\\\\\vscode_projects\\\\\\\\self-checkout\\\\\\\\artifacts\\\\\\\\temp\\\\\\\\labels\\\\\\\\Anjeer\\\\\\\\643Anjeer_08-16-2023-14-26-103245_Focus_33.txt', 'C:\\\\\\\\Users\\\\\\\\Zeeshan.khan\\\\\\\\vscode_projects\\\\\\\\self-checkout\\\\\\\\artifacts\\\\\\\\temp\\\\\\\\labels\\\\\\\\Anjeer\\\\\\\\644Anjeer_08-16-2023-14-26-1872785_Focus_33.txt', 'C:\\\\\\\\Users\\\\\\\\Zeeshan.khan\\\\\\\\vscode_projects\\\\\\\\self-checkout\\\\\\\\artifacts\\\\\\\\temp\\\\\\\\labels\\\\\\\\Anjeer\\\\\\\\645Anjeer_08-16-2023-14-26-3748505_Focus_33.txt', 'C:\\\\\\\\Users\\\\\\\\Zeeshan.khan\\\\\\\\vscode_projects\\\\\\\\self-checkout\\\\\\\\artifacts\\\\\\\\temp\\\\\\\\labels\\\\\\\\Anjeer\\\\\\\\646Anjeer_08-16-2023-14-26-4633555_Focus_33.txt', 'C:\\\\\\\\Users\\\\\\\\Zeeshan.khan\\\\\\\\vscode_projects\\\\\\\\self-checkout\\\\\\\\artifacts\\\\\\\\temp\\\\\\\\labels\\\\\\\\Anjeer\\\\\\\\647Anjeer_08-16-2023-14-26-5424140_Focus_15.txt', 'C:\\\\\\\\Users\\\\\\\\Zeeshan.khan\\\\\\\\vscode_projects\\\\\\\\self-checkout\\\\\\\\artifacts\\\\\\\\temp\\\\\\\\labels\\\\\\\\Anjeer\\\\\\\\648Anjeer_08-16-2023-14-27-0151200_Focus_0.txt', 'C:\\\\\\\\Users\\\\\\\\Zeeshan.khan\\\\\\\\vscode_projects\\\\\\\\self-checkout\\\\\\\\artifacts\\\\\\\\temp\\\\\\\\labels\\\\\\\\Anjeer\\\\\\\\649Anjeer_08-16-2023-14-27-0874356_Focus_0.txt', 'C:\\\\\\\\Users\\\\\\\\Zeeshan.khan\\\\\\\\vscode_projects\\\\\\\\self-checkout\\\\\\\\artifacts\\\\\\\\temp\\\\\\\\labels\\\\\\\\Anjeer\\\\\\\\650Anjeer_08-16-2023-14-27-1479931_Focus_0.txt', 'C:\\\\\\\\Users\\\\\\\\Zeeshan.khan\\\\\\\\vscode_projects\\\\\\\\self-checkout\\\\\\\\artifacts\\\\\\\\temp\\\\\\\\labels\\\\\\\\Anjeer\\\\\\\\651Anjeer_08-16-2023-14-27-2231086_Focus_33.txt', 'C:\\\\\\\\Users\\\\\\\\Zeeshan.khan\\\\\\\\vscode_projects\\\\\\\\self-checkout\\\\\\\\artifacts\\\\\\\\temp\\\\\\\\labels\\\\\\\\Anjeer\\\\\\\\652Anjeer_08-16-2023-14-27-2967538_Focus_33.txt', 'C:\\\\\\\\Users\\\\\\\\Zeeshan.khan\\\\\\\\vscode_projects\\\\\\\\self-checkout\\\\\\\\artifacts\\\\\\\\temp\\\\\\\\labels\\\\\\\\Anjeer\\\\\\\\653Anjeer_08-16-2023-14-27-5780125_Focus_33.txt', 'C:\\\\\\\\Users\\\\\\\\Zeeshan.khan\\\\\\\\vscode_projects\\\\\\\\self-checkout\\\\\\\\artifacts\\\\\\\\temp\\\\\\\\labels\\\\\\\\Anjeer\\\\\\\\654Anjeer_08-16-2023-14-28-052950_Focus_33.txt', 'C:\\\\\\\\Users\\\\\\\\Zeeshan.khan\\\\\\\\vscode_projects\\\\\\\\self-checkout\\\\\\\\artifacts\\\\\\\\temp\\\\\\\\labels\\\\\\\\Anjeer\\\\\\\\655Anjeer_08-16-2023-14-28-1448699_Focus_33.txt', 'C:\\\\\\\\Users\\\\\\\\Zeeshan.khan\\\\\\\\vscode_projects\\\\\\\\self-checkout\\\\\\\\artifacts\\\\\\\\temp\\\\\\\\labels\\\\\\\\Anjeer\\\\\\\\656Anjeer_08-16-2023-14-28-2092899_Focus_33.txt', 'C:\\\\\\\\Users\\\\\\\\Zeeshan.khan\\\\\\\\vscode_projects\\\\\\\\self-checkout\\\\\\\\artifacts\\\\\\\\temp\\\\\\\\labels\\\\\\\\Anjeer\\\\\\\\657Anjeer_08-16-2023-14-28-2836035_Focus_33.txt', 'C:\\\\\\\\Users\\\\\\\\Zeeshan.khan\\\\\\\\vscode_projects\\\\\\\\self-checkout\\\\\\\\artifacts\\\\\\\\temp\\\\\\\\labels\\\\\\\\Anjeer\\\\\\\\658Anjeer_08-16-2023-14-28-3461305_Focus_33.txt', 'C:\\\\\\\\Users\\\\\\\\Zeeshan.khan\\\\\\\\vscode_projects\\\\\\\\self-checkout\\\\\\\\artifacts\\\\\\\\temp\\\\\\\\labels\\\\\\\\Anjeer\\\\\\\\659Anjeer_08-16-2023-14-28-4468585_Focus_33.txt', 'C:\\\\\\\\Users\\\\\\\\Zeeshan.khan\\\\\\\\vscode_projects\\\\\\\\self-checkout\\\\\\\\artifacts\\\\\\\\temp\\\\\\\\labels\\\\\\\\Anjeer\\\\\\\\660Anjeer_08-16-2023-14-28-5449511_Focus_33.txt', 'C:\\\\\\\\Users\\\\\\\\Zeeshan.khan\\\\\\\\vscode_projects\\\\\\\\self-checkout\\\\\\\\artifacts\\\\\\\\temp\\\\\\\\labels\\\\\\\\Anjeer\\\\\\\\661Anjeer_08-16-2023-14-29-0241306_Focus_33.txt', 'C:\\\\\\\\Users\\\\\\\\Zeeshan.khan\\\\\\\\vscode_projects\\\\\\\\self-checkout\\\\\\\\artifacts\\\\\\\\temp\\\\\\\\labels\\\\\\\\Anjeer\\\\\\\\662Anjeer_08-16-2023-14-29-0921054_Focus_33.txt', 'C:\\\\\\\\Users\\\\\\\\Zeeshan.khan\\\\\\\\vscode_projects\\\\\\\\self-checkout\\\\\\\\artifacts\\\\\\\\temp\\\\\\\\labels\\\\\\\\Anjeer\\\\\\\\663Anjeer_08-16-2023-14-29-1890985_Focus_33.txt', 'C:\\\\\\\\Users\\\\\\\\Zeeshan.khan\\\\\\\\vscode_projects\\\\\\\\self-checkout\\\\\\\\artifacts\\\\\\\\temp\\\\\\\\labels\\\\\\\\Anjeer\\\\\\\\664Anjeer_08-16-2023-14-29-2663850_Focus_33.txt', 'C:\\\\\\\\Users\\\\\\\\Zeeshan.khan\\\\\\\\vscode_projects\\\\\\\\self-checkout\\\\\\\\artifacts\\\\\\\\temp\\\\\\\\labels\\\\\\\\Anjeer\\\\\\\\665Anjeer_08-16-2023-14-29-3366059_Focus_15.txt', 'C:\\\\\\\\Users\\\\\\\\Zeeshan.khan\\\\\\\\vscode_projects\\\\\\\\self-checkout\\\\\\\\artifacts\\\\\\\\temp\\\\\\\\labels\\\\\\\\Anjeer\\\\\\\\666Anjeer_08-16-2023-14-29-3890297_Focus_15.txt', 'C:\\\\\\\\Users\\\\\\\\Zeeshan.khan\\\\\\\\vscode_projects\\\\\\\\self-checkout\\\\\\\\artifacts\\\\\\\\temp\\\\\\\\labels\\\\\\\\Anjeer\\\\\\\\667Anjeer_08-16-2023-14-29-4387502_Focus_0.txt', 'C:\\\\\\\\Users\\\\\\\\Zeeshan.khan\\\\\\\\vscode_projects\\\\\\\\self-checkout\\\\\\\\artifacts\\\\\\\\temp\\\\\\\\labels\\\\\\\\Anjeer\\\\\\\\668Anjeer_08-16-2023-14-29-5188252_Focus_33.txt', 'C:\\\\\\\\Users\\\\\\\\Zeeshan.khan\\\\\\\\vscode_projects\\\\\\\\self-checkout\\\\\\\\artifacts\\\\\\\\temp\\\\\\\\labels\\\\\\\\Anjeer\\\\\\\\669Anjeer_08-16-2023-14-29-5651204_Focus_15.txt', 'C:\\\\\\\\Users\\\\\\\\Zeeshan.khan\\\\\\\\vscode_projects\\\\\\\\self-checkout\\\\\\\\artifacts\\\\\\\\temp\\\\\\\\labels\\\\\\\\Anjeer\\\\\\\\670Anjeer_08-16-2023-14-30-0390944_Focus_15.txt', 'C:\\\\\\\\Users\\\\\\\\Zeeshan.khan\\\\\\\\vscode_projects\\\\\\\\self-checkout\\\\\\\\artifacts\\\\\\\\temp\\\\\\\\labels\\\\\\\\Anjeer\\\\\\\\671Anjeer_08-16-2023-14-30-0951704_Focus_15.txt', 'C:\\\\\\\\Users\\\\\\\\Zeeshan.khan\\\\\\\\vscode_projects\\\\\\\\self-checkout\\\\\\\\artifacts\\\\\\\\temp\\\\\\\\labels\\\\\\\\Anjeer\\\\\\\\672Anjeer_08-16-2023-14-30-2658498_Focus_0.txt', 'C:\\\\\\\\Users\\\\\\\\Zeeshan.khan\\\\\\\\vscode_projects\\\\\\\\self-checkout\\\\\\\\artifacts\\\\\\\\temp\\\\\\\\labels\\\\\\\\Anjeer\\\\\\\\673Anjeer_08-16-2023-14-30-3780485_Focus_33.txt', 'C:\\\\\\\\Users\\\\\\\\Zeeshan.khan\\\\\\\\vscode_projects\\\\\\\\self-checkout\\\\\\\\artifacts\\\\\\\\temp\\\\\\\\labels\\\\\\\\Anjeer\\\\\\\\674Anjeer_08-16-2023-14-30-4238882_Focus_33.txt', 'C:\\\\\\\\Users\\\\\\\\Zeeshan.khan\\\\\\\\vscode_projects\\\\\\\\self-checkout\\\\\\\\artifacts\\\\\\\\temp\\\\\\\\labels\\\\\\\\Anjeer\\\\\\\\675Anjeer_08-16-2023-14-30-5156576_Focus_15.txt', 'C:\\\\\\\\Users\\\\\\\\Zeeshan.khan\\\\\\\\vscode_projects\\\\\\\\self-checkout\\\\\\\\artifacts\\\\\\\\temp\\\\\\\\labels\\\\\\\\Anjeer\\\\\\\\676Anjeer_08-16-2023-14-30-5730959_Focus_0.txt', 'C:\\\\\\\\Users\\\\\\\\Zeeshan.khan\\\\\\\\vscode_projects\\\\\\\\self-checkout\\\\\\\\artifacts\\\\\\\\temp\\\\\\\\labels\\\\\\\\Anjeer\\\\\\\\677Anjeer_08-16-2023-14-31-1414595_Focus_0.txt', 'C:\\\\\\\\Users\\\\\\\\Zeeshan.khan\\\\\\\\vscode_projects\\\\\\\\self-checkout\\\\\\\\artifacts\\\\\\\\temp\\\\\\\\labels\\\\\\\\Anjeer\\\\\\\\678Anjeer_08-16-2023-14-31-2470333_Focus_0.txt', 'C:\\\\\\\\Users\\\\\\\\Zeeshan.khan\\\\\\\\vscode_projects\\\\\\\\self-checkout\\\\\\\\artifacts\\\\\\\\temp\\\\\\\\labels\\\\\\\\Anjeer\\\\\\\\679Anjeer_08-16-2023-14-31-3352168_Focus_0.txt', 'C:\\\\\\\\Users\\\\\\\\Zeeshan.khan\\\\\\\\vscode_projects\\\\\\\\self-checkout\\\\\\\\artifacts\\\\\\\\temp\\\\\\\\labels\\\\\\\\Anjeer\\\\\\\\679Anjeer_08-16-2023-14-31-3352168_Focus_33.txt', 'C:\\\\\\\\Users\\\\\\\\Zeeshan.khan\\\\\\\\vscode_projects\\\\\\\\self-checkout\\\\\\\\artifacts\\\\\\\\temp\\\\\\\\labels\\\\\\\\Anjeer\\\\\\\\680Anjeer_08-16-2023-14-31-4537327_Focus_33.txt', 'C:\\\\\\\\Users\\\\\\\\Zeeshan.khan\\\\\\\\vscode_projects\\\\\\\\self-checkout\\\\\\\\artifacts\\\\\\\\temp\\\\\\\\labels\\\\\\\\Anjeer\\\\\\\\681Anjeer_08-16-2023-14-31-5320104_Focus_33.txt', 'C:\\\\\\\\Users\\\\\\\\Zeeshan.khan\\\\\\\\vscode_projects\\\\\\\\self-checkout\\\\\\\\artifacts\\\\\\\\temp\\\\\\\\labels\\\\\\\\Anjeer\\\\\\\\682Anjeer_08-16-2023-14-32-0429317_Focus_33.txt', 'C:\\\\\\\\Users\\\\\\\\Zeeshan.khan\\\\\\\\vscode_projects\\\\\\\\self-checkout\\\\\\\\artifacts\\\\\\\\temp\\\\\\\\labels\\\\\\\\Anjeer\\\\\\\\683Anjeer_08-16-2023-14-32-1319345_Focus_33.txt', 'C:\\\\\\\\Users\\\\\\\\Zeeshan.khan\\\\\\\\vscode_projects\\\\\\\\self-checkout\\\\\\\\artifacts\\\\\\\\temp\\\\\\\\labels\\\\\\\\Anjeer\\\\\\\\684Anjeer_08-16-2023-14-32-2311587_Focus_33.txt', 'C:\\\\\\\\Users\\\\\\\\Zeeshan.khan\\\\\\\\vscode_projects\\\\\\\\self-checkout\\\\\\\\artifacts\\\\\\\\temp\\\\\\\\labels\\\\\\\\Anjeer\\\\\\\\685Anjeer_08-16-2023-14-32-3262434_Focus_33.txt', 'C:\\\\\\\\Users\\\\\\\\Zeeshan.khan\\\\\\\\vscode_projects\\\\\\\\self-checkout\\\\\\\\artifacts\\\\\\\\temp\\\\\\\\labels\\\\\\\\Anjeer\\\\\\\\686Anjeer_08-16-2023-14-32-446029_Focus_15.txt', 'C:\\\\\\\\Users\\\\\\\\Zeeshan.khan\\\\\\\\vscode_projects\\\\\\\\self-checkout\\\\\\\\artifacts\\\\\\\\temp\\\\\\\\labels\\\\\\\\Anjeer\\\\\\\\687Anjeer_08-16-2023-14-32-5364908_Focus_15.txt', 'C:\\\\\\\\Users\\\\\\\\Zeeshan.khan\\\\\\\\vscode_projects\\\\\\\\self-checkout\\\\\\\\artifacts\\\\\\\\temp\\\\\\\\labels\\\\\\\\Anjeer\\\\\\\\688Anjeer_08-16-2023-14-33-0629993_Focus_0.txt', 'C:\\\\\\\\Users\\\\\\\\Zeeshan.khan\\\\\\\\vscode_projects\\\\\\\\self-checkout\\\\\\\\artifacts\\\\\\\\temp\\\\\\\\labels\\\\\\\\Anjeer\\\\\\\\689Anjeer_08-16-2023-14-33-1890620_Focus_0.txt', 'C:\\\\\\\\Users\\\\\\\\Zeeshan.khan\\\\\\\\vscode_projects\\\\\\\\self-checkout\\\\\\\\artifacts\\\\\\\\temp\\\\\\\\labels\\\\\\\\Anjeer\\\\\\\\690Anjeer_08-16-2023-14-33-3082992_Focus_0.txt', 'C:\\\\\\\\Users\\\\\\\\Zeeshan.khan\\\\\\\\vscode_projects\\\\\\\\self-checkout\\\\\\\\artifacts\\\\\\\\temp\\\\\\\\labels\\\\\\\\Anjeer\\\\\\\\691Anjeer_08-16-2023-14-33-3918516_Focus_0.txt', 'C:\\\\\\\\Users\\\\\\\\Zeeshan.khan\\\\\\\\vscode_projects\\\\\\\\self-checkout\\\\\\\\artifacts\\\\\\\\temp\\\\\\\\labels\\\\\\\\Anjeer\\\\\\\\692Anjeer_08-16-2023-14-34-0677234_Focus_0.txt', 'C:\\\\\\\\Users\\\\\\\\Zeeshan.khan\\\\\\\\vscode_projects\\\\\\\\self-checkout\\\\\\\\artifacts\\\\\\\\temp\\\\\\\\labels\\\\\\\\Anjeer\\\\\\\\693Anjeer_08-16-2023-14-34-1255849_Focus_0.txt', 'C:\\\\\\\\Users\\\\\\\\Zeeshan.khan\\\\\\\\vscode_projects\\\\\\\\self-checkout\\\\\\\\artifacts\\\\\\\\temp\\\\\\\\labels\\\\\\\\Anjeer\\\\\\\\694Anjeer_08-16-2023-14-34-1726505_Focus_0.txt', 'C:\\\\\\\\Users\\\\\\\\Zeeshan.khan\\\\\\\\vscode_projects\\\\\\\\self-checkout\\\\\\\\artifacts\\\\\\\\temp\\\\\\\\labels\\\\\\\\Anjeer\\\\\\\\695Anjeer_08-16-2023-14-34-3039285_Focus_0.txt', 'C:\\\\\\\\Users\\\\\\\\Zeeshan.khan\\\\\\\\vscode_projects\\\\\\\\self-checkout\\\\\\\\artifacts\\\\\\\\temp\\\\\\\\labels\\\\\\\\Anjeer\\\\\\\\696Anjeer_08-16-2023-14-34-4457411_Focus_33.txt', 'C:\\\\\\\\Users\\\\\\\\Zeeshan.khan\\\\\\\\vscode_projects\\\\\\\\self-checkout\\\\\\\\artifacts\\\\\\\\temp\\\\\\\\labels\\\\\\\\Anjeer\\\\\\\\697Anjeer_08-16-2023-14-35-0077572_Focus_33.txt', 'C:\\\\\\\\Users\\\\\\\\Zeeshan.khan\\\\\\\\vscode_projects\\\\\\\\self-checkout\\\\\\\\artifacts\\\\\\\\temp\\\\\\\\labels\\\\\\\\Anjeer\\\\\\\\698Anjeer_08-16-2023-14-35-0621674_Focus_33.txt', 'C:\\\\\\\\Users\\\\\\\\Zeeshan.khan\\\\\\\\vscode_projects\\\\\\\\self-checkout\\\\\\\\artifacts\\\\\\\\temp\\\\\\\\labels\\\\\\\\Anjeer\\\\\\\\699Anjeer_08-16-2023-14-35-302545_Focus_33.txt', 'C:\\\\\\\\Users\\\\\\\\Zeeshan.khan\\\\\\\\vscode_projects\\\\\\\\self-checkout\\\\\\\\artifacts\\\\\\\\temp\\\\\\\\labels\\\\\\\\Anjeer\\\\\\\\6Anjeer_07-20-2023-13-03-3660780_Focus_33.txt', 'C:\\\\\\\\Users\\\\\\\\Zeeshan.khan\\\\\\\\vscode_projects\\\\\\\\self-checkout\\\\\\\\artifacts\\\\\\\\temp\\\\\\\\labels\\\\\\\\Anjeer\\\\\\\\700Anjeer_08-16-2023-14-35-3984138_Focus_33.txt', 'C:\\\\\\\\Users\\\\\\\\Zeeshan.khan\\\\\\\\vscode_projects\\\\\\\\self-checkout\\\\\\\\artifacts\\\\\\\\temp\\\\\\\\labels\\\\\\\\Anjeer\\\\\\\\701Anjeer_08-16-2023-14-35-4619407_Focus_15.txt', 'C:\\\\\\\\Users\\\\\\\\Zeeshan.khan\\\\\\\\vscode_projects\\\\\\\\self-checkout\\\\\\\\artifacts\\\\\\\\temp\\\\\\\\labels\\\\\\\\Anjeer\\\\\\\\702Anjeer_08-16-2023-14-35-5228772_Focus_15.txt', 'C:\\\\\\\\Users\\\\\\\\Zeeshan.khan\\\\\\\\vscode_projects\\\\\\\\self-checkout\\\\\\\\artifacts\\\\\\\\temp\\\\\\\\labels\\\\\\\\Anjeer\\\\\\\\702Anjeer_08-16-2023-14-35-5228772_Focus_33.txt', 'C:\\\\\\\\Users\\\\\\\\Zeeshan.khan\\\\\\\\vscode_projects\\\\\\\\self-checkout\\\\\\\\artifacts\\\\\\\\temp\\\\\\\\labels\\\\\\\\Anjeer\\\\\\\\703Anjeer_08-16-2023-14-35-5880335_Focus_33.txt', 'C:\\\\\\\\Users\\\\\\\\Zeeshan.khan\\\\\\\\vscode_projects\\\\\\\\self-checkout\\\\\\\\artifacts\\\\\\\\temp\\\\\\\\labels\\\\\\\\Anjeer\\\\\\\\704Anjeer_08-16-2023-14-36-0480586_Focus_33.txt', 'C:\\\\\\\\Users\\\\\\\\Zeeshan.khan\\\\\\\\vscode_projects\\\\\\\\self-checkout\\\\\\\\artifacts\\\\\\\\temp\\\\\\\\labels\\\\\\\\Anjeer\\\\\\\\705Anjeer_08-16-2023-14-36-1594992_Focus_33.txt', 'C:\\\\\\\\Users\\\\\\\\Zeeshan.khan\\\\\\\\vscode_projects\\\\\\\\self-checkout\\\\\\\\artifacts\\\\\\\\temp\\\\\\\\labels\\\\\\\\Anjeer\\\\\\\\706Anjeer_08-16-2023-14-36-2322372_Focus_0.txt', 'C:\\\\\\\\Users\\\\\\\\Zeeshan.khan\\\\\\\\vscode_projects\\\\\\\\self-checkout\\\\\\\\artifacts\\\\\\\\temp\\\\\\\\labels\\\\\\\\Anjeer\\\\\\\\707Anjeer_08-16-2023-14-36-2961465_Focus_0.txt', 'C:\\\\\\\\Users\\\\\\\\Zeeshan.khan\\\\\\\\vscode_projects\\\\\\\\self-checkout\\\\\\\\artifacts\\\\\\\\temp\\\\\\\\labels\\\\\\\\Anjeer\\\\\\\\708Anjeer_08-16-2023-14-36-4692871_Focus_0.txt', 'C:\\\\\\\\Users\\\\\\\\Zeeshan.khan\\\\\\\\vscode_projects\\\\\\\\self-checkout\\\\\\\\artifacts\\\\\\\\temp\\\\\\\\labels\\\\\\\\Anjeer\\\\\\\\709Anjeer_08-16-2023-14-36-5152913_Focus_0.txt', 'C:\\\\\\\\Users\\\\\\\\Zeeshan.khan\\\\\\\\vscode_projects\\\\\\\\self-checkout\\\\\\\\artifacts\\\\\\\\temp\\\\\\\\labels\\\\\\\\Anjeer\\\\\\\\710Anjeer_08-16-2023-14-36-5830179_Focus_0.txt', 'C:\\\\\\\\Users\\\\\\\\Zeeshan.khan\\\\\\\\vscode_projects\\\\\\\\self-checkout\\\\\\\\artifacts\\\\\\\\temp\\\\\\\\labels\\\\\\\\Anjeer\\\\\\\\711Anjeer_08-16-2023-14-37-0676192_Focus_0.txt', 'C:\\\\\\\\Users\\\\\\\\Zeeshan.khan\\\\\\\\vscode_projects\\\\\\\\self-checkout\\\\\\\\artifacts\\\\\\\\temp\\\\\\\\labels\\\\\\\\Anjeer\\\\\\\\712Anjeer_08-16-2023-14-37-1389777_Focus_0.txt', 'C:\\\\\\\\Users\\\\\\\\Zeeshan.khan\\\\\\\\vscode_projects\\\\\\\\self-checkout\\\\\\\\artifacts\\\\\\\\temp\\\\\\\\labels\\\\\\\\Anjeer\\\\\\\\713Anjeer_08-16-2023-14-37-1989892_Focus_0.txt', 'C:\\\\\\\\Users\\\\\\\\Zeeshan.khan\\\\\\\\vscode_projects\\\\\\\\self-checkout\\\\\\\\artifacts\\\\\\\\temp\\\\\\\\labels\\\\\\\\Anjeer\\\\\\\\714Anjeer_08-16-2023-14-39-3979438_Focus_0.txt', 'C:\\\\\\\\Users\\\\\\\\Zeeshan.khan\\\\\\\\vscode_projects\\\\\\\\self-checkout\\\\\\\\artifacts\\\\\\\\temp\\\\\\\\labels\\\\\\\\Anjeer\\\\\\\\715Anjeer_08-16-2023-14-39-5416933_Focus_0.txt', 'C:\\\\\\\\Users\\\\\\\\Zeeshan.khan\\\\\\\\vscode_projects\\\\\\\\self-checkout\\\\\\\\artifacts\\\\\\\\temp\\\\\\\\labels\\\\\\\\Anjeer\\\\\\\\716Anjeer_08-16-2023-14-40-0158669_Focus_0.txt', 'C:\\\\\\\\Users\\\\\\\\Zeeshan.khan\\\\\\\\vscode_projects\\\\\\\\self-checkout\\\\\\\\artifacts\\\\\\\\temp\\\\\\\\labels\\\\\\\\Anjeer\\\\\\\\717Anjeer_08-16-2023-14-40-1033137_Focus_33.txt', 'C:\\\\\\\\Users\\\\\\\\Zeeshan.khan\\\\\\\\vscode_projects\\\\\\\\self-checkout\\\\\\\\artifacts\\\\\\\\temp\\\\\\\\labels\\\\\\\\Anjeer\\\\\\\\718Anjeer_08-16-2023-14-40-1826635_Focus_33.txt', 'C:\\\\\\\\Users\\\\\\\\Zeeshan.khan\\\\\\\\vscode_projects\\\\\\\\self-checkout\\\\\\\\artifacts\\\\\\\\temp\\\\\\\\labels\\\\\\\\Anjeer\\\\\\\\719Anjeer_08-16-2023-14-40-2424982_Focus_33.txt', 'C:\\\\\\\\Users\\\\\\\\Zeeshan.khan\\\\\\\\vscode_projects\\\\\\\\self-checkout\\\\\\\\artifacts\\\\\\\\temp\\\\\\\\labels\\\\\\\\Anjeer\\\\\\\\720Anjeer_08-16-2023-14-40-3095707_Focus_33.txt', 'C:\\\\\\\\Users\\\\\\\\Zeeshan.khan\\\\\\\\vscode_projects\\\\\\\\self-checkout\\\\\\\\artifacts\\\\\\\\temp\\\\\\\\labels\\\\\\\\Anjeer\\\\\\\\721Anjeer_08-16-2023-14-40-3820266_Focus_33.txt', 'C:\\\\\\\\Users\\\\\\\\Zeeshan.khan\\\\\\\\vscode_projects\\\\\\\\self-checkout\\\\\\\\artifacts\\\\\\\\temp\\\\\\\\labels\\\\\\\\Anjeer\\\\\\\\722Anjeer_08-16-2023-14-40-4412551_Focus_33.txt', 'C:\\\\\\\\Users\\\\\\\\Zeeshan.khan\\\\\\\\vscode_projects\\\\\\\\self-checkout\\\\\\\\artifacts\\\\\\\\temp\\\\\\\\labels\\\\\\\\Anjeer\\\\\\\\723Anjeer_08-16-2023-14-40-491924_Focus_33.txt', 'C:\\\\\\\\Users\\\\\\\\Zeeshan.khan\\\\\\\\vscode_projects\\\\\\\\self-checkout\\\\\\\\artifacts\\\\\\\\temp\\\\\\\\labels\\\\\\\\Anjeer\\\\\\\\724Anjeer_08-16-2023-14-40-5466215_Focus_33.txt', 'C:\\\\\\\\Users\\\\\\\\Zeeshan.khan\\\\\\\\vscode_projects\\\\\\\\self-checkout\\\\\\\\artifacts\\\\\\\\temp\\\\\\\\labels\\\\\\\\Anjeer\\\\\\\\725Anjeer_08-16-2023-14-41-0020922_Focus_33.txt', 'C:\\\\\\\\Users\\\\\\\\Zeeshan.khan\\\\\\\\vscode_projects\\\\\\\\self-checkout\\\\\\\\artifacts\\\\\\\\temp\\\\\\\\labels\\\\\\\\Anjeer\\\\\\\\726Anjeer_08-16-2023-14-41-1331764_Focus_33.txt', 'C:\\\\\\\\Users\\\\\\\\Zeeshan.khan\\\\\\\\vscode_projects\\\\\\\\self-checkout\\\\\\\\artifacts\\\\\\\\temp\\\\\\\\labels\\\\\\\\Anjeer\\\\\\\\727Anjeer_08-16-2023-14-41-259195_Focus_33.txt', 'C:\\\\\\\\Users\\\\\\\\Zeeshan.khan\\\\\\\\vscode_projects\\\\\\\\self-checkout\\\\\\\\artifacts\\\\\\\\temp\\\\\\\\labels\\\\\\\\Anjeer\\\\\\\\728Anjeer_08-16-2023-14-41-3422897_Focus_33.txt', 'C:\\\\\\\\Users\\\\\\\\Zeeshan.khan\\\\\\\\vscode_projects\\\\\\\\self-checkout\\\\\\\\artifacts\\\\\\\\temp\\\\\\\\labels\\\\\\\\Anjeer\\\\\\\\729Anjeer_08-16-2023-14-41-4579509_Focus_33.txt', 'C:\\\\\\\\Users\\\\\\\\Zeeshan.khan\\\\\\\\vscode_projects\\\\\\\\self-checkout\\\\\\\\artifacts\\\\\\\\temp\\\\\\\\labels\\\\\\\\Anjeer\\\\\\\\730Anjeer_08-16-2023-14-41-5253519_Focus_33.txt', 'C:\\\\\\\\Users\\\\\\\\Zeeshan.khan\\\\\\\\vscode_projects\\\\\\\\self-checkout\\\\\\\\artifacts\\\\\\\\temp\\\\\\\\labels\\\\\\\\Anjeer\\\\\\\\731Anjeer_08-16-2023-14-41-5872216_Focus_33.txt', 'C:\\\\\\\\Users\\\\\\\\Zeeshan.khan\\\\\\\\vscode_projects\\\\\\\\self-checkout\\\\\\\\artifacts\\\\\\\\temp\\\\\\\\labels\\\\\\\\Anjeer\\\\\\\\732Anjeer_08-16-2023-14-42-0428498_Focus_33.txt', 'C:\\\\\\\\Users\\\\\\\\Zeeshan.khan\\\\\\\\vscode_projects\\\\\\\\self-checkout\\\\\\\\artifacts\\\\\\\\temp\\\\\\\\labels\\\\\\\\Anjeer\\\\\\\\733Anjeer_08-16-2023-14-42-09304_Focus_33.txt', 'C:\\\\\\\\Users\\\\\\\\Zeeshan.khan\\\\\\\\vscode_projects\\\\\\\\self-checkout\\\\\\\\artifacts\\\\\\\\temp\\\\\\\\labels\\\\\\\\Anjeer\\\\\\\\734Anjeer_08-16-2023-14-42-1482328_Focus_33.txt', 'C:\\\\\\\\Users\\\\\\\\Zeeshan.khan\\\\\\\\vscode_projects\\\\\\\\self-checkout\\\\\\\\artifacts\\\\\\\\temp\\\\\\\\labels\\\\\\\\Anjeer\\\\\\\\735Anjeer_08-16-2023-14-42-1974888_Focus_33.txt', 'C:\\\\\\\\Users\\\\\\\\Zeeshan.khan\\\\\\\\vscode_projects\\\\\\\\self-checkout\\\\\\\\artifacts\\\\\\\\temp\\\\\\\\labels\\\\\\\\Anjeer\\\\\\\\736Anjeer_08-16-2023-14-42-2775764_Focus_33.txt', 'C:\\\\\\\\Users\\\\\\\\Zeeshan.khan\\\\\\\\vscode_projects\\\\\\\\self-checkout\\\\\\\\artifacts\\\\\\\\temp\\\\\\\\labels\\\\\\\\Anjeer\\\\\\\\737Anjeer_08-16-2023-14-42-3438123_Focus_33.txt', 'C:\\\\\\\\Users\\\\\\\\Zeeshan.khan\\\\\\\\vscode_projects\\\\\\\\self-checkout\\\\\\\\artifacts\\\\\\\\temp\\\\\\\\labels\\\\\\\\Anjeer\\\\\\\\737Anjeer_08-16-2023-14-42-3438123_Focus_33_1.txt', 'C:\\\\\\\\Users\\\\\\\\Zeeshan.khan\\\\\\\\vscode_projects\\\\\\\\self-checkout\\\\\\\\artifacts\\\\\\\\temp\\\\\\\\labels\\\\\\\\Anjeer\\\\\\\\738Anjeer_08-16-2023-14-42-4116518_Focus_33.txt', 'C:\\\\\\\\Users\\\\\\\\Zeeshan.khan\\\\\\\\vscode_projects\\\\\\\\self-checkout\\\\\\\\artifacts\\\\\\\\temp\\\\\\\\labels\\\\\\\\Anjeer\\\\\\\\739Anjeer_08-16-2023-14-42-4748768_Focus_33.txt', 'C:\\\\\\\\Users\\\\\\\\Zeeshan.khan\\\\\\\\vscode_projects\\\\\\\\self-checkout\\\\\\\\artifacts\\\\\\\\temp\\\\\\\\labels\\\\\\\\Anjeer\\\\\\\\740Anjeer_08-16-2023-14-42-5477954_Focus_33.txt', 'C:\\\\\\\\Users\\\\\\\\Zeeshan.khan\\\\\\\\vscode_projects\\\\\\\\self-checkout\\\\\\\\artifacts\\\\\\\\temp\\\\\\\\labels\\\\\\\\Anjeer\\\\\\\\741Anjeer_08-16-2023-14-43-0236944_Focus_33.txt', 'C:\\\\\\\\Users\\\\\\\\Zeeshan.khan\\\\\\\\vscode_projects\\\\\\\\self-checkout\\\\\\\\artifacts\\\\\\\\temp\\\\\\\\labels\\\\\\\\Anjeer\\\\\\\\742Anjeer_08-16-2023-14-43-0882919_Focus_15.txt', 'C:\\\\\\\\Users\\\\\\\\Zeeshan.khan\\\\\\\\vscode_projects\\\\\\\\self-checkout\\\\\\\\artifacts\\\\\\\\temp\\\\\\\\labels\\\\\\\\Anjeer\\\\\\\\743Anjeer_08-16-2023-14-43-1462175_Focus_15.txt', 'C:\\\\\\\\Users\\\\\\\\Zeeshan.khan\\\\\\\\vscode_projects\\\\\\\\self-checkout\\\\\\\\artifacts\\\\\\\\temp\\\\\\\\labels\\\\\\\\Anjeer\\\\\\\\744Anjeer_08-16-2023-14-43-2037746_Focus_15.txt', 'C:\\\\\\\\Users\\\\\\\\Zeeshan.khan\\\\\\\\vscode_projects\\\\\\\\self-checkout\\\\\\\\artifacts\\\\\\\\temp\\\\\\\\labels\\\\\\\\Anjeer\\\\\\\\744Anjeer_08-16-2023-14-43-2037746_Focus_33.txt', 'C:\\\\\\\\Users\\\\\\\\Zeeshan.khan\\\\\\\\vscode_projects\\\\\\\\self-checkout\\\\\\\\artifacts\\\\\\\\temp\\\\\\\\labels\\\\\\\\Anjeer\\\\\\\\745Anjeer_08-16-2023-14-43-2985352_Focus_33.txt', 'C:\\\\\\\\Users\\\\\\\\Zeeshan.khan\\\\\\\\vscode_projects\\\\\\\\self-checkout\\\\\\\\artifacts\\\\\\\\temp\\\\\\\\labels\\\\\\\\Anjeer\\\\\\\\746Anjeer_08-16-2023-14-43-3926914_Focus_0.txt', 'C:\\\\\\\\Users\\\\\\\\Zeeshan.khan\\\\\\\\vscode_projects\\\\\\\\self-checkout\\\\\\\\artifacts\\\\\\\\temp\\\\\\\\labels\\\\\\\\Anjeer\\\\\\\\747Anjeer_08-16-2023-14-43-4686503_Focus_0.txt', 'C:\\\\\\\\Users\\\\\\\\Zeeshan.khan\\\\\\\\vscode_projects\\\\\\\\self-checkout\\\\\\\\artifacts\\\\\\\\temp\\\\\\\\labels\\\\\\\\Anjeer\\\\\\\\748Anjeer_08-16-2023-14-43-546327_Focus_0.txt', 'C:\\\\\\\\Users\\\\\\\\Zeeshan.khan\\\\\\\\vscode_projects\\\\\\\\self-checkout\\\\\\\\artifacts\\\\\\\\temp\\\\\\\\labels\\\\\\\\Anjeer\\\\\\\\749Anjeer_08-16-2023-14-44-0249777_Focus_0.txt', 'C:\\\\\\\\Users\\\\\\\\Zeeshan.khan\\\\\\\\vscode_projects\\\\\\\\self-checkout\\\\\\\\artifacts\\\\\\\\temp\\\\\\\\labels\\\\\\\\Anjeer\\\\\\\\750Anjeer_08-16-2023-14-44-0827234_Focus_0.txt', 'C:\\\\\\\\Users\\\\\\\\Zeeshan.khan\\\\\\\\vscode_projects\\\\\\\\self-checkout\\\\\\\\artifacts\\\\\\\\temp\\\\\\\\labels\\\\\\\\Anjeer\\\\\\\\751Anjeer_08-16-2023-14-44-1536460_Focus_0.txt', 'C:\\\\\\\\Users\\\\\\\\Zeeshan.khan\\\\\\\\vscode_projects\\\\\\\\self-checkout\\\\\\\\artifacts\\\\\\\\temp\\\\\\\\labels\\\\\\\\Anjeer\\\\\\\\752Anjeer_08-16-2023-14-44-2148669_Focus_0.txt', 'C:\\\\\\\\Users\\\\\\\\Zeeshan.khan\\\\\\\\vscode_projects\\\\\\\\self-checkout\\\\\\\\artifacts\\\\\\\\temp\\\\\\\\labels\\\\\\\\Anjeer\\\\\\\\753Anjeer_08-16-2023-14-44-2778499_Focus_0.txt', 'C:\\\\\\\\Users\\\\\\\\Zeeshan.khan\\\\\\\\vscode_projects\\\\\\\\self-checkout\\\\\\\\artifacts\\\\\\\\temp\\\\\\\\labels\\\\\\\\Anjeer\\\\\\\\754Anjeer_08-16-2023-14-44-3313175_Focus_0.txt', 'C:\\\\\\\\Users\\\\\\\\Zeeshan.khan\\\\\\\\vscode_projects\\\\\\\\self-checkout\\\\\\\\artifacts\\\\\\\\temp\\\\\\\\labels\\\\\\\\Anjeer\\\\\\\\755Anjeer_08-16-2023-14-44-3959696_Focus_0.txt', 'C:\\\\\\\\Users\\\\\\\\Zeeshan.khan\\\\\\\\vscode_projects\\\\\\\\self-checkout\\\\\\\\artifacts\\\\\\\\temp\\\\\\\\labels\\\\\\\\Anjeer\\\\\\\\756Anjeer_08-16-2023-14-44-4538948_Focus_0.txt', 'C:\\\\\\\\Users\\\\\\\\Zeeshan.khan\\\\\\\\vscode_projects\\\\\\\\self-checkout\\\\\\\\artifacts\\\\\\\\temp\\\\\\\\labels\\\\\\\\Anjeer\\\\\\\\757Anjeer_08-16-2023-14-44-5276742_Focus_0.txt', 'C:\\\\\\\\Users\\\\\\\\Zeeshan.khan\\\\\\\\vscode_projects\\\\\\\\self-checkout\\\\\\\\artifacts\\\\\\\\temp\\\\\\\\labels\\\\\\\\Anjeer\\\\\\\\758Anjeer_08-16-2023-14-44-5847088_Focus_0.txt', 'C:\\\\\\\\Users\\\\\\\\Zeeshan.khan\\\\\\\\vscode_projects\\\\\\\\self-checkout\\\\\\\\artifacts\\\\\\\\temp\\\\\\\\labels\\\\\\\\Anjeer\\\\\\\\759Anjeer_08-16-2023-14-45-0988871_Focus_33.txt', 'C:\\\\\\\\Users\\\\\\\\Zeeshan.khan\\\\\\\\vscode_projects\\\\\\\\self-checkout\\\\\\\\artifacts\\\\\\\\temp\\\\\\\\labels\\\\\\\\Anjeer\\\\\\\\760Anjeer_08-16-2023-14-45-1451932_Focus_33.txt', 'C:\\\\\\\\Users\\\\\\\\Zeeshan.khan\\\\\\\\vscode_projects\\\\\\\\self-checkout\\\\\\\\artifacts\\\\\\\\temp\\\\\\\\labels\\\\\\\\Anjeer\\\\\\\\761Anjeer_08-16-2023-14-45-2047699_Focus_15.txt', 'C:\\\\\\\\Users\\\\\\\\Zeeshan.khan\\\\\\\\vscode_projects\\\\\\\\self-checkout\\\\\\\\artifacts\\\\\\\\temp\\\\\\\\labels\\\\\\\\Anjeer\\\\\\\\761Anjeer_08-16-2023-14-45-2047699_Focus_33.txt', 'C:\\\\\\\\Users\\\\\\\\Zeeshan.khan\\\\\\\\vscode_projects\\\\\\\\self-checkout\\\\\\\\artifacts\\\\\\\\temp\\\\\\\\labels\\\\\\\\Anjeer\\\\\\\\762Anjeer_08-16-2023-14-45-274822_Focus_33.txt', 'C:\\\\\\\\Users\\\\\\\\Zeeshan.khan\\\\\\\\vscode_projects\\\\\\\\self-checkout\\\\\\\\artifacts\\\\\\\\temp\\\\\\\\labels\\\\\\\\Anjeer\\\\\\\\763Anjeer_08-16-2023-14-45-3448130_Focus_33.txt', 'C:\\\\\\\\Users\\\\\\\\Zeeshan.khan\\\\\\\\vscode_projects\\\\\\\\self-checkout\\\\\\\\artifacts\\\\\\\\temp\\\\\\\\labels\\\\\\\\Anjeer\\\\\\\\764Anjeer_08-16-2023-14-45-3991550_Focus_33.txt', 'C:\\\\\\\\Users\\\\\\\\Zeeshan.khan\\\\\\\\vscode_projects\\\\\\\\self-checkout\\\\\\\\artifacts\\\\\\\\temp\\\\\\\\labels\\\\\\\\Anjeer\\\\\\\\765Anjeer_08-16-2023-14-45-4672335_Focus_33.txt', 'C:\\\\\\\\Users\\\\\\\\Zeeshan.khan\\\\\\\\vscode_projects\\\\\\\\self-checkout\\\\\\\\artifacts\\\\\\\\temp\\\\\\\\labels\\\\\\\\Anjeer\\\\\\\\766Anjeer_08-16-2023-14-45-5698314_Focus_33.txt', 'C:\\\\\\\\Users\\\\\\\\Zeeshan.khan\\\\\\\\vscode_projects\\\\\\\\self-checkout\\\\\\\\artifacts\\\\\\\\temp\\\\\\\\labels\\\\\\\\Anjeer\\\\\\\\768Anjeer_08-16-2023-14-46-0768157_Focus_33.txt', 'C:\\\\\\\\Users\\\\\\\\Zeeshan.khan\\\\\\\\vscode_projects\\\\\\\\self-checkout\\\\\\\\artifacts\\\\\\\\temp\\\\\\\\labels\\\\\\\\Anjeer\\\\\\\\769Anjeer_08-16-2023-14-46-3095076_Focus_33.txt', 'C:\\\\\\\\Users\\\\\\\\Zeeshan.khan\\\\\\\\vscode_projects\\\\\\\\self-checkout\\\\\\\\artifacts\\\\\\\\temp\\\\\\\\labels\\\\\\\\Anjeer\\\\\\\\770Anjeer_08-16-2023-14-46-3526049_Focus_33.txt', 'C:\\\\\\\\Users\\\\\\\\Zeeshan.khan\\\\\\\\vscode_projects\\\\\\\\self-checkout\\\\\\\\artifacts\\\\\\\\temp\\\\\\\\labels\\\\\\\\Anjeer\\\\\\\\771Anjeer_08-16-2023-14-46-5220324_Focus_33.txt', 'C:\\\\\\\\Users\\\\\\\\Zeeshan.khan\\\\\\\\vscode_projects\\\\\\\\self-checkout\\\\\\\\artifacts\\\\\\\\temp\\\\\\\\labels\\\\\\\\Anjeer\\\\\\\\772Anjeer_08-16-2023-14-46-5988286_Focus_33.txt', 'C:\\\\\\\\Users\\\\\\\\Zeeshan.khan\\\\\\\\vscode_projects\\\\\\\\self-checkout\\\\\\\\artifacts\\\\\\\\temp\\\\\\\\labels\\\\\\\\Anjeer\\\\\\\\773Anjeer_08-16-2023-14-47-0553054_Focus_33.txt', 'C:\\\\\\\\Users\\\\\\\\Zeeshan.khan\\\\\\\\vscode_projects\\\\\\\\self-checkout\\\\\\\\artifacts\\\\\\\\temp\\\\\\\\labels\\\\\\\\Anjeer\\\\\\\\774Anjeer_08-16-2023-14-47-1283152_Focus_33.txt', 'C:\\\\\\\\Users\\\\\\\\Zeeshan.khan\\\\\\\\vscode_projects\\\\\\\\self-checkout\\\\\\\\artifacts\\\\\\\\temp\\\\\\\\labels\\\\\\\\Anjeer\\\\\\\\775Anjeer_08-16-2023-14-47-2189408_Focus_33.txt', 'C:\\\\\\\\Users\\\\\\\\Zeeshan.khan\\\\\\\\vscode_projects\\\\\\\\self-checkout\\\\\\\\artifacts\\\\\\\\temp\\\\\\\\labels\\\\\\\\Anjeer\\\\\\\\776Anjeer_08-16-2023-14-47-2737629_Focus_33.txt', 'C:\\\\\\\\Users\\\\\\\\Zeeshan.khan\\\\\\\\vscode_projects\\\\\\\\self-checkout\\\\\\\\artifacts\\\\\\\\temp\\\\\\\\labels\\\\\\\\Anjeer\\\\\\\\777Anjeer_08-16-2023-14-47-3458234_Focus_33.txt', 'C:\\\\\\\\Users\\\\\\\\Zeeshan.khan\\\\\\\\vscode_projects\\\\\\\\self-checkout\\\\\\\\artifacts\\\\\\\\temp\\\\\\\\labels\\\\\\\\Anjeer\\\\\\\\777Anjeer_08-16-2023-14-47-3458234_Focus_33_1.txt', 'C:\\\\\\\\Users\\\\\\\\Zeeshan.khan\\\\\\\\vscode_projects\\\\\\\\self-checkout\\\\\\\\artifacts\\\\\\\\temp\\\\\\\\labels\\\\\\\\Anjeer\\\\\\\\778Anjeer_08-16-2023-14-47-4081580_Focus_33.txt', 'C:\\\\\\\\Users\\\\\\\\Zeeshan.khan\\\\\\\\vscode_projects\\\\\\\\self-checkout\\\\\\\\artifacts\\\\\\\\temp\\\\\\\\labels\\\\\\\\Anjeer\\\\\\\\779Anjeer_08-16-2023-14-47-4683143_Focus_33.txt', 'C:\\\\\\\\Users\\\\\\\\Zeeshan.khan\\\\\\\\vscode_projects\\\\\\\\self-checkout\\\\\\\\artifacts\\\\\\\\temp\\\\\\\\labels\\\\\\\\Anjeer\\\\\\\\779Anjeer_08-16-2023-14-47-4683143_Focus_33_1.txt', 'C:\\\\\\\\Users\\\\\\\\Zeeshan.khan\\\\\\\\vscode_projects\\\\\\\\self-checkout\\\\\\\\artifacts\\\\\\\\temp\\\\\\\\labels\\\\\\\\Anjeer\\\\\\\\780Anjeer_08-16-2023-14-47-5458558_Focus_33.txt', 'C:\\\\\\\\Users\\\\\\\\Zeeshan.khan\\\\\\\\vscode_projects\\\\\\\\self-checkout\\\\\\\\artifacts\\\\\\\\temp\\\\\\\\labels\\\\\\\\Anjeer\\\\\\\\780Anjeer_08-16-2023-14-47-5458558_Focus_33_1.txt', 'C:\\\\\\\\Users\\\\\\\\Zeeshan.khan\\\\\\\\vscode_projects\\\\\\\\self-checkout\\\\\\\\artifacts\\\\\\\\temp\\\\\\\\labels\\\\\\\\Anjeer\\\\\\\\781Anjeer_08-16-2023-14-48-018283_Focus_15.txt', 'C:\\\\\\\\Users\\\\\\\\Zeeshan.khan\\\\\\\\vscode_projects\\\\\\\\self-checkout\\\\\\\\artifacts\\\\\\\\temp\\\\\\\\labels\\\\\\\\Anjeer\\\\\\\\781Anjeer_08-16-2023-14-48-018283_Focus_33.txt', 'C:\\\\\\\\Users\\\\\\\\Zeeshan.khan\\\\\\\\vscode_projects\\\\\\\\self-checkout\\\\\\\\artifacts\\\\\\\\temp\\\\\\\\labels\\\\\\\\Anjeer\\\\\\\\7Anjeer_07-20-2023-13-05-0797237_Focus_33.txt', 'C:\\\\\\\\Users\\\\\\\\Zeeshan.khan\\\\\\\\vscode_projects\\\\\\\\self-checkout\\\\\\\\artifacts\\\\\\\\temp\\\\\\\\labels\\\\\\\\Anjeer\\\\\\\\9Anjeer_07-20-2023-13-05-2080331_Focus_0.txt']\", 'orgfiles_len': 250, 'maskfiles_len': 250, 'labelfiles_len': 250}\n"
     ]
    }
   ],
   "source": [
    "print(eval(df.to_json(orient='records'))[0])"
   ]
  },
  {
   "cell_type": "code",
   "execution_count": 59,
   "metadata": {},
   "outputs": [
    {
     "ename": "TypeError",
     "evalue": "Parent.__init__() missing 1 required positional argument: 'a'",
     "output_type": "error",
     "traceback": [
      "\u001b[0;31m---------------------------------------------------------------------------\u001b[0m",
      "\u001b[0;31mTypeError\u001b[0m                                 Traceback (most recent call last)",
      "\u001b[1;32m/Users/zeeshan/Documents/projects/self-checkout/data.ipynb Cell 26\u001b[0m line \u001b[0;36m2\n\u001b[1;32m     <a href='vscode-notebook-cell:/Users/zeeshan/Documents/projects/self-checkout/data.ipynb#X34sZmlsZQ%3D%3D?line=16'>17</a>\u001b[0m     \u001b[39mdef\u001b[39;00m \u001b[39mtest1\u001b[39m(\u001b[39mself\u001b[39m):\n\u001b[1;32m     <a href='vscode-notebook-cell:/Users/zeeshan/Documents/projects/self-checkout/data.ipynb#X34sZmlsZQ%3D%3D?line=17'>18</a>\u001b[0m         \u001b[39mreturn\u001b[39;00m \u001b[39m'\u001b[39m\u001b[39mthis is the child class\u001b[39m\u001b[39m'\u001b[39m\n\u001b[0;32m---> <a href='vscode-notebook-cell:/Users/zeeshan/Documents/projects/self-checkout/data.ipynb#X34sZmlsZQ%3D%3D?line=20'>21</a>\u001b[0m obj \u001b[39m=\u001b[39m child()\n",
      "\u001b[0;31mTypeError\u001b[0m: Parent.__init__() missing 1 required positional argument: 'a'"
     ]
    }
   ],
   "source": [
    "class Parent:\n",
    "    def __init__(self,a):\n",
    "        self.a = a\n",
    "\n",
    "\n",
    "    def test(self):\n",
    "        return 'this is the parent class'\n",
    "    \n",
    "\n",
    "class child(Parent):\n",
    "    # def __init__(self,b,*args):\n",
    "        # Parent.__init__(self,*args)\n",
    "        # super(child,self).__init__(*args)\n",
    "        # self.b = b\n",
    "\n",
    "\n",
    "    def test1(self):\n",
    "        return 'this is the child class'\n",
    "    \n",
    "\n",
    "obj = child()\n"
   ]
  },
  {
   "cell_type": "code",
   "execution_count": 73,
   "metadata": {},
   "outputs": [],
   "source": [
    "from ensure import ensure_annotations\n",
    "\n",
    "class Mother:\n",
    "    def __init__(self,nameM:str,ageM : int, sexM = \"female\"):\n",
    "        self.nameM = nameM\n",
    "        self.sexM = sexM\n",
    "        self.ageM = ageM\n",
    "\n",
    "\n",
    "    def get_nameM(self):\n",
    "        return f'Name is {self.nameM}'\n",
    "\n",
    "    def get_sexM(self):\n",
    "        return f'Sex is {self.sexM}'\n",
    "    \n",
    "    def get_ageM(self):\n",
    "        return f'Age is {self.ageM}'\n",
    "    \n",
    "\n",
    "\n",
    "class Father:\n",
    "    def __init__(self,nameF:str,ageF : int,sexF = \"male\"):\n",
    "        self.nameF = nameF\n",
    "        self.sexF = sexF\n",
    "        self.ageF = ageF\n",
    "\n",
    "\n",
    "    def get_nameF(self):\n",
    "        return f'Name is {self.nameF}'\n",
    "\n",
    "    def get_sexF(self):\n",
    "        return f'Sex is {self.sexF}'\n",
    "    \n",
    "    def get_ageF(self):\n",
    "        return f'Age is {self.ageF}'"
   ]
  },
  {
   "cell_type": "code",
   "execution_count": 84,
   "metadata": {},
   "outputs": [],
   "source": [
    "class child(Mother,Father):\n",
    "    def __init__(self,nameC,sexC,ageC,*args,**kwargs):\n",
    "        Mother.__init__(self,*args)\n",
    "        Father.__init__(self,**kwargs)\n",
    "        self.nameC = nameC\n",
    "        self.sexC = sexC\n",
    "        self.ageC = ageC\n",
    "\n",
    "        "
   ]
  },
  {
   "cell_type": "code",
   "execution_count": 94,
   "metadata": {},
   "outputs": [
    {
     "data": {
      "text/plain": [
       "'Sex is female'"
      ]
     },
     "execution_count": 94,
     "metadata": {},
     "output_type": "execute_result"
    }
   ],
   "source": [
    "obj = child('Zeeshan','male',28,'Meher',45,nameF='Father',ageF=63)\n",
    "obj.get_sexM()"
   ]
  },
  {
   "cell_type": "code",
   "execution_count": 109,
   "metadata": {},
   "outputs": [],
   "source": [
    "class tester(str):\n",
    "    def __init__(self,message,*args):\n",
    "        str.__init__(self,*args)\n",
    "        self.message = message"
   ]
  },
  {
   "cell_type": "code",
   "execution_count": 111,
   "metadata": {},
   "outputs": [],
   "source": [
    "obj = tester('this is the test')\n"
   ]
  },
  {
   "cell_type": "code",
   "execution_count": null,
   "metadata": {},
   "outputs": [],
   "source": []
  },
  {
   "cell_type": "code",
   "execution_count": null,
   "metadata": {},
   "outputs": [],
   "source": []
  },
  {
   "cell_type": "code",
   "execution_count": null,
   "metadata": {},
   "outputs": [],
   "source": []
  },
  {
   "cell_type": "code",
   "execution_count": null,
   "metadata": {},
   "outputs": [],
   "source": []
  },
  {
   "cell_type": "code",
   "execution_count": null,
   "metadata": {},
   "outputs": [],
   "source": []
  },
  {
   "cell_type": "code",
   "execution_count": null,
   "metadata": {},
   "outputs": [],
   "source": []
  },
  {
   "cell_type": "code",
   "execution_count": null,
   "metadata": {},
   "outputs": [],
   "source": []
  },
  {
   "cell_type": "code",
   "execution_count": null,
   "metadata": {},
   "outputs": [],
   "source": []
  },
  {
   "cell_type": "code",
   "execution_count": 48,
   "metadata": {},
   "outputs": [],
   "source": [
    "class mother:\n",
    "    def __init__(self,name = 'config/config.yaml' , age = 'value/value.uaml'):\n",
    "        self.name = name\n",
    "        self.age = age\n",
    "\n",
    "    def test(self):\n",
    "        return 'this is the mother class'\n",
    "    \n",
    "\n",
    "class father:\n",
    "    def __init__(self,name1 , age1 ):\n",
    "        self.name2= name1\n",
    "        self.age2 = age1\n",
    "\n",
    "    def test(self):\n",
    "        return 'this is the Father class'"
   ]
  },
  {
   "cell_type": "code",
   "execution_count": 49,
   "metadata": {},
   "outputs": [],
   "source": [
    "class child(mother):\n",
    "    def __init__(self,*args):\n",
    "        mother.__init__(self,*args)"
   ]
  },
  {
   "cell_type": "code",
   "execution_count": 51,
   "metadata": {},
   "outputs": [
    {
     "data": {
      "text/plain": [
       "'zeeshan'"
      ]
     },
     "execution_count": 51,
     "metadata": {},
     "output_type": "execute_result"
    }
   ],
   "source": [
    "obj = child('zeeshan',87)\n",
    "obj.name"
   ]
  },
  {
   "cell_type": "code",
   "execution_count": 19,
   "metadata": {},
   "outputs": [],
   "source": [
    "data = {\"0\": \"Anjeer_-3900090\",\n",
    "            \"1\": \"Apple Granny Smith9097878\",\n",
    "            \"2\": \"Apple Pink Lady\",\n",
    "            \"3\": \"Apple Royal Gala\",\n",
    "            \"4\": \"Apple Shimla\",\n",
    "            \"5\": \"Apple Small\",\n",
    "            \"6\": \"Apricots Fresh\",\n",
    "            \"7\": \"Apricots Fresh Packed\",\n",
    "            \"8\": \"Ash Gourd Cut\",\n",
    "            \"9\": \"Avocado Indian\",\n",
    "            \"10\": \"Baby Corn\",\n",
    "            \"11\": \"Banana Flower\",\n",
    "            \"12\": \"Banana Hills\",\n",
    "            \"13\": \"Banana Morris\",\n",
    "            \"14\": \"Banana Nadan\",\n",
    "            \"15\": \"Banana Nendran\",\n",
    "            \"16\": \"Banana Poovan\",\n",
    "            \"17\": \"Banana Rasthali\",\n",
    "            \"18\": \"Banana Red\",\n",
    "            \"19\": \"Banana Yelakki\",\n",
    "            \"20\": \"Beans Bush\",\n",
    "            \"21\": \"Beans Butter\",\n",
    "            \"22\": \"Beans Thin Cowpea\",\n",
    "            \"23\": \"Beetroot\",\n",
    "            \"24\": \"Bere Elandai\",\n",
    "            \"25\": \"Bitter Gourd\",\n",
    "            \"26\": \"Bok Choy\",\n",
    "            \"27\": \"Bottle Gourd\",\n",
    "            \"28\": \"Brinjal Black Big\",\n",
    "            \"29\": \"Brinjal Long\",\n",
    "            \"30\": \"Brinjal Purple Striped\",\n",
    "            \"31\": \"Broccoli\",\n",
    "            \"32\": \"Brussels Sprout\",\n",
    "            \"33\": \"Cabbage\",\n",
    "            \"34\": \"Cabbage Red\",\n",
    "            \"35\": \"Capsicum\",\n",
    "            \"36\": \"Capsicum Red\",\n",
    "            \"37\": \"Capsicum Yellow\",\n",
    "            \"38\": \"Carrot Ooty\",\n",
    "            \"39\": \"Cassave\",\n",
    "            \"40\": \"Cauliflower\",\n",
    "            \"41\": \"Chilli Long Bajji\",\n",
    "            \"42\": \"Chinese Cabbage\",\n",
    "            \"43\": \"Chow Chow\",\n",
    "            \"44\": \"Cluster Beans\",\n",
    "            \"45\": \"Coconut\",\n",
    "            \"46\": \"Coconut Flower\",\n",
    "            \"47\": \"Coriander Leaves\",\n",
    "            \"48\": \"Cucumber\",\n",
    "            \"49\": \"Custard Apple\",\n",
    "            \"50\": \"Dragon Fruit Red\",\n",
    "            \"51\": \"Golden Kiwi\",\n",
    "            \"52\": \"Gooseberry Amla\",\n",
    "            \"53\": \"Guava White\",\n",
    "            \"54\": \"Jackfruit raw\",\n",
    "            \"55\": \"Kale Leaves\",\n",
    "            \"56\": \"Karunai Kilangu\",\n",
    "            \"57\": \"Kiwi Green\",\n",
    "            \"58\": \"Knol Khol\",\n",
    "            \"59\": \"KPN-Sprouts\",\n",
    "            \"60\": \"Lab Lab Long\",\n",
    "            \"61\": \"Lemon\",\n",
    "            \"62\": \"Lettuce Leaves\",\n",
    "            \"63\": \"Mango Neelam\",\n",
    "            \"64\": \"Mango Totapuri\",\n",
    "            \"65\": \"Mangusteens Indian\",\n",
    "            \"66\": \"Mosambi\",\n",
    "            \"67\": \"Muskmelon Rock\",\n",
    "            \"68\": \"Muskmelon Yellow\",\n",
    "            \"69\": \"Nectarines\",\n",
    "            \"70\": \"Onion Big Bellary\",\n",
    "            \"71\": \"Orange Nagpur\",\n",
    "            \"72\": \"Orange Small\",\n",
    "            \"73\": \"Orange Valencia\",\n",
    "            \"74\": \"Oyster Mushroom\",\n",
    "            \"75\": \"Papaya\",\n",
    "            \"76\": \"Parsley Leaves\",\n",
    "            \"77\": \"Passion Fruit\",\n",
    "            \"78\": \"Pears Green\",\n",
    "            \"79\": \"Pears Ooty\",\n",
    "            \"80\": \"Pineapple\",\n",
    "            \"81\": \"Plums Imported\",\n",
    "            \"82\": \"Plums Indian\",\n",
    "            \"83\": \"Plums Indian Packed\",\n",
    "            \"84\": \"Pomegranate Kabul\",\n",
    "            \"85\": \"Potato Small\",\n",
    "            \"86\": \"Potato Small Bag\",\n",
    "            \"87\": \"Prunes\",\n",
    "            \"88\": \"Pumpkin\",\n",
    "            \"89\": \"Pumpkin cut Wrapped\",\n",
    "            \"90\": \"Radish Red\",\n",
    "            \"91\": \"Radish White\",\n",
    "            \"92\": \"Sapota Round\",\n",
    "            \"93\": \"Snake Gourd\",\n",
    "            \"94\": \"Tomato Apple\",\n",
    "            \"95\": \"Tomato Nadu\",\n",
    "            \"96\": \"Turnip\",\n",
    "            \"97\": \"Watermelon Kiran\",\n",
    "            \"98\": \"Zucchini Green\",\n",
    "            \"99\": \"Zucchini Yellow\"}"
   ]
  },
  {
   "cell_type": "code",
   "execution_count": 20,
   "metadata": {},
   "outputs": [
    {
     "data": {
      "text/plain": [
       "{'0': 'Anjeer_-3900090',\n",
       " '1': 'Apple Granny Smith9097878',\n",
       " '2': 'Apple Pink Lady',\n",
       " '3': 'Apple Royal Gala',\n",
       " '4': 'Apple Shimla',\n",
       " '5': 'Apple Small',\n",
       " '6': 'Apricots Fresh',\n",
       " '7': 'Apricots Fresh Packed',\n",
       " '8': 'Ash Gourd Cut',\n",
       " '9': 'Avocado Indian',\n",
       " '10': 'Baby Corn',\n",
       " '11': 'Banana Flower',\n",
       " '12': 'Banana Hills',\n",
       " '13': 'Banana Morris',\n",
       " '14': 'Banana Nadan',\n",
       " '15': 'Banana Nendran',\n",
       " '16': 'Banana Poovan',\n",
       " '17': 'Banana Rasthali',\n",
       " '18': 'Banana Red',\n",
       " '19': 'Banana Yelakki',\n",
       " '20': 'Beans Bush',\n",
       " '21': 'Beans Butter',\n",
       " '22': 'Beans Thin Cowpea',\n",
       " '23': 'Beetroot',\n",
       " '24': 'Bere Elandai',\n",
       " '25': 'Bitter Gourd',\n",
       " '26': 'Bok Choy',\n",
       " '27': 'Bottle Gourd',\n",
       " '28': 'Brinjal Black Big',\n",
       " '29': 'Brinjal Long',\n",
       " '30': 'Brinjal Purple Striped',\n",
       " '31': 'Broccoli',\n",
       " '32': 'Brussels Sprout',\n",
       " '33': 'Cabbage',\n",
       " '34': 'Cabbage Red',\n",
       " '35': 'Capsicum',\n",
       " '36': 'Capsicum Red',\n",
       " '37': 'Capsicum Yellow',\n",
       " '38': 'Carrot Ooty',\n",
       " '39': 'Cassave',\n",
       " '40': 'Cauliflower',\n",
       " '41': 'Chilli Long Bajji',\n",
       " '42': 'Chinese Cabbage',\n",
       " '43': 'Chow Chow',\n",
       " '44': 'Cluster Beans',\n",
       " '45': 'Coconut',\n",
       " '46': 'Coconut Flower',\n",
       " '47': 'Coriander Leaves',\n",
       " '48': 'Cucumber',\n",
       " '49': 'Custard Apple',\n",
       " '50': 'Dragon Fruit Red',\n",
       " '51': 'Golden Kiwi',\n",
       " '52': 'Gooseberry Amla',\n",
       " '53': 'Guava White',\n",
       " '54': 'Jackfruit raw',\n",
       " '55': 'Kale Leaves',\n",
       " '56': 'Karunai Kilangu',\n",
       " '57': 'Kiwi Green',\n",
       " '58': 'Knol Khol',\n",
       " '59': 'KPN-Sprouts',\n",
       " '60': 'Lab Lab Long',\n",
       " '61': 'Lemon',\n",
       " '62': 'Lettuce Leaves',\n",
       " '63': 'Mango Neelam',\n",
       " '64': 'Mango Totapuri',\n",
       " '65': 'Mangusteens Indian',\n",
       " '66': 'Mosambi',\n",
       " '67': 'Muskmelon Rock',\n",
       " '68': 'Muskmelon Yellow',\n",
       " '69': 'Nectarines',\n",
       " '70': 'Onion Big Bellary',\n",
       " '71': 'Orange Nagpur',\n",
       " '72': 'Orange Small',\n",
       " '73': 'Orange Valencia',\n",
       " '74': 'Oyster Mushroom',\n",
       " '75': 'Papaya',\n",
       " '76': 'Parsley Leaves',\n",
       " '77': 'Passion Fruit',\n",
       " '78': 'Pears Green',\n",
       " '79': 'Pears Ooty',\n",
       " '80': 'Pineapple',\n",
       " '81': 'Plums Imported',\n",
       " '82': 'Plums Indian',\n",
       " '83': 'Plums Indian Packed',\n",
       " '84': 'Pomegranate Kabul',\n",
       " '85': 'Potato Small',\n",
       " '86': 'Potato Small Bag',\n",
       " '87': 'Prunes',\n",
       " '88': 'Pumpkin',\n",
       " '89': 'Pumpkin cut Wrapped',\n",
       " '90': 'Radish Red',\n",
       " '91': 'Radish White',\n",
       " '92': 'Sapota Round',\n",
       " '93': 'Snake Gourd',\n",
       " '94': 'Tomato Apple',\n",
       " '95': 'Tomato Nadu',\n",
       " '96': 'Turnip',\n",
       " '97': 'Watermelon Kiran',\n",
       " '98': 'Zucchini Green',\n",
       " '99': 'Zucchini Yellow'}"
      ]
     },
     "execution_count": 20,
     "metadata": {},
     "output_type": "execute_result"
    }
   ],
   "source": [
    "data"
   ]
  },
  {
   "cell_type": "code",
   "execution_count": 21,
   "metadata": {},
   "outputs": [
    {
     "data": {
      "text/plain": [
       "{'Anjeer_-3900090': '0',\n",
       " 'Apple Granny Smith9097878': '1',\n",
       " 'Apple Pink Lady': '2',\n",
       " 'Apple Royal Gala': '3',\n",
       " 'Apple Shimla': '4',\n",
       " 'Apple Small': '5',\n",
       " 'Apricots Fresh': '6',\n",
       " 'Apricots Fresh Packed': '7',\n",
       " 'Ash Gourd Cut': '8',\n",
       " 'Avocado Indian': '9',\n",
       " 'Baby Corn': '10',\n",
       " 'Banana Flower': '11',\n",
       " 'Banana Hills': '12',\n",
       " 'Banana Morris': '13',\n",
       " 'Banana Nadan': '14',\n",
       " 'Banana Nendran': '15',\n",
       " 'Banana Poovan': '16',\n",
       " 'Banana Rasthali': '17',\n",
       " 'Banana Red': '18',\n",
       " 'Banana Yelakki': '19',\n",
       " 'Beans Bush': '20',\n",
       " 'Beans Butter': '21',\n",
       " 'Beans Thin Cowpea': '22',\n",
       " 'Beetroot': '23',\n",
       " 'Bere Elandai': '24',\n",
       " 'Bitter Gourd': '25',\n",
       " 'Bok Choy': '26',\n",
       " 'Bottle Gourd': '27',\n",
       " 'Brinjal Black Big': '28',\n",
       " 'Brinjal Long': '29',\n",
       " 'Brinjal Purple Striped': '30',\n",
       " 'Broccoli': '31',\n",
       " 'Brussels Sprout': '32',\n",
       " 'Cabbage': '33',\n",
       " 'Cabbage Red': '34',\n",
       " 'Capsicum': '35',\n",
       " 'Capsicum Red': '36',\n",
       " 'Capsicum Yellow': '37',\n",
       " 'Carrot Ooty': '38',\n",
       " 'Cassave': '39',\n",
       " 'Cauliflower': '40',\n",
       " 'Chilli Long Bajji': '41',\n",
       " 'Chinese Cabbage': '42',\n",
       " 'Chow Chow': '43',\n",
       " 'Cluster Beans': '44',\n",
       " 'Coconut': '45',\n",
       " 'Coconut Flower': '46',\n",
       " 'Coriander Leaves': '47',\n",
       " 'Cucumber': '48',\n",
       " 'Custard Apple': '49',\n",
       " 'Dragon Fruit Red': '50',\n",
       " 'Golden Kiwi': '51',\n",
       " 'Gooseberry Amla': '52',\n",
       " 'Guava White': '53',\n",
       " 'Jackfruit raw': '54',\n",
       " 'Kale Leaves': '55',\n",
       " 'Karunai Kilangu': '56',\n",
       " 'Kiwi Green': '57',\n",
       " 'Knol Khol': '58',\n",
       " 'KPN-Sprouts': '59',\n",
       " 'Lab Lab Long': '60',\n",
       " 'Lemon': '61',\n",
       " 'Lettuce Leaves': '62',\n",
       " 'Mango Neelam': '63',\n",
       " 'Mango Totapuri': '64',\n",
       " 'Mangusteens Indian': '65',\n",
       " 'Mosambi': '66',\n",
       " 'Muskmelon Rock': '67',\n",
       " 'Muskmelon Yellow': '68',\n",
       " 'Nectarines': '69',\n",
       " 'Onion Big Bellary': '70',\n",
       " 'Orange Nagpur': '71',\n",
       " 'Orange Small': '72',\n",
       " 'Orange Valencia': '73',\n",
       " 'Oyster Mushroom': '74',\n",
       " 'Papaya': '75',\n",
       " 'Parsley Leaves': '76',\n",
       " 'Passion Fruit': '77',\n",
       " 'Pears Green': '78',\n",
       " 'Pears Ooty': '79',\n",
       " 'Pineapple': '80',\n",
       " 'Plums Imported': '81',\n",
       " 'Plums Indian': '82',\n",
       " 'Plums Indian Packed': '83',\n",
       " 'Pomegranate Kabul': '84',\n",
       " 'Potato Small': '85',\n",
       " 'Potato Small Bag': '86',\n",
       " 'Prunes': '87',\n",
       " 'Pumpkin': '88',\n",
       " 'Pumpkin cut Wrapped': '89',\n",
       " 'Radish Red': '90',\n",
       " 'Radish White': '91',\n",
       " 'Sapota Round': '92',\n",
       " 'Snake Gourd': '93',\n",
       " 'Tomato Apple': '94',\n",
       " 'Tomato Nadu': '95',\n",
       " 'Turnip': '96',\n",
       " 'Watermelon Kiran': '97',\n",
       " 'Zucchini Green': '98',\n",
       " 'Zucchini Yellow': '99'}"
      ]
     },
     "execution_count": 21,
     "metadata": {},
     "output_type": "execute_result"
    }
   ],
   "source": [
    "data1 = dict((v,k)for k, v in data.items())\n",
    "data1"
   ]
  },
  {
   "cell_type": "code",
   "execution_count": 29,
   "metadata": {},
   "outputs": [
    {
     "data": {
      "text/plain": [
       "['3900090']"
      ]
     },
     "execution_count": 29,
     "metadata": {},
     "output_type": "execute_result"
    }
   ],
   "source": [
    "import re\n",
    "\n",
    "re.findall(r'\\d+', data['0'])\n"
   ]
  },
  {
   "cell_type": "code",
   "execution_count": 30,
   "metadata": {},
   "outputs": [],
   "source": [
    "data = [\"Anjeer\",\n",
    "\"Apple Granny Smith\",\n",
    "\"Apple Fuji\",\n",
    "\"Apple Pink Lady\",\n",
    "\"Apple Royal Gala\",\n",
    "\"Apple Shimla\",\n",
    "\"Apple Small\",\n",
    "\"Apricots Fresh\",\n",
    "\"Apricots Fresh Packed\",\n",
    "\"Ash Gourd Cut\",\n",
    "\"Avocado Indian\",\n",
    "\"Baby Corn\",\n",
    "\"Banana Flower\",\n",
    "\"Banana Hills\",\n",
    "\"Banana Morris\",\n",
    "\"Banana Nadan\",\n",
    "\"Banana Nendran\",\n",
    "\"Banana Poovan\",\n",
    "\"Banana Rasthali\",\n",
    "\"Banana Red\",\n",
    "\"Banana Yelakki\",\n",
    "\"Beans Bush\",\n",
    "\"Beans Butter\",\n",
    "\"Beans Thin Cowpea\",\n",
    "\"Beetroot\",\n",
    "\"Bere Elandai\",\n",
    "\"Bitter Gourd\",\n",
    "\"Bok Choy\",\n",
    "\"Bottle Gourd\",\n",
    "\"Brinjal Black Big\",\n",
    "\"Brinjal Long\",\n",
    "\"Brinjal Purple Striped\",\n",
    "\"Broccoli\",\n",
    "\"Brussels Sprout\",\n",
    "\"Cabbage\",\n",
    "\"Cabbage Red\",\n",
    "\"Capsicum\",\n",
    "\"Capsicum Red\",\n",
    "\"Capsicum Yellow\",\n",
    "\"Carrot Ooty\",\n",
    "\"Cassave\",\n",
    "\"Cauliflower\",\n",
    "\"Chilli Long Bajji\",\n",
    "\"Chinese Cabbage\",\n",
    "\"Chow Chow\",\n",
    "\"Citron\",\n",
    "\"Cluster Beans\",\n",
    "\"Coconut\",\n",
    "\"Coconut Flower\",\n",
    "\"Coriander Leaves\",\n",
    "\"Cucumber\",\n",
    "\"Curry Leaves\",\n",
    "\"Custard Apple\",\n",
    "\"Dates Fresh Yellow\",\n",
    "\"Dragon Fruits Red\",\n",
    "\"Galangal\",\n",
    "\"Golden Kiwi\",\n",
    "\"Gooseberry Amla\",\n",
    "\"Grapes Black Seedless\",\n",
    "\"Grapes Green Seedless\",\n",
    "\"Grapes Paneer\",\n",
    "\"Greens Palak\",\n",
    "\"Greens Ponnakanni Bangalore\",\n",
    "\"Guava Big\",\n",
    "\"Guava White\",\n",
    "\"Iceberg Lettuce\",\n",
    "\"Jackfruit raw\",\n",
    "\"KPN-Sprouts\",\n",
    "\"Kale Leaves\",\n",
    "\"Karunai Kilangu\",\n",
    "\"Kiwi Green\",\n",
    "\"Knol Khol\",\n",
    "\"Koorkan Kilangu\",\n",
    "\"Lab Lab Long\",\n",
    "\"Ladiesfinger\",\n",
    "\"Leaves Leaks\",\n",
    "\"Lemon\",\n",
    "\"Lettuce Leaves\",\n",
    "\"Longan Imported\",\n",
    "\"Mango Neelam\",\n",
    "\"Mango Totapuri\",\n",
    "\"Mangusteens Indian\",\n",
    "\"Mosambi\",\n",
    "\"Musk Melon Yellow\",\n",
    "\"Muskmelon Rock\",\n",
    "\"Nectarines\",\n",
    "\"Onion Big Bellary\",\n",
    "\"Orange Nagpur\",\n",
    "\"Orange Small\",\n",
    "\"Orange Valencia\",\n",
    "\"Oyster Mushroom\",\n",
    "\"Papaya\",\n",
    "\"Parsley Leaves\",\n",
    "\"Passion Fruit\",\n",
    "\"Pears Green\",\n",
    "\"Pears Ooty\",\n",
    "\"Persimmon\",\n",
    "\"Pineapple\",\n",
    "\"Plums Imported\",\n",
    "\"Plums Indian\",\n",
    "\"Plums Indian Packed\",\n",
    "\"Pomegranate Kabul\",\n",
    "\"Potato\",\n",
    "\"Potato Small\",\n",
    "\"Potato Small Bag\",\n",
    "\"Prunes\",\n",
    "\"Pumpkin\",\n",
    "\"Pumpkin cut Wrapped\",\n",
    "\"Radish Red\",\n",
    "\"Radish White\",\n",
    "\"Ramsita\",\n",
    "\"Sapota Round\",\n",
    "\"Snake Gourd\",\n",
    "\"Soursop Fruit\",\n",
    "\"Sweet Corn\",\n",
    "\"Sweet Potato\",\n",
    "\"Tomato Apple\",\n",
    "\"Tomato Nadu\",\n",
    "\"Turnip\",\n",
    "\"Watermelon Kiran\",\n",
    "\"Zucchini Green\",\n",
    "\"Zucchini Yellow\"]"
   ]
  },
  {
   "cell_type": "code",
   "execution_count": 32,
   "metadata": {},
   "outputs": [
    {
     "name": "stdout",
     "output_type": "stream",
     "text": [
      "Anjeer\n",
      "Apple Fuji\n",
      "Apple Granny Smith\n",
      "Apple Pink Lady\n",
      "Apple Royal Gala\n",
      "Apple Shimla\n",
      "Apple Small\n",
      "Apricots Fresh\n",
      "Apricots Fresh Packed\n",
      "Ash Gourd Cut\n",
      "Avocado Indian\n",
      "Baby Corn\n",
      "Banana Flower\n",
      "Banana Hills\n",
      "Banana Morris\n",
      "Banana Nadan\n",
      "Banana Nendran\n",
      "Banana Poovan\n",
      "Banana Rasthali\n",
      "Banana Red\n",
      "Banana Yelakki\n",
      "Beans Bush\n",
      "Beans Butter\n",
      "Beans Thin Cowpea\n",
      "Beetroot\n",
      "Bere Elandai\n",
      "Bitter Gourd\n",
      "Bok Choy\n",
      "Bottle Gourd\n",
      "Brinjal Black Big\n",
      "Brinjal Long\n",
      "Brinjal Purple Striped\n",
      "Broccoli\n",
      "Brussels Sprout\n",
      "Cabbage\n",
      "Cabbage Red\n",
      "Capsicum\n",
      "Capsicum Red\n",
      "Capsicum Yellow\n",
      "Carrot Ooty\n",
      "Cassave\n",
      "Cauliflower\n",
      "Chilli Long Bajji\n",
      "Chinese Cabbage\n",
      "Chow Chow\n",
      "Citron\n",
      "Cluster Beans\n",
      "Coconut\n",
      "Coconut Flower\n",
      "Coriander Leaves\n",
      "Cucumber\n",
      "Curry Leaves\n",
      "Custard Apple\n",
      "Dates Fresh Yellow\n",
      "Dragon Fruits Red\n",
      "Galangal\n",
      "Golden Kiwi\n",
      "Gooseberry Amla\n",
      "Grapes Black Seedless\n",
      "Grapes Green Seedless\n",
      "Grapes Paneer\n",
      "Greens Palak\n",
      "Greens Ponnakanni Bangalore\n",
      "Guava Big\n",
      "Guava White\n",
      "Iceberg Lettuce\n",
      "Jackfruit raw\n",
      "KPN-Sprouts\n",
      "Kale Leaves\n",
      "Karunai Kilangu\n",
      "Kiwi Green\n",
      "Knol Khol\n",
      "Koorkan Kilangu\n",
      "Lab Lab Long\n",
      "Ladiesfinger\n",
      "Leaves Leaks\n",
      "Lemon\n",
      "Lettuce Leaves\n",
      "Longan Imported\n",
      "Mango Neelam\n",
      "Mango Totapuri\n",
      "Mangusteens Indian\n",
      "Mosambi\n",
      "Musk Melon Yellow\n",
      "Muskmelon Rock\n",
      "Nectarines\n",
      "Onion Big Bellary\n",
      "Orange Nagpur\n",
      "Orange Small\n",
      "Orange Valencia\n",
      "Oyster Mushroom\n",
      "Papaya\n",
      "Parsley Leaves\n",
      "Passion Fruit\n",
      "Pears Green\n",
      "Pears Ooty\n",
      "Persimmon\n",
      "Pineapple\n",
      "Plums Imported\n",
      "Plums Indian\n",
      "Plums Indian Packed\n",
      "Pomegranate Kabul\n",
      "Potato\n",
      "Potato Small\n",
      "Potato Small Bag\n",
      "Prunes\n",
      "Pumpkin\n",
      "Pumpkin cut Wrapped\n",
      "Radish Red\n",
      "Radish White\n",
      "Ramsita\n",
      "Sapota Round\n",
      "Snake Gourd\n",
      "Soursop Fruit\n",
      "Sweet Corn\n",
      "Sweet Potato\n",
      "Tomato Apple\n",
      "Tomato Nadu\n",
      "Turnip\n",
      "Watermelon Kiran\n",
      "Zucchini Green\n",
      "Zucchini Yellow\n"
     ]
    }
   ],
   "source": [
    "for i in sorted(data):\n",
    "    print(i)"
   ]
  },
  {
   "cell_type": "code",
   "execution_count": 33,
   "metadata": {},
   "outputs": [],
   "source": [
    "data1 =[\"Orange Small\",\n",
    "\"Orange Valencia\",\n",
    "\"Oyster Mushroom\",\n",
    "\"Papaya\",\n",
    "\"Parsley Leaves\",\n",
    "\"Passion Fruit\",\n",
    "\"Pears Green\",\n",
    "\"Pears Ooty\",\n",
    "\"Persimmon\",\n",
    "\"Pineapple\",\n",
    "\"Plums Imported\",\n",
    "\"Plums Indian\",\n",
    "\"Plums Indian Packed\",\n",
    "\"Pomegranate Kabul\",\n",
    "\"Potato\",\n",
    "\"Potato Small\",\n",
    "\"Potato Small Bag\",\n",
    "\"Prunes\",\n",
    "\"Pumpkin\",\n",
    "\"Pumpkin cut Wrapped\",\n",
    "\"Radish Red\"]"
   ]
  },
  {
   "cell_type": "code",
   "execution_count": 34,
   "metadata": {},
   "outputs": [
    {
     "data": {
      "text/plain": [
       "['Orange Small',\n",
       " 'Orange Valencia',\n",
       " 'Oyster Mushroom',\n",
       " 'Papaya',\n",
       " 'Parsley Leaves',\n",
       " 'Passion Fruit',\n",
       " 'Pears Green',\n",
       " 'Pears Ooty',\n",
       " 'Persimmon',\n",
       " 'Pineapple',\n",
       " 'Plums Imported',\n",
       " 'Plums Indian',\n",
       " 'Plums Indian Packed',\n",
       " 'Pomegranate Kabul',\n",
       " 'Potato',\n",
       " 'Potato Small',\n",
       " 'Potato Small Bag',\n",
       " 'Prunes',\n",
       " 'Pumpkin',\n",
       " 'Pumpkin cut Wrapped',\n",
       " 'Radish Red']"
      ]
     },
     "execution_count": 34,
     "metadata": {},
     "output_type": "execute_result"
    }
   ],
   "source": [
    "sorted(data1)"
   ]
  },
  {
   "cell_type": "code",
   "execution_count": 14,
   "metadata": {},
   "outputs": [
    {
     "name": "stdout",
     "output_type": "stream",
     "text": [
      "{'call344': ['344'], 'odor90': ['90'], 'ir544': ['544'], 'Zeeshan': []}\n"
     ]
    }
   ],
   "source": [
    "import re\n",
    "l =['call344','odor90','ir544','Zeeshan']\n",
    "\n",
    "dic ={}\n",
    "for data in l:\n",
    "    value = re.findall(r'\\d+',data)\n",
    "    dic[data] = value\n",
    "\n",
    "print(dic)"
   ]
  },
  {
   "cell_type": "code",
   "execution_count": 16,
   "metadata": {},
   "outputs": [
    {
     "data": {
      "text/plain": [
       "'45'"
      ]
     },
     "execution_count": 16,
     "metadata": {},
     "output_type": "execute_result"
    }
   ],
   "source": [
    "re.findall(r'\\d+','call45')[0]"
   ]
  },
  {
   "cell_type": "code",
   "execution_count": 49,
   "metadata": {},
   "outputs": [],
   "source": [
    "import yaml"
   ]
  },
  {
   "cell_type": "code",
   "execution_count": 50,
   "metadata": {},
   "outputs": [],
   "source": [
    "import yaml\n",
    "with open('items1.yaml', 'r') as params_file:\n",
    "        yaml_params = yaml.safe_load(params_file) "
   ]
  },
  {
   "cell_type": "code",
   "execution_count": 51,
   "metadata": {},
   "outputs": [],
   "source": [
    "applefujiid = yaml_params['Apple Fuji']['id']\n",
    "anjeerid = yaml_params['Anjeer']['id']\n",
    "applefujinae = yaml_params['Apple Fuji']['alias']\n",
    "anjeernae = yaml_params['Anjeer']['alias']"
   ]
  },
  {
   "cell_type": "code",
   "execution_count": 52,
   "metadata": {},
   "outputs": [
    {
     "data": {
      "text/plain": [
       "{'Anjeer': {'id': 0, 'alias': 'Ajeerbox'},\n",
       " 'Apple Fuji': {'id': 1, 'alias': 'basic apple'}}"
      ]
     },
     "execution_count": 52,
     "metadata": {},
     "output_type": "execute_result"
    }
   ],
   "source": [
    "yaml_params"
   ]
  },
  {
   "cell_type": "code",
   "execution_count": 53,
   "metadata": {},
   "outputs": [
    {
     "data": {
      "text/plain": [
       "1"
      ]
     },
     "execution_count": 53,
     "metadata": {},
     "output_type": "execute_result"
    }
   ],
   "source": [
    "applefujiid"
   ]
  },
  {
   "cell_type": "code",
   "execution_count": 54,
   "metadata": {},
   "outputs": [
    {
     "data": {
      "text/plain": [
       "'basic apple'"
      ]
     },
     "execution_count": 54,
     "metadata": {},
     "output_type": "execute_result"
    }
   ],
   "source": [
    "applefujinae"
   ]
  },
  {
   "cell_type": "code",
   "execution_count": 55,
   "metadata": {},
   "outputs": [
    {
     "data": {
      "text/plain": [
       "0"
      ]
     },
     "execution_count": 55,
     "metadata": {},
     "output_type": "execute_result"
    }
   ],
   "source": [
    "anjeerid"
   ]
  },
  {
   "cell_type": "code",
   "execution_count": 56,
   "metadata": {},
   "outputs": [
    {
     "data": {
      "text/plain": [
       "'Ajeerbox'"
      ]
     },
     "execution_count": 56,
     "metadata": {},
     "output_type": "execute_result"
    }
   ],
   "source": [
    "anjeernae"
   ]
  },
  {
   "cell_type": "code",
   "execution_count": 63,
   "metadata": {},
   "outputs": [],
   "source": [
    "data = [ {\"Anjeer\" : {'id': 0 , 'alias': 'Ajeerbox'}},\n",
    "\n",
    "{\"Apple Fuji\": {'id': 1 ,'alias': \"basic apple\"}}\n",
    "\n",
    "\n",
    "]"
   ]
  },
  {
   "cell_type": "code",
   "execution_count": 64,
   "metadata": {},
   "outputs": [
    {
     "data": {
      "text/html": [
       "<div>\n",
       "<style scoped>\n",
       "    .dataframe tbody tr th:only-of-type {\n",
       "        vertical-align: middle;\n",
       "    }\n",
       "\n",
       "    .dataframe tbody tr th {\n",
       "        vertical-align: top;\n",
       "    }\n",
       "\n",
       "    .dataframe thead th {\n",
       "        text-align: right;\n",
       "    }\n",
       "</style>\n",
       "<table border=\"1\" class=\"dataframe\">\n",
       "  <thead>\n",
       "    <tr style=\"text-align: right;\">\n",
       "      <th></th>\n",
       "      <th>Anjeer</th>\n",
       "      <th>Apple Fuji</th>\n",
       "    </tr>\n",
       "  </thead>\n",
       "  <tbody>\n",
       "    <tr>\n",
       "      <th>0</th>\n",
       "      <td>{'id': 0, 'alias': 'Ajeerbox'}</td>\n",
       "      <td>NaN</td>\n",
       "    </tr>\n",
       "    <tr>\n",
       "      <th>1</th>\n",
       "      <td>NaN</td>\n",
       "      <td>{'id': 1, 'alias': 'basic apple'}</td>\n",
       "    </tr>\n",
       "  </tbody>\n",
       "</table>\n",
       "</div>"
      ],
      "text/plain": [
       "                           Anjeer                         Apple Fuji\n",
       "0  {'id': 0, 'alias': 'Ajeerbox'}                                NaN\n",
       "1                             NaN  {'id': 1, 'alias': 'basic apple'}"
      ]
     },
     "execution_count": 64,
     "metadata": {},
     "output_type": "execute_result"
    }
   ],
   "source": [
    "import pandas as pd\n",
    "pd.DataFrame(data)"
   ]
  },
  {
   "cell_type": "code",
   "execution_count": null,
   "metadata": {},
   "outputs": [],
   "source": []
  }
 ],
 "metadata": {
  "kernelspec": {
   "display_name": "checkout",
   "language": "python",
   "name": "python3"
  },
  "language_info": {
   "codemirror_mode": {
    "name": "ipython",
    "version": 3
   },
   "file_extension": ".py",
   "mimetype": "text/x-python",
   "name": "python",
   "nbconvert_exporter": "python",
   "pygments_lexer": "ipython3",
   "version": "3.10.13"
  },
  "orig_nbformat": 4
 },
 "nbformat": 4,
 "nbformat_minor": 2
}
