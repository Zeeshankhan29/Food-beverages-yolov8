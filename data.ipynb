{
 "cells": [
  {
   "cell_type": "code",
   "execution_count": null,
   "metadata": {},
   "outputs": [],
   "source": [
    "from dataclasses import dataclass\n",
    "from pathlib import Path\n",
    "\n",
    "@dataclass(frozen=True)\n",
    "class DataIngestionConfig:\n",
    "    temp_dir : Path\n",
    "    temp_labels_dir : Path\n",
    "    temp_mask_dir : Path\n",
    "    original_image_dir : Path\n",
    "    yolo_seg_config_file: Path"
   ]
  },
  {
   "cell_type": "code",
   "execution_count": null,
   "metadata": {},
   "outputs": [],
   "source": [
    "DataIngestionConfig()"
   ]
  },
  {
   "cell_type": "code",
   "execution_count": null,
   "metadata": {},
   "outputs": [],
   "source": [
    "CONFIG_FILE_PATH = Path('configs/config.yaml')"
   ]
  },
  {
   "cell_type": "code",
   "execution_count": null,
   "metadata": {},
   "outputs": [],
   "source": [
    "from pathlib import Path\n",
    "config = read_yaml(CONFIG_FILE_PATH)\n",
    "ob = read_yaml(Path(config.data_ingestion.yolo_seg_config_file))"
   ]
  },
  {
   "cell_type": "code",
   "execution_count": null,
   "metadata": {},
   "outputs": [],
   "source": [
    "ob.val"
   ]
  },
  {
   "cell_type": "code",
   "execution_count": null,
   "metadata": {},
   "outputs": [],
   "source": [
    "l =[1,23,3,34,4,5]\n",
    "j=[4,5,5,4]\n",
    "\n",
    "for (index,value), (index1,value1) in zip(enumerate(l),enumerate(j)):\n",
    "    print(index,value)\n",
    "    # print(index1,value1)"
   ]
  },
  {
   "cell_type": "code",
   "execution_count": null,
   "metadata": {},
   "outputs": [],
   "source": [
    "import time"
   ]
  },
  {
   "cell_type": "code",
   "execution_count": null,
   "metadata": {},
   "outputs": [],
   "source": [
    "l=[1,2,3,3,7,8,9]\n",
    "j =[1,2,3,4]\n",
    "start = time.time()\n",
    "for i in l:\n",
    "    if i not in j:\n",
    "        print(i)\n",
    "end = time.time()\n",
    "print(f'totaly time taken for execution -->{end-start}')\n"
   ]
  },
  {
   "cell_type": "code",
   "execution_count": null,
   "metadata": {},
   "outputs": [],
   "source": [
    "l=[1,2,3,3,7,8,9]\n",
    "j =[1,2,3,4]\n",
    "start = time.time()\n",
    "print(list(set(l)-set(j)))\n",
    "end = time.time()\n",
    "print(f'totaly time taken for execution -->{end-start}')\n"
   ]
  },
  {
   "cell_type": "code",
   "execution_count": null,
   "metadata": {},
   "outputs": [],
   "source": [
    "s={1,3,3}"
   ]
  },
  {
   "cell_type": "code",
   "execution_count": null,
   "metadata": {},
   "outputs": [],
   "source": [
    "list(s)"
   ]
  },
  {
   "cell_type": "code",
   "execution_count": null,
   "metadata": {},
   "outputs": [],
   "source": [
    "['main2'] not in ['--main1' ,'--main2','--main3','--main4','--main5','main1','main2','main3','main4','main5']"
   ]
  },
  {
   "cell_type": "code",
   "execution_count": null,
   "metadata": {},
   "outputs": [],
   "source": [
    "if not any(arg in ['main9'] for arg in ['--main1', '--main2', '--main3', '--main4', '--main5', 'main1', 'main2', 'main3', 'main4', 'main5']):\n",
    "    print('Function defined not valid')"
   ]
  },
  {
   "cell_type": "code",
   "execution_count": null,
   "metadata": {},
   "outputs": [],
   "source": [
    "if not any(func in ['main3','main8']for func in ['--main1', '--main2', '--main3', '--main4', '--main5', 'main1', 'main2', 'main3', 'main4', 'main5']):\n",
    "    print('valid not')"
   ]
  },
  {
   "cell_type": "code",
   "execution_count": null,
   "metadata": {},
   "outputs": [],
   "source": [
    "'main2' not  in ['main.py','main2','main3']"
   ]
  },
  {
   "cell_type": "code",
   "execution_count": null,
   "metadata": {},
   "outputs": [],
   "source": [
    "200*0.95"
   ]
  },
  {
   "cell_type": "code",
   "execution_count": null,
   "metadata": {},
   "outputs": [],
   "source": [
    "data = [1,2,3,4,5,5,6,6,7,70,70,6,6,6,'r',97,0,0,0,]\n",
    "length = len(data)\n",
    "\n",
    "upper_value = []\n",
    "lower_value = []\n",
    "\n",
    "split_point = 0.8\n",
    "for index , value in enumerate(data):\n",
    "    divider = math.ceil(length*split_point)\n",
    "    if index <= divider:\n",
    "        upper_value.append(data[index])\n",
    "    if index > divider:\n",
    "        lower_value.append(data[index])\n",
    "print(upper_value, lower_value)"
   ]
  },
  {
   "cell_type": "code",
   "execution_count": null,
   "metadata": {},
   "outputs": [],
   "source": [
    "data[15]"
   ]
  },
  {
   "cell_type": "code",
   "execution_count": null,
   "metadata": {},
   "outputs": [],
   "source": [
    "from box import ConfigBox\n",
    "value = [{'data':[1,23,4,5,]},{'data':[90,480]}]\n",
    "\n",
    "for data in value:\n",
    "    obj = ConfigBox(data)\n",
    "    print(obj.data)"
   ]
  },
  {
   "cell_type": "code",
   "execution_count": null,
   "metadata": {},
   "outputs": [],
   "source": [
    "value = ConfigBox({'data': [1, 23, 4, 5]})\n",
    "value.data"
   ]
  },
  {
   "cell_type": "code",
   "execution_count": null,
   "metadata": {},
   "outputs": [],
   "source": [
    "20* \"*\""
   ]
  },
  {
   "cell_type": "code",
   "execution_count": null,
   "metadata": {},
   "outputs": [],
   "source": [
    "l=['zeeshan','khan','zeeshan','faizan','khan','faizan','meher']\n",
    "\n",
    "meta = {}\n",
    "for index, value in enumerate(l):\n",
    "    if value not in meta:\n",
    "        meta[value] = 1\n",
    "\n",
    "    else:\n",
    "        meta[value] = meta[value]+1\n",
    "\n",
    "print(meta)"
   ]
  },
  {
   "cell_type": "code",
   "execution_count": null,
   "metadata": {},
   "outputs": [],
   "source": [
    "len('zeeshan')"
   ]
  },
  {
   "cell_type": "code",
   "execution_count": null,
   "metadata": {},
   "outputs": [],
   "source": [
    "import pandas as pd\n",
    "import json\n",
    "df = pd.read_csv('datameta.csv')\n"
   ]
  },
  {
   "cell_type": "code",
   "execution_count": null,
   "metadata": {},
   "outputs": [],
   "source": [
    "print(eval(df.to_json(orient='records'))[0])"
   ]
  },
  {
   "cell_type": "code",
   "execution_count": null,
   "metadata": {},
   "outputs": [],
   "source": [
    "class Parent:\n",
    "    def __init__(self,a):\n",
    "        self.a = a\n",
    "\n",
    "\n",
    "    def test(self):\n",
    "        return 'this is the parent class'\n",
    "    \n",
    "\n",
    "class child(Parent):\n",
    "    # def __init__(self,b,*args):\n",
    "        # Parent.__init__(self,*args)\n",
    "        # super(child,self).__init__(*args)\n",
    "        # self.b = b\n",
    "\n",
    "\n",
    "    def test1(self):\n",
    "        return 'this is the child class'\n",
    "    \n",
    "\n",
    "obj = child()\n"
   ]
  },
  {
   "cell_type": "code",
   "execution_count": null,
   "metadata": {},
   "outputs": [],
   "source": [
    "from ensure import ensure_annotations\n",
    "\n",
    "class Mother:\n",
    "    def __init__(self,nameM:str,ageM : int, sexM = \"female\"):\n",
    "        self.nameM = nameM\n",
    "        self.sexM = sexM\n",
    "        self.ageM = ageM\n",
    "\n",
    "\n",
    "    def get_nameM(self):\n",
    "        return f'Name is {self.nameM}'\n",
    "\n",
    "    def get_sexM(self):\n",
    "        return f'Sex is {self.sexM}'\n",
    "    \n",
    "    def get_ageM(self):\n",
    "        return f'Age is {self.ageM}'\n",
    "    \n",
    "\n",
    "\n",
    "class Father:\n",
    "    def __init__(self,nameF:str,ageF : int,sexF = \"male\"):\n",
    "        self.nameF = nameF\n",
    "        self.sexF = sexF\n",
    "        self.ageF = ageF\n",
    "\n",
    "\n",
    "    def get_nameF(self):\n",
    "        return f'Name is {self.nameF}'\n",
    "\n",
    "    def get_sexF(self):\n",
    "        return f'Sex is {self.sexF}'\n",
    "    \n",
    "    def get_ageF(self):\n",
    "        return f'Age is {self.ageF}'"
   ]
  },
  {
   "cell_type": "code",
   "execution_count": null,
   "metadata": {},
   "outputs": [],
   "source": [
    "class child(Mother,Father):\n",
    "    def __init__(self,nameC,sexC,ageC,*args,**kwargs):\n",
    "        Mother.__init__(self,*args)\n",
    "        Father.__init__(self,**kwargs)\n",
    "        self.nameC = nameC\n",
    "        self.sexC = sexC\n",
    "        self.ageC = ageC\n",
    "\n",
    "        "
   ]
  },
  {
   "cell_type": "code",
   "execution_count": null,
   "metadata": {},
   "outputs": [],
   "source": [
    "obj = child('Zeeshan','male',28,'Meher',45,nameF='Father',ageF=63)\n",
    "obj.get_sexM()"
   ]
  },
  {
   "cell_type": "code",
   "execution_count": null,
   "metadata": {},
   "outputs": [],
   "source": [
    "class tester(str):\n",
    "    def __init__(self,message,*args):\n",
    "        str.__init__(self,*args)\n",
    "        self.message = message"
   ]
  },
  {
   "cell_type": "code",
   "execution_count": null,
   "metadata": {},
   "outputs": [],
   "source": [
    "obj = tester('this is the test')\n"
   ]
  },
  {
   "cell_type": "code",
   "execution_count": null,
   "metadata": {},
   "outputs": [],
   "source": [
    "import pandas as pd\n",
    "import yaml"
   ]
  },
  {
   "cell_type": "code",
   "execution_count": null,
   "metadata": {},
   "outputs": [],
   "source": [
    "import pandas as pd\n",
    "from sklearn.metrics.pairwise import cosine_similarity\n",
    "\n",
    "# Your data\n",
    "data = {\n",
    "    'Adrak Chai Large': [5, 10, 0, 0],\n",
    "    'Adrak Chai Regular': [0, 0, 10, 0],\n",
    "    'Chocolate Chai Regular': [0, 0, 0, 4],\n",
    "    'Elaichi Chai Regular': [0, 0, 0, 9],\n",
    "}\n",
    "\n",
    "df = pd.DataFrame(data)\n",
    "\n",
    "# Transpose the matrix to have items as rows and users as columns\n",
    "item_user_matrix = df.T\n",
    "\n",
    "# Calculate similarity matrix using cosine similarity\n",
    "similarity_matrix = cosine_similarity(item_user_matrix)\n",
    "\n",
    "# Create a DataFrame from the similarity matrix\n",
    "similarity_df = pd.DataFrame(similarity_matrix, index=df.columns, columns=df.columns)\n",
    "\n",
    "# Function to get recommendations based on user's selection\n",
    "def get_recommendations(selected_item, similarity_df, user_items):\n",
    "    similar_scores = similarity_df[selected_item]\n",
    "    recommendations = []\n",
    "    \n",
    "    for item in user_items.index:\n",
    "        if user_items[item] == 0:  # Only consider items not already purchased\n",
    "            item_score = sum(similarity_df[item] * similar_scores)\n",
    "            recommendations.append((item, item_score))\n",
    "    \n",
    "    recommendations.sort(key=lambda x: x[1], reverse=True)\n",
    "    return recommendations\n",
    "\n",
    "# Example usage\n",
    "selected_item = 'Elaichi Chai Regular'\n",
    "user_items = df.loc[0]  # Assuming user 0's purchase history\n",
    "\n",
    "recommendations = get_recommendations(selected_item, similarity_df, user_items)\n",
    "print(\"Recommended items:\")\n",
    "for item, score in recommendations:\n",
    "    print(f\"{item}: {score}\")\n"
   ]
  },
  {
   "cell_type": "code",
   "execution_count": null,
   "metadata": {},
   "outputs": [],
   "source": [
    "import pandas as pd\n",
    "from sklearn.feature_extraction.text import TfidfVectorizer\n",
    "from sklearn.metrics.pairwise import linear_kernel\n",
    "\n",
    "# Your data\n",
    "data = {\n",
    "    'Category Name': ['Chai', 'Chai', 'Chai', 'Chai','coffee'],\n",
    "    'Item Name': ['Adrak Chai Large', 'Adrak Chai Regular', 'Chocolate Chai Regular', 'Elaichi Chai Regular','cold coffee'],\n",
    "    # 'Quantity': [5, 10, 4, 9,8],\n",
    "    # 'No. of bills': [2, 6, 2, 90,8],\n",
    "    # 'Base Amount (INR)': [142.85,89, 142.9, 57.16, 171.45],\n",
    "    # 'Tax Amount (INR)': [7.14, 7.15,90, 2.86, 8.57],\n",
    "    # 'Total Amount (INR)': [149.99, 150.05,89.1, 60.02, 180.02],\n",
    "}\n",
    "\n",
    "df = pd.DataFrame(data)\n",
    "\n",
    "# Combine relevant features into a single text column\n",
    "df['features'] = df['Category Name'] + ' ' + df['Item Name']\n",
    "\n",
    "# Create a TF-IDF vectorizer\n",
    "tfidf_vectorizer = TfidfVectorizer(stop_words='english')\n",
    "\n",
    "# Fit and transform the text data\n",
    "tfidf_matrix = tfidf_vectorizer.fit_transform(df['features'])\n",
    "\n",
    "# Calculate cosine similarity between items\n",
    "cosine_sim = linear_kernel(tfidf_matrix, tfidf_matrix)\n",
    "\n",
    "# Function to get item recommendations based on a selected item\n",
    "def get_recommendations(item_name, cosine_sim, df):\n",
    "    idx = df[df['Item Name'] == item_name].index[0]\n",
    "    sim_scores = list(enumerate(cosine_sim[idx]))\n",
    "    sim_scores = sorted(sim_scores, key=lambda x: x[1], reverse=True)\n",
    "    sim_scores = sim_scores[1:3]  # Get the top 3 similar items\n",
    "\n",
    "    item_indices = [i[0] for i in sim_scores]\n",
    "    return df['Item Name'].iloc[item_indices]\n",
    "\n",
    "# Example usage\n",
    "selected_item = 'Adrak Chai Large'\n",
    "recommendations = get_recommendations(selected_item, cosine_sim, df)\n",
    "\n",
    "print(f\"Recommended items for '{selected_item}':\")\n",
    "print(recommendations)\n"
   ]
  },
  {
   "cell_type": "code",
   "execution_count": null,
   "metadata": {},
   "outputs": [],
   "source": [
    "df"
   ]
  },
  {
   "cell_type": "code",
   "execution_count": null,
   "metadata": {},
   "outputs": [],
   "source": [
    "tfidf_vectorizer = TfidfVectorizer(stop_words='english')\n",
    "# Fit and transform the text data\n",
    "tfidf_matrix = tfidf_vectorizer.fit_transform(df['features'])\n",
    "\n",
    "# Calculate cosine similarity between items\n",
    "cosine_sim = linear_kernel(tfidf_matrix, tfidf_matrix)"
   ]
  },
  {
   "cell_type": "code",
   "execution_count": null,
   "metadata": {},
   "outputs": [],
   "source": [
    "pd.DataFrame(cosine_sim)"
   ]
  },
  {
   "cell_type": "code",
   "execution_count": null,
   "metadata": {},
   "outputs": [],
   "source": [
    "df[df['Item Name'] == 'Adrak Chai Regular'].index[0]"
   ]
  },
  {
   "cell_type": "code",
   "execution_count": null,
   "metadata": {},
   "outputs": [],
   "source": [
    "\n",
    "sim_scores = list(enumerate(cosine_sim[1]))\n",
    "sim_scores = sorted(sim_scores, key=lambda x: x[1], reverse=True)\n",
    "sim_scores\n",
    "item_indices = [i[0] for i in sim_scores]\n",
    "item_indices"
   ]
  },
  {
   "cell_type": "code",
   "execution_count": null,
   "metadata": {},
   "outputs": [],
   "source": [
    "df['Item Name'].iloc[item_indices]"
   ]
  },
  {
   "cell_type": "code",
   "execution_count": null,
   "metadata": {},
   "outputs": [],
   "source": []
  },
  {
   "cell_type": "code",
   "execution_count": null,
   "metadata": {},
   "outputs": [],
   "source": []
  },
  {
   "cell_type": "code",
   "execution_count": null,
   "metadata": {},
   "outputs": [],
   "source": []
  },
  {
   "cell_type": "code",
   "execution_count": null,
   "metadata": {},
   "outputs": [],
   "source": [
    "class mother:\n",
    "    def __init__(self,name = 'config/config.yaml' , age = 'value/value.uaml'):\n",
    "        self.name = name\n",
    "        self.age = age\n",
    "\n",
    "    def test(self):\n",
    "        return 'this is the mother class'\n",
    "    \n",
    "\n",
    "class father:\n",
    "    def __init__(self,name1 , age1 ):\n",
    "        self.name2= name1\n",
    "        self.age2 = age1\n",
    "\n",
    "    def test(self):\n",
    "        return 'this is the Father class'"
   ]
  },
  {
   "cell_type": "code",
   "execution_count": null,
   "metadata": {},
   "outputs": [],
   "source": [
    "class child(mother):\n",
    "    def __init__(self,*args):\n",
    "        mother.__init__(self,*args)"
   ]
  },
  {
   "cell_type": "code",
   "execution_count": null,
   "metadata": {},
   "outputs": [],
   "source": [
    "obj = child('zeeshan',87)\n",
    "obj.name"
   ]
  },
  {
   "cell_type": "code",
   "execution_count": null,
   "metadata": {},
   "outputs": [],
   "source": [
    "data = {\"0\": \"Anjeer_-3900090\",\n",
    "            \"1\": \"Apple Granny Smith9097878\",\n",
    "            \"2\": \"Apple Pink Lady\",\n",
    "            \"3\": \"Apple Royal Gala\",\n",
    "            \"4\": \"Apple Shimla\",\n",
    "            \"5\": \"Apple Small\",\n",
    "            \"6\": \"Apricots Fresh\",\n",
    "            \"7\": \"Apricots Fresh Packed\",\n",
    "            \"8\": \"Ash Gourd Cut\",\n",
    "            \"9\": \"Avocado Indian\",\n",
    "            \"10\": \"Baby Corn\",\n",
    "            \"11\": \"Banana Flower\",\n",
    "            \"12\": \"Banana Hills\",\n",
    "            \"13\": \"Banana Morris\",\n",
    "            \"14\": \"Banana Nadan\",\n",
    "            \"15\": \"Banana Nendran\",\n",
    "            \"16\": \"Banana Poovan\",\n",
    "            \"17\": \"Banana Rasthali\",\n",
    "            \"18\": \"Banana Red\",\n",
    "            \"19\": \"Banana Yelakki\",\n",
    "            \"20\": \"Beans Bush\",\n",
    "            \"21\": \"Beans Butter\",\n",
    "            \"22\": \"Beans Thin Cowpea\",\n",
    "            \"23\": \"Beetroot\",\n",
    "            \"24\": \"Bere Elandai\",\n",
    "            \"25\": \"Bitter Gourd\",\n",
    "            \"26\": \"Bok Choy\",\n",
    "            \"27\": \"Bottle Gourd\",\n",
    "            \"28\": \"Brinjal Black Big\",\n",
    "            \"29\": \"Brinjal Long\",\n",
    "            \"30\": \"Brinjal Purple Striped\",\n",
    "            \"31\": \"Broccoli\",\n",
    "            \"32\": \"Brussels Sprout\",\n",
    "            \"33\": \"Cabbage\",\n",
    "            \"34\": \"Cabbage Red\",\n",
    "            \"35\": \"Capsicum\",\n",
    "            \"36\": \"Capsicum Red\",\n",
    "            \"37\": \"Capsicum Yellow\",\n",
    "            \"38\": \"Carrot Ooty\",\n",
    "            \"39\": \"Cassave\",\n",
    "            \"40\": \"Cauliflower\",\n",
    "            \"41\": \"Chilli Long Bajji\",\n",
    "            \"42\": \"Chinese Cabbage\",\n",
    "            \"43\": \"Chow Chow\",\n",
    "            \"44\": \"Cluster Beans\",\n",
    "            \"45\": \"Coconut\",\n",
    "            \"46\": \"Coconut Flower\",\n",
    "            \"47\": \"Coriander Leaves\",\n",
    "            \"48\": \"Cucumber\",\n",
    "            \"49\": \"Custard Apple\",\n",
    "            \"50\": \"Dragon Fruit Red\",\n",
    "            \"51\": \"Golden Kiwi\",\n",
    "            \"52\": \"Gooseberry Amla\",\n",
    "            \"53\": \"Guava White\",\n",
    "            \"54\": \"Jackfruit raw\",\n",
    "            \"55\": \"Kale Leaves\",\n",
    "            \"56\": \"Karunai Kilangu\",\n",
    "            \"57\": \"Kiwi Green\",\n",
    "            \"58\": \"Knol Khol\",\n",
    "            \"59\": \"KPN-Sprouts\",\n",
    "            \"60\": \"Lab Lab Long\",\n",
    "            \"61\": \"Lemon\",\n",
    "            \"62\": \"Lettuce Leaves\",\n",
    "            \"63\": \"Mango Neelam\",\n",
    "            \"64\": \"Mango Totapuri\",\n",
    "            \"65\": \"Mangusteens Indian\",\n",
    "            \"66\": \"Mosambi\",\n",
    "            \"67\": \"Muskmelon Rock\",\n",
    "            \"68\": \"Muskmelon Yellow\",\n",
    "            \"69\": \"Nectarines\",\n",
    "            \"70\": \"Onion Big Bellary\",\n",
    "            \"71\": \"Orange Nagpur\",\n",
    "            \"72\": \"Orange Small\",\n",
    "            \"73\": \"Orange Valencia\",\n",
    "            \"74\": \"Oyster Mushroom\",\n",
    "            \"75\": \"Papaya\",\n",
    "            \"76\": \"Parsley Leaves\",\n",
    "            \"77\": \"Passion Fruit\",\n",
    "            \"78\": \"Pears Green\",\n",
    "            \"79\": \"Pears Ooty\",\n",
    "            \"80\": \"Pineapple\",\n",
    "            \"81\": \"Plums Imported\",\n",
    "            \"82\": \"Plums Indian\",\n",
    "            \"83\": \"Plums Indian Packed\",\n",
    "            \"84\": \"Pomegranate Kabul\",\n",
    "            \"85\": \"Potato Small\",\n",
    "            \"86\": \"Potato Small Bag\",\n",
    "            \"87\": \"Prunes\",\n",
    "            \"88\": \"Pumpkin\",\n",
    "            \"89\": \"Pumpkin cut Wrapped\",\n",
    "            \"90\": \"Radish Red\",\n",
    "            \"91\": \"Radish White\",\n",
    "            \"92\": \"Sapota Round\",\n",
    "            \"93\": \"Snake Gourd\",\n",
    "            \"94\": \"Tomato Apple\",\n",
    "            \"95\": \"Tomato Nadu\",\n",
    "            \"96\": \"Turnip\",\n",
    "            \"97\": \"Watermelon Kiran\",\n",
    "            \"98\": \"Zucchini Green\",\n",
    "            \"99\": \"Zucchini Yellow\"}"
   ]
  },
  {
   "cell_type": "code",
   "execution_count": null,
   "metadata": {},
   "outputs": [],
   "source": [
    "data"
   ]
  },
  {
   "cell_type": "code",
   "execution_count": null,
   "metadata": {},
   "outputs": [],
   "source": [
    "data1 = dict((v,k)for k, v in data.items())\n",
    "data1"
   ]
  },
  {
   "cell_type": "code",
   "execution_count": null,
   "metadata": {},
   "outputs": [],
   "source": [
    "import re\n",
    "\n",
    "re.findall(r'\\d+', data['0'])\n"
   ]
  },
  {
   "cell_type": "code",
   "execution_count": null,
   "metadata": {},
   "outputs": [],
   "source": [
    "data = [\"Anjeer\",\n",
    "\"Apple Granny Smith\",\n",
    "\"Apple Fuji\",\n",
    "\"Apple Pink Lady\",\n",
    "\"Apple Royal Gala\",\n",
    "\"Apple Shimla\",\n",
    "\"Apple Small\",\n",
    "\"Apricots Fresh\",\n",
    "\"Apricots Fresh Packed\",\n",
    "\"Ash Gourd Cut\",\n",
    "\"Avocado Indian\",\n",
    "\"Baby Corn\",\n",
    "\"Banana Flower\",\n",
    "\"Banana Hills\",\n",
    "\"Banana Morris\",\n",
    "\"Banana Nadan\",\n",
    "\"Banana Nendran\",\n",
    "\"Banana Poovan\",\n",
    "\"Banana Rasthali\",\n",
    "\"Banana Red\",\n",
    "\"Banana Yelakki\",\n",
    "\"Beans Bush\",\n",
    "\"Beans Butter\",\n",
    "\"Beans Thin Cowpea\",\n",
    "\"Beetroot\",\n",
    "\"Bere Elandai\",\n",
    "\"Bitter Gourd\",\n",
    "\"Bok Choy\",\n",
    "\"Bottle Gourd\",\n",
    "\"Brinjal Black Big\",\n",
    "\"Brinjal Long\",\n",
    "\"Brinjal Purple Striped\",\n",
    "\"Broccoli\",\n",
    "\"Brussels Sprout\",\n",
    "\"Cabbage\",\n",
    "\"Cabbage Red\",\n",
    "\"Capsicum\",\n",
    "\"Capsicum Red\",\n",
    "\"Capsicum Yellow\",\n",
    "\"Carrot Ooty\",\n",
    "\"Cassave\",\n",
    "\"Cauliflower\",\n",
    "\"Chilli Long Bajji\",\n",
    "\"Chinese Cabbage\",\n",
    "\"Chow Chow\",\n",
    "\"Citron\",\n",
    "\"Cluster Beans\",\n",
    "\"Coconut\",\n",
    "\"Coconut Flower\",\n",
    "\"Coriander Leaves\",\n",
    "\"Cucumber\",\n",
    "\"Curry Leaves\",\n",
    "\"Custard Apple\",\n",
    "\"Dates Fresh Yellow\",\n",
    "\"Dragon Fruits Red\",\n",
    "\"Galangal\",\n",
    "\"Golden Kiwi\",\n",
    "\"Gooseberry Amla\",\n",
    "\"Grapes Black Seedless\",\n",
    "\"Grapes Green Seedless\",\n",
    "\"Grapes Paneer\",\n",
    "\"Greens Palak\",\n",
    "\"Greens Ponnakanni Bangalore\",\n",
    "\"Guava Big\",\n",
    "\"Guava White\",\n",
    "\"Iceberg Lettuce\",\n",
    "\"Jackfruit raw\",\n",
    "\"KPN-Sprouts\",\n",
    "\"Kale Leaves\",\n",
    "\"Karunai Kilangu\",\n",
    "\"Kiwi Green\",\n",
    "\"Knol Khol\",\n",
    "\"Koorkan Kilangu\",\n",
    "\"Lab Lab Long\",\n",
    "\"Ladiesfinger\",\n",
    "\"Leaves Leaks\",\n",
    "\"Lemon\",\n",
    "\"Lettuce Leaves\",\n",
    "\"Longan Imported\",\n",
    "\"Mango Neelam\",\n",
    "\"Mango Totapuri\",\n",
    "\"Mangusteens Indian\",\n",
    "\"Mosambi\",\n",
    "\"Musk Melon Yellow\",\n",
    "\"Muskmelon Rock\",\n",
    "\"Nectarines\",\n",
    "\"Onion Big Bellary\",\n",
    "\"Orange Nagpur\",\n",
    "\"Orange Small\",\n",
    "\"Orange Valencia\",\n",
    "\"Oyster Mushroom\",\n",
    "\"Papaya\",\n",
    "\"Parsley Leaves\",\n",
    "\"Passion Fruit\",\n",
    "\"Pears Green\",\n",
    "\"Pears Ooty\",\n",
    "\"Persimmon\",\n",
    "\"Pineapple\",\n",
    "\"Plums Imported\",\n",
    "\"Plums Indian\",\n",
    "\"Plums Indian Packed\",\n",
    "\"Pomegranate Kabul\",\n",
    "\"Potato\",\n",
    "\"Potato Small\",\n",
    "\"Potato Small Bag\",\n",
    "\"Prunes\",\n",
    "\"Pumpkin\",\n",
    "\"Pumpkin cut Wrapped\",\n",
    "\"Radish Red\",\n",
    "\"Radish White\",\n",
    "\"Ramsita\",\n",
    "\"Sapota Round\",\n",
    "\"Snake Gourd\",\n",
    "\"Soursop Fruit\",\n",
    "\"Sweet Corn\",\n",
    "\"Sweet Potato\",\n",
    "\"Tomato Apple\",\n",
    "\"Tomato Nadu\",\n",
    "\"Turnip\",\n",
    "\"Watermelon Kiran\",\n",
    "\"Zucchini Green\",\n",
    "\"Zucchini Yellow\"]"
   ]
  },
  {
   "cell_type": "code",
   "execution_count": null,
   "metadata": {},
   "outputs": [],
   "source": [
    "for i in sorted(data):\n",
    "    print(i)"
   ]
  },
  {
   "cell_type": "code",
   "execution_count": null,
   "metadata": {},
   "outputs": [],
   "source": [
    "data1 =[\"Orange Small\",\n",
    "\"Orange Valencia\",\n",
    "\"Oyster Mushroom\",\n",
    "\"Papaya\",\n",
    "\"Parsley Leaves\",\n",
    "\"Passion Fruit\",\n",
    "\"Pears Green\",\n",
    "\"Pears Ooty\",\n",
    "\"Persimmon\",\n",
    "\"Pineapple\",\n",
    "\"Plums Imported\",\n",
    "\"Plums Indian\",\n",
    "\"Plums Indian Packed\",\n",
    "\"Pomegranate Kabul\",\n",
    "\"Potato\",\n",
    "\"Potato Small\",\n",
    "\"Potato Small Bag\",\n",
    "\"Prunes\",\n",
    "\"Pumpkin\",\n",
    "\"Pumpkin cut Wrapped\",\n",
    "\"Radish Red\"]"
   ]
  },
  {
   "cell_type": "code",
   "execution_count": null,
   "metadata": {},
   "outputs": [],
   "source": [
    "sorted(data1)"
   ]
  },
  {
   "cell_type": "code",
   "execution_count": null,
   "metadata": {},
   "outputs": [],
   "source": [
    "import re\n",
    "l =['call344','odor90','ir544','Zeeshan']\n",
    "\n",
    "dic ={}\n",
    "for data in l:\n",
    "    value = re.findall(r'\\d+',data)\n",
    "    dic[data] = value\n",
    "\n",
    "print(dic)"
   ]
  },
  {
   "cell_type": "code",
   "execution_count": null,
   "metadata": {},
   "outputs": [],
   "source": [
    "re.findall(r'\\d+','call45')[0]"
   ]
  },
  {
   "cell_type": "code",
   "execution_count": null,
   "metadata": {},
   "outputs": [],
   "source": [
    "import yaml"
   ]
  },
  {
   "cell_type": "code",
   "execution_count": null,
   "metadata": {},
   "outputs": [],
   "source": [
    "import yaml\n",
    "with open('items1.yaml', 'r') as params_file:\n",
    "        yaml_params = yaml.safe_load(params_file) "
   ]
  },
  {
   "cell_type": "code",
   "execution_count": null,
   "metadata": {},
   "outputs": [],
   "source": [
    "applefujiid = yaml_params['Apple Fuji']['id']\n",
    "anjeerid = yaml_params['Anjeer']['id']\n",
    "applefujinae = yaml_params['Apple Fuji']['alias']\n",
    "anjeernae = yaml_params['Anjeer']['alias']"
   ]
  },
  {
   "cell_type": "code",
   "execution_count": null,
   "metadata": {},
   "outputs": [],
   "source": [
    "yaml_params"
   ]
  },
  {
   "cell_type": "code",
   "execution_count": null,
   "metadata": {},
   "outputs": [],
   "source": [
    "applefujiid"
   ]
  },
  {
   "cell_type": "code",
   "execution_count": null,
   "metadata": {},
   "outputs": [],
   "source": [
    "applefujinae"
   ]
  },
  {
   "cell_type": "code",
   "execution_count": null,
   "metadata": {},
   "outputs": [],
   "source": [
    "anjeerid"
   ]
  },
  {
   "cell_type": "code",
   "execution_count": null,
   "metadata": {},
   "outputs": [],
   "source": [
    "anjeernae"
   ]
  },
  {
   "cell_type": "code",
   "execution_count": null,
   "metadata": {},
   "outputs": [],
   "source": [
    "data = { \"Anjeer\" : {'id': 0 , 'alias': 'Ajeerbox'},\n",
    "\n",
    "\"Apple Fuji\": {'id': 1 ,'alias': \"basic apple\"}\n",
    "\n",
    "\n",
    "}"
   ]
  },
  {
   "cell_type": "code",
   "execution_count": null,
   "metadata": {},
   "outputs": [],
   "source": [
    "import pandas as pd\n",
    "pd.DataFrame(data)"
   ]
  },
  {
   "cell_type": "code",
   "execution_count": null,
   "metadata": {},
   "outputs": [],
   "source": [
    "import re\n",
    "l = ['zeeshan','Guava Big','Anjeer','Ramsita']\n",
    "\n",
    "for data in l:\n",
    "    value = re.findall(r'^Ramsit',data)\n",
    "    if value:\n",
    "        print(data)"
   ]
  },
  {
   "cell_type": "code",
   "execution_count": null,
   "metadata": {},
   "outputs": [],
   "source": [
    "\n",
    "\n",
    "\n",
    "class Parent:\n",
    "    def __init__(advayya,a,b,c):\n",
    "        advayya.a1 = a\n",
    "        advayya._b1 = b\n",
    "        advayya.__c1 = c\n",
    "\n",
    "\n",
    "    def test(advayya):\n",
    "        return 'this is the first method'\n",
    "    \n",
    "\n",
    "    def test1(advayya):\n",
    "        return 'this is test1 class'\n",
    "\n",
    "\n",
    "\n",
    "\n"
   ]
  },
  {
   "cell_type": "code",
   "execution_count": null,
   "metadata": {},
   "outputs": [],
   "source": [
    "ob = Parent(9,4,89)"
   ]
  },
  {
   "cell_type": "code",
   "execution_count": null,
   "metadata": {},
   "outputs": [],
   "source": [
    "ob.test()"
   ]
  },
  {
   "cell_type": "code",
   "execution_count": null,
   "metadata": {},
   "outputs": [],
   "source": [
    "class child(Parent):\n",
    "    def __init__(self,p,q,*args):\n",
    "        Parent.__init__(self,*args)\n",
    "        self.p = p\n",
    "        self.q = q\n",
    "\n",
    "    def test3(self):\n",
    "        return 'this is the test class of child'"
   ]
  },
  {
   "cell_type": "code",
   "execution_count": null,
   "metadata": {},
   "outputs": [],
   "source": [
    "ob1 = child(90,50,41,51,61)\n",
    "ob1._Parent__c1"
   ]
  },
  {
   "cell_type": "code",
   "execution_count": null,
   "metadata": {},
   "outputs": [],
   "source": [
    "import pandas as pd\n",
    "import yaml\n",
    "import csv\n",
    "\n",
    "\n",
    "with open('metadata/Metadata1699853231.520022.csv','r') as meta1:\n",
    "    value = csv.DictReader(meta1)\n",
    "    value = list(value)\n",
    "\n",
    "\n",
    "value"
   ]
  },
  {
   "cell_type": "code",
   "execution_count": null,
   "metadata": {},
   "outputs": [],
   "source": [
    "a = 399\n",
    "\n",
    "def read():\n",
    "    # global a\n",
    "    print(a)"
   ]
  },
  {
   "cell_type": "code",
   "execution_count": null,
   "metadata": {},
   "outputs": [],
   "source": [
    "a = 100\n",
    "\n",
    "def fun():\n",
    "    global a\n",
    "    print(a)"
   ]
  },
  {
   "cell_type": "code",
   "execution_count": null,
   "metadata": {},
   "outputs": [],
   "source": [
    "fun()"
   ]
  },
  {
   "cell_type": "code",
   "execution_count": null,
   "metadata": {},
   "outputs": [],
   "source": [
    "def func1():\n",
    "    a = 10\n",
    "    print(a)\n",
    "func1()\n",
    "print(a)\n"
   ]
  },
  {
   "cell_type": "code",
   "execution_count": null,
   "metadata": {},
   "outputs": [],
   "source": [
    "a=10\n",
    "def func():\n",
    "    global a\n",
    "    a+=10\n",
    "    print(\"Value inside the function:\",a)\n",
    "func()\n",
    "print(\"Value Outside the function:\",a)\n"
   ]
  },
  {
   "cell_type": "code",
   "execution_count": null,
   "metadata": {},
   "outputs": [],
   "source": []
  },
  {
   "cell_type": "code",
   "execution_count": null,
   "metadata": {},
   "outputs": [],
   "source": [
    "import os\n",
    "if not os.path.exists('new.yaml'):\n",
    "    with open('new.yaml','w+') as meta:\n",
    "        yaml.dump(value,meta)"
   ]
  },
  {
   "cell_type": "code",
   "execution_count": null,
   "metadata": {},
   "outputs": [],
   "source": [
    "pwd"
   ]
  },
  {
   "cell_type": "code",
   "execution_count": null,
   "metadata": {},
   "outputs": [],
   "source": [
    "pd.DataFrame(value)"
   ]
  },
  {
   "cell_type": "code",
   "execution_count": null,
   "metadata": {},
   "outputs": [],
   "source": [
    "with open('new.yaml','r') as f:\n",
    "    value1 = yaml.safe_load(f)"
   ]
  },
  {
   "cell_type": "code",
   "execution_count": null,
   "metadata": {},
   "outputs": [],
   "source": [
    "d1 = {'key1':7800,'key2':56}\n",
    "d2 = {'key1':780,'key2':560}\n",
    "\n",
    "merge= {**d2,**d1}\n"
   ]
  },
  {
   "cell_type": "code",
   "execution_count": null,
   "metadata": {},
   "outputs": [],
   "source": [
    "merge['key1']"
   ]
  },
  {
   "cell_type": "code",
   "execution_count": null,
   "metadata": {},
   "outputs": [],
   "source": [
    "d1['key1']"
   ]
  },
  {
   "cell_type": "code",
   "execution_count": null,
   "metadata": {},
   "outputs": [],
   "source": [
    "import yaml\n",
    "import pandas as pd\n",
    "with open('tester.yaml','r') as tester:\n",
    "    value = yaml.safe_load(tester)"
   ]
  },
  {
   "cell_type": "code",
   "execution_count": null,
   "metadata": {},
   "outputs": [],
   "source": [
    "pd.DataFrame(value)"
   ]
  },
  {
   "cell_type": "code",
   "execution_count": null,
   "metadata": {},
   "outputs": [],
   "source": [
    "value[0]"
   ]
  },
  {
   "cell_type": "code",
   "execution_count": null,
   "metadata": {},
   "outputs": [],
   "source": [
    "value"
   ]
  },
  {
   "cell_type": "code",
   "execution_count": null,
   "metadata": {},
   "outputs": [],
   "source": [
    "\n",
    "def value1():\n",
    "    print(a)"
   ]
  },
  {
   "cell_type": "code",
   "execution_count": null,
   "metadata": {},
   "outputs": [],
   "source": [
    "value1()"
   ]
  },
  {
   "cell_type": "code",
   "execution_count": 8,
   "metadata": {},
   "outputs": [],
   "source": [
    "l = [\n",
    "{'name':'Zeeshan',\n",
    "'salary':78,\n",
    "'email':'zeeshan@gmail.com'},\n",
    "{'name':'Fayaz',\n",
    "'salary':7876,\n",
    "'email':'fayaz@gmail.com'},\n",
    "{'name':'Rizwan',\n",
    "'salary':780,\n",
    "'email':'rizwan@gmail.com'},\n",
    "{'name':'Malik',\n",
    "'salary':90,\n",
    "'email':'malik@gmail.com'},\n",
    "\n",
    "]"
   ]
  },
  {
   "cell_type": "code",
   "execution_count": null,
   "metadata": {},
   "outputs": [],
   "source": [
    "sorted(l,key=lambda x : x['salary'])[:2]"
   ]
  },
  {
   "cell_type": "code",
   "execution_count": null,
   "metadata": {},
   "outputs": [],
   "source": [
    "sorted(l,key=lambda x : x['salary'])"
   ]
  },
  {
   "cell_type": "code",
   "execution_count": null,
   "metadata": {},
   "outputs": [],
   "source": [
    "sorted(l,key=lambda x : x['salary'])"
   ]
  },
  {
   "cell_type": "code",
   "execution_count": null,
   "metadata": {},
   "outputs": [],
   "source": [
    "l"
   ]
  },
  {
   "cell_type": "code",
   "execution_count": null,
   "metadata": {},
   "outputs": [],
   "source": [
    "from pprint import pprint\n",
    "l1 = [ ('Zeeshan',78,'zeeshan@gmail.com'),\n",
    "('Fayaz',7876,'fayaz@gmail.com'),\n",
    "('Rizwan',780,'rizwan@gmail.com'),\n",
    "('Malik',90,'malik@gmail.com')\n",
    "]\n",
    "\n",
    "l1.sort(key=lambda x:(x[0],x[1]))\n",
    "\n",
    "pprint(l1)"
   ]
  },
  {
   "cell_type": "code",
   "execution_count": null,
   "metadata": {},
   "outputs": [],
   "source": [
    "from collections import Counter\n",
    "from pprint import pprint\n",
    "\n",
    "l2 = [\n",
    "    ('Zeeshan', 78, 'zeeshan@gmail.com'),\n",
    "    ('Malik', 90, 'malik@gmail.com'),\n",
    "    ('Rizwan', 780, 'rizwan@gmail.com'),\n",
    "    ('Fayaz', 7876, 'fayaz@gmail.com'),\n",
    "    ('Zeeshan', 100, 'zeeshan2@gmail.com'),\n",
    "    ('Malik', 95, 'malik2@gmail.com'),\n",
    "    ('Rizwan', 800, 'rizwan2@gmail.com'),\n",
    "    ('Fayaz', 7500, 'fayaz2@gmail.com')\n",
    "]\n",
    "\n",
    "# Count the occurrences of each name\n",
    "name_counts = Counter(item[0] for item in l2)\n",
    "\n",
    "# Sort by the negative count (descending frequency) and then by the salary (descending order)\n",
    "l2.sort(key=lambda x: (-name_counts[x[0]], -x[1]))\n",
    "\n",
    "pprint(l2)\n"
   ]
  },
  {
   "cell_type": "code",
   "execution_count": null,
   "metadata": {},
   "outputs": [],
   "source": [
    "from pprint import pprint\n",
    "\n",
    "from collections import Counter\n",
    "\n",
    "l1 = [\n",
    "    ('Zeeshan', 78, 'zeeshan@gmail.com'),\n",
    "    ('Zeeshan', 784, 'z4eeshan@gmail.com'),\n",
    "    ('Malik', 90, 'malik@gmail.com'),\n",
    "    ('Rizwan', 780, 'rizwan@gmail.com'),\n",
    "    ('Fayaz', 7876, 'fayaz@gmail.com'),\n",
    "    ('Zeeshan', 100, 'zeeshan2@gmail.com'),\n",
    "    ('Malik', 95, 'malik2@gmail.com'),\n",
    "    ('Rizwan', 800, 'rizwan2@gmail.com'),\n",
    "    ('Fayaz', 7500, 'fayaz2@gmail.com')\n",
    "]\n",
    "\n",
    "# Count the occurrences of each name\n",
    "name_counts = Counter(item[0] for item in l1)\n",
    "\n",
    "# Sort by the negative count (descending frequency) and then by the salary (descending order)\n",
    "l1.sort(key=lambda x: (-name_counts[x[0]]))\n",
    "\n",
    "pprint(l1[:2])\n"
   ]
  },
  {
   "cell_type": "code",
   "execution_count": null,
   "metadata": {},
   "outputs": [],
   "source": [
    "name_counts[]"
   ]
  },
  {
   "cell_type": "code",
   "execution_count": null,
   "metadata": {},
   "outputs": [],
   "source": [
    "name_counts"
   ]
  },
  {
   "cell_type": "code",
   "execution_count": null,
   "metadata": {},
   "outputs": [],
   "source": [
    "import threading\n",
    "\n",
    "\n",
    "def first(a):\n",
    "    l=[]\n",
    "    k =[]\n",
    "    for i in range(0,a):\n",
    "        if i%2==0:\n",
    "            i = i^3 + i * i\n",
    "            l.append(i)\n",
    "    for j in l:\n",
    "        j = j/2 +1\n",
    "        j = (j*j*j*j)+409\n",
    "        k.append(j)\n",
    "        \n",
    "    threading.current_thread().result = l\n",
    "    return k\n",
    "\n",
    "\n",
    "def second(b):\n",
    "    l=[]\n",
    "    k=[]\n",
    "    for i in range(0,b):\n",
    "        if i%2!=0:\n",
    "            i = i^3 + i*i\n",
    "            l.append(i)\n",
    "    for j in l:\n",
    "        j =j/2 +1\n",
    "        j = (j*j*j*j) +409\n",
    "        k.append(j)\n",
    "    threading.current_thread().result = l\n",
    "    return k\n",
    "\n",
    "\n"
   ]
  },
  {
   "cell_type": "code",
   "execution_count": null,
   "metadata": {},
   "outputs": [],
   "source": [
    "import time \n",
    "start = time.time()\n",
    "print(first(10000))\n",
    "print(second(10000))\n",
    "end = time.time()\n",
    "print(f'total time taken to execute both functions --->{(end-start)}')"
   ]
  },
  {
   "cell_type": "code",
   "execution_count": null,
   "metadata": {},
   "outputs": [],
   "source": [
    "import time\n",
    "import threading\n",
    "\n",
    "start = time.time()\n",
    "\n",
    "t1 = threading.Thread(target=first,args=(10000,))\n",
    "t2 = threading.Thread(target=second,args=(10000,))\n",
    "\n",
    "t1.start()\n",
    "t2.start()\n",
    "\n",
    "\n",
    "# t1.join()\n",
    "# t2.join()\n",
    "\n",
    "l1 = t1.result\n",
    "l2 = t2.result\n",
    "print(l1)\n",
    "print(l2)\n",
    "\n",
    "end = time.time() \n",
    "print(end-start)\n"
   ]
  },
  {
   "cell_type": "code",
   "execution_count": null,
   "metadata": {},
   "outputs": [],
   "source": [
    "0.011-0.00899"
   ]
  },
  {
   "cell_type": "code",
   "execution_count": null,
   "metadata": {},
   "outputs": [],
   "source": [
    "2^3"
   ]
  },
  {
   "cell_type": "code",
   "execution_count": null,
   "metadata": {},
   "outputs": [],
   "source": [
    "l = [\n",
    "{'name':'Zeeshan',\n",
    "'salary':78,\n",
    "'email':'zeeshan@gmail.com'},\n",
    "{'name':'Zeeshan',\n",
    "'salary':748,\n",
    "'email':'zeeshan@gma4il.com'},\n",
    "{'name':'Zeeshan',\n",
    "'salary':748,\n",
    "'email':'zeeshan@gma2il.com'},\n",
    "{'name':'Fayaz',\n",
    "'salary':7876,\n",
    "'email':'fayaz@gmail.com'},\n",
    "{'name':'Rizwan',\n",
    "'salary':780,\n",
    "'email':'rizwan@gmail.com'},\n",
    "{'name':'Malik',\n",
    "'salary':90,\n",
    "'email':'malik@gmail.com'},\n",
    "\n",
    "]"
   ]
  },
  {
   "cell_type": "code",
   "execution_count": null,
   "metadata": {},
   "outputs": [],
   "source": [
    "from collections import Counter\n",
    "\n",
    "\n",
    "value = Counter(item['name'] for item in l)\n",
    "\n",
    "l1 = sorted(l, key=lambda x: value[x['name']], reverse=True)\n",
    "l1"
   ]
  },
  {
   "cell_type": "code",
   "execution_count": null,
   "metadata": {},
   "outputs": [],
   "source": [
    "l"
   ]
  },
  {
   "cell_type": "code",
   "execution_count": null,
   "metadata": {},
   "outputs": [],
   "source": [
    "l"
   ]
  },
  {
   "cell_type": "code",
   "execution_count": null,
   "metadata": {},
   "outputs": [],
   "source": [
    "from collections import Counter\n",
    "\n",
    "value = Counter(item['name'] for item in l)\n",
    "value\n",
    "\n",
    "sorted(l,key=lambda x :x['name'])\n"
   ]
  },
  {
   "cell_type": "code",
   "execution_count": null,
   "metadata": {},
   "outputs": [],
   "source": [
    "for item in l:\n",
    "    print(item)"
   ]
  },
  {
   "cell_type": "code",
   "execution_count": null,
   "metadata": {},
   "outputs": [],
   "source": [
    "top = [{'class_id': 'Apple Pink Lady', 'confidence': 0.98, 'cords': [887.85, 333.71, 1160.64, 605.01]}]"
   ]
  },
  {
   "cell_type": "code",
   "execution_count": null,
   "metadata": {},
   "outputs": [],
   "source": [
    "top[0]['class_id']"
   ]
  },
  {
   "cell_type": "code",
   "execution_count": null,
   "metadata": {},
   "outputs": [],
   "source": [
    "pr =['ca',90]"
   ]
  },
  {
   "cell_type": "code",
   "execution_count": null,
   "metadata": {},
   "outputs": [],
   "source": [
    "[] is not None"
   ]
  },
  {
   "cell_type": "code",
   "execution_count": null,
   "metadata": {},
   "outputs": [],
   "source": [
    "import pandas as pd\n",
    "from sklearn.metrics.pairwise import cosine_similarity\n",
    "\n",
    "\n",
    "df = pd.read_csv('CSB menu.csv',sep=',')\n",
    "\n",
    "# Transpose the matrix to have items as rows and users as columns\n",
    "item_user_matrix = df.T\n",
    "\n",
    "# Calculate similarity matrix using cosine similarity\n",
    "similarity_matrix = cosine_similarity(item_user_matrix)\n",
    "\n",
    "# Create a DataFrame from the similarity matrix\n",
    "similarity_df = pd.DataFrame(similarity_matrix, index=df.columns, columns=df.columns)\n",
    "\n",
    "# Function to get recommendations based on user's selection\n",
    "def get_recommendations(selected_item, similarity_df, user_items):\n",
    "    similar_scores = similarity_df[selected_item]\n",
    "    recommendations = []\n",
    "    \n",
    "    for item in user_items.index:\n",
    "        if user_items[item] == 0:  # Only consider items not already purchased\n",
    "            item_score = sum(similarity_df[item] * similar_scores)\n",
    "            recommendations.append((item, item_score))\n",
    "    \n",
    "    recommendations.sort(key=lambda x: x[1], reverse=True)\n",
    "    return recommendations\n",
    "\n",
    "# Example usage\n",
    "selected_item = 'Elaichi Chai Regular'\n",
    "user_items = df.loc[0]  # Assuming user 0's purchase history\n",
    "\n",
    "recommendations = get_recommendations(selected_item, similarity_df, user_items)\n",
    "print(\"Recommended items:\")\n",
    "for item, score in recommendations:\n",
    "    print(f\"{item}: {score}\")\n"
   ]
  },
  {
   "cell_type": "code",
   "execution_count": null,
   "metadata": {},
   "outputs": [],
   "source": [
    "import pandas as pd\n",
    "\n",
    "df = pd.read_csv('CSB menu.csv',sep=',')"
   ]
  },
  {
   "cell_type": "code",
   "execution_count": null,
   "metadata": {},
   "outputs": [],
   "source": [
    "df"
   ]
  },
  {
   "cell_type": "code",
   "execution_count": null,
   "metadata": {},
   "outputs": [],
   "source": [
    "import pandas as pd\n",
    "from sklearn.feature_extraction.text import TfidfVectorizer\n",
    "from sklearn.metrics.pairwise import linear_kernel\n",
    "\n",
    "\n",
    "df = pd.read_csv('CSB menu.csv',sep=',')\n",
    "\n",
    "# # Combine relevant features into a single text column\n",
    "# df['features'] = df['Category Name'] + ' ' + df['Item Name']\n",
    "\n",
    "# Create a TF-IDF vectorizer\n",
    "tfidf_vectorizer = TfidfVectorizer(stop_words='english')\n",
    "\n",
    "# Fit and transform the text data\n",
    "tfidf_matrix = tfidf_vectorizer.fit_transform(df['Item Print Name'])\n",
    "\n",
    "# Calculate cosine similarity between items\n",
    "cosine_sim = linear_kernel(tfidf_matrix, tfidf_matrix)\n",
    "\n",
    "# Function to get item recommendations based on a selected item\n",
    "def get_recommendations(item_name, cosine_sim, df):\n",
    "    idx = df[df['Item Print Name'] == item_name].index[0]\n",
    "    sim_scores = list(enumerate(cosine_sim[idx]))\n",
    "    sim_scores = sorted(sim_scores, key=lambda x: x[1], reverse=True)\n",
    "    sim_scores = sim_scores[1:5]  # Get the top 3 similar items\n",
    "\n",
    "    item_indices = [i[0] for i in sim_scores]\n",
    "    return df['Item Print Name'].iloc[item_indices]\n",
    "\n",
    "# Example usage\n",
    "selected_item = 'Butter scotch shake'\n",
    "recommendations = get_recommendations(selected_item, cosine_sim, df)\n",
    "\n",
    "print(f\"Recommended items for '{selected_item}':\")\n",
    "print(recommendations)\n"
   ]
  },
  {
   "cell_type": "code",
   "execution_count": null,
   "metadata": {},
   "outputs": [],
   "source": [
    "df"
   ]
  },
  {
   "cell_type": "code",
   "execution_count": null,
   "metadata": {},
   "outputs": [],
   "source": [
    "for i in df['Item Print Name']:\n",
    "    print(i)"
   ]
  },
  {
   "cell_type": "code",
   "execution_count": null,
   "metadata": {},
   "outputs": [],
   "source": [
    "from PIL import Image\n",
    "import cv2\n",
    "import matplotlib.pyplot as plt\n",
    "from pyzbar.pyzbar import decode\n",
    "\n",
    "\n",
    "img = cv2.imread(\"MicrosoftTeams-image (15).png\")\n",
    "decoded = decode(img)\n",
    "print(decoded)\n",
    "plt.imshow(img)"
   ]
  },
  {
   "cell_type": "code",
   "execution_count": null,
   "metadata": {},
   "outputs": [],
   "source": [
    "import os\n",
    "import cv2\n",
    "import matplotlib.pyplot as plt\n",
    "img1 = cv2.imread('car.png')\n",
    "img2 = cv2.cvtColor(img1, cv2.COLOR_BGR2RGB)\n",
    "img3 = cv2.cvtColor(img1, cv2.COLOR_BGR2GRAY)\n",
    "gray_image = cv2.bilateralFilter(img3, 11, 18, 17) \n",
    "edged = cv2.Canny(gray_image, 30, 200) \n",
    "cv2.imshow(\"result\",edged)\n",
    "cv2.waitKey(1000)\n",
    "cv2.destroyAllWindows()\n",
    "# plt.imshow(contours)"
   ]
  },
  {
   "cell_type": "code",
   "execution_count": null,
   "metadata": {},
   "outputs": [],
   "source": [
    "import os\n",
    "import cv2\n",
    "import matplotlib.pyplot as plt\n",
    "\n",
    "# Load the image\n",
    "img1 = cv2.imread('car.png')\n",
    "img2 = cv2.cvtColor(img1, cv2.COLOR_BGR2RGB)\n",
    "img3 = cv2.cvtColor(img1, cv2.COLOR_BGR2GRAY)\n",
    "gray_image = cv2.bilateralFilter(img3, 11, 18, 17) \n",
    "edged = cv2.Canny(gray_image, 30, 200) \n",
    "\n",
    "# Find contours in the edged image\n",
    "contours, hierarchy = cv2.findContours(edged, cv2.RETR_EXTERNAL, cv2.CHAIN_APPROX_SIMPLE)\n",
    "\n",
    "# Filter contours based on area, aspect ratio, etc.\n",
    "min_area = 10  # adjust this threshold based on your image\n",
    "min_aspect_ratio = 1  # adjust this threshold based on your image\n",
    "plate_contours = []\n",
    "\n",
    "for contour in contours:\n",
    "    area = cv2.contourArea(contour)\n",
    "    x, y, w, h = cv2.boundingRect(contour)\n",
    "    aspect_ratio = w / float(h)\n",
    "\n",
    "    if area > min_area and aspect_ratio > min_aspect_ratio:\n",
    "        plate_contours.append(contour)\n",
    "        cv2.rectangle(img2, (x, y), (x + w, y + h), (0, 255, 0), 2)\n",
    "\n",
    "# Display the result\n",
    "plt.imshow(img2)\n",
    "plt.show()\n"
   ]
  },
  {
   "cell_type": "code",
   "execution_count": null,
   "metadata": {},
   "outputs": [],
   "source": [
    "import os\n",
    "import cv2\n",
    "import matplotlib.pyplot as plt\n",
    "# import pytesseract\n",
    "\n",
    "# # Set the path to the Tesseract executable (update with your path)\n",
    "# pytesseract.pytesseract.tesseract_cmd = r'C:\\Program Files\\Tesseract-OCR\\tesseract.exe'\n",
    "\n",
    "# Load the image\n",
    "img1 = cv2.imread('car.png')\n",
    "img2 = cv2.cvtColor(img1, cv2.COLOR_BGR2RGB)\n",
    "img3 = cv2.cvtColor(img1, cv2.COLOR_BGR2GRAY)\n",
    "gray_image = cv2.bilateralFilter(img3, 11, 18, 17) \n",
    "edged = cv2.Canny(gray_image, 30, 200) \n",
    "\n",
    "# Find contours in the edged image\n",
    "contours, hierarchy = cv2.findContours(edged, cv2.RETR_EXTERNAL, cv2.CHAIN_APPROX_SIMPLE)\n",
    "\n",
    "# Filter contours based on area, aspect ratio, etc.\n",
    "min_area = 100  # adjust this threshold based on your image\n",
    "min_aspect_ratio = 1  # adjust this threshold based on your image\n",
    "plate_contours = []\n",
    "\n",
    "for contour in contours:\n",
    "    area = cv2.contourArea(contour)\n",
    "    x, y, w, h = cv2.boundingRect(contour)\n",
    "    aspect_ratio = w / float(h)\n",
    "\n",
    "    if area > min_area and aspect_ratio > min_aspect_ratio:\n",
    "        plate_contours.append((x, y, x + w, y + h))\n",
    "\n",
    "# Extract text using OCR from each identified plate contour\n",
    "for (x1, y1, x2, y2) in plate_contours:\n",
    "    plate_region = img3[y1:y2, x1:x2]\n",
    "    # text = pytesseract.image_to_string(plate_region, config='--psm 8')  # Use PSM 8 for treating image as a single word\n",
    "    # print(f'Number Plate: {text}')\n",
    "\n",
    "    # Optionally, draw the bounding box on the original image\n",
    "    cv2.rectangle(img2, (x1, y1), (x2, y2), (0, 255, 0), 2)\n",
    "\n",
    "# Display the result\n",
    "plt.imshow(plate_region)\n",
    "plt.show()\n"
   ]
  },
  {
   "cell_type": "code",
   "execution_count": null,
   "metadata": {},
   "outputs": [],
   "source": [
    "import cv2\n",
    "\n",
    "harcascade = \"haarcascade_russian_plate_number.xml\"\n",
    "reader = easyocr.Reader(['en']) \n",
    "\n",
    "cap = cv2.VideoCapture(0)\n",
    "\n",
    "cap.set(3, 640) # width\n",
    "cap.set(4, 480) #height\n",
    "\n",
    "min_area = 500\n",
    "count = 0\n",
    "\n",
    "while True:\n",
    "    success, img = cap.read()\n",
    "\n",
    "    plate_cascade = cv2.CascadeClassifier(harcascade)\n",
    "    img_gray = cv2.cvtColor(img, cv2.COLOR_BGR2GRAY)\n",
    "\n",
    "    plates = plate_cascade.detectMultiScale(img_gray, 1.1, 4)\n",
    "\n",
    "    for (x,y,w,h) in plates:\n",
    "        area = w * h\n",
    "\n",
    "        if area > min_area:\n",
    "            cv2.rectangle(img, (x,y), (x+w, y+h), (0,255,0), 2)\n",
    "            cv2.putText(img, \"Number Plate\", (x,y-5), cv2.FONT_HERSHEY_COMPLEX_SMALL, 1, (255, 0, 255), 2)\n",
    "\n",
    "            img_roi = img[y: y+h, x:x+w]\n",
    "            cv2.imshow(\"ROI\", img_roi)\n",
    "\n",
    "\n",
    "    \n",
    "    cv2.imshow(\"Result\", img)\n",
    "\n",
    "    if cv2.waitKey(1) & 0xFF == ord('s'):\n",
    "        cv2.imwrite(\"plates/scaned_img_\" + str(count) + \".jpg\", img_roi)\n",
    "        cv2.rectangle(img, (0,200), (640,300), (0,255,0), cv2.FILLED)\n",
    "        cv2.putText(img, \"Plate Saved\", (150, 265), cv2.FONT_HERSHEY_COMPLEX_SMALL, 2, (0, 0, 255), 2)\n",
    "        cv2.imshow(\"Results\",img)\n",
    "        cv2.waitKey(500)\n",
    "        count += 1\n"
   ]
  },
  {
   "cell_type": "code",
   "execution_count": 1,
   "metadata": {},
   "outputs": [
    {
     "name": "stdout",
     "output_type": "stream",
     "text": [
      ">>>>>>>>>5852\n",
      ">>>>>>>>>3875\n"
     ]
    }
   ],
   "source": [
    "import cv2\n",
    "import os\n",
    "import time\n",
    "import easyocr \n",
    "import pandas as pd\n",
    "\n",
    "reader = easyocr.Reader(['en']) \n",
    "harcascade = \"indian_license_plate.xml\"\n",
    "min_area = 500\n",
    "count = 0\n",
    "\n",
    "# Read the image using cv2.imread\n",
    "img = cv2.imread('car1.png')\n",
    "\n",
    "# Check if the image is successfully loaded\n",
    "if img is None:\n",
    "    print(\"Error: Unable to read the image.\")\n",
    "    exit()\n",
    "\n",
    "plate_cascade = cv2.CascadeClassifier(harcascade)\n",
    "img_gray = cv2.cvtColor(img, cv2.COLOR_BGR2GRAY)\n",
    "\n",
    "plates = plate_cascade.detectMultiScale(img_gray, 1.1, 4)\n",
    "\n",
    "data=[]\n",
    "for (x, y, w, h) in plates:\n",
    "    area = w * h\n",
    "    print(f\">>>>>>>>>{area}\")\n",
    "\n",
    "    if area > min_area:\n",
    "        cv2.rectangle(img, (x, y), (x + w, y + h), (0, 255, 0), 2)\n",
    "        cv2.putText(img, \"Number Plate\", (x, y - 5), cv2.FONT_HERSHEY_COMPLEX_SMALL, 1, (255,134, 255), 2)\n",
    "\n",
    "        img_roi = img[y: y + h, x:x + w]\n",
    "        cv2.imshow(\"ROI\", img_roi)\n",
    "        os.makedirs('plates',exist_ok=True)\n",
    "        os.makedirs('plates/data',exist_ok=True)\n",
    "        \n",
    "        img_path = f'plates/plate{time.time()}.png'\n",
    "        cv2.imwrite(img_path,img_roi)\n",
    "        value = reader.readtext(img_path,detail = 0)\n",
    "        data.append({\"Number plates\":value})\n",
    "\n",
    "# Load existing data from the CSV file\n",
    "existing_df = pd.read_csv('plates/data/capture.csv', index_col=0)\n",
    "\n",
    "# Append the new data to the existing data\n",
    "df = pd.concat([existing_df, pd.DataFrame(data)], ignore_index=True)\n",
    "df.to_csv('plates/data/capture.csv')\n",
    "\n",
    "cv2.imshow(\"Result\", img)\n",
    "\n",
    "if cv2.waitKey(0) & 0xFF == ord('s'):\n",
    "    # cv2.imwrite(\"plates/scaned_img_\" + str(count) + \".jpg\", img_roi)\n",
    "    cv2.rectangle(img, (0, 200), (640, 300), (0, 255, 0), cv2.FILLED)\n",
    "    cv2.putText(img, \"Plate Saved\", (150, 265), cv2.FONT_HERSHEY_COMPLEX_SMALL, 2, (0, 0, 255), 2)\n",
    "    cv2.imshow(\"Results\", img)\n",
    "    cv2.waitKey(500)\n",
    "    count += 1\n",
    "\n",
    "cv2.destroyAllWindows()\n"
   ]
  },
  {
   "cell_type": "code",
   "execution_count": 2,
   "metadata": {},
   "outputs": [
    {
     "data": {
      "text/plain": [
       "['DL8CAF5030']"
      ]
     },
     "execution_count": 2,
     "metadata": {},
     "output_type": "execute_result"
    }
   ],
   "source": [
    "import easyocr \n",
    "reader = easyocr.Reader(['en']) \n",
    "reader.readtext('plates/plate1702470496.231284.png', detail = 0)\n"
   ]
  },
  {
   "cell_type": "code",
   "execution_count": 1,
   "metadata": {},
   "outputs": [
    {
     "name": "stdout",
     "output_type": "stream",
     "text": [
      ">>>>>>>>>2093\n"
     ]
    }
   ],
   "source": [
    "import cv2\n",
    "import os\n",
    "import time\n",
    "import easyocr \n",
    "import pandas as pd\n",
    "\n",
    "reader = easyocr.Reader(['en']) \n",
    "harcascade = \"indian_license_plate.xml\"\n",
    "min_area = 500\n",
    "count = 0\n",
    "\n",
    "# Read the image using cv2.imread\n",
    "img = cv2.imread('car.png')\n",
    "\n",
    "# Check if the image is successfully loaded\n",
    "if img is None:\n",
    "    print(\"Error: Unable to read the image.\")\n",
    "    exit()\n",
    "\n",
    "plate_cascade = cv2.CascadeClassifier(harcascade)\n",
    "img_gray = cv2.cvtColor(img, cv2.COLOR_BGR2GRAY)\n",
    "\n",
    "plates = plate_cascade.detectMultiScale(img_gray, 1.1, 4)\n",
    "\n",
    "data = []\n",
    "for (x, y, w, h) in plates:\n",
    "    area = w * h\n",
    "    print(f\">>>>>>>>>{area}\")\n",
    "\n",
    "    if area > min_area:\n",
    "        cv2.rectangle(img, (x, y), (x + w, y + h), (0, 255, 0), 2)\n",
    "        cv2.putText(img, \"Number Plate\", (x, y - 5), cv2.FONT_HERSHEY_COMPLEX_SMALL, 1, (255,134, 255), 2)\n",
    "\n",
    "        img_roi = img[y: y + h, x:x + w]\n",
    "        cv2.imshow(\"ROI\", img_roi)\n",
    "        os.makedirs('plates', exist_ok=True)\n",
    "        os.makedirs('plates/data', exist_ok=True)\n",
    "\n",
    "        img_path = f'plates/plate{time.time()}.png'\n",
    "        cv2.imwrite(img_path, img_roi)\n",
    "        value = reader.readtext(img_path, detail=0)\n",
    "        value_str = ' '.join(map(str, value))\n",
    "        data.append({\"Number plates\": value_str})\n",
    "\n",
    "# Try to load existing data from the CSV file\n",
    "try:\n",
    "    existing_df = pd.read_csv('plates/data/capture.csv', index_col=0)\n",
    "except FileNotFoundError:\n",
    "    # Create an empty DataFrame if the file does not exist\n",
    "    existing_df = pd.DataFrame()\n",
    "\n",
    "# Append the new data to the existing data\n",
    "df = pd.concat([existing_df, pd.DataFrame(data)], ignore_index=True)\n",
    "\n",
    "# Save the updated data to the CSV file\n",
    "df.to_csv('plates/data/capture.csv')\n",
    "\n",
    "cv2.imshow(\"Result\", img)\n",
    "\n",
    "if cv2.waitKey(0) & 0xFF == ord('s'):\n",
    "    # cv2.imwrite(\"plates/scaned_img_\" + str(count) + \".jpg\", img_roi)\n",
    "    cv2.rectangle(img, (0, 200), (640, 300), (0, 255, 0), cv2.FILLED)\n",
    "    cv2.putText(img, \"Plate Saved\", (150, 265), cv2.FONT_HERSHEY_COMPLEX_SMALL, 2, (0, 0, 255), 2)\n",
    "    cv2.imshow(\"Results\", img)\n",
    "    cv2.waitKey(500)\n",
    "    count += 1\n",
    "\n",
    "cv2.destroyAllWindows()\n"
   ]
  },
  {
   "cell_type": "code",
   "execution_count": 14,
   "metadata": {},
   "outputs": [
    {
     "data": {
      "text/plain": [
       "['NHO 1478866]']"
      ]
     },
     "execution_count": 14,
     "metadata": {},
     "output_type": "execute_result"
    }
   ],
   "source": [
    "import cv2\n",
    "import matplotlib.pyplot as plt\n",
    "img1 = cv2.imread('plates/plate1702541492.3055081.png')\n",
    "img2 = cv2.cvtColor(img1, cv2.COLOR_BGR2RGB)\n",
    "img3 = cv2.cvtColor(img1, cv2.COLOR_BGR2GRAY)\n",
    "gray_image = cv2.bilateralFilter(img3, 11, 18, 17) \n",
    "edged = cv2.Canny(gray_image, 30, 200) \n",
    "import easyocr \n",
    "reader = easyocr.Reader(['en']) \n",
    "reader.readtext(img2, detail = 0)\n",
    "# plt.imshow(gray_image)"
   ]
  },
  {
   "cell_type": "code",
   "execution_count": 7,
   "metadata": {},
   "outputs": [
    {
     "name": "stdout",
     "output_type": "stream",
     "text": [
      "[{'class_name': ['Onion Bellary Packed', 'Dragon Fruits Red', 'Plums Indian Packed', 'Ginger', 'Radish Red'], 'confidence': [84.0141, 9.6609, 5.3533, 0.3759, 0.3045]}]\n"
     ]
    }
   ],
   "source": [
    "# Your provided list\n",
    "results_list = [{'class_name': ['Onion Bellary Packed', 'Dragon Fruits Red', 'Plums Indian Packed', 'Ginger', 'Radish Red'],\n",
    "                 'confidence': [84.0141,  9.6609,  5.3533,  0.3759,  0.3045]}]\n",
    "\n",
    "# Sort the list of dictionaries based on confidence scores\n",
    "sorted_detect = sorted(results_list, key=lambda x: x['class_name'][0], reverse=True)\n",
    "\n",
    "print(sorted_detect)\n"
   ]
  },
  {
   "cell_type": "code",
   "execution_count": 25,
   "metadata": {},
   "outputs": [],
   "source": [
    "l=[[[345,316,316],'dat'],[[316,317,318,314],'data'],[[340],'value']]"
   ]
  },
  {
   "cell_type": "code",
   "execution_count": 26,
   "metadata": {},
   "outputs": [
    {
     "data": {
      "text/plain": [
       "[[[345, 316, 316], 'dat'], [[316, 317, 318, 314], 'data'], [[340], 'value']]"
      ]
     },
     "execution_count": 26,
     "metadata": {},
     "output_type": "execute_result"
    }
   ],
   "source": [
    "l"
   ]
  },
  {
   "cell_type": "code",
   "execution_count": 27,
   "metadata": {},
   "outputs": [],
   "source": [
    "from pprint import pprint"
   ]
  },
  {
   "cell_type": "code",
   "execution_count": 28,
   "metadata": {},
   "outputs": [
    {
     "name": "stdout",
     "output_type": "stream",
     "text": [
      "[[[345, 316, 316], 'dat'], [[316, 317, 318, 314], 'data'], [[340], 'value']]\n"
     ]
    }
   ],
   "source": [
    "pprint(l)"
   ]
  },
  {
   "cell_type": "code",
   "execution_count": 29,
   "metadata": {},
   "outputs": [
    {
     "name": "stdout",
     "output_type": "stream",
     "text": [
      "dat\n",
      "data\n",
      "value\n"
     ]
    }
   ],
   "source": [
    "filt=[]\n",
    "for data in l:\n",
    "    for j in data:\n",
    "        if type(j)==list:\n",
    "            for k in j:\n",
    "                filt.append(k)\n",
    "\n",
    "        else:\n",
    "            print(j)\n"
   ]
  },
  {
   "cell_type": "code",
   "execution_count": 30,
   "metadata": {},
   "outputs": [
    {
     "data": {
      "text/plain": [
       "{314, 316, 317, 318, 340, 345}"
      ]
     },
     "execution_count": 30,
     "metadata": {},
     "output_type": "execute_result"
    }
   ],
   "source": [
    "set(filt)"
   ]
  },
  {
   "cell_type": "code",
   "execution_count": 31,
   "metadata": {},
   "outputs": [
    {
     "data": {
      "text/plain": [
       "[345, 316, 316, 316, 317, 318, 314, 340]"
      ]
     },
     "execution_count": 31,
     "metadata": {},
     "output_type": "execute_result"
    }
   ],
   "source": [
    "(filt)"
   ]
  },
  {
   "cell_type": "code",
   "execution_count": 40,
   "metadata": {},
   "outputs": [],
   "source": [
    "l={34,45,56,45,45}\n",
    "j={45,67,78}"
   ]
  },
  {
   "cell_type": "code",
   "execution_count": 41,
   "metadata": {},
   "outputs": [
    {
     "data": {
      "text/plain": [
       "{34, 45, 56, 67, 78}"
      ]
     },
     "execution_count": 41,
     "metadata": {},
     "output_type": "execute_result"
    }
   ],
   "source": [
    "l.union(j)"
   ]
  },
  {
   "cell_type": "code",
   "execution_count": 3,
   "metadata": {},
   "outputs": [
    {
     "name": "stdout",
     "output_type": "stream",
     "text": [
      "1\n",
      "2\n",
      "3\n",
      "5\n",
      "6\n"
     ]
    }
   ],
   "source": [
    "l=[1,2,3,4,4,5,6]\n",
    "\n",
    "\n",
    "for i in l:\n",
    "    if i==4:\n",
    "        continue\n",
    "    print(i)"
   ]
  },
  {
   "cell_type": "code",
   "execution_count": 6,
   "metadata": {},
   "outputs": [
    {
     "data": {
      "text/plain": [
       "'^^^^^^^^^^^^^^^^^^^^'"
      ]
     },
     "execution_count": 6,
     "metadata": {},
     "output_type": "execute_result"
    }
   ],
   "source": [
    "\"^\"*20"
   ]
  },
  {
   "cell_type": "code",
   "execution_count": 10,
   "metadata": {},
   "outputs": [
    {
     "name": "stdout",
     "output_type": "stream",
     "text": [
      "Even numbers: [2, 4, 6, 8, 10]\n"
     ]
    }
   ],
   "source": [
    "numbers_list = [1, 2, 3, 4, 5, 6, 7, 8, 9, 10]\n",
    "flag = True  # Set this to True for even numbers, False for odd numbers\n",
    "\n",
    "result_numbers = []\n",
    "\n",
    "for num in numbers_list:\n",
    "    if (flag and num % 2 == 0) or (not flag and num % 2 != 0):\n",
    "        result_numbers.append(num)\n",
    "\n",
    "if flag:\n",
    "    print(\"Even numbers:\", result_numbers)\n",
    "else:\n",
    "    print(\"Odd numbers:\", result_numbers)\n"
   ]
  },
  {
   "cell_type": "code",
   "execution_count": 23,
   "metadata": {},
   "outputs": [],
   "source": [
    "l =['Onion Bellary Packed', 'Dragon Fruits Red', 'Plums Indian Packed', 'Ginger', 'Radish Red']\n",
    "import json\n",
    "import yaml\n",
    "\n",
    "with open('classnames.json','w+') as f:\n",
    "    f.write('[')\n",
    "    for idx, names in enumerate(l):\n",
    "        json.dump({f'data{idx}':names},f)\n",
    "        if idx< len(l) - 1:\n",
    "                f.write(',')\n",
    "    f.write(']')"
   ]
  },
  {
   "cell_type": "code",
   "execution_count": 37,
   "metadata": {},
   "outputs": [],
   "source": [
    "import yaml\n",
    "\n",
    "with open('items-reliance.yaml','r') as f:\n",
    "    value = yaml.safe_load(f)\n",
    "\n",
    "with open('class.txt','w+') as f:    \n",
    "    for i in value.keys():\n",
    "        f.write(f\"{f'{i}'}\")\n",
    "        f.write(',')"
   ]
  },
  {
   "cell_type": "code",
   "execution_count": 41,
   "metadata": {},
   "outputs": [],
   "source": [
    "import yaml\n",
    "\n",
    "with open('items-reliance.yaml', 'r') as f:\n",
    "    value = yaml.safe_load(f)\n",
    "\n",
    "with open('class.txt', 'w+') as f:\n",
    "    for i in value.keys():\n",
    "        f.write(f'\"{i}\",')"
   ]
  },
  {
   "cell_type": "code",
   "execution_count": 65,
   "metadata": {},
   "outputs": [],
   "source": [
    "import yaml\n",
    "\n",
    "with open('items-reliance.yaml', 'r') as f:\n",
    "    value = yaml.safe_load(f)\n",
    "\n",
    "with open('class.txt', 'w+') as f:\n",
    "    f.write('[')\n",
    "    flag = True\n",
    "    for i in value.keys():\n",
    "        if not flag:\n",
    "            f.write(',')\n",
    "            f.write('\\n')\n",
    "        f.write(f\"'{i}'\")\n",
    "        flag = False\n",
    "    f.write(']')\n"
   ]
  },
  {
   "cell_type": "code",
   "execution_count": 12,
   "metadata": {},
   "outputs": [],
   "source": [
    "with open('class.txt', 'r') as f:\n",
    "    value = f.readlines()\n",
    "\n",
    "with open('class111111111.txt', 'w+') as f1:\n",
    "    for data in value:\n",
    "        f1.write(data.split('\\n')[0])"
   ]
  },
  {
   "cell_type": "code",
   "execution_count": 15,
   "metadata": {},
   "outputs": [
    {
     "name": "stdout",
     "output_type": "stream",
     "text": [
      "['Amaranthus Green Bunch',\n",
      "'Amaranthus Red Bunch',\n",
      "'Apple Fuji',\n",
      "'Apple Kashmir',\n",
      "'Apple Pink Lady',\n",
      "'Apple Red Delicious',\n",
      "'Apple Royal Gala',\n",
      "'Apple Simla',\n",
      "'Ash Gourd',\n",
      "'Avocado',\n",
      "'Baby Corn',\n",
      "'Baby Potato',\n",
      "'Banana Flower',\n",
      "'Banana Leaf',\n",
      "'Banana Nendran',\n",
      "'Banana Nendran Raw',\n",
      "'Banana Red',\n",
      "'Banana Robusta',\n",
      "'Banana Stem',\n",
      "'Banana Yellaki',\n",
      "'Beans Cowpea',\n",
      "'Beetroot',\n",
      "'Bird Chilli',\n",
      "'Bitter Gourd',\n",
      "'Bitter Gourd Calcutta',\n",
      "'Blueberries',\n",
      "'Bok Choy',\n",
      "'Bottle Gourd',\n",
      "'Brinjal Black Big',\n",
      "'Brinjal Long Green',\n",
      "'Brinjal Nagpure',\n",
      "'Brinjal Purple Striped',\n",
      "'Brinjal Round Green',\n",
      "'Broad Beans',\n",
      "'Broccoli',\n",
      "'Brown Channa Sprouts',\n",
      "'Button Mushroom',\n",
      "'Button Roses',\n",
      "'Cabbage Red',\n",
      "'Capsicum Green',\n",
      "'Capsicum Red',\n",
      "'Capsicum Yellow',\n",
      "'Carrot Regular',\n",
      "'Cauliflower',\n",
      "'Celery',\n",
      "'Cherry Tomato',\n",
      "'Chilli Bhajji',\n",
      "'Chilli Green',\n",
      "'Chinese Cabbage',\n",
      "'Chow Chow',\n",
      "'Chrysanthemum Flower',\n",
      "'Cluster Beans',\n",
      "'Coccinia',\n",
      "'Coconut',\n",
      "'Coconut Tender',\n",
      "'Color',\n",
      "'Coriander',\n",
      "'Coriander Bunch',\n",
      "'Cucumber',\n",
      "'Cucumber French',\n",
      "'Cucumber Madras',\n",
      "'Curry Leaf',\n",
      "'Custard Apple',\n",
      "'Dill Leaves',\n",
      "'Dragon Fruit',\n",
      "'Drumstick',\n",
      "'French Beans',\n",
      "'Garlic',\n",
      "'Ginger',\n",
      "'Gooseberry Amla',\n",
      "'Grape Fruits',\n",
      "'Grapes Bangalore Blue',\n",
      "'Green Gram Sprouts',\n",
      "'Guava White',\n",
      "'Jujube',\n",
      "'Kiwi Imported Economy',\n",
      "'Kiwi Imported Green',\n",
      "'Knol Khol',\n",
      "'Leek',\n",
      "'Lemon',\n",
      "'Lemon Imported',\n",
      "'Lettuce Iceberg',\n",
      "'Lettuce Leafy',\n",
      "'Mango Ginger',\n",
      "'Mango Raw',\n",
      "'Mango Totapuri',\n",
      "'Marigold Flower',\n",
      "'Methi',\n",
      "'Mint Leaves',\n",
      "'Mix',\n",
      "'Mosambi',\n",
      "'Musk Melon',\n",
      "'Okra',\n",
      "'Onion Economy',\n",
      "'Onion Sambar',\n",
      "'Onion Sambar Peeled',\n",
      "'Orange',\n",
      "'Orange Imported',\n",
      "'P Guava',\n",
      "'Papaya Normal',\n",
      "'Parwal',\n",
      "'Pears Imported Green',\n",
      "'Pears Imported Red',\n",
      "'Pineapple Queen',\n",
      "'Plum',\n",
      "'Plum Imported',\n",
      "'Pomegranate Kesar',\n",
      "'Potato',\n",
      "'Pumpkin Country',\n",
      "'Pumpkin Disco',\n",
      "'Radish Long Red',\n",
      "'Radish Red',\n",
      "'Radish White',\n",
      "'Raw Papaya',\n",
      "'Ridge Gourd',\n",
      "'Sapota Round',\n",
      "'Small Colocasia',\n",
      "'Snake Gourd',\n",
      "'Spinach',\n",
      "'Spring Onion',\n",
      "'Sprouts Mix',\n",
      "'Sweet Corn',\n",
      "'Sweet Potato',\n",
      "'Sweet Tamarind',\n",
      "'Tangerine',\n",
      "'Tapioca',\n",
      "'Tinda',\n",
      "'Tomato',\n",
      "'Tomato Cherry',\n",
      "'Tomato Country',\n",
      "'Tomato Green',\n",
      "'Turnip',\n",
      "'Watermelon Kiran',\n",
      "'Yam',\n",
      "'Zucchini Green',\n",
      "'Zucchini Yellow']\n"
     ]
    }
   ],
   "source": []
  },
  {
   "cell_type": "code",
   "execution_count": 7,
   "metadata": {},
   "outputs": [],
   "source": [
    "with open('class.txt', 'r') as f:\n",
    "    value = f.read()\n"
   ]
  },
  {
   "cell_type": "code",
   "execution_count": 94,
   "metadata": {},
   "outputs": [
    {
     "name": "stdout",
     "output_type": "stream",
     "text": [
      "Item_id                     0\n",
      "Item_name              Anjeer\n",
      "model_type       Segmentation\n",
      "model_version            v1.0\n",
      "Name: 0, dtype: object\n",
      "Item_id                     1\n",
      "Item_name          Apple Fuji\n",
      "model_type       Segmentation\n",
      "model_version            v1.0\n",
      "Name: 1, dtype: object\n",
      "Item_id                           2\n",
      "Item_name        Apple Granny Smith\n",
      "model_type             Segmentation\n",
      "model_version                  v1.0\n",
      "Name: 2, dtype: object\n",
      "Item_id                        3\n",
      "Item_name        Apple Pink Lady\n",
      "model_type          Segmentation\n",
      "model_version               v1.0\n",
      "Name: 3, dtype: object\n",
      "Item_id                         4\n",
      "Item_name        Apple Royal Gala\n",
      "model_type           Segmentation\n",
      "model_version                v1.0\n",
      "Name: 4, dtype: object\n",
      "Item_id                     5\n",
      "Item_name        Apple Shimla\n",
      "model_type       Segmentation\n",
      "model_version            v1.0\n",
      "Name: 5, dtype: object\n",
      "Item_id                     6\n",
      "Item_name         Apple Small\n",
      "model_type       Segmentation\n",
      "model_version            v1.0\n",
      "Name: 6, dtype: object\n",
      "Item_id                       7\n",
      "Item_name        Apricots Fresh\n",
      "model_type         Segmentation\n",
      "model_version              v1.0\n",
      "Name: 7, dtype: object\n",
      "Item_id                              8\n",
      "Item_name        Apricots Fresh Packed\n",
      "model_type                Segmentation\n",
      "model_version                     v1.0\n",
      "Name: 8, dtype: object\n",
      "Item_id                      9\n",
      "Item_name        Ash Gourd Cut\n",
      "model_type        Segmentation\n",
      "model_version             v1.0\n",
      "Name: 9, dtype: object\n",
      "Item_id                      10\n",
      "Item_name        Avocado Indian\n",
      "model_type         Segmentation\n",
      "model_version              v1.0\n",
      "Name: 10, dtype: object\n",
      "Item_id                    11\n",
      "Item_name           Baby Corn\n",
      "model_type       Segmentation\n",
      "model_version            v1.0\n",
      "Name: 11, dtype: object\n",
      "Item_id                     12\n",
      "Item_name        Banana Flower\n",
      "model_type        Segmentation\n",
      "model_version             v1.0\n",
      "Name: 12, dtype: object\n",
      "Item_id                    13\n",
      "Item_name        Banana Hills\n",
      "model_type       Segmentation\n",
      "model_version            v1.0\n",
      "Name: 13, dtype: object\n",
      "Item_id                     14\n",
      "Item_name        Banana Morris\n",
      "model_type        Segmentation\n",
      "model_version             v1.0\n",
      "Name: 14, dtype: object\n",
      "Item_id                    15\n",
      "Item_name        Banana Nadan\n",
      "model_type       Segmentation\n",
      "model_version            v1.0\n",
      "Name: 15, dtype: object\n",
      "Item_id                      16\n",
      "Item_name        Banana Nendran\n",
      "model_type         Segmentation\n",
      "model_version              v1.0\n",
      "Name: 16, dtype: object\n",
      "Item_id                     17\n",
      "Item_name        Banana Poovan\n",
      "model_type        Segmentation\n",
      "model_version             v1.0\n",
      "Name: 17, dtype: object\n",
      "Item_id                       18\n",
      "Item_name        Banana Rasthali\n",
      "model_type          Segmentation\n",
      "model_version               v1.0\n",
      "Name: 18, dtype: object\n",
      "Item_id                    19\n",
      "Item_name          Banana Red\n",
      "model_type       Segmentation\n",
      "model_version            v1.0\n",
      "Name: 19, dtype: object\n",
      "Item_id                      20\n",
      "Item_name        Banana Yelakki\n",
      "model_type         Segmentation\n",
      "model_version              v1.0\n",
      "Name: 20, dtype: object\n",
      "Item_id                    21\n",
      "Item_name          Beans Bush\n",
      "model_type       Segmentation\n",
      "model_version            v1.0\n",
      "Name: 21, dtype: object\n",
      "Item_id                    22\n",
      "Item_name        Beans Butter\n",
      "model_type       Segmentation\n",
      "model_version            v1.0\n",
      "Name: 22, dtype: object\n",
      "Item_id                         23\n",
      "Item_name        Beans Thin Cowpea\n",
      "model_type            Segmentation\n",
      "model_version                 v1.0\n",
      "Name: 23, dtype: object\n",
      "Item_id                    24\n",
      "Item_name            Beetroot\n",
      "model_type       Segmentation\n",
      "model_version            v1.0\n",
      "Name: 24, dtype: object\n",
      "Item_id                    25\n",
      "Item_name        Bere Elandai\n",
      "model_type       Segmentation\n",
      "model_version            v1.0\n",
      "Name: 25, dtype: object\n",
      "Item_id                    26\n",
      "Item_name        Bitter Gourd\n",
      "model_type       Segmentation\n",
      "model_version            v1.0\n",
      "Name: 26, dtype: object\n",
      "Item_id                    27\n",
      "Item_name            Bok Choy\n",
      "model_type       Segmentation\n",
      "model_version            v1.0\n",
      "Name: 27, dtype: object\n",
      "Item_id                    28\n",
      "Item_name        Bottle Gourd\n",
      "model_type       Segmentation\n",
      "model_version            v1.0\n",
      "Name: 28, dtype: object\n",
      "Item_id                         29\n",
      "Item_name        Brinjal Black Big\n",
      "model_type            Segmentation\n",
      "model_version                 v1.0\n",
      "Name: 29, dtype: object\n",
      "Item_id                    30\n",
      "Item_name        Brinjal Long\n",
      "model_type       Segmentation\n",
      "model_version            v1.0\n",
      "Name: 30, dtype: object\n",
      "Item_id                              31\n",
      "Item_name        Brinjal Purple Striped\n",
      "model_type                 Segmentation\n",
      "model_version                      v1.0\n",
      "Name: 31, dtype: object\n",
      "Item_id                    32\n",
      "Item_name            Broccoli\n",
      "model_type       Segmentation\n",
      "model_version            v1.0\n",
      "Name: 32, dtype: object\n",
      "Item_id                       33\n",
      "Item_name        Brussels Sprout\n",
      "model_type          Segmentation\n",
      "model_version               v1.0\n",
      "Name: 33, dtype: object\n",
      "Item_id                    34\n",
      "Item_name             Cabbage\n",
      "model_type       Segmentation\n",
      "model_version            v1.0\n",
      "Name: 34, dtype: object\n",
      "Item_id                    35\n",
      "Item_name         Cabbage Red\n",
      "model_type       Segmentation\n",
      "model_version            v1.0\n",
      "Name: 35, dtype: object\n",
      "Item_id                    36\n",
      "Item_name            Capsicum\n",
      "model_type       Segmentation\n",
      "model_version            v1.0\n",
      "Name: 36, dtype: object\n",
      "Item_id                    37\n",
      "Item_name        Capsicum Red\n",
      "model_type       Segmentation\n",
      "model_version            v1.0\n",
      "Name: 37, dtype: object\n",
      "Item_id                       38\n",
      "Item_name        Capsicum Yellow\n",
      "model_type          Segmentation\n",
      "model_version               v1.0\n",
      "Name: 38, dtype: object\n",
      "Item_id                    39\n",
      "Item_name         Carrot Ooty\n",
      "model_type       Segmentation\n",
      "model_version            v1.0\n",
      "Name: 39, dtype: object\n",
      "Item_id                    40\n",
      "Item_name             Cassave\n",
      "model_type       Segmentation\n",
      "model_version            v1.0\n",
      "Name: 40, dtype: object\n",
      "Item_id                    41\n",
      "Item_name         Cauliflower\n",
      "model_type       Segmentation\n",
      "model_version            v1.0\n",
      "Name: 41, dtype: object\n",
      "Item_id                         42\n",
      "Item_name        Chilli Long Bajji\n",
      "model_type            Segmentation\n",
      "model_version                 v1.0\n",
      "Name: 42, dtype: object\n",
      "Item_id                       43\n",
      "Item_name        Chinese Cabbage\n",
      "model_type          Segmentation\n",
      "model_version               v1.0\n",
      "Name: 43, dtype: object\n",
      "Item_id                    44\n",
      "Item_name           Chow Chow\n",
      "model_type       Segmentation\n",
      "model_version            v1.0\n",
      "Name: 44, dtype: object\n",
      "Item_id                    45\n",
      "Item_name              Citron\n",
      "model_type       Segmentation\n",
      "model_version            v1.0\n",
      "Name: 45, dtype: object\n",
      "Item_id                     46\n",
      "Item_name        Cluster Beans\n",
      "model_type        Segmentation\n",
      "model_version             v1.0\n",
      "Name: 46, dtype: object\n",
      "Item_id                    47\n",
      "Item_name             Coconut\n",
      "model_type       Segmentation\n",
      "model_version            v1.0\n",
      "Name: 47, dtype: object\n",
      "Item_id                      48\n",
      "Item_name        Coconut Flower\n",
      "model_type         Segmentation\n",
      "model_version              v1.0\n",
      "Name: 48, dtype: object\n",
      "Item_id                        49\n",
      "Item_name        Coriander Leaves\n",
      "model_type           Segmentation\n",
      "model_version                v1.0\n",
      "Name: 49, dtype: object\n",
      "Item_id                    50\n",
      "Item_name            Cucumber\n",
      "model_type       Segmentation\n",
      "model_version            v1.0\n",
      "Name: 50, dtype: object\n",
      "Item_id                    51\n",
      "Item_name        Curry Leaves\n",
      "model_type       Segmentation\n",
      "model_version            v1.0\n",
      "Name: 51, dtype: object\n",
      "Item_id                     52\n",
      "Item_name        Custard Apple\n",
      "model_type        Segmentation\n",
      "model_version             v1.0\n",
      "Name: 52, dtype: object\n",
      "Item_id                          53\n",
      "Item_name        Dates Fresh Yellow\n",
      "model_type             Segmentation\n",
      "model_version                  v1.0\n",
      "Name: 53, dtype: object\n",
      "Item_id                         54\n",
      "Item_name        Dragon Fruits Red\n",
      "model_type            Segmentation\n",
      "model_version                 v1.0\n",
      "Name: 54, dtype: object\n",
      "Item_id                    55\n",
      "Item_name            Galangal\n",
      "model_type       Segmentation\n",
      "model_version            v1.0\n",
      "Name: 55, dtype: object\n",
      "Item_id                    56\n",
      "Item_name         Golden Kiwi\n",
      "model_type       Segmentation\n",
      "model_version            v1.0\n",
      "Name: 56, dtype: object\n",
      "Item_id                       57\n",
      "Item_name        Gooseberry Amla\n",
      "model_type          Segmentation\n",
      "model_version               v1.0\n",
      "Name: 57, dtype: object\n",
      "Item_id                             58\n",
      "Item_name        Grapes Black Seedless\n",
      "model_type                Segmentation\n",
      "model_version                     v1.0\n",
      "Name: 58, dtype: object\n",
      "Item_id                             59\n",
      "Item_name        Grapes Green Seedless\n",
      "model_type                Segmentation\n",
      "model_version                     v1.0\n",
      "Name: 59, dtype: object\n",
      "Item_id                     60\n",
      "Item_name        Grapes Paneer\n",
      "model_type        Segmentation\n",
      "model_version             v1.0\n",
      "Name: 60, dtype: object\n",
      "Item_id                    61\n",
      "Item_name        Greens Palak\n",
      "model_type       Segmentation\n",
      "model_version            v1.0\n",
      "Name: 61, dtype: object\n",
      "Item_id                                   62\n",
      "Item_name        Greens Ponnakanni Bangalore\n",
      "model_type                      Segmentation\n",
      "model_version                           v1.0\n",
      "Name: 62, dtype: object\n",
      "Item_id                    63\n",
      "Item_name           Guava Big\n",
      "model_type       Segmentation\n",
      "model_version            v1.0\n",
      "Name: 63, dtype: object\n",
      "Item_id                    64\n",
      "Item_name         Guava White\n",
      "model_type       Segmentation\n",
      "model_version            v1.0\n",
      "Name: 64, dtype: object\n",
      "Item_id                       65\n",
      "Item_name        Iceberg Lettuce\n",
      "model_type          Segmentation\n",
      "model_version               v1.0\n",
      "Name: 65, dtype: object\n",
      "Item_id                     66\n",
      "Item_name        Jackfruit raw\n",
      "model_type        Segmentation\n",
      "model_version             v1.0\n",
      "Name: 66, dtype: object\n",
      "Item_id                    67\n",
      "Item_name         Kale Leaves\n",
      "model_type       Segmentation\n",
      "model_version            v1.0\n",
      "Name: 67, dtype: object\n",
      "Item_id                       68\n",
      "Item_name        Karunai Kilangu\n",
      "model_type          Segmentation\n",
      "model_version               v1.0\n",
      "Name: 68, dtype: object\n",
      "Item_id                    69\n",
      "Item_name          Kiwi Green\n",
      "model_type       Segmentation\n",
      "model_version            v1.0\n",
      "Name: 69, dtype: object\n",
      "Item_id                    70\n",
      "Item_name           Knol Khol\n",
      "model_type       Segmentation\n",
      "model_version            v1.0\n",
      "Name: 70, dtype: object\n",
      "Item_id                       71\n",
      "Item_name        Koorkan Kilangu\n",
      "model_type          Segmentation\n",
      "model_version               v1.0\n",
      "Name: 71, dtype: object\n",
      "Item_id                    72\n",
      "Item_name         KPN-Sprouts\n",
      "model_type       Segmentation\n",
      "model_version            v1.0\n",
      "Name: 72, dtype: object\n",
      "Item_id                    73\n",
      "Item_name        Lab Lab Long\n",
      "model_type       Segmentation\n",
      "model_version            v1.0\n",
      "Name: 73, dtype: object\n",
      "Item_id                    74\n",
      "Item_name        Ladiesfinger\n",
      "model_type       Segmentation\n",
      "model_version            v1.0\n",
      "Name: 74, dtype: object\n",
      "Item_id                    75\n",
      "Item_name        Leaves Leaks\n",
      "model_type       Segmentation\n",
      "model_version            v1.0\n",
      "Name: 75, dtype: object\n",
      "Item_id                    76\n",
      "Item_name               Lemon\n",
      "model_type       Segmentation\n",
      "model_version            v1.0\n",
      "Name: 76, dtype: object\n",
      "Item_id                      77\n",
      "Item_name        Lettuce Leaves\n",
      "model_type         Segmentation\n",
      "model_version              v1.0\n",
      "Name: 77, dtype: object\n",
      "Item_id                       78\n",
      "Item_name        Longan Imported\n",
      "model_type          Segmentation\n",
      "model_version               v1.0\n",
      "Name: 78, dtype: object\n",
      "Item_id                    79\n",
      "Item_name        Mango Neelam\n",
      "model_type       Segmentation\n",
      "model_version            v1.0\n",
      "Name: 79, dtype: object\n",
      "Item_id                      80\n",
      "Item_name        Mango Totapuri\n",
      "model_type         Segmentation\n",
      "model_version              v1.0\n",
      "Name: 80, dtype: object\n",
      "Item_id                          81\n",
      "Item_name        Mangusteens Indian\n",
      "model_type             Segmentation\n",
      "model_version                  v1.0\n",
      "Name: 81, dtype: object\n",
      "Item_id                    82\n",
      "Item_name             Mosambi\n",
      "model_type       Segmentation\n",
      "model_version            v1.0\n",
      "Name: 82, dtype: object\n",
      "Item_id                         83\n",
      "Item_name        Musk Melon Yellow\n",
      "model_type            Segmentation\n",
      "model_version                 v1.0\n",
      "Name: 83, dtype: object\n",
      "Item_id                      84\n",
      "Item_name        Muskmelon Rock\n",
      "model_type         Segmentation\n",
      "model_version              v1.0\n",
      "Name: 84, dtype: object\n",
      "Item_id                    85\n",
      "Item_name          Nectarines\n",
      "model_type       Segmentation\n",
      "model_version            v1.0\n",
      "Name: 85, dtype: object\n",
      "Item_id                         86\n",
      "Item_name        Onion Big Bellary\n",
      "model_type            Segmentation\n",
      "model_version                 v1.0\n",
      "Name: 86, dtype: object\n",
      "Item_id                     87\n",
      "Item_name        Orange Nagpur\n",
      "model_type        Segmentation\n",
      "model_version             v1.0\n",
      "Name: 87, dtype: object\n",
      "Item_id                    88\n",
      "Item_name        Orange Small\n",
      "model_type       Segmentation\n",
      "model_version            v1.0\n",
      "Name: 88, dtype: object\n",
      "Item_id                       89\n",
      "Item_name        Orange Valencia\n",
      "model_type          Segmentation\n",
      "model_version               v1.0\n",
      "Name: 89, dtype: object\n",
      "Item_id                       90\n",
      "Item_name        Oyster Mushroom\n",
      "model_type          Segmentation\n",
      "model_version               v1.0\n",
      "Name: 90, dtype: object\n",
      "Item_id                    91\n",
      "Item_name              Papaya\n",
      "model_type       Segmentation\n",
      "model_version            v1.0\n",
      "Name: 91, dtype: object\n",
      "Item_id                      92\n",
      "Item_name        Parsley Leaves\n",
      "model_type         Segmentation\n",
      "model_version              v1.0\n",
      "Name: 92, dtype: object\n",
      "Item_id                     93\n",
      "Item_name        Passion Fruit\n",
      "model_type        Segmentation\n",
      "model_version             v1.0\n",
      "Name: 93, dtype: object\n",
      "Item_id                    94\n",
      "Item_name         Pears Green\n",
      "model_type       Segmentation\n",
      "model_version            v1.0\n",
      "Name: 94, dtype: object\n",
      "Item_id                    95\n",
      "Item_name          Pears Ooty\n",
      "model_type       Segmentation\n",
      "model_version            v1.0\n",
      "Name: 95, dtype: object\n",
      "Item_id                    96\n",
      "Item_name           Persimmon\n",
      "model_type       Segmentation\n",
      "model_version            v1.0\n",
      "Name: 96, dtype: object\n",
      "Item_id                    97\n",
      "Item_name           Pineapple\n",
      "model_type       Segmentation\n",
      "model_version            v1.0\n",
      "Name: 97, dtype: object\n",
      "Item_id                      98\n",
      "Item_name        Plums Imported\n",
      "model_type         Segmentation\n",
      "model_version              v1.0\n",
      "Name: 98, dtype: object\n",
      "Item_id                    99\n",
      "Item_name        Plums Indian\n",
      "model_type       Segmentation\n",
      "model_version            v1.0\n",
      "Name: 99, dtype: object\n",
      "Item_id                          100\n",
      "Item_name        Plums Indian Packed\n",
      "model_type              Segmentation\n",
      "model_version                   v1.0\n",
      "Name: 100, dtype: object\n",
      "Item_id                        101\n",
      "Item_name        Pomegranate Kabul\n",
      "model_type            Segmentation\n",
      "model_version                 v1.0\n",
      "Name: 101, dtype: object\n",
      "Item_id                   102\n",
      "Item_name              Potato\n",
      "model_type       Segmentation\n",
      "model_version            v1.0\n",
      "Name: 102, dtype: object\n",
      "Item_id                   103\n",
      "Item_name        Potato Small\n",
      "model_type       Segmentation\n",
      "model_version            v1.0\n",
      "Name: 103, dtype: object\n",
      "Item_id                       104\n",
      "Item_name        Potato Small Bag\n",
      "model_type           Segmentation\n",
      "model_version                v1.0\n",
      "Name: 104, dtype: object\n",
      "Item_id                   105\n",
      "Item_name              Prunes\n",
      "model_type       Segmentation\n",
      "model_version            v1.0\n",
      "Name: 105, dtype: object\n",
      "Item_id                   106\n",
      "Item_name             Pumpkin\n",
      "model_type       Segmentation\n",
      "model_version            v1.0\n",
      "Name: 106, dtype: object\n",
      "Item_id                          107\n",
      "Item_name        Pumpkin cut Wrapped\n",
      "model_type              Segmentation\n",
      "model_version                   v1.0\n",
      "Name: 107, dtype: object\n",
      "Item_id                   108\n",
      "Item_name          Radish Red\n",
      "model_type       Segmentation\n",
      "model_version            v1.0\n",
      "Name: 108, dtype: object\n",
      "Item_id                   109\n",
      "Item_name        Radish White\n",
      "model_type       Segmentation\n",
      "model_version            v1.0\n",
      "Name: 109, dtype: object\n",
      "Item_id                   110\n",
      "Item_name             Ramsita\n",
      "model_type       Segmentation\n",
      "model_version            v1.0\n",
      "Name: 110, dtype: object\n",
      "Item_id                   111\n",
      "Item_name        Sapota Round\n",
      "model_type       Segmentation\n",
      "model_version            v1.0\n",
      "Name: 111, dtype: object\n",
      "Item_id                   112\n",
      "Item_name         Snake Gourd\n",
      "model_type       Segmentation\n",
      "model_version            v1.0\n",
      "Name: 112, dtype: object\n",
      "Item_id                    113\n",
      "Item_name        Soursop Fruit\n",
      "model_type        Segmentation\n",
      "model_version             v1.0\n",
      "Name: 113, dtype: object\n",
      "Item_id                   114\n",
      "Item_name          Sweet Corn\n",
      "model_type       Segmentation\n",
      "model_version            v1.0\n",
      "Name: 114, dtype: object\n",
      "Item_id                   115\n",
      "Item_name        Sweet Potato\n",
      "model_type       Segmentation\n",
      "model_version            v1.0\n",
      "Name: 115, dtype: object\n",
      "Item_id                   116\n",
      "Item_name        Tomato Apple\n",
      "model_type       Segmentation\n",
      "model_version            v1.0\n",
      "Name: 116, dtype: object\n",
      "Item_id                   117\n",
      "Item_name         Tomato Nadu\n",
      "model_type       Segmentation\n",
      "model_version            v1.0\n",
      "Name: 117, dtype: object\n",
      "Item_id                   118\n",
      "Item_name              Turnip\n",
      "model_type       Segmentation\n",
      "model_version            v1.0\n",
      "Name: 118, dtype: object\n",
      "Item_id                       119\n",
      "Item_name        Watermelon Kiran\n",
      "model_type           Segmentation\n",
      "model_version                v1.0\n",
      "Name: 119, dtype: object\n",
      "Item_id                     120\n",
      "Item_name        Zucchini Green\n",
      "model_type         Segmentation\n",
      "model_version              v1.0\n",
      "Name: 120, dtype: object\n",
      "Item_id                      121\n",
      "Item_name        Zucchini Yellow\n",
      "model_type          Segmentation\n",
      "model_version               v1.0\n",
      "Name: 121, dtype: object\n",
      "Item_id                       122\n",
      "Item_name        Grapes Red Globe\n",
      "model_type           Segmentation\n",
      "model_version                v1.0\n",
      "Name: 122, dtype: object\n",
      "Item_id                   123\n",
      "Item_name         Ridge Gourd\n",
      "model_type       Segmentation\n",
      "model_version            v1.0\n",
      "Name: 123, dtype: object\n",
      "Item_id                   124\n",
      "Item_name            Rambutan\n",
      "model_type       Segmentation\n",
      "model_version            v1.0\n",
      "Name: 124, dtype: object\n",
      "Item_id                              125\n",
      "Item_name        Grapes Red Globe Packed\n",
      "model_type                  Segmentation\n",
      "model_version                       v1.0\n",
      "Name: 125, dtype: object\n",
      "Item_id                       126\n",
      "Item_name        Plaintain Thandu\n",
      "model_type           Segmentation\n",
      "model_version                v1.0\n",
      "Name: 126, dtype: object\n",
      "Item_id                       127\n",
      "Item_name        Green Chilli KPN\n",
      "model_type           Segmentation\n",
      "model_version                v1.0\n",
      "Name: 127, dtype: object\n",
      "Item_id                     128\n",
      "Item_name        Greenpeas ooty\n",
      "model_type         Segmentation\n",
      "model_version              v1.0\n",
      "Name: 128, dtype: object\n",
      "Item_id                   129\n",
      "Item_name              Ginger\n",
      "model_type       Segmentation\n",
      "model_version            v1.0\n",
      "Name: 129, dtype: object\n",
      "Item_id                                   130\n",
      "Item_name        Grapes Green Seedless Packed\n",
      "model_type                       Segmentation\n",
      "model_version                            v1.0\n",
      "Name: 130, dtype: object\n",
      "Item_id                       131\n",
      "Item_name        Mango Senthooram\n",
      "model_type           Segmentation\n",
      "model_version                v1.0\n",
      "Name: 131, dtype: object\n",
      "Item_id                           132\n",
      "Item_name        Onion Bellary Packed\n",
      "model_type               Segmentation\n",
      "model_version                    v1.0\n",
      "Name: 132, dtype: object\n",
      "Item_id                   133\n",
      "Item_name        Spring Onion\n",
      "model_type       Segmentation\n",
      "model_version            v1.0\n",
      "Name: 133, dtype: object\n",
      "Item_id                   134\n",
      "Item_name        Ginger Mango\n",
      "model_type       Segmentation\n",
      "model_version            v1.0\n",
      "Name: 134, dtype: object\n",
      "Item_id                   135\n",
      "Item_name              Parwal\n",
      "model_type       Segmentation\n",
      "model_version            v1.0\n",
      "Name: 135, dtype: object\n",
      "Item_id                     136\n",
      "Item_name        Peaches Indian\n",
      "model_type         Segmentation\n",
      "model_version              v1.0\n",
      "Name: 136, dtype: object\n",
      "Item_id                    137\n",
      "Item_name        Celery Leaves\n",
      "model_type        Segmentation\n",
      "model_version             v1.0\n",
      "Name: 137, dtype: object\n",
      "Item_id                          138\n",
      "Item_name        Dragon Fruit Yellow\n",
      "model_type              Segmentation\n",
      "model_version                   v1.0\n",
      "Name: 138, dtype: object\n",
      "Item_id                         139\n",
      "Item_name        Sanpa Green Chilli\n",
      "model_type             Segmentation\n",
      "model_version                  v1.0\n",
      "Name: 139, dtype: object\n",
      "Item_id                          140\n",
      "Item_name        Seppan Kilang Arabi\n",
      "model_type              Segmentation\n",
      "model_version                   v1.0\n",
      "Name: 140, dtype: object\n",
      "Item_id                   141\n",
      "Item_name            robuster\n",
      "model_type       Segmentation\n",
      "model_version            v1.0\n",
      "Name: 141, dtype: object\n",
      "Item_id                   142\n",
      "Item_name            metadata\n",
      "model_type       Segmentation\n",
      "model_version            v1.0\n",
      "Name: 142, dtype: object\n"
     ]
    }
   ],
   "source": [
    "import yaml\n",
    "import pandas as pd\n",
    "with open('items.yaml','r') as f:\n",
    "    value = yaml.safe_load(f)\n",
    "\n",
    "\n",
    "value.keys()\n",
    "value.values()\n",
    "df = pd.DataFrame({'Item_id':value.values(),'Item_name': value.keys(),'model_type' : 'Segmentation','model_version':'v1.0'})\n",
    "for i,row in df.iterrows():\n",
    "   print(row)"
   ]
  },
  {
   "cell_type": "code",
   "execution_count": 95,
   "metadata": {},
   "outputs": [
    {
     "name": "stderr",
     "output_type": "stream",
     "text": [
      "C:\\Users\\Zeeshan.khan\\AppData\\Local\\Temp\\ipykernel_14520\\1252920648.py:17: UserWarning: pandas only supports SQLAlchemy connectable (engine/connection) or database string URI or sqlite3 DBAPI2 connection. Other DBAPI2 objects are not tested. Please consider using SQLAlchemy.\n",
      "  df1 = pd.read_sql('select * from vendors',mydb)\n"
     ]
    }
   ],
   "source": [
    "import yaml\n",
    "import pandas as pd\n",
    "import mysql.connector as cn\n",
    "try:\n",
    "    mydb=cn.connect(host='localhost',user='root',passwd='Snzk@#1329')\n",
    "    cursor=mydb.cursor()\n",
    "    cursor.execute('create database checkout')\n",
    "    cursor.execute('use checkout')\n",
    "    cursor.execute('CREATE TABLE if not EXISTS  vendors(Item_id int, Item_name varchar(100) primary key,model_type varchar(100), model_version varchar(100), DateTime1 DATETIME DEFAULT NOW())')\n",
    "    for i,row in df.iterrows():\n",
    "        cursor.execute('insert into vendors values (%s,%s,%s,%s,NOW())',tuple(row))\n",
    "    mydb.commit()\n",
    "except:\n",
    "    mydb=cn.connect(host='localhost',user='root',passwd='Snzk@#1329')\n",
    "    cursor=mydb.cursor()\n",
    "    cursor.execute('use checkout')\n",
    "    df1 = pd.read_sql('select * from vendors',mydb)\n",
    "    new_items = df['Item_name']\n",
    "    exist_items = df1['Item_name']\n",
    "    set1 = set(exist_items)\n",
    "    set2 = set(new_items)\n",
    "    value11 = list(set2.difference(set1))\n",
    "    df2 = df[df['Item_name'].isin(value11)]\n",
    "    for i,row in df2.iterrows():\n",
    "        cursor.execute('insert into vendors values (%s,%s,%s,%s,NOW())',tuple(row))\n",
    "    mydb.commit()"
   ]
  },
  {
   "cell_type": "code",
   "execution_count": 24,
   "metadata": {},
   "outputs": [],
   "source": [
    "import yaml\n",
    "with open('items.yaml') as f:\n",
    "    value = yaml.safe_load(f)\n",
    "\n",
    "with open('kPndata.txt','w+') as f1:\n",
    "    count = 0\n",
    "    for keys,val in sorted(value.items()):\n",
    "        f1.write(f'\"{keys}\"')\n",
    "        if count < len(value)-1 :\n",
    "            f1.write(',')\n",
    "        count = count + 1"
   ]
  },
  {
   "cell_type": "code",
   "execution_count": null,
   "metadata": {},
   "outputs": [],
   "source": []
  }
 ],
 "metadata": {
  "kernelspec": {
   "display_name": "checkout",
   "language": "python",
   "name": "python3"
  },
  "language_info": {
   "codemirror_mode": {
    "name": "ipython",
    "version": 3
   },
   "file_extension": ".py",
   "mimetype": "text/x-python",
   "name": "python",
   "nbconvert_exporter": "python",
   "pygments_lexer": "ipython3",
   "version": "3.10.13"
  },
  "orig_nbformat": 4
 },
 "nbformat": 4,
 "nbformat_minor": 2
}
